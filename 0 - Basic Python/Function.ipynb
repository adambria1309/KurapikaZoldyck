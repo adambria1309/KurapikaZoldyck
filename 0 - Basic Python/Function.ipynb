{
  "nbformat": 4,
  "nbformat_minor": 0,
  "metadata": {
    "kernelspec": {
      "display_name": "Python 3",
      "language": "python",
      "name": "python3"
    },
    "language_info": {
      "codemirror_mode": {
        "name": "ipython",
        "version": 3
      },
      "file_extension": ".py",
      "mimetype": "text/x-python",
      "name": "python",
      "nbconvert_exporter": "python",
      "pygments_lexer": "ipython3",
      "version": "3.8.5"
    },
    "colab": {
      "name": "Function.ipynb",
      "provenance": []
    }
  },
  "cells": [
    {
      "cell_type": "code",
      "metadata": {
        "id": "bArWupt8nVsM",
        "outputId": "fa48af87-2e5e-4148-b84d-56f037f1c0e2",
        "colab": {
          "base_uri": "https://localhost:8080/"
        }
      },
      "source": [
        "sentences = 'Hello World'\n",
        "\n",
        "print(sentences.upper())\n",
        "print(type(sentences))"
      ],
      "execution_count": 1,
      "outputs": [
        {
          "output_type": "stream",
          "text": [
            "HELLO WORLD\n",
            "<class 'str'>\n"
          ],
          "name": "stdout"
        }
      ]
    },
    {
      "cell_type": "code",
      "metadata": {
        "id": "wREjuHTnnVud",
        "outputId": "6eb09ab2-7cc5-4293-a75c-93a5ac727d43",
        "colab": {
          "base_uri": "https://localhost:8080/"
        }
      },
      "source": [
        "sentences.count('H')"
      ],
      "execution_count": 2,
      "outputs": [
        {
          "output_type": "execute_result",
          "data": {
            "text/plain": [
              "1"
            ]
          },
          "metadata": {
            "tags": []
          },
          "execution_count": 2
        }
      ]
    },
    {
      "cell_type": "code",
      "metadata": {
        "id": "ptgx_BkWnVuj"
      },
      "source": [
        "def Function():\n",
        "    print('This function is already working')"
      ],
      "execution_count": 3,
      "outputs": []
    },
    {
      "cell_type": "code",
      "metadata": {
        "id": "_Tn2CzmmnVvw",
        "outputId": "f7244909-6a28-4869-f5b7-b1750fbc3a92",
        "colab": {
          "base_uri": "https://localhost:8080/"
        }
      },
      "source": [
        "Function()"
      ],
      "execution_count": 4,
      "outputs": [
        {
          "output_type": "stream",
          "text": [
            "This function is already working\n"
          ],
          "name": "stdout"
        }
      ]
    },
    {
      "cell_type": "code",
      "metadata": {
        "id": "VHnwfYoEnVvz"
      },
      "source": [
        "def Function(name):\n",
        "    print(name)"
      ],
      "execution_count": 5,
      "outputs": []
    },
    {
      "cell_type": "code",
      "metadata": {
        "id": "JWVL2de_nVv0",
        "outputId": "c14e3c9e-eda4-429c-a78f-c949b3a55936",
        "colab": {
          "base_uri": "https://localhost:8080/"
        }
      },
      "source": [
        "Function('Kurapika')"
      ],
      "execution_count": 6,
      "outputs": [
        {
          "output_type": "stream",
          "text": [
            "Kurapika\n"
          ],
          "name": "stdout"
        }
      ]
    },
    {
      "cell_type": "code",
      "metadata": {
        "id": "IlnCadbfnVv0"
      },
      "source": [
        "def Function(first_name,last_name):\n",
        "    print(first_name + last_name)"
      ],
      "execution_count": 7,
      "outputs": []
    },
    {
      "cell_type": "code",
      "metadata": {
        "id": "AbvcMVLHnVv1",
        "outputId": "023f96d2-0c7d-42c7-ede9-fb0f8189aca4",
        "colab": {
          "base_uri": "https://localhost:8080/"
        }
      },
      "source": [
        "Function('Kurapika','Zoldyck')"
      ],
      "execution_count": 8,
      "outputs": [
        {
          "output_type": "stream",
          "text": [
            "KurapikaZoldyck\n"
          ],
          "name": "stdout"
        }
      ]
    },
    {
      "cell_type": "code",
      "metadata": {
        "id": "KLrDvxONnVv3"
      },
      "source": [
        "def Function(first_name,last_name='Zoldyck'):\n",
        "    print(first_name + ' ' +last_name)"
      ],
      "execution_count": 9,
      "outputs": []
    },
    {
      "cell_type": "code",
      "metadata": {
        "id": "yGGuyVNjnVv-",
        "outputId": "3e377e4c-272b-4e6d-a210-8d91cdd8c5c5",
        "colab": {
          "base_uri": "https://localhost:8080/"
        }
      },
      "source": [
        "Function('Killua')"
      ],
      "execution_count": 10,
      "outputs": [
        {
          "output_type": "stream",
          "text": [
            "Killua Zoldyck\n"
          ],
          "name": "stdout"
        }
      ]
    },
    {
      "cell_type": "code",
      "metadata": {
        "id": "a-rg7wPQnVwC",
        "outputId": "55c3bc71-1104-4b3a-babd-22c45b5824ec",
        "colab": {
          "base_uri": "https://localhost:8080/"
        }
      },
      "source": [
        "def Triangle(a=2,t=2):\n",
        "    area = (a * t) / 2\n",
        "    print('The area of triangle is : ',area)\n",
        "\n",
        "Triangle()"
      ],
      "execution_count": 11,
      "outputs": [
        {
          "output_type": "stream",
          "text": [
            "The area of triangle is :  2.0\n"
          ],
          "name": "stdout"
        }
      ]
    },
    {
      "cell_type": "code",
      "metadata": {
        "id": "Lkl9KWcInVwD",
        "outputId": "9ba2ec5a-2f3b-4b29-f7d7-2d7f61863bff",
        "colab": {
          "base_uri": "https://localhost:8080/"
        }
      },
      "source": [
        "def Triangle(a=2,t=2):\n",
        "    area = (a * t) / 2\n",
        "    print('The area of triangle is : ',area)\n",
        "\n",
        "Triangle(3,3)"
      ],
      "execution_count": 12,
      "outputs": [
        {
          "output_type": "stream",
          "text": [
            "The area of triangle is :  4.5\n"
          ],
          "name": "stdout"
        }
      ]
    },
    {
      "cell_type": "code",
      "metadata": {
        "id": "lEMPNR8tnVwE"
      },
      "source": [
        "def Return():\n",
        "    greet = 'Good Afternoon'\n",
        "    return greet"
      ],
      "execution_count": 13,
      "outputs": []
    },
    {
      "cell_type": "code",
      "metadata": {
        "id": "SxGK97tTnVwF",
        "outputId": "8a672338-2ca8-4f14-93cf-fdbacf5e6fb5",
        "colab": {
          "base_uri": "https://localhost:8080/",
          "height": 35
        }
      },
      "source": [
        "Return()"
      ],
      "execution_count": 14,
      "outputs": [
        {
          "output_type": "execute_result",
          "data": {
            "application/vnd.google.colaboratory.intrinsic+json": {
              "type": "string"
            },
            "text/plain": [
              "'Good Afternoon'"
            ]
          },
          "metadata": {
            "tags": []
          },
          "execution_count": 14
        }
      ]
    },
    {
      "cell_type": "code",
      "metadata": {
        "id": "WKqFjLkjnVwF",
        "outputId": "351cfe5a-54e1-4874-f41f-a6892b40196f",
        "colab": {
          "base_uri": "https://localhost:8080/",
          "height": 35
        }
      },
      "source": [
        "def Tester():\n",
        "    greet = 'Hello'\n",
        "    return greet\n",
        "    print(greet)\n",
        "    \n",
        "Tester()"
      ],
      "execution_count": 15,
      "outputs": [
        {
          "output_type": "execute_result",
          "data": {
            "application/vnd.google.colaboratory.intrinsic+json": {
              "type": "string"
            },
            "text/plain": [
              "'Hello'"
            ]
          },
          "metadata": {
            "tags": []
          },
          "execution_count": 15
        }
      ]
    },
    {
      "cell_type": "code",
      "metadata": {
        "id": "jH-89h2onVwG",
        "outputId": "7edad93f-9cdb-44de-98c0-05e2eafc80d9",
        "colab": {
          "base_uri": "https://localhost:8080/"
        }
      },
      "source": [
        "def Unlimited(*args):\n",
        "    for i in args:\n",
        "        print(i)\n",
        "        \n",
        "Unlimited(1,'2',[1,2,3])"
      ],
      "execution_count": 16,
      "outputs": [
        {
          "output_type": "stream",
          "text": [
            "1\n",
            "2\n",
            "[1, 2, 3]\n"
          ],
          "name": "stdout"
        }
      ]
    },
    {
      "cell_type": "code",
      "metadata": {
        "id": "2m2R2rnOnVwH",
        "outputId": "242c53c1-94a9-425f-9f94-83e625fd4d80",
        "colab": {
          "base_uri": "https://localhost:8080/"
        }
      },
      "source": [
        "def Unlimited(*args):\n",
        "    for i in args:\n",
        "        print(i)\n",
        "        \n",
        "Unlimited(1,'2',[1,2,3],True)"
      ],
      "execution_count": 17,
      "outputs": [
        {
          "output_type": "stream",
          "text": [
            "1\n",
            "2\n",
            "[1, 2, 3]\n",
            "True\n"
          ],
          "name": "stdout"
        }
      ]
    },
    {
      "cell_type": "code",
      "metadata": {
        "id": "9EYraoqvnVwI",
        "outputId": "f783982a-708c-40f6-9c10-35788b7470e7",
        "colab": {
          "base_uri": "https://localhost:8080/"
        }
      },
      "source": [
        "def Keyword(**kwargs):\n",
        "    for ind,val in kwargs.items():\n",
        "        print(ind,val)\n",
        "        \n",
        "Keyword(a=1,b=True)"
      ],
      "execution_count": 18,
      "outputs": [
        {
          "output_type": "stream",
          "text": [
            "a 1\n",
            "b True\n"
          ],
          "name": "stdout"
        }
      ]
    }
  ]
}