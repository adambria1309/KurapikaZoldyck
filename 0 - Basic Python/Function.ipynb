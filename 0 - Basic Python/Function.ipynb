{
  "nbformat": 4,
  "nbformat_minor": 0,
  "metadata": {
    "kernelspec": {
      "display_name": "Python 3",
      "language": "python",
      "name": "python3"
    },
    "language_info": {
      "codemirror_mode": {
        "name": "ipython",
        "version": 3
      },
      "file_extension": ".py",
      "mimetype": "text/x-python",
      "name": "python",
      "nbconvert_exporter": "python",
      "pygments_lexer": "ipython3",
      "version": "3.8.5"
    },
    "colab": {
      "name": "Function.ipynb",
      "provenance": []
    }
  },
  "cells": [
    {
      "cell_type": "code",
      "metadata": {
        "id": "bArWupt8nVsM",
        "colab": {
          "base_uri": "https://localhost:8080/"
        },
        "outputId": "fa48af87-2e5e-4148-b84d-56f037f1c0e2"
      },
      "source": [
        "sentences = 'Hello World'\n",
        "\n",
        "print(type(sentences))"
      ],
      "execution_count": null,
      "outputs": [
        {
          "output_type": "stream",
          "text": [
            "HELLO WORLD\n",
            "<class 'str'>\n"
          ],
          "name": "stdout"
        }
      ]
    },
    {
      "cell_type": "code",
      "metadata": {
        "id": "wREjuHTnnVud",
        "colab": {
          "base_uri": "https://localhost:8080/"
        },
        "outputId": "6eb09ab2-7cc5-4293-a75c-93a5ac727d43"
      },
      "source": [
        "sentences.count('H')"
      ],
      "execution_count": null,
      "outputs": [
        {
          "output_type": "execute_result",
          "data": {
            "text/plain": [
              "1"
            ]
          },
          "metadata": {
            "tags": []
          },
          "execution_count": 2
        }
      ]
    },
    {
      "cell_type": "code",
      "metadata": {
        "id": "ptgx_BkWnVuj"
      },
      "source": [
        "# Introduction to Function\n",
        "\n",
        "def Function():\n",
        "    print('This function is already working')"
      ],
      "execution_count": null,
      "outputs": []
    },
    {
      "cell_type": "code",
      "metadata": {
        "id": "_Tn2CzmmnVvw",
        "colab": {
          "base_uri": "https://localhost:8080/"
        },
        "outputId": "f7244909-6a28-4869-f5b7-b1750fbc3a92"
      },
      "source": [
        "# Use Function\n",
        "\n",
        "Function()"
      ],
      "execution_count": null,
      "outputs": [
        {
          "output_type": "stream",
          "text": [
            "This function is already working\n"
          ],
          "name": "stdout"
        }
      ]
    },
    {
      "cell_type": "code",
      "metadata": {
        "id": "VHnwfYoEnVvz"
      },
      "source": [
        "# Using Parameter\n",
        "\n",
        "def Function(name):\n",
        "    print(name)"
      ],
      "execution_count": null,
      "outputs": []
    },
    {
      "cell_type": "code",
      "metadata": {
        "id": "JWVL2de_nVv0",
        "colab": {
          "base_uri": "https://localhost:8080/"
        },
        "outputId": "c14e3c9e-eda4-429c-a78f-c949b3a55936"
      },
      "source": [
        "Function('Kurapika')"
      ],
      "execution_count": null,
      "outputs": [
        {
          "output_type": "stream",
          "text": [
            "Kurapika\n"
          ],
          "name": "stdout"
        }
      ]
    },
    {
      "cell_type": "code",
      "metadata": {
        "id": "IlnCadbfnVv0"
      },
      "source": [
        "# Multiple Parameter\n",
        "\n",
        "def Function(first_name,last_name):\n",
        "    print(first_name + last_name)"
      ],
      "execution_count": null,
      "outputs": []
    },
    {
      "cell_type": "code",
      "metadata": {
        "id": "AbvcMVLHnVv1",
        "colab": {
          "base_uri": "https://localhost:8080/"
        },
        "outputId": "023f96d2-0c7d-42c7-ede9-fb0f8189aca4"
      },
      "source": [
        "Function('Kurapika','Zoldyck')"
      ],
      "execution_count": null,
      "outputs": [
        {
          "output_type": "stream",
          "text": [
            "KurapikaZoldyck\n"
          ],
          "name": "stdout"
        }
      ]
    },
    {
      "cell_type": "code",
      "metadata": {
        "id": "KLrDvxONnVv3"
      },
      "source": [
        "# Defined Parameter Input\n",
        "\n",
        "def Function(first_name,last_name='Zoldyck'):\n",
        "    print(first_name + ' ' +last_name)"
      ],
      "execution_count": null,
      "outputs": []
    },
    {
      "cell_type": "code",
      "metadata": {
        "id": "yGGuyVNjnVv-",
        "colab": {
          "base_uri": "https://localhost:8080/"
        },
        "outputId": "3e377e4c-272b-4e6d-a210-8d91cdd8c5c5"
      },
      "source": [
        "Function('Killua')"
      ],
      "execution_count": null,
      "outputs": [
        {
          "output_type": "stream",
          "text": [
            "Killua Zoldyck\n"
          ],
          "name": "stdout"
        }
      ]
    },
    {
      "cell_type": "code",
      "metadata": {
        "id": "a-rg7wPQnVwC",
        "colab": {
          "base_uri": "https://localhost:8080/"
        },
        "outputId": "55c3bc71-1104-4b3a-babd-22c45b5824ec"
      },
      "source": [
        "def Triangle(a=2,t=2):\n",
        "    area = (a * t) / 2\n",
        "    print('The area of triangle is : ',area)\n",
        "\n",
        "Triangle()"
      ],
      "execution_count": null,
      "outputs": [
        {
          "output_type": "stream",
          "text": [
            "The area of triangle is :  2.0\n"
          ],
          "name": "stdout"
        }
      ]
    },
    {
      "cell_type": "code",
      "metadata": {
        "id": "Lkl9KWcInVwD",
        "colab": {
          "base_uri": "https://localhost:8080/"
        },
        "outputId": "9ba2ec5a-2f3b-4b29-f7d7-2d7f61863bff"
      },
      "source": [
        "def Triangle(a=2,t=2):\n",
        "    area = (a * t) / 2\n",
        "    print('The area of triangle is : ',area)\n",
        "\n",
        "Triangle(3,3)"
      ],
      "execution_count": null,
      "outputs": [
        {
          "output_type": "stream",
          "text": [
            "The area of triangle is :  4.5\n"
          ],
          "name": "stdout"
        }
      ]
    },
    {
      "cell_type": "code",
      "metadata": {
        "id": "lEMPNR8tnVwE"
      },
      "source": [
        "# Return Keyword\n",
        "\n",
        "def Return():\n",
        "    greet = 'Good Afternoon'\n",
        "    return greet"
      ],
      "execution_count": null,
      "outputs": []
    },
    {
      "cell_type": "code",
      "metadata": {
        "id": "SxGK97tTnVwF",
        "colab": {
          "base_uri": "https://localhost:8080/",
          "height": 35
        },
        "outputId": "8a672338-2ca8-4f14-93cf-fdbacf5e6fb5"
      },
      "source": [
        "Return()"
      ],
      "execution_count": null,
      "outputs": [
        {
          "output_type": "execute_result",
          "data": {
            "application/vnd.google.colaboratory.intrinsic+json": {
              "type": "string"
            },
            "text/plain": [
              "'Good Afternoon'"
            ]
          },
          "metadata": {
            "tags": []
          },
          "execution_count": 14
        }
      ]
    },
    {
      "cell_type": "code",
      "metadata": {
        "id": "WKqFjLkjnVwF",
        "colab": {
          "base_uri": "https://localhost:8080/",
          "height": 35
        },
        "outputId": "351cfe5a-54e1-4874-f41f-a6892b40196f"
      },
      "source": [
        "# Return keyword, can end function\n",
        "\n",
        "def Tester():\n",
        "    greet = 'Hello'\n",
        "    return greet\n",
        "    print(greet)\n",
        "    \n",
        "Tester()"
      ],
      "execution_count": null,
      "outputs": [
        {
          "output_type": "execute_result",
          "data": {
            "application/vnd.google.colaboratory.intrinsic+json": {
              "type": "string"
            },
            "text/plain": [
              "'Hello'"
            ]
          },
          "metadata": {
            "tags": []
          },
          "execution_count": 15
        }
      ]
    },
    {
      "cell_type": "code",
      "metadata": {
        "id": "86C57xMIcq9V",
        "outputId": "266e95b4-d79f-4f29-b3c6-6f65c13cdc71",
        "colab": {
          "base_uri": "https://localhost:8080/"
        }
      },
      "source": [
        "# Multiple Return\n",
        "\n",
        "def Beam(l,w,h):\n",
        "  volume = l * w * h\n",
        "  output = (l,w,h,volume)\n",
        "  return output\n",
        "\n",
        "l,w,h,out = Beam(2,2,2)\n",
        "print(l,w,h,out)"
      ],
      "execution_count": 5,
      "outputs": [
        {
          "output_type": "stream",
          "text": [
            "2 2 2 8\n"
          ],
          "name": "stdout"
        }
      ]
    },
    {
      "cell_type": "code",
      "metadata": {
        "id": "jH-89h2onVwG",
        "colab": {
          "base_uri": "https://localhost:8080/"
        },
        "outputId": "7edad93f-9cdb-44de-98c0-05e2eafc80d9"
      },
      "source": [
        "# Unlimited Parameter\n",
        "\n",
        "def Unlimited(*args):\n",
        "    for i in args:\n",
        "        print(i)\n",
        "        \n",
        "Unlimited(1,'2',[1,2,3])"
      ],
      "execution_count": null,
      "outputs": [
        {
          "output_type": "stream",
          "text": [
            "1\n",
            "2\n",
            "[1, 2, 3]\n"
          ],
          "name": "stdout"
        }
      ]
    },
    {
      "cell_type": "code",
      "metadata": {
        "id": "2m2R2rnOnVwH",
        "colab": {
          "base_uri": "https://localhost:8080/"
        },
        "outputId": "242c53c1-94a9-425f-9f94-83e625fd4d80"
      },
      "source": [
        "def Unlimited(*args):\n",
        "    for i in args:\n",
        "        print(i)\n",
        "        \n",
        "Unlimited(1,'2',[1,2,3],True)"
      ],
      "execution_count": null,
      "outputs": [
        {
          "output_type": "stream",
          "text": [
            "1\n",
            "2\n",
            "[1, 2, 3]\n",
            "True\n"
          ],
          "name": "stdout"
        }
      ]
    },
    {
      "cell_type": "code",
      "metadata": {
        "id": "9EYraoqvnVwI",
        "colab": {
          "base_uri": "https://localhost:8080/"
        },
        "outputId": "f783982a-708c-40f6-9c10-35788b7470e7"
      },
      "source": [
        "# Keyword Parameter\n",
        "\n",
        "def Keyword(**kwargs):\n",
        "    for ind,val in kwargs.items():\n",
        "        print(ind,val)\n",
        "        \n",
        "Keyword(a=1,b=True)"
      ],
      "execution_count": null,
      "outputs": [
        {
          "output_type": "stream",
          "text": [
            "a 1\n",
            "b True\n"
          ],
          "name": "stdout"
        }
      ]
    },
    {
      "cell_type": "code",
      "metadata": {
        "id": "yrgNRo0vfmqM",
        "outputId": "5ce71301-47b6-4ea7-e52c-4ff4276613e3",
        "colab": {
          "base_uri": "https://localhost:8080/",
          "height": 112
        }
      },
      "source": [
        "import pandas as pd\n",
        "data = pd.read_csv('https://raw.githubusercontent.com/KurapikaZoldyck/KurapikaZoldyck/main/%23%20-%20Data/tweets.csv')\n",
        "data[['lang']].head(2)"
      ],
      "execution_count": 7,
      "outputs": [
        {
          "output_type": "execute_result",
          "data": {
            "text/html": [
              "<div>\n",
              "<style scoped>\n",
              "    .dataframe tbody tr th:only-of-type {\n",
              "        vertical-align: middle;\n",
              "    }\n",
              "\n",
              "    .dataframe tbody tr th {\n",
              "        vertical-align: top;\n",
              "    }\n",
              "\n",
              "    .dataframe thead th {\n",
              "        text-align: right;\n",
              "    }\n",
              "</style>\n",
              "<table border=\"1\" class=\"dataframe\">\n",
              "  <thead>\n",
              "    <tr style=\"text-align: right;\">\n",
              "      <th></th>\n",
              "      <th>lang</th>\n",
              "    </tr>\n",
              "  </thead>\n",
              "  <tbody>\n",
              "    <tr>\n",
              "      <th>0</th>\n",
              "      <td>en</td>\n",
              "    </tr>\n",
              "    <tr>\n",
              "      <th>1</th>\n",
              "      <td>en</td>\n",
              "    </tr>\n",
              "  </tbody>\n",
              "</table>\n",
              "</div>"
            ],
            "text/plain": [
              "  lang\n",
              "0   en\n",
              "1   en"
            ]
          },
          "metadata": {
            "tags": []
          },
          "execution_count": 7
        }
      ]
    },
    {
      "cell_type": "code",
      "metadata": {
        "id": "cYTlg9scf9y5",
        "outputId": "da67c77c-4fc8-400a-8a6f-cc220d3e102b",
        "colab": {
          "base_uri": "https://localhost:8080/"
        }
      },
      "source": [
        "data['lang'].value_counts()"
      ],
      "execution_count": 8,
      "outputs": [
        {
          "output_type": "execute_result",
          "data": {
            "text/plain": [
              "en     97\n",
              "und     2\n",
              "et      1\n",
              "Name: lang, dtype: int64"
            ]
          },
          "metadata": {
            "tags": []
          },
          "execution_count": 8
        }
      ]
    },
    {
      "cell_type": "code",
      "metadata": {
        "id": "Dflk4U-sgFPg",
        "outputId": "2c056944-dabe-4757-fd0d-9e6eb3aa3e2b",
        "colab": {
          "base_uri": "https://localhost:8080/"
        }
      },
      "source": [
        "def Language(column):\n",
        "  langs_count = {}\n",
        "  col = column\n",
        "  for entry in col:\n",
        "    if entry in langs_count.keys():\n",
        "      langs_count[entry]+=1\n",
        "    else:\n",
        "      langs_count[entry] = 1\n",
        "  return langs_count\n",
        "\n",
        "print(Language(data['lang']))"
      ],
      "execution_count": 10,
      "outputs": [
        {
          "output_type": "stream",
          "text": [
            "{'en': 97, 'et': 1, 'und': 2}\n"
          ],
          "name": "stdout"
        }
      ]
    }
  ]
}