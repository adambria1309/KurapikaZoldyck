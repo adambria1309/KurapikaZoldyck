{
  "nbformat": 4,
  "nbformat_minor": 0,
  "metadata": {
    "colab": {
      "name": "Dictionaries.ipynb",
      "provenance": [],
      "collapsed_sections": [],
      "authorship_tag": "ABX9TyP7IW4bGOhcxuh8M+pJq83J",
      "include_colab_link": true
    },
    "kernelspec": {
      "name": "python3",
      "display_name": "Python 3"
    },
    "language_info": {
      "name": "python"
    }
  },
  "cells": [
    {
      "cell_type": "markdown",
      "metadata": {
        "id": "view-in-github",
        "colab_type": "text"
      },
      "source": [
        "<a href=\"https://colab.research.google.com/github/KurapikaZoldyck/KurapikaZoldyck/blob/main/Basic%20Python/Dictionaries.ipynb\" target=\"_parent\"><img src=\"https://colab.research.google.com/assets/colab-badge.svg\" alt=\"Open In Colab\"/></a>"
      ]
    },
    {
      "cell_type": "markdown",
      "metadata": {
        "id": "GwJeRL8a8opP"
      },
      "source": [
        "<h3>Basic Dictionaries</h3>"
      ]
    },
    {
      "cell_type": "code",
      "metadata": {
        "colab": {
          "base_uri": "https://localhost:8080/"
        },
        "id": "bRaRzGHrmRQP",
        "outputId": "3716510e-4dab-4b5c-e57d-5c5feafd323b"
      },
      "source": [
        "a = {}\n",
        "a"
      ],
      "execution_count": 1,
      "outputs": [
        {
          "output_type": "execute_result",
          "data": {
            "text/plain": [
              "{}"
            ]
          },
          "metadata": {
            "tags": []
          },
          "execution_count": 1
        }
      ]
    },
    {
      "cell_type": "markdown",
      "metadata": {
        "id": "cPQe3VGU8spa"
      },
      "source": [
        "<h3>Basic Dictionaries 2</h3>"
      ]
    },
    {
      "cell_type": "code",
      "metadata": {
        "colab": {
          "base_uri": "https://localhost:8080/"
        },
        "id": "ixDr1hsgmWf8",
        "outputId": "49a7aaa8-f1b4-4a7f-cb33-738bf5e69482"
      },
      "source": [
        "a = {\n",
        "    \"Bigroom\":\"Hardwell\",\n",
        "    \"Trance\":\"Armin Van Burren\"\n",
        "}\n",
        "a"
      ],
      "execution_count": 2,
      "outputs": [
        {
          "output_type": "execute_result",
          "data": {
            "text/plain": [
              "{'Bigroom': 'Hardwell', 'Trance': 'Armin Van Burren'}"
            ]
          },
          "metadata": {
            "tags": []
          },
          "execution_count": 2
        }
      ]
    },
    {
      "cell_type": "markdown",
      "metadata": {
        "id": "gRvrcelp8u1W"
      },
      "source": [
        "<h3>Accessing Dictionaries</h3>"
      ]
    },
    {
      "cell_type": "code",
      "metadata": {
        "colab": {
          "base_uri": "https://localhost:8080/",
          "height": 34
        },
        "id": "T1oJcF2H12mZ",
        "outputId": "3d46ebd3-4cc8-41fa-9aca-9f451edcf98f"
      },
      "source": [
        "a[\"Bigroom\"]"
      ],
      "execution_count": 3,
      "outputs": [
        {
          "output_type": "execute_result",
          "data": {
            "application/vnd.google.colaboratory.intrinsic+json": {
              "type": "string"
            },
            "text/plain": [
              "'Hardwell'"
            ]
          },
          "metadata": {
            "tags": []
          },
          "execution_count": 3
        }
      ]
    },
    {
      "cell_type": "code",
      "metadata": {
        "colab": {
          "base_uri": "https://localhost:8080/",
          "height": 34
        },
        "id": "EaZZPsIzAQ7f",
        "outputId": "0fbbb0ea-5bf3-4858-a781-8b2bcbee8604"
      },
      "source": [
        "a.get(\"Bigroom\")"
      ],
      "execution_count": 7,
      "outputs": [
        {
          "output_type": "execute_result",
          "data": {
            "application/vnd.google.colaboratory.intrinsic+json": {
              "type": "string"
            },
            "text/plain": [
              "'Hardwell'"
            ]
          },
          "metadata": {
            "tags": []
          },
          "execution_count": 7
        }
      ]
    },
    {
      "cell_type": "markdown",
      "metadata": {
        "id": "-Sm8QmGW80IR"
      },
      "source": [
        "<h3>Add Dictionaries Items</h3>"
      ]
    },
    {
      "cell_type": "code",
      "metadata": {
        "colab": {
          "base_uri": "https://localhost:8080/"
        },
        "id": "7CuROz9J73QF",
        "outputId": "44f5e90b-a89f-4ee9-dda0-09de793ea8c6"
      },
      "source": [
        "a[\"Progressive House\"]=\"Tiesto\"\n",
        "a"
      ],
      "execution_count": 4,
      "outputs": [
        {
          "output_type": "execute_result",
          "data": {
            "text/plain": [
              "{'Bigroom': 'Hardwell',\n",
              " 'Progressive House': 'Tiesto',\n",
              " 'Trance': 'Armin Van Burren'}"
            ]
          },
          "metadata": {
            "tags": []
          },
          "execution_count": 4
        }
      ]
    },
    {
      "cell_type": "code",
      "metadata": {
        "colab": {
          "base_uri": "https://localhost:8080/"
        },
        "id": "TEjknvf38G26",
        "outputId": "10fe765a-f6c8-4a2a-e92a-6b7b16d5e288"
      },
      "source": [
        "a[\"Indonesian DJ\"]=\"Martin Garrix\"\n",
        "a"
      ],
      "execution_count": 5,
      "outputs": [
        {
          "output_type": "execute_result",
          "data": {
            "text/plain": [
              "{'Bigroom': 'Hardwell',\n",
              " 'Indonesian DJ': 'Martin Garrix',\n",
              " 'Progressive House': 'Tiesto',\n",
              " 'Trance': 'Armin Van Burren'}"
            ]
          },
          "metadata": {
            "tags": []
          },
          "execution_count": 5
        }
      ]
    },
    {
      "cell_type": "markdown",
      "metadata": {
        "id": "b8V8YELv-8ER"
      },
      "source": [
        "<h3>Updating Dictionaries Values</h3>"
      ]
    },
    {
      "cell_type": "code",
      "metadata": {
        "colab": {
          "base_uri": "https://localhost:8080/"
        },
        "id": "ine7OlXd8L3v",
        "outputId": "616b09ca-1255-4ac9-d8ac-1e8cc09cb306"
      },
      "source": [
        "a[\"Indonesian DJ\"]=\"Bleu Clair\"\n",
        "a"
      ],
      "execution_count": 10,
      "outputs": [
        {
          "output_type": "execute_result",
          "data": {
            "text/plain": [
              "{'Bigroom': 'Hardwell',\n",
              " 'Indonesian DJ': 'Bleu Clair',\n",
              " 'Progressive House': 'Tiesto',\n",
              " 'Trance': 'Armin Van Burren'}"
            ]
          },
          "metadata": {
            "tags": []
          },
          "execution_count": 10
        }
      ]
    },
    {
      "cell_type": "code",
      "metadata": {
        "colab": {
          "base_uri": "https://localhost:8080/"
        },
        "id": "IB0W4_4UAdOi",
        "outputId": "a12255d0-292a-4fca-905c-0064395eb465"
      },
      "source": [
        "a.update({\"Indonesian DJ\":\"Weird Genius\"})\n",
        "a"
      ],
      "execution_count": 8,
      "outputs": [
        {
          "output_type": "execute_result",
          "data": {
            "text/plain": [
              "{'Bigroom': 'Hardwell',\n",
              " 'Indonesian DJ': 'Weird Genius',\n",
              " 'Progressive House': 'Tiesto',\n",
              " 'Trance': 'Armin Van Burren'}"
            ]
          },
          "metadata": {
            "tags": []
          },
          "execution_count": 8
        }
      ]
    },
    {
      "cell_type": "markdown",
      "metadata": {
        "id": "mGF12SmvDHYf"
      },
      "source": [
        "<h3>Remove Dictionaries Items</h3>"
      ]
    },
    {
      "cell_type": "code",
      "metadata": {
        "colab": {
          "base_uri": "https://localhost:8080/"
        },
        "id": "dYwi2FMSDMXy",
        "outputId": "ffde5944-0b53-4463-d3bc-0acfd5ac932a"
      },
      "source": [
        "a.pop(\"Indonesian DJ\")\n",
        "a"
      ],
      "execution_count": 9,
      "outputs": [
        {
          "output_type": "execute_result",
          "data": {
            "text/plain": [
              "{'Bigroom': 'Hardwell',\n",
              " 'Progressive House': 'Tiesto',\n",
              " 'Trance': 'Armin Van Burren'}"
            ]
          },
          "metadata": {
            "tags": []
          },
          "execution_count": 9
        }
      ]
    },
    {
      "cell_type": "code",
      "metadata": {
        "colab": {
          "base_uri": "https://localhost:8080/"
        },
        "id": "IyeFAkKmDhH1",
        "outputId": "4f3d9923-4a2e-4875-8af3-b4f2f7ad327f"
      },
      "source": [
        "a"
      ],
      "execution_count": 11,
      "outputs": [
        {
          "output_type": "execute_result",
          "data": {
            "text/plain": [
              "{'Bigroom': 'Hardwell',\n",
              " 'Indonesian DJ': 'Bleu Clair',\n",
              " 'Progressive House': 'Tiesto',\n",
              " 'Trance': 'Armin Van Burren'}"
            ]
          },
          "metadata": {
            "tags": []
          },
          "execution_count": 11
        }
      ]
    },
    {
      "cell_type": "code",
      "metadata": {
        "colab": {
          "base_uri": "https://localhost:8080/"
        },
        "id": "hnnkah6JDirr",
        "outputId": "7a29f266-aecc-4737-c43a-c9514ae53b63"
      },
      "source": [
        "del a[\"Indonesian DJ\"]\n",
        "a"
      ],
      "execution_count": 12,
      "outputs": [
        {
          "output_type": "execute_result",
          "data": {
            "text/plain": [
              "{'Bigroom': 'Hardwell',\n",
              " 'Progressive House': 'Tiesto',\n",
              " 'Trance': 'Armin Van Burren'}"
            ]
          },
          "metadata": {
            "tags": []
          },
          "execution_count": 12
        }
      ]
    },
    {
      "cell_type": "code",
      "metadata": {
        "colab": {
          "base_uri": "https://localhost:8080/"
        },
        "id": "72rKTdLKEA8z",
        "outputId": "eb979402-a3af-4782-abfa-df3931a707f6"
      },
      "source": [
        "a_copy = a.copy()\n",
        "a_copy"
      ],
      "execution_count": 13,
      "outputs": [
        {
          "output_type": "execute_result",
          "data": {
            "text/plain": [
              "{'Bigroom': 'Hardwell',\n",
              " 'Progressive House': 'Tiesto',\n",
              " 'Trance': 'Armin Van Burren'}"
            ]
          },
          "metadata": {
            "tags": []
          },
          "execution_count": 13
        }
      ]
    },
    {
      "cell_type": "code",
      "metadata": {
        "colab": {
          "base_uri": "https://localhost:8080/"
        },
        "id": "q1DxHHCMEY4c",
        "outputId": "07ec7b50-9d47-45d2-9691-6f6a71679ce3"
      },
      "source": [
        "a_copy.clear()\n",
        "a_copy"
      ],
      "execution_count": 14,
      "outputs": [
        {
          "output_type": "execute_result",
          "data": {
            "text/plain": [
              "{}"
            ]
          },
          "metadata": {
            "tags": []
          },
          "execution_count": 14
        }
      ]
    },
    {
      "cell_type": "markdown",
      "metadata": {
        "id": "IKisrSDyFM1h"
      },
      "source": [
        "<h3>How to get dictionaries keys</h3>"
      ]
    },
    {
      "cell_type": "code",
      "metadata": {
        "colab": {
          "base_uri": "https://localhost:8080/"
        },
        "id": "4ic7pwzuFL_n",
        "outputId": "6e82536c-5657-4318-fb89-d5dbd3d5d5f0"
      },
      "source": [
        "a.keys()"
      ],
      "execution_count": 15,
      "outputs": [
        {
          "output_type": "execute_result",
          "data": {
            "text/plain": [
              "dict_keys(['Bigroom', 'Trance', 'Progressive House'])"
            ]
          },
          "metadata": {
            "tags": []
          },
          "execution_count": 15
        }
      ]
    },
    {
      "cell_type": "markdown",
      "metadata": {
        "id": "aDsvMfbyGHSj"
      },
      "source": [
        "<h3>How to get dictionaries values</h3>"
      ]
    },
    {
      "cell_type": "code",
      "metadata": {
        "colab": {
          "base_uri": "https://localhost:8080/"
        },
        "id": "CghkApPAGKC6",
        "outputId": "1a10ad56-438c-411e-a55a-91299f0e0d96"
      },
      "source": [
        "a.values()"
      ],
      "execution_count": 16,
      "outputs": [
        {
          "output_type": "execute_result",
          "data": {
            "text/plain": [
              "dict_values(['Hardwell', 'Armin Van Burren', 'Tiesto'])"
            ]
          },
          "metadata": {
            "tags": []
          },
          "execution_count": 16
        }
      ]
    },
    {
      "cell_type": "markdown",
      "metadata": {
        "id": "voq6yRLEGshC"
      },
      "source": [
        "<h3>Dictionaries Loop</h3>"
      ]
    },
    {
      "cell_type": "code",
      "metadata": {
        "colab": {
          "base_uri": "https://localhost:8080/"
        },
        "id": "JPTezzWsGbdK",
        "outputId": "252a5508-577b-4952-c04e-677ced9dcd23"
      },
      "source": [
        "for item in a:\n",
        "  print(item)"
      ],
      "execution_count": 18,
      "outputs": [
        {
          "output_type": "stream",
          "text": [
            "Bigroom\n",
            "Trance\n",
            "Progressive House\n"
          ],
          "name": "stdout"
        }
      ]
    },
    {
      "cell_type": "code",
      "metadata": {
        "colab": {
          "base_uri": "https://localhost:8080/"
        },
        "id": "q4QyqGnbHFwc",
        "outputId": "9273ded1-88c5-4bea-99ae-4fb6261cb096"
      },
      "source": [
        "for item in a:\n",
        "  print(a[item])"
      ],
      "execution_count": 19,
      "outputs": [
        {
          "output_type": "stream",
          "text": [
            "Hardwell\n",
            "Armin Van Burren\n",
            "Tiesto\n"
          ],
          "name": "stdout"
        }
      ]
    },
    {
      "cell_type": "code",
      "metadata": {
        "colab": {
          "base_uri": "https://localhost:8080/"
        },
        "id": "lrNpWxEVHWBy",
        "outputId": "fe834131-3623-4254-f53e-9464e5aeb8f3"
      },
      "source": [
        "for key in a.keys():\n",
        "  print(key)"
      ],
      "execution_count": 20,
      "outputs": [
        {
          "output_type": "stream",
          "text": [
            "Bigroom\n",
            "Trance\n",
            "Progressive House\n"
          ],
          "name": "stdout"
        }
      ]
    },
    {
      "cell_type": "code",
      "metadata": {
        "colab": {
          "base_uri": "https://localhost:8080/"
        },
        "id": "22m9Ew2DHWJi",
        "outputId": "671ea15d-7537-472b-9779-2f34abc459ad"
      },
      "source": [
        "for val in a.values():\n",
        "  print(val)"
      ],
      "execution_count": 21,
      "outputs": [
        {
          "output_type": "stream",
          "text": [
            "Hardwell\n",
            "Armin Van Burren\n",
            "Tiesto\n"
          ],
          "name": "stdout"
        }
      ]
    },
    {
      "cell_type": "code",
      "metadata": {
        "colab": {
          "base_uri": "https://localhost:8080/"
        },
        "id": "RL-qmXGfH15i",
        "outputId": "7f11217c-7dea-4148-ea5d-385f3b7132dc"
      },
      "source": [
        "for key, val in a.items():\n",
        "  print(\"{} : {}\".format(key,val))"
      ],
      "execution_count": 23,
      "outputs": [
        {
          "output_type": "stream",
          "text": [
            "Bigroom : Hardwell\n",
            "Trance : Armin Van Burren\n",
            "Progressive House : Tiesto\n"
          ],
          "name": "stdout"
        }
      ]
    },
    {
      "cell_type": "markdown",
      "metadata": {
        "id": "EY1nYntfIKFq"
      },
      "source": [
        "<h3>Nested Dictionaries</h3>"
      ]
    },
    {
      "cell_type": "code",
      "metadata": {
        "colab": {
          "base_uri": "https://localhost:8080/"
        },
        "id": "ySHA4EvsIJZk",
        "outputId": "1cccb1a0-a232-42c0-fe31-bc3a37ef56a4"
      },
      "source": [
        "country = {\n",
        "    'Europe':{'German':'Berlin','Italy':'Rome'},\n",
        "    'Asia':{'Indonesia':'Jakarta','South Korea':'Seoul'}\n",
        "}\n",
        "print(country)"
      ],
      "execution_count": 33,
      "outputs": [
        {
          "output_type": "stream",
          "text": [
            "{'Europe': {'German': 'Berlin', 'Italy': 'Rome'}, 'Asia': {'Indonesia': 'Jakarta', 'South Korea': 'Seoul'}}\n"
          ],
          "name": "stdout"
        }
      ]
    },
    {
      "cell_type": "code",
      "metadata": {
        "colab": {
          "base_uri": "https://localhost:8080/"
        },
        "id": "W7EpaKVqJf4x",
        "outputId": "a5a38eb0-041c-4260-db6b-6d4c5280d9b0"
      },
      "source": [
        "for key,val in country.items():\n",
        "  print(\"{} = {}\".format(key,val))"
      ],
      "execution_count": 34,
      "outputs": [
        {
          "output_type": "stream",
          "text": [
            "Europe = {'German': 'Berlin', 'Italy': 'Rome'}\n",
            "Asia = {'Indonesia': 'Jakarta', 'South Korea': 'Seoul'}\n"
          ],
          "name": "stdout"
        }
      ]
    },
    {
      "cell_type": "code",
      "metadata": {
        "colab": {
          "base_uri": "https://localhost:8080/"
        },
        "id": "QhVFUdS7LdXc",
        "outputId": "f80da37c-6f14-4f19-df89-282c1c79a678"
      },
      "source": [
        "for key,val in country.items():\n",
        "  print(key + \" Dictionary\")\n",
        "  print('-'*10)\n",
        "\n",
        "  for key2,val2 in val.items():\n",
        "    print(key2,val2)"
      ],
      "execution_count": 38,
      "outputs": [
        {
          "output_type": "stream",
          "text": [
            "Europe Dictionary\n",
            "----------\n",
            "German Berlin\n",
            "Italy Rome\n",
            "Asia Dictionary\n",
            "----------\n",
            "Indonesia Jakarta\n",
            "South Korea Seoul\n"
          ],
          "name": "stdout"
        }
      ]
    },
    {
      "cell_type": "markdown",
      "metadata": {
        "id": "uggmos8uMos1"
      },
      "source": [
        "[Nested Dictionaries](https://www.programiz.com/python-programming/nested-dictionary)"
      ]
    }
  ]
}