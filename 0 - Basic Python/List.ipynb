{
  "nbformat": 4,
  "nbformat_minor": 0,
  "metadata": {
    "kernelspec": {
      "display_name": "Python 3",
      "language": "python",
      "name": "python3"
    },
    "language_info": {
      "codemirror_mode": {
        "name": "ipython",
        "version": 3
      },
      "file_extension": ".py",
      "mimetype": "text/x-python",
      "name": "python",
      "nbconvert_exporter": "python",
      "pygments_lexer": "ipython3",
      "version": "3.8.5"
    },
    "colab": {
      "name": "List.ipynb",
      "provenance": []
    }
  },
  "cells": [
    {
      "cell_type": "markdown",
      "metadata": {
        "id": "ThIQyF_JnZ49"
      },
      "source": [
        "# Introduction to List"
      ]
    },
    {
      "cell_type": "code",
      "metadata": {
        "id": "aownoTMWnZ4_"
      },
      "source": [
        "a = []"
      ],
      "execution_count": 1,
      "outputs": []
    },
    {
      "cell_type": "code",
      "metadata": {
        "id": "nVLWcPp5nZ5B",
        "outputId": "127b2ca3-3769-407a-a770-b3bd6a996bdb",
        "colab": {
          "base_uri": "https://localhost:8080/"
        }
      },
      "source": [
        "print(a)"
      ],
      "execution_count": 2,
      "outputs": [
        {
          "output_type": "stream",
          "text": [
            "[]\n"
          ],
          "name": "stdout"
        }
      ]
    },
    {
      "cell_type": "code",
      "metadata": {
        "id": "6gZU61b3nZ7L",
        "outputId": "bb33b2ad-dd76-45b3-e42e-4836ab2a9f99",
        "colab": {
          "base_uri": "https://localhost:8080/"
        }
      },
      "source": [
        "print(type(a))"
      ],
      "execution_count": 3,
      "outputs": [
        {
          "output_type": "stream",
          "text": [
            "<class 'list'>\n"
          ],
          "name": "stdout"
        }
      ]
    },
    {
      "cell_type": "code",
      "metadata": {
        "id": "1-x9fNDNnZ7Q",
        "outputId": "9224ab65-fae3-451f-a93e-ae10078f5d3e",
        "colab": {
          "base_uri": "https://localhost:8080/"
        }
      },
      "source": [
        "a = [1,2,3,4]\n",
        "print(a)"
      ],
      "execution_count": 4,
      "outputs": [
        {
          "output_type": "stream",
          "text": [
            "[1, 2, 3, 4]\n"
          ],
          "name": "stdout"
        }
      ]
    },
    {
      "cell_type": "code",
      "metadata": {
        "id": "gRrHkOm5nZ7R",
        "outputId": "6bc7e0fa-93a5-422c-a3f5-cf2751dc5212",
        "colab": {
          "base_uri": "https://localhost:8080/"
        }
      },
      "source": [
        "print(type(a))"
      ],
      "execution_count": 5,
      "outputs": [
        {
          "output_type": "stream",
          "text": [
            "<class 'list'>\n"
          ],
          "name": "stdout"
        }
      ]
    },
    {
      "cell_type": "code",
      "metadata": {
        "id": "i2vhlPz6nZ7S"
      },
      "source": [
        "b = [True,'2',3.0,4]"
      ],
      "execution_count": 6,
      "outputs": []
    },
    {
      "cell_type": "code",
      "metadata": {
        "id": "R6sZoYaRnZ7T",
        "outputId": "87dd0130-94d3-4bb0-f46b-311d09a3e086",
        "colab": {
          "base_uri": "https://localhost:8080/"
        }
      },
      "source": [
        "b"
      ],
      "execution_count": 7,
      "outputs": [
        {
          "output_type": "execute_result",
          "data": {
            "text/plain": [
              "[True, '2', 3.0, 4]"
            ]
          },
          "metadata": {
            "tags": []
          },
          "execution_count": 7
        }
      ]
    },
    {
      "cell_type": "markdown",
      "metadata": {
        "id": "w7DtGxKXnZ7V"
      },
      "source": [
        "# List Method"
      ]
    },
    {
      "cell_type": "code",
      "metadata": {
        "id": "GwGfv0rmnZ7W",
        "outputId": "a5ffc2de-ea2e-4627-d5d1-e4fbba087ce4",
        "colab": {
          "base_uri": "https://localhost:8080/"
        }
      },
      "source": [
        "li = ['Apple','Banana','Orange','Strawberry']\n",
        "print(li)"
      ],
      "execution_count": 8,
      "outputs": [
        {
          "output_type": "stream",
          "text": [
            "['Apple', 'Banana', 'Orange', 'Strawberry']\n"
          ],
          "name": "stdout"
        }
      ]
    },
    {
      "cell_type": "markdown",
      "metadata": {
        "id": "JvZwcCWknZ7X"
      },
      "source": [
        "## Accesing List Method"
      ]
    },
    {
      "cell_type": "code",
      "metadata": {
        "id": "_AcNdJtLnZ7Y",
        "outputId": "b502dac1-9779-4ece-ac76-2a6838c64dc0",
        "colab": {
          "base_uri": "https://localhost:8080/",
          "height": 35
        }
      },
      "source": [
        "# Apple\n",
        "li[0]"
      ],
      "execution_count": 9,
      "outputs": [
        {
          "output_type": "execute_result",
          "data": {
            "application/vnd.google.colaboratory.intrinsic+json": {
              "type": "string"
            },
            "text/plain": [
              "'Apple'"
            ]
          },
          "metadata": {
            "tags": []
          },
          "execution_count": 9
        }
      ]
    },
    {
      "cell_type": "code",
      "metadata": {
        "id": "HF5MAujjnZ7Z",
        "outputId": "42705626-872f-47aa-d1a4-fc04982e2075",
        "colab": {
          "base_uri": "https://localhost:8080/",
          "height": 35
        }
      },
      "source": [
        "# Banana\n",
        "li[1]"
      ],
      "execution_count": 10,
      "outputs": [
        {
          "output_type": "execute_result",
          "data": {
            "application/vnd.google.colaboratory.intrinsic+json": {
              "type": "string"
            },
            "text/plain": [
              "'Banana'"
            ]
          },
          "metadata": {
            "tags": []
          },
          "execution_count": 10
        }
      ]
    },
    {
      "cell_type": "code",
      "metadata": {
        "id": "AqwR8thInZ7a",
        "outputId": "d7db505b-2f8f-414b-ba0d-e5b296a51877",
        "colab": {
          "base_uri": "https://localhost:8080/",
          "height": 35
        }
      },
      "source": [
        "# Strawberry\n",
        "li[-1]"
      ],
      "execution_count": 11,
      "outputs": [
        {
          "output_type": "execute_result",
          "data": {
            "application/vnd.google.colaboratory.intrinsic+json": {
              "type": "string"
            },
            "text/plain": [
              "'Strawberry'"
            ]
          },
          "metadata": {
            "tags": []
          },
          "execution_count": 11
        }
      ]
    },
    {
      "cell_type": "code",
      "metadata": {
        "id": "-nK5JXYEnZ7b",
        "outputId": "28b8b5bc-3fa1-4139-bd7c-2e13b0c84973",
        "colab": {
          "base_uri": "https://localhost:8080/",
          "height": 35
        }
      },
      "source": [
        "# Strawberry\n",
        "li[3]"
      ],
      "execution_count": 12,
      "outputs": [
        {
          "output_type": "execute_result",
          "data": {
            "application/vnd.google.colaboratory.intrinsic+json": {
              "type": "string"
            },
            "text/plain": [
              "'Strawberry'"
            ]
          },
          "metadata": {
            "tags": []
          },
          "execution_count": 12
        }
      ]
    },
    {
      "cell_type": "code",
      "metadata": {
        "id": "IDjkSxx-nZ7f",
        "outputId": "82c5f6c4-6cdb-4c5b-d334-44b30100f6c2",
        "colab": {
          "base_uri": "https://localhost:8080/"
        }
      },
      "source": [
        "try:\n",
        "    li[4]\n",
        "except:\n",
        "    print('List index out of range')"
      ],
      "execution_count": 13,
      "outputs": [
        {
          "output_type": "stream",
          "text": [
            "List index out of range\n"
          ],
          "name": "stdout"
        }
      ]
    },
    {
      "cell_type": "code",
      "metadata": {
        "id": "S0si9YsWnZ7h",
        "outputId": "8d607f24-5666-4d54-f9bf-eae7ec18db70",
        "colab": {
          "base_uri": "https://localhost:8080/"
        }
      },
      "source": [
        "# Apple + Banana\n",
        "\n",
        "li[0:2]"
      ],
      "execution_count": 14,
      "outputs": [
        {
          "output_type": "execute_result",
          "data": {
            "text/plain": [
              "['Apple', 'Banana']"
            ]
          },
          "metadata": {
            "tags": []
          },
          "execution_count": 14
        }
      ]
    },
    {
      "cell_type": "code",
      "metadata": {
        "id": "nsdZoANSnZ7k",
        "outputId": "529cfd3d-d999-42ce-ddff-ce3a6f65ca2f",
        "colab": {
          "base_uri": "https://localhost:8080/"
        }
      },
      "source": [
        "li[:2]"
      ],
      "execution_count": 15,
      "outputs": [
        {
          "output_type": "execute_result",
          "data": {
            "text/plain": [
              "['Apple', 'Banana']"
            ]
          },
          "metadata": {
            "tags": []
          },
          "execution_count": 15
        }
      ]
    },
    {
      "cell_type": "code",
      "metadata": {
        "id": "jmxpKggxnZ7l",
        "outputId": "779fb7c3-0784-4a3a-bfa6-4724594ac98e",
        "colab": {
          "base_uri": "https://localhost:8080/"
        }
      },
      "source": [
        "li[1:]"
      ],
      "execution_count": 16,
      "outputs": [
        {
          "output_type": "execute_result",
          "data": {
            "text/plain": [
              "['Banana', 'Orange', 'Strawberry']"
            ]
          },
          "metadata": {
            "tags": []
          },
          "execution_count": 16
        }
      ]
    },
    {
      "cell_type": "markdown",
      "metadata": {
        "id": "-UNUItTrnZ7l"
      },
      "source": [
        "## List Append"
      ]
    },
    {
      "cell_type": "code",
      "metadata": {
        "id": "ZVPr1yx1nZ7m",
        "outputId": "003ff92e-3c9d-4d95-f0bb-ae7776d86b8c",
        "colab": {
          "base_uri": "https://localhost:8080/"
        }
      },
      "source": [
        "li.append('Watermelon')\n",
        "li"
      ],
      "execution_count": 17,
      "outputs": [
        {
          "output_type": "execute_result",
          "data": {
            "text/plain": [
              "['Apple', 'Banana', 'Orange', 'Strawberry', 'Watermelon']"
            ]
          },
          "metadata": {
            "tags": []
          },
          "execution_count": 17
        }
      ]
    },
    {
      "cell_type": "code",
      "metadata": {
        "id": "W2YlEkMjnZ7n",
        "outputId": "54afe34e-3475-4e88-8b5f-4d1977abf835",
        "colab": {
          "base_uri": "https://localhost:8080/"
        }
      },
      "source": [
        "li.insert(1,'Guava')\n",
        "li"
      ],
      "execution_count": 18,
      "outputs": [
        {
          "output_type": "execute_result",
          "data": {
            "text/plain": [
              "['Apple', 'Guava', 'Banana', 'Orange', 'Strawberry', 'Watermelon']"
            ]
          },
          "metadata": {
            "tags": []
          },
          "execution_count": 18
        }
      ]
    },
    {
      "cell_type": "code",
      "metadata": {
        "id": "ou23WDZDnZ7o",
        "outputId": "67c38d95-ced7-4dac-8fc7-1f2765852aeb",
        "colab": {
          "base_uri": "https://localhost:8080/"
        }
      },
      "source": [
        "lib = ['Pineapple','Papaya']\n",
        "li.extend(lib)\n",
        "li"
      ],
      "execution_count": 19,
      "outputs": [
        {
          "output_type": "execute_result",
          "data": {
            "text/plain": [
              "['Apple',\n",
              " 'Guava',\n",
              " 'Banana',\n",
              " 'Orange',\n",
              " 'Strawberry',\n",
              " 'Watermelon',\n",
              " 'Pineapple',\n",
              " 'Papaya']"
            ]
          },
          "metadata": {
            "tags": []
          },
          "execution_count": 19
        }
      ]
    },
    {
      "cell_type": "markdown",
      "metadata": {
        "id": "QOy7Mw9onZ7p"
      },
      "source": [
        "## Removing"
      ]
    },
    {
      "cell_type": "code",
      "metadata": {
        "id": "6_gtIt2KnZ7p",
        "outputId": "a537fba8-0e4f-42ff-8c47-b68f8c58c489",
        "colab": {
          "base_uri": "https://localhost:8080/"
        }
      },
      "source": [
        "li.remove('Papaya')\n",
        "li"
      ],
      "execution_count": 20,
      "outputs": [
        {
          "output_type": "execute_result",
          "data": {
            "text/plain": [
              "['Apple', 'Guava', 'Banana', 'Orange', 'Strawberry', 'Watermelon', 'Pineapple']"
            ]
          },
          "metadata": {
            "tags": []
          },
          "execution_count": 20
        }
      ]
    },
    {
      "cell_type": "code",
      "metadata": {
        "id": "YXxPQdyenZ7q",
        "outputId": "fff83f03-e32e-49d9-a5b7-f3142071f487",
        "colab": {
          "base_uri": "https://localhost:8080/"
        }
      },
      "source": [
        "li.pop(-1)\n",
        "li"
      ],
      "execution_count": 21,
      "outputs": [
        {
          "output_type": "execute_result",
          "data": {
            "text/plain": [
              "['Apple', 'Guava', 'Banana', 'Orange', 'Strawberry', 'Watermelon']"
            ]
          },
          "metadata": {
            "tags": []
          },
          "execution_count": 21
        }
      ]
    },
    {
      "cell_type": "code",
      "metadata": {
        "id": "Fd2s4F3UnZ7r",
        "outputId": "65f452c9-33ac-4805-c17b-64308a1aceff",
        "colab": {
          "base_uri": "https://localhost:8080/"
        }
      },
      "source": [
        "li.pop()\n",
        "li"
      ],
      "execution_count": 22,
      "outputs": [
        {
          "output_type": "execute_result",
          "data": {
            "text/plain": [
              "['Apple', 'Guava', 'Banana', 'Orange', 'Strawberry']"
            ]
          },
          "metadata": {
            "tags": []
          },
          "execution_count": 22
        }
      ]
    },
    {
      "cell_type": "code",
      "metadata": {
        "id": "DscJ6wEUnZ7s",
        "outputId": "de92643b-5f47-4b58-ef12-55456bbaaa5d",
        "colab": {
          "base_uri": "https://localhost:8080/"
        }
      },
      "source": [
        "del li[-1]\n",
        "li"
      ],
      "execution_count": 23,
      "outputs": [
        {
          "output_type": "execute_result",
          "data": {
            "text/plain": [
              "['Apple', 'Guava', 'Banana', 'Orange']"
            ]
          },
          "metadata": {
            "tags": []
          },
          "execution_count": 23
        }
      ]
    },
    {
      "cell_type": "code",
      "metadata": {
        "id": "oGik-U9CnZ7t",
        "outputId": "ce253792-f487-41d5-e5ee-985aa121964f",
        "colab": {
          "base_uri": "https://localhost:8080/"
        }
      },
      "source": [
        "li_copy = li.copy()\n",
        "li_copy"
      ],
      "execution_count": 24,
      "outputs": [
        {
          "output_type": "execute_result",
          "data": {
            "text/plain": [
              "['Apple', 'Guava', 'Banana', 'Orange']"
            ]
          },
          "metadata": {
            "tags": []
          },
          "execution_count": 24
        }
      ]
    },
    {
      "cell_type": "code",
      "metadata": {
        "id": "-Q_Mz0honZ7t",
        "outputId": "b4ec8e69-b1ee-4fb8-f87e-38b30a8c04f5",
        "colab": {
          "base_uri": "https://localhost:8080/"
        }
      },
      "source": [
        "li_copy.clear()\n",
        "li_copy"
      ],
      "execution_count": 25,
      "outputs": [
        {
          "output_type": "execute_result",
          "data": {
            "text/plain": [
              "[]"
            ]
          },
          "metadata": {
            "tags": []
          },
          "execution_count": 25
        }
      ]
    },
    {
      "cell_type": "code",
      "metadata": {
        "id": "UY0PaPCBnZ7v",
        "outputId": "c840008a-1867-43d5-9272-a8759d93fbca",
        "colab": {
          "base_uri": "https://localhost:8080/"
        }
      },
      "source": [
        "del li_copy\n",
        "\n",
        "try:\n",
        "    li_copy\n",
        "except:\n",
        "    print('undefined li_copy')"
      ],
      "execution_count": 26,
      "outputs": [
        {
          "output_type": "stream",
          "text": [
            "undefined li_copy\n"
          ],
          "name": "stdout"
        }
      ]
    },
    {
      "cell_type": "markdown",
      "metadata": {
        "id": "rIClMsrsnZ7y"
      },
      "source": [
        "## Change List"
      ]
    },
    {
      "cell_type": "code",
      "metadata": {
        "id": "dZuf7ZKbnZ7z",
        "outputId": "9153394a-e94b-4271-a43e-662e3d8916ee",
        "colab": {
          "base_uri": "https://localhost:8080/"
        }
      },
      "source": [
        "li"
      ],
      "execution_count": 27,
      "outputs": [
        {
          "output_type": "execute_result",
          "data": {
            "text/plain": [
              "['Apple', 'Guava', 'Banana', 'Orange']"
            ]
          },
          "metadata": {
            "tags": []
          },
          "execution_count": 27
        }
      ]
    },
    {
      "cell_type": "code",
      "metadata": {
        "id": "aXcLhxr0nZ70",
        "outputId": "422f2fe3-ab9c-49ae-d641-54feebde8177",
        "colab": {
          "base_uri": "https://localhost:8080/"
        }
      },
      "source": [
        "li[1] = 'Papaya'\n",
        "li"
      ],
      "execution_count": 28,
      "outputs": [
        {
          "output_type": "execute_result",
          "data": {
            "text/plain": [
              "['Apple', 'Papaya', 'Banana', 'Orange']"
            ]
          },
          "metadata": {
            "tags": []
          },
          "execution_count": 28
        }
      ]
    },
    {
      "cell_type": "code",
      "metadata": {
        "id": "xhoFD3KBnZ71",
        "outputId": "3b290309-6de1-44f2-af0f-6e43c95ec894",
        "colab": {
          "base_uri": "https://localhost:8080/"
        }
      },
      "source": [
        "li[:2] = ['Pineapple','Starfruit']\n",
        "li"
      ],
      "execution_count": 29,
      "outputs": [
        {
          "output_type": "execute_result",
          "data": {
            "text/plain": [
              "['Pineapple', 'Starfruit', 'Banana', 'Orange']"
            ]
          },
          "metadata": {
            "tags": []
          },
          "execution_count": 29
        }
      ]
    },
    {
      "cell_type": "code",
      "metadata": {
        "id": "uXr-oQaOnZ72",
        "outputId": "858df835-63dd-4b74-8b73-42ead0ce8666",
        "colab": {
          "base_uri": "https://localhost:8080/"
        }
      },
      "source": [
        "li[:2] = ['Apple','Papaya','Dragonfruit']\n",
        "li"
      ],
      "execution_count": 30,
      "outputs": [
        {
          "output_type": "execute_result",
          "data": {
            "text/plain": [
              "['Apple', 'Papaya', 'Dragonfruit', 'Banana', 'Orange']"
            ]
          },
          "metadata": {
            "tags": []
          },
          "execution_count": 30
        }
      ]
    },
    {
      "cell_type": "markdown",
      "metadata": {
        "id": "ivfi0_1XnZ72"
      },
      "source": [
        "## Others Method"
      ]
    },
    {
      "cell_type": "markdown",
      "metadata": {
        "id": "CmJ_oNoanZ73"
      },
      "source": [
        "### Copy"
      ]
    },
    {
      "cell_type": "code",
      "metadata": {
        "id": "qeE2uyBXnZ-R",
        "outputId": "ee30129d-8eec-4c71-8a84-be9a1d26410e",
        "colab": {
          "base_uri": "https://localhost:8080/"
        }
      },
      "source": [
        "lib = li.copy()\n",
        "lib"
      ],
      "execution_count": 31,
      "outputs": [
        {
          "output_type": "execute_result",
          "data": {
            "text/plain": [
              "['Apple', 'Papaya', 'Dragonfruit', 'Banana', 'Orange']"
            ]
          },
          "metadata": {
            "tags": []
          },
          "execution_count": 31
        }
      ]
    },
    {
      "cell_type": "markdown",
      "metadata": {
        "id": "sy2ZM6VonZ-S"
      },
      "source": [
        "### Sort"
      ]
    },
    {
      "cell_type": "code",
      "metadata": {
        "id": "SZwlLx4pnZ-W",
        "outputId": "2b3113c2-829d-4566-9850-ac55cfa5daae",
        "colab": {
          "base_uri": "https://localhost:8080/"
        }
      },
      "source": [
        "new = [3,5,1,9,4]\n",
        "new.sort()\n",
        "new"
      ],
      "execution_count": 32,
      "outputs": [
        {
          "output_type": "execute_result",
          "data": {
            "text/plain": [
              "[1, 3, 4, 5, 9]"
            ]
          },
          "metadata": {
            "tags": []
          },
          "execution_count": 32
        }
      ]
    },
    {
      "cell_type": "code",
      "metadata": {
        "id": "yhhsf0AOnZ-X",
        "outputId": "ff994b95-15f3-4645-cb17-d7b6b679228b",
        "colab": {
          "base_uri": "https://localhost:8080/"
        }
      },
      "source": [
        "new = [3,5,1,9,4]\n",
        "new.sort(reverse=True)\n",
        "new"
      ],
      "execution_count": 33,
      "outputs": [
        {
          "output_type": "execute_result",
          "data": {
            "text/plain": [
              "[9, 5, 4, 3, 1]"
            ]
          },
          "metadata": {
            "tags": []
          },
          "execution_count": 33
        }
      ]
    },
    {
      "cell_type": "markdown",
      "metadata": {
        "id": "gsdW33cgnZ-X"
      },
      "source": [
        "### Count"
      ]
    },
    {
      "cell_type": "code",
      "metadata": {
        "id": "_TyTxvDsnZ-Y",
        "outputId": "6aa178c0-3fa5-4f8b-c42b-03b978dce64d",
        "colab": {
          "base_uri": "https://localhost:8080/"
        }
      },
      "source": [
        "new.count(5)"
      ],
      "execution_count": 34,
      "outputs": [
        {
          "output_type": "execute_result",
          "data": {
            "text/plain": [
              "1"
            ]
          },
          "metadata": {
            "tags": []
          },
          "execution_count": 34
        }
      ]
    },
    {
      "cell_type": "markdown",
      "metadata": {
        "id": "5JEHpXj2nZ-Z"
      },
      "source": [
        "### How many value in list ?"
      ]
    },
    {
      "cell_type": "code",
      "metadata": {
        "id": "PNRg9RnAnZ-Z",
        "outputId": "5c6ec504-1ede-4894-bf88-52d9ca9b7e1f",
        "colab": {
          "base_uri": "https://localhost:8080/"
        }
      },
      "source": [
        "len(new)"
      ],
      "execution_count": 35,
      "outputs": [
        {
          "output_type": "execute_result",
          "data": {
            "text/plain": [
              "5"
            ]
          },
          "metadata": {
            "tags": []
          },
          "execution_count": 35
        }
      ]
    },
    {
      "cell_type": "markdown",
      "metadata": {
        "id": "8rFsm0yqnZ-a"
      },
      "source": [
        "# More advance List Topic"
      ]
    },
    {
      "cell_type": "markdown",
      "metadata": {
        "id": "2E8yFk1SnZ-b"
      },
      "source": [
        "## List Comprehension\n",
        "### Prerequisite = For Loop"
      ]
    },
    {
      "cell_type": "code",
      "metadata": {
        "id": "QhHv1AATnZ-b",
        "outputId": "5fd8edd4-cb15-40ef-a129-f8e00fb98c2b",
        "colab": {
          "base_uri": "https://localhost:8080/"
        }
      },
      "source": [
        "# Add to LC i, if i is in between 1 and 6\n",
        "\n",
        "LC = [i for i in range(1,6)]\n",
        "LC"
      ],
      "execution_count": 36,
      "outputs": [
        {
          "output_type": "execute_result",
          "data": {
            "text/plain": [
              "[1, 2, 3, 4, 5]"
            ]
          },
          "metadata": {
            "tags": []
          },
          "execution_count": 36
        }
      ]
    },
    {
      "cell_type": "code",
      "metadata": {
        "id": "YsT7vEfjnZ-c",
        "outputId": "dab95ba4-580b-4630-d75e-385eb8d3cf48",
        "colab": {
          "base_uri": "https://localhost:8080/"
        }
      },
      "source": [
        "LCA = ['Chicken','Cat','Dog']\n",
        "\n",
        "# Add to LC list if there is an 'a' in every member of LCA\n",
        "\n",
        "LC = [i for i in LCA if \"a\" in i]\n",
        "LC"
      ],
      "execution_count": 37,
      "outputs": [
        {
          "output_type": "execute_result",
          "data": {
            "text/plain": [
              "['Cat']"
            ]
          },
          "metadata": {
            "tags": []
          },
          "execution_count": 37
        }
      ]
    }
  ]
}