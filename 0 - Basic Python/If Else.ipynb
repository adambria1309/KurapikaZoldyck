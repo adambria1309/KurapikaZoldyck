{
  "nbformat": 4,
  "nbformat_minor": 0,
  "metadata": {
    "kernelspec": {
      "display_name": "Python 3",
      "language": "python",
      "name": "python3"
    },
    "language_info": {
      "codemirror_mode": {
        "name": "ipython",
        "version": 3
      },
      "file_extension": ".py",
      "mimetype": "text/x-python",
      "name": "python",
      "nbconvert_exporter": "python",
      "pygments_lexer": "ipython3",
      "version": "3.8.5"
    },
    "colab": {
      "name": "If Else.ipynb",
      "provenance": []
    }
  },
  "cells": [
    {
      "cell_type": "code",
      "metadata": {
        "id": "ERTaCa3GnXF2",
        "outputId": "e8bfdf6f-672f-44fb-f6ea-f164149e78bb",
        "colab": {
          "base_uri": "https://localhost:8080/"
        }
      },
      "source": [
        "x = 5\n",
        "\n",
        "if x == 5:\n",
        "    print('Lima')"
      ],
      "execution_count": 1,
      "outputs": [
        {
          "output_type": "stream",
          "text": [
            "Lima\n"
          ],
          "name": "stdout"
        }
      ]
    },
    {
      "cell_type": "code",
      "metadata": {
        "id": "p483rdqBnXF4",
        "outputId": "a921042e-17dc-42b7-bb5f-8f3dea4a27d8",
        "colab": {
          "base_uri": "https://localhost:8080/"
        }
      },
      "source": [
        "x = 10\n",
        "\n",
        "if x == 5:\n",
        "    print('Lima')\n",
        "else:\n",
        "    print('Selain Lima')"
      ],
      "execution_count": 2,
      "outputs": [
        {
          "output_type": "stream",
          "text": [
            "Selain Lima\n"
          ],
          "name": "stdout"
        }
      ]
    },
    {
      "cell_type": "code",
      "metadata": {
        "id": "QLEUGDzJnXF7",
        "outputId": "a2f7cd72-4403-442b-fdf6-549eb5eabea7",
        "colab": {
          "base_uri": "https://localhost:8080/"
        }
      },
      "source": [
        "x = 10\n",
        "\n",
        "if x == 5:\n",
        "    print('Lima')\n",
        "elif x == 10:\n",
        "    print('Sepuluh')\n",
        "else:\n",
        "    print('Selain 5 dan 10')"
      ],
      "execution_count": 3,
      "outputs": [
        {
          "output_type": "stream",
          "text": [
            "Sepuluh\n"
          ],
          "name": "stdout"
        }
      ]
    },
    {
      "cell_type": "markdown",
      "metadata": {
        "id": "Ek-nYqUrnXF-"
      },
      "source": [
        "### Ternary Operators"
      ]
    },
    {
      "cell_type": "code",
      "metadata": {
        "id": "FxNxpXCFnXF_",
        "outputId": "580b1e66-aaa0-4684-ab02-81caa55ac0cf",
        "colab": {
          "base_uri": "https://localhost:8080/"
        }
      },
      "source": [
        "x = 5\n",
        "if x == 5 : print('Lima')"
      ],
      "execution_count": 4,
      "outputs": [
        {
          "output_type": "stream",
          "text": [
            "Lima\n"
          ],
          "name": "stdout"
        }
      ]
    },
    {
      "cell_type": "code",
      "metadata": {
        "id": "T7fLhvotnXGA",
        "outputId": "b116371b-5a14-4f86-de13-09cf74b166da",
        "colab": {
          "base_uri": "https://localhost:8080/"
        }
      },
      "source": [
        "x = 10\n",
        "print('Lima') if x == 5 else print('Sepuluh')"
      ],
      "execution_count": 5,
      "outputs": [
        {
          "output_type": "stream",
          "text": [
            "Sepuluh\n"
          ],
          "name": "stdout"
        }
      ]
    },
    {
      "cell_type": "code",
      "metadata": {
        "id": "rGvLgOjInXGB",
        "outputId": "9b6f488c-8e47-4647-9d62-039cd0a41ddc",
        "colab": {
          "base_uri": "https://localhost:8080/"
        }
      },
      "source": [
        "x = 10\n",
        "print('Lima') if x == 5 else print('Sepuluh') if x == 10 else print('Selain 10 dan 5')"
      ],
      "execution_count": 6,
      "outputs": [
        {
          "output_type": "stream",
          "text": [
            "Sepuluh\n"
          ],
          "name": "stdout"
        }
      ]
    },
    {
      "cell_type": "markdown",
      "metadata": {
        "id": "m3jsVfFEnXGC"
      },
      "source": [
        "### Comparison Operator in If Else"
      ]
    },
    {
      "cell_type": "code",
      "metadata": {
        "id": "Nf97IidnnXGD",
        "outputId": "58935ce5-c90f-4f00-c439-82d8243fab25",
        "colab": {
          "base_uri": "https://localhost:8080/"
        }
      },
      "source": [
        "x = 10\n",
        "y = 5\n",
        "\n",
        "if x > y:\n",
        "    print('Ten > Five')\n",
        "else:\n",
        "    print('Impossible')"
      ],
      "execution_count": 7,
      "outputs": [
        {
          "output_type": "stream",
          "text": [
            "Ten > Five\n"
          ],
          "name": "stdout"
        }
      ]
    },
    {
      "cell_type": "code",
      "metadata": {
        "id": "cpxXcZZwnXGF",
        "outputId": "06510615-d4e9-47ed-bc25-bff1bbd346d3",
        "colab": {
          "base_uri": "https://localhost:8080/"
        }
      },
      "source": [
        "x = 10\n",
        "y = 11\n",
        "\n",
        "if x > y:\n",
        "    print('Ten > Five')\n",
        "else:\n",
        "    print('Impossible')"
      ],
      "execution_count": 8,
      "outputs": [
        {
          "output_type": "stream",
          "text": [
            "Impossible\n"
          ],
          "name": "stdout"
        }
      ]
    },
    {
      "cell_type": "code",
      "metadata": {
        "id": "fr6dBVpHnXGG",
        "outputId": "711bf45b-66f8-446f-f617-6d3bda414f51",
        "colab": {
          "base_uri": "https://localhost:8080/"
        }
      },
      "source": [
        "x = 10\n",
        "y = 5\n",
        "\n",
        "if x < y:\n",
        "    print('Ten < Five')\n",
        "elif x > y:\n",
        "    print('Ten > Five')\n",
        "else:\n",
        "    print('Impossible')"
      ],
      "execution_count": 9,
      "outputs": [
        {
          "output_type": "stream",
          "text": [
            "Ten > Five\n"
          ],
          "name": "stdout"
        }
      ]
    }
  ]
}