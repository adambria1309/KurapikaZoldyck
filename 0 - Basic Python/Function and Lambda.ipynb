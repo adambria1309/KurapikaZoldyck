{
 "cells": [
  {
   "cell_type": "markdown",
   "metadata": {},
   "source": [
    "### Built-in Function"
   ]
  },
  {
   "cell_type": "code",
   "execution_count": 1,
   "metadata": {
    "colab": {
     "base_uri": "https://localhost:8080/"
    },
    "id": "bArWupt8nVsM",
    "outputId": "fa48af87-2e5e-4148-b84d-56f037f1c0e2"
   },
   "outputs": [
    {
     "name": "stdout",
     "output_type": "stream",
     "text": [
      "<class 'str'>\n"
     ]
    }
   ],
   "source": [
    "sentences = 'Hello World'\n",
    "\n",
    "print(type(sentences))"
   ]
  },
  {
   "cell_type": "code",
   "execution_count": 2,
   "metadata": {
    "colab": {
     "base_uri": "https://localhost:8080/"
    },
    "id": "wREjuHTnnVud",
    "outputId": "6eb09ab2-7cc5-4293-a75c-93a5ac727d43"
   },
   "outputs": [
    {
     "data": {
      "text/plain": [
       "1"
      ]
     },
     "execution_count": 2,
     "metadata": {},
     "output_type": "execute_result"
    }
   ],
   "source": [
    "sentences.count('H')"
   ]
  },
  {
   "cell_type": "markdown",
   "metadata": {},
   "source": [
    "### User Defined Function"
   ]
  },
  {
   "cell_type": "markdown",
   "metadata": {},
   "source": [
    "#### Introduction to Function"
   ]
  },
  {
   "cell_type": "code",
   "execution_count": 3,
   "metadata": {
    "id": "ptgx_BkWnVuj"
   },
   "outputs": [],
   "source": [
    "# Introduction to Function\n",
    "\n",
    "def Function():\n",
    "    print('This function is already working')"
   ]
  },
  {
   "cell_type": "code",
   "execution_count": 4,
   "metadata": {},
   "outputs": [
    {
     "data": {
      "text/plain": [
       "<function __main__.Function()>"
      ]
     },
     "execution_count": 4,
     "metadata": {},
     "output_type": "execute_result"
    }
   ],
   "source": [
    "Function"
   ]
  },
  {
   "cell_type": "code",
   "execution_count": 5,
   "metadata": {
    "colab": {
     "base_uri": "https://localhost:8080/"
    },
    "id": "_Tn2CzmmnVvw",
    "outputId": "f7244909-6a28-4869-f5b7-b1750fbc3a92"
   },
   "outputs": [
    {
     "name": "stdout",
     "output_type": "stream",
     "text": [
      "This function is already working\n"
     ]
    }
   ],
   "source": [
    "# Use Function\n",
    "\n",
    "Function()"
   ]
  },
  {
   "cell_type": "markdown",
   "metadata": {},
   "source": [
    "#### Function and Parameter"
   ]
  },
  {
   "cell_type": "code",
   "execution_count": 6,
   "metadata": {
    "id": "VHnwfYoEnVvz"
   },
   "outputs": [
    {
     "data": {
      "text/plain": [
       "<function __main__.Function(name)>"
      ]
     },
     "execution_count": 6,
     "metadata": {},
     "output_type": "execute_result"
    }
   ],
   "source": [
    "# Using Parameter\n",
    "\n",
    "def Function(name):\n",
    "    print(name)\n",
    "\n",
    "Function"
   ]
  },
  {
   "cell_type": "code",
   "execution_count": 7,
   "metadata": {
    "colab": {
     "base_uri": "https://localhost:8080/"
    },
    "id": "JWVL2de_nVv0",
    "outputId": "c14e3c9e-eda4-429c-a78f-c949b3a55936"
   },
   "outputs": [
    {
     "name": "stdout",
     "output_type": "stream",
     "text": [
      "Kurapika\n"
     ]
    }
   ],
   "source": [
    "Function('Kurapika')"
   ]
  },
  {
   "cell_type": "markdown",
   "metadata": {},
   "source": [
    "#### Multiple Parameter"
   ]
  },
  {
   "cell_type": "code",
   "execution_count": 8,
   "metadata": {
    "id": "IlnCadbfnVv0"
   },
   "outputs": [
    {
     "data": {
      "text/plain": [
       "<function __main__.Function(first_name, last_name)>"
      ]
     },
     "execution_count": 8,
     "metadata": {},
     "output_type": "execute_result"
    }
   ],
   "source": [
    "# Multiple Parameter\n",
    "\n",
    "def Function(first_name,last_name):\n",
    "    print(first_name + last_name)\n",
    "    \n",
    "Function"
   ]
  },
  {
   "cell_type": "code",
   "execution_count": 9,
   "metadata": {
    "colab": {
     "base_uri": "https://localhost:8080/"
    },
    "id": "AbvcMVLHnVv1",
    "outputId": "023f96d2-0c7d-42c7-ede9-fb0f8189aca4"
   },
   "outputs": [
    {
     "name": "stdout",
     "output_type": "stream",
     "text": [
      "KurapikaZoldyck\n"
     ]
    }
   ],
   "source": [
    "Function('Kurapika','Zoldyck')"
   ]
  },
  {
   "cell_type": "markdown",
   "metadata": {},
   "source": [
    "#### Defined Parameter Value"
   ]
  },
  {
   "cell_type": "code",
   "execution_count": 10,
   "metadata": {
    "id": "KLrDvxONnVv3"
   },
   "outputs": [
    {
     "data": {
      "text/plain": [
       "<function __main__.Function(first_name, last_name='Zoldyck')>"
      ]
     },
     "execution_count": 10,
     "metadata": {},
     "output_type": "execute_result"
    }
   ],
   "source": [
    "# Defined Parameter Input\n",
    "\n",
    "def Function(first_name,last_name='Zoldyck'):\n",
    "    print(first_name + ' ' +last_name)\n",
    "    \n",
    "Function"
   ]
  },
  {
   "cell_type": "code",
   "execution_count": 11,
   "metadata": {
    "colab": {
     "base_uri": "https://localhost:8080/"
    },
    "id": "yGGuyVNjnVv-",
    "outputId": "3e377e4c-272b-4e6d-a210-8d91cdd8c5c5"
   },
   "outputs": [
    {
     "name": "stdout",
     "output_type": "stream",
     "text": [
      "Killua Zoldyck\n"
     ]
    }
   ],
   "source": [
    "Function('Killua')"
   ]
  },
  {
   "cell_type": "code",
   "execution_count": 12,
   "metadata": {
    "colab": {
     "base_uri": "https://localhost:8080/"
    },
    "id": "a-rg7wPQnVwC",
    "outputId": "55c3bc71-1104-4b3a-babd-22c45b5824ec"
   },
   "outputs": [
    {
     "data": {
      "text/plain": [
       "<function __main__.Triangle(a=2, t=2)>"
      ]
     },
     "execution_count": 12,
     "metadata": {},
     "output_type": "execute_result"
    }
   ],
   "source": [
    "def Triangle(a=2,t=2):\n",
    "    area = (a * t) / 2\n",
    "    print('The area of triangle is : ',area)\n",
    "\n",
    "Triangle"
   ]
  },
  {
   "cell_type": "code",
   "execution_count": 13,
   "metadata": {},
   "outputs": [
    {
     "name": "stdout",
     "output_type": "stream",
     "text": [
      "The area of triangle is :  2.0\n"
     ]
    }
   ],
   "source": [
    "Triangle()"
   ]
  },
  {
   "cell_type": "code",
   "execution_count": 14,
   "metadata": {
    "colab": {
     "base_uri": "https://localhost:8080/"
    },
    "id": "Lkl9KWcInVwD",
    "outputId": "9ba2ec5a-2f3b-4b29-f7d7-2d7f61863bff"
   },
   "outputs": [
    {
     "name": "stdout",
     "output_type": "stream",
     "text": [
      "The area of triangle is :  4.5\n"
     ]
    }
   ],
   "source": [
    "def Triangle(a=2,t=2):\n",
    "    area = (a * t) / 2\n",
    "    print('The area of triangle is : ',area)\n",
    "\n",
    "Triangle(3,3)"
   ]
  },
  {
   "cell_type": "markdown",
   "metadata": {},
   "source": [
    "#### Return Keyword"
   ]
  },
  {
   "cell_type": "code",
   "execution_count": 15,
   "metadata": {
    "id": "lEMPNR8tnVwE"
   },
   "outputs": [
    {
     "data": {
      "text/plain": [
       "<function __main__.Return()>"
      ]
     },
     "execution_count": 15,
     "metadata": {},
     "output_type": "execute_result"
    }
   ],
   "source": [
    "# Return Keyword\n",
    "\n",
    "def Return():\n",
    "    greet = 'Good Afternoon'\n",
    "    return greet\n",
    "\n",
    "Return"
   ]
  },
  {
   "cell_type": "code",
   "execution_count": 16,
   "metadata": {
    "colab": {
     "base_uri": "https://localhost:8080/",
     "height": 35
    },
    "id": "SxGK97tTnVwF",
    "outputId": "8a672338-2ca8-4f14-93cf-fdbacf5e6fb5"
   },
   "outputs": [
    {
     "data": {
      "text/plain": [
       "'Good Afternoon'"
      ]
     },
     "execution_count": 16,
     "metadata": {},
     "output_type": "execute_result"
    }
   ],
   "source": [
    "Return()"
   ]
  },
  {
   "cell_type": "code",
   "execution_count": 17,
   "metadata": {
    "colab": {
     "base_uri": "https://localhost:8080/",
     "height": 35
    },
    "id": "WKqFjLkjnVwF",
    "outputId": "351cfe5a-54e1-4874-f41f-a6892b40196f"
   },
   "outputs": [
    {
     "data": {
      "text/plain": [
       "'Hello'"
      ]
     },
     "execution_count": 17,
     "metadata": {},
     "output_type": "execute_result"
    }
   ],
   "source": [
    "# Return keyword, can end function\n",
    "\n",
    "def Tester():\n",
    "    greet = 'Hello'\n",
    "    return greet\n",
    "    print(greet)\n",
    "    \n",
    "Tester()"
   ]
  },
  {
   "cell_type": "code",
   "execution_count": 18,
   "metadata": {
    "colab": {
     "base_uri": "https://localhost:8080/"
    },
    "id": "86C57xMIcq9V",
    "outputId": "266e95b4-d79f-4f29-b3c6-6f65c13cdc71"
   },
   "outputs": [
    {
     "name": "stdout",
     "output_type": "stream",
     "text": [
      "2 2 2 8\n"
     ]
    }
   ],
   "source": [
    "# Multiple Return\n",
    "\n",
    "def Beam(l,w,h):\n",
    "  volume = l * w * h\n",
    "  output = (l,w,h,volume)\n",
    "  return output\n",
    "\n",
    "l,w,h,out = Beam(2,2,2)\n",
    "print(l,w,h,out)"
   ]
  },
  {
   "cell_type": "code",
   "execution_count": 19,
   "metadata": {
    "colab": {
     "base_uri": "https://localhost:8080/"
    },
    "id": "jH-89h2onVwG",
    "outputId": "7edad93f-9cdb-44de-98c0-05e2eafc80d9"
   },
   "outputs": [
    {
     "name": "stdout",
     "output_type": "stream",
     "text": [
      "1\n",
      "2\n",
      "[1, 2, 3]\n"
     ]
    }
   ],
   "source": [
    "# Unlimited Parameter\n",
    "\n",
    "def Unlimited(*args):\n",
    "    for i in args:\n",
    "        print(i)\n",
    "        \n",
    "Unlimited(1,'2',[1,2,3])"
   ]
  },
  {
   "cell_type": "code",
   "execution_count": 20,
   "metadata": {
    "colab": {
     "base_uri": "https://localhost:8080/"
    },
    "id": "2m2R2rnOnVwH",
    "outputId": "242c53c1-94a9-425f-9f94-83e625fd4d80"
   },
   "outputs": [
    {
     "name": "stdout",
     "output_type": "stream",
     "text": [
      "1\n",
      "2\n",
      "[1, 2, 3]\n",
      "True\n"
     ]
    }
   ],
   "source": [
    "def Unlimited(*args):\n",
    "    for i in args:\n",
    "        print(i)\n",
    "        \n",
    "Unlimited(1,'2',[1,2,3],True)"
   ]
  },
  {
   "cell_type": "code",
   "execution_count": 21,
   "metadata": {
    "colab": {
     "base_uri": "https://localhost:8080/"
    },
    "id": "9EYraoqvnVwI",
    "outputId": "f783982a-708c-40f6-9c10-35788b7470e7"
   },
   "outputs": [
    {
     "name": "stdout",
     "output_type": "stream",
     "text": [
      "a 1\n",
      "b True\n"
     ]
    }
   ],
   "source": [
    "# Keyword Parameter\n",
    "\n",
    "def Keyword(**kwargs):\n",
    "    for ind,val in kwargs.items():\n",
    "        print(ind,val)\n",
    "        \n",
    "Keyword(a=1,b=True)"
   ]
  },
  {
   "cell_type": "code",
   "execution_count": 22,
   "metadata": {
    "colab": {
     "base_uri": "https://localhost:8080/",
     "height": 112
    },
    "id": "yrgNRo0vfmqM",
    "outputId": "5ce71301-47b6-4ea7-e52c-4ff4276613e3"
   },
   "outputs": [
    {
     "data": {
      "text/html": [
       "<div>\n",
       "<style scoped>\n",
       "    .dataframe tbody tr th:only-of-type {\n",
       "        vertical-align: middle;\n",
       "    }\n",
       "\n",
       "    .dataframe tbody tr th {\n",
       "        vertical-align: top;\n",
       "    }\n",
       "\n",
       "    .dataframe thead th {\n",
       "        text-align: right;\n",
       "    }\n",
       "</style>\n",
       "<table border=\"1\" class=\"dataframe\">\n",
       "  <thead>\n",
       "    <tr style=\"text-align: right;\">\n",
       "      <th></th>\n",
       "      <th>lang</th>\n",
       "    </tr>\n",
       "  </thead>\n",
       "  <tbody>\n",
       "    <tr>\n",
       "      <th>0</th>\n",
       "      <td>en</td>\n",
       "    </tr>\n",
       "    <tr>\n",
       "      <th>1</th>\n",
       "      <td>en</td>\n",
       "    </tr>\n",
       "  </tbody>\n",
       "</table>\n",
       "</div>"
      ],
      "text/plain": [
       "  lang\n",
       "0   en\n",
       "1   en"
      ]
     },
     "execution_count": 22,
     "metadata": {},
     "output_type": "execute_result"
    }
   ],
   "source": [
    "import pandas as pd\n",
    "data = pd.read_csv('https://raw.githubusercontent.com/KurapikaZoldyck/KurapikaZoldyck/main/%23%20-%20Data/tweets.csv')\n",
    "data[['lang']].head(2)"
   ]
  },
  {
   "cell_type": "code",
   "execution_count": 23,
   "metadata": {
    "colab": {
     "base_uri": "https://localhost:8080/"
    },
    "id": "cYTlg9scf9y5",
    "outputId": "da67c77c-4fc8-400a-8a6f-cc220d3e102b"
   },
   "outputs": [
    {
     "data": {
      "text/plain": [
       "en     97\n",
       "und     2\n",
       "et      1\n",
       "Name: lang, dtype: int64"
      ]
     },
     "execution_count": 23,
     "metadata": {},
     "output_type": "execute_result"
    }
   ],
   "source": [
    "data['lang'].value_counts()"
   ]
  },
  {
   "cell_type": "code",
   "execution_count": 24,
   "metadata": {},
   "outputs": [
    {
     "name": "stdout",
     "output_type": "stream",
     "text": [
      "{'en': 97, 'et': 1, 'und': 2}\n"
     ]
    }
   ],
   "source": [
    "def Language(column):\n",
    "    langs_count = {}\n",
    "    \n",
    "    col = column\n",
    "    \n",
    "    for entry in col:\n",
    "        if entry in langs_count.keys():\n",
    "            langs_count[entry]+=1\n",
    "        else:\n",
    "            langs_count[entry]=1\n",
    "            \n",
    "    return langs_count\n",
    "\n",
    "print(Language(data['lang']))"
   ]
  },
  {
   "cell_type": "code",
   "execution_count": 25,
   "metadata": {},
   "outputs": [
    {
     "data": {
      "text/plain": [
       "'This is second function'"
      ]
     },
     "execution_count": 25,
     "metadata": {},
     "output_type": "execute_result"
    }
   ],
   "source": [
    "# Nested Function\n",
    "\n",
    "def Nested():\n",
    "    \n",
    "    def Nested2():\n",
    "        y = \"This is second function\"\n",
    "        return y\n",
    "    \n",
    "    return Nested2()\n",
    "\n",
    "Nested()"
   ]
  },
  {
   "cell_type": "code",
   "execution_count": 26,
   "metadata": {},
   "outputs": [
    {
     "data": {
      "text/plain": [
       "('FIRST', 'SECOND')"
      ]
     },
     "execution_count": 26,
     "metadata": {},
     "output_type": "execute_result"
    }
   ],
   "source": [
    "def Nested(word1,word2):\n",
    "    \n",
    "    def Secondary(word):\n",
    "        return word.upper()\n",
    "    \n",
    "    return Secondary(word1), Secondary(word2)\n",
    "\n",
    "Nested('First','Second')"
   ]
  },
  {
   "cell_type": "code",
   "execution_count": 30,
   "metadata": {},
   "outputs": [
    {
     "data": {
      "text/plain": [
       "<function __main__.Outside(n)>"
      ]
     },
     "execution_count": 30,
     "metadata": {},
     "output_type": "execute_result"
    }
   ],
   "source": [
    "def Outside(n):\n",
    "    \n",
    "    def Multiply(b):\n",
    "        return n * b\n",
    "    \n",
    "    return Multiply\n",
    "\n",
    "Outside"
   ]
  },
  {
   "cell_type": "code",
   "execution_count": 31,
   "metadata": {},
   "outputs": [
    {
     "data": {
      "text/plain": [
       "<function __main__.Outside.<locals>.Multiply(b)>"
      ]
     },
     "execution_count": 31,
     "metadata": {},
     "output_type": "execute_result"
    }
   ],
   "source": [
    "Outside(2)"
   ]
  },
  {
   "cell_type": "code",
   "execution_count": 28,
   "metadata": {},
   "outputs": [
    {
     "data": {
      "text/plain": [
       "<function __main__.Outside.<locals>.Multiply(b)>"
      ]
     },
     "execution_count": 28,
     "metadata": {},
     "output_type": "execute_result"
    }
   ],
   "source": [
    "two = Outside(2)\n",
    "two"
   ]
  },
  {
   "cell_type": "code",
   "execution_count": 29,
   "metadata": {},
   "outputs": [
    {
     "data": {
      "text/plain": [
       "6"
      ]
     },
     "execution_count": 29,
     "metadata": {},
     "output_type": "execute_result"
    }
   ],
   "source": [
    "two(3)"
   ]
  },
  {
   "cell_type": "code",
   "execution_count": 32,
   "metadata": {},
   "outputs": [
    {
     "name": "stdout",
     "output_type": "stream",
     "text": [
      "{'en': 97, 'et': 1, 'und': 2}\n",
      "{'<a href=\"http://twitter.com\" rel=\"nofollow\">Twitter Web Client</a>': 24, '<a href=\"http://www.facebook.com/twitter\" rel=\"nofollow\">Facebook</a>': 1, '<a href=\"http://twitter.com/download/android\" rel=\"nofollow\">Twitter for Android</a>': 26, '<a href=\"http://twitter.com/download/iphone\" rel=\"nofollow\">Twitter for iPhone</a>': 33, '<a href=\"http://www.twitter.com\" rel=\"nofollow\">Twitter for BlackBerry</a>': 2, '<a href=\"http://www.google.com/\" rel=\"nofollow\">Google</a>': 2, '<a href=\"http://twitter.com/#!/download/ipad\" rel=\"nofollow\">Twitter for iPad</a>': 6, '<a href=\"http://linkis.com\" rel=\"nofollow\">Linkis.com</a>': 2, '<a href=\"http://rutracker.org/forum/viewforum.php?f=93\" rel=\"nofollow\">newzlasz</a>': 2, '<a href=\"http://ifttt.com\" rel=\"nofollow\">IFTTT</a>': 1, '<a href=\"http://www.myplume.com/\" rel=\"nofollow\">Plume\\xa0for\\xa0Android</a>': 1}\n"
     ]
    }
   ],
   "source": [
    "def Language(dataframe,column='lang'):\n",
    "    langs_count = {}\n",
    "    \n",
    "    col = dataframe[column]\n",
    "    \n",
    "    for entry in col:\n",
    "        if entry in langs_count.keys():\n",
    "            langs_count[entry]+=1\n",
    "        else:\n",
    "            langs_count[entry]=1\n",
    "            \n",
    "    return langs_count\n",
    "\n",
    "print(Language(data))\n",
    "print(Language(data,'source'))"
   ]
  },
  {
   "cell_type": "markdown",
   "metadata": {},
   "source": [
    "A lambda function can take any number of arguments, but can only have one expression"
   ]
  },
  {
   "cell_type": "code",
   "execution_count": 33,
   "metadata": {},
   "outputs": [
    {
     "name": "stdout",
     "output_type": "stream",
     "text": [
      "15\n"
     ]
    }
   ],
   "source": [
    "x = lambda a : a + 10\n",
    "print(x(5))"
   ]
  },
  {
   "cell_type": "code",
   "execution_count": 34,
   "metadata": {},
   "outputs": [
    {
     "name": "stdout",
     "output_type": "stream",
     "text": [
      "30\n"
     ]
    }
   ],
   "source": [
    "x = lambda a, b : a * b\n",
    "print(x(5, 6))"
   ]
  },
  {
   "cell_type": "code",
   "execution_count": 35,
   "metadata": {},
   "outputs": [
    {
     "name": "stdout",
     "output_type": "stream",
     "text": [
      "8\n"
     ]
    }
   ],
   "source": [
    "beam = lambda l,w,h: l * w * h\n",
    "print(beam(2,2,2))"
   ]
  },
  {
   "cell_type": "code",
   "execution_count": 36,
   "metadata": {},
   "outputs": [
    {
     "data": {
      "text/plain": [
       "<function __main__.triangle(p)>"
      ]
     },
     "execution_count": 36,
     "metadata": {},
     "output_type": "execute_result"
    }
   ],
   "source": [
    "def triangle(p):\n",
    "    return lambda l : p * l\n",
    "\n",
    "triangle"
   ]
  },
  {
   "cell_type": "code",
   "execution_count": 37,
   "metadata": {},
   "outputs": [
    {
     "data": {
      "text/plain": [
       "<function __main__.triangle.<locals>.<lambda>(l)>"
      ]
     },
     "execution_count": 37,
     "metadata": {},
     "output_type": "execute_result"
    }
   ],
   "source": [
    "three = triangle(3)\n",
    "three"
   ]
  },
  {
   "cell_type": "code",
   "execution_count": 38,
   "metadata": {},
   "outputs": [
    {
     "data": {
      "text/plain": [
       "6"
      ]
     },
     "execution_count": 38,
     "metadata": {},
     "output_type": "execute_result"
    }
   ],
   "source": [
    "three(2)"
   ]
  },
  {
   "cell_type": "code",
   "execution_count": 39,
   "metadata": {},
   "outputs": [
    {
     "data": {
      "text/plain": [
       "4"
      ]
     },
     "execution_count": 39,
     "metadata": {},
     "output_type": "execute_result"
    }
   ],
   "source": [
    "rai = lambda n : n ** 2\n",
    "rai(2)"
   ]
  }
 ],
 "metadata": {
  "colab": {
   "name": "Function.ipynb",
   "provenance": []
  },
  "kernelspec": {
   "display_name": "Python 3",
   "language": "python",
   "name": "python3"
  },
  "language_info": {
   "codemirror_mode": {
    "name": "ipython",
    "version": 3
   },
   "file_extension": ".py",
   "mimetype": "text/x-python",
   "name": "python",
   "nbconvert_exporter": "python",
   "pygments_lexer": "ipython3",
   "version": "3.8.5"
  }
 },
 "nbformat": 4,
 "nbformat_minor": 1
}
