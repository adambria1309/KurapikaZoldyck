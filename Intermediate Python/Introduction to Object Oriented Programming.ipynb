{
  "nbformat": 4,
  "nbformat_minor": 0,
  "metadata": {
    "colab": {
      "name": "Introduction to Object Oriented Programming.ipynb",
      "provenance": [],
      "authorship_tag": "ABX9TyMqn9xQb+5ymRHN+IO2vKZ+",
      "include_colab_link": true
    },
    "kernelspec": {
      "name": "python3",
      "display_name": "Python 3"
    },
    "language_info": {
      "name": "python"
    }
  },
  "cells": [
    {
      "cell_type": "markdown",
      "metadata": {
        "id": "view-in-github",
        "colab_type": "text"
      },
      "source": [
        "<a href=\"https://colab.research.google.com/github/KurapikaZoldyck/KurapikaZoldyck/blob/main/Intermediate%20Python/Introduction%20to%20Object%20Oriented%20Programming.ipynb\" target=\"_parent\"><img src=\"https://colab.research.google.com/assets/colab-badge.svg\" alt=\"Open In Colab\"/></a>"
      ]
    },
    {
      "cell_type": "code",
      "metadata": {
        "id": "5HLaHDBu8ntr"
      },
      "source": [
        "class Employee:\n",
        "  pass"
      ],
      "execution_count": 1,
      "outputs": []
    },
    {
      "cell_type": "code",
      "metadata": {
        "colab": {
          "base_uri": "https://localhost:8080/"
        },
        "id": "C3garsgg80a2",
        "outputId": "42502db5-56e2-470f-b087-d3d89f49f260"
      },
      "source": [
        "class Employee:\n",
        "  print('Hii')"
      ],
      "execution_count": 2,
      "outputs": [
        {
          "output_type": "stream",
          "text": [
            "Hii\n"
          ],
          "name": "stdout"
        }
      ]
    },
    {
      "cell_type": "code",
      "metadata": {
        "id": "_W3FBFZQ85sP"
      },
      "source": [
        "class Employee:\n",
        "  name = 'David'"
      ],
      "execution_count": 3,
      "outputs": []
    },
    {
      "cell_type": "code",
      "metadata": {
        "colab": {
          "base_uri": "https://localhost:8080/"
        },
        "id": "t2oRFnZN8-DB",
        "outputId": "3858cfdb-9672-4ffe-ad89-c5ffa671be9a"
      },
      "source": [
        "Employee"
      ],
      "execution_count": 4,
      "outputs": [
        {
          "output_type": "execute_result",
          "data": {
            "text/plain": [
              "__main__.Employee"
            ]
          },
          "metadata": {
            "tags": []
          },
          "execution_count": 4
        }
      ]
    },
    {
      "cell_type": "code",
      "metadata": {
        "colab": {
          "base_uri": "https://localhost:8080/"
        },
        "id": "qJux_pvB9Bjb",
        "outputId": "e45ef4d4-3910-4f29-ecb1-a6cbf426714e"
      },
      "source": [
        "Employee()"
      ],
      "execution_count": 5,
      "outputs": [
        {
          "output_type": "execute_result",
          "data": {
            "text/plain": [
              "<__main__.Employee at 0x7fbcd9af0f90>"
            ]
          },
          "metadata": {
            "tags": []
          },
          "execution_count": 5
        }
      ]
    },
    {
      "cell_type": "code",
      "metadata": {
        "colab": {
          "base_uri": "https://localhost:8080/",
          "height": 34
        },
        "id": "m6onU0E_9DcO",
        "outputId": "97e05425-89b4-4579-c9a0-0554604bcb4b"
      },
      "source": [
        "Employee.name"
      ],
      "execution_count": 6,
      "outputs": [
        {
          "output_type": "execute_result",
          "data": {
            "application/vnd.google.colaboratory.intrinsic+json": {
              "type": "string"
            },
            "text/plain": [
              "'David'"
            ]
          },
          "metadata": {
            "tags": []
          },
          "execution_count": 6
        }
      ]
    },
    {
      "cell_type": "code",
      "metadata": {
        "colab": {
          "base_uri": "https://localhost:8080/",
          "height": 34
        },
        "id": "UIDbHuJc9FQZ",
        "outputId": "dc9eda0b-9d5f-438f-fa36-58de013a31b7"
      },
      "source": [
        "e = Employee\n",
        "e.name"
      ],
      "execution_count": 7,
      "outputs": [
        {
          "output_type": "execute_result",
          "data": {
            "application/vnd.google.colaboratory.intrinsic+json": {
              "type": "string"
            },
            "text/plain": [
              "'David'"
            ]
          },
          "metadata": {
            "tags": []
          },
          "execution_count": 7
        }
      ]
    },
    {
      "cell_type": "code",
      "metadata": {
        "colab": {
          "base_uri": "https://localhost:8080/"
        },
        "id": "ZrCAx9-H9I-V",
        "outputId": "b7dd5378-1b8b-4c6e-f7a7-8f6f4f09cde4"
      },
      "source": [
        "class Employee:\n",
        "  \n",
        "  def Function():\n",
        "    print('Alec Benjamin')\n",
        "\n",
        "e = Employee\n",
        "e.Function()"
      ],
      "execution_count": 8,
      "outputs": [
        {
          "output_type": "stream",
          "text": [
            "Alec Benjamin\n"
          ],
          "name": "stdout"
        }
      ]
    }
  ]
}