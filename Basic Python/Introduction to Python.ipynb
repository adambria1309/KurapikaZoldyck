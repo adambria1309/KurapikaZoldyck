{
  "nbformat": 4,
  "nbformat_minor": 0,
  "metadata": {
    "colab": {
      "name": "Introduction to Python.ipynb",
      "provenance": [],
      "authorship_tag": "ABX9TyOmG02fc24Hb2o/yYuEvGKF",
      "include_colab_link": true
    },
    "kernelspec": {
      "name": "python3",
      "display_name": "Python 3"
    },
    "language_info": {
      "name": "python"
    }
  },
  "cells": [
    {
      "cell_type": "markdown",
      "metadata": {
        "id": "view-in-github",
        "colab_type": "text"
      },
      "source": [
        "<a href=\"https://colab.research.google.com/github/KurapikaZoldyck/KurapikaZoldyck/blob/main/Basic%20Python/Introduction%20to%20Python.ipynb\" target=\"_parent\"><img src=\"https://colab.research.google.com/assets/colab-badge.svg\" alt=\"Open In Colab\"/></a>"
      ]
    },
    {
      "cell_type": "code",
      "metadata": {
        "colab": {
          "base_uri": "https://localhost:8080/"
        },
        "id": "DhZD3Kc0PG6i",
        "outputId": "5da194df-7c69-41d2-8d95-1588012c8860"
      },
      "source": [
        "print(\"Hello World\")"
      ],
      "execution_count": 1,
      "outputs": [
        {
          "output_type": "stream",
          "text": [
            "Hello World\n"
          ],
          "name": "stdout"
        }
      ]
    },
    {
      "cell_type": "code",
      "metadata": {
        "colab": {
          "base_uri": "https://localhost:8080/"
        },
        "id": "lCcMSo9dQazO",
        "outputId": "f7122392-1df9-4ef1-d7ff-eb082704cb9a"
      },
      "source": [
        "print(20)"
      ],
      "execution_count": 2,
      "outputs": [
        {
          "output_type": "stream",
          "text": [
            "20\n"
          ],
          "name": "stdout"
        }
      ]
    },
    {
      "cell_type": "code",
      "metadata": {
        "colab": {
          "base_uri": "https://localhost:8080/",
          "height": 34
        },
        "id": "5YqZwmd8Q9-U",
        "outputId": "61d4b49c-4f1d-41a4-98bc-e013d5c77af2"
      },
      "source": [
        "var_x = \"Variable\"\n",
        "var_x"
      ],
      "execution_count": 3,
      "outputs": [
        {
          "output_type": "execute_result",
          "data": {
            "application/vnd.google.colaboratory.intrinsic+json": {
              "type": "string"
            },
            "text/plain": [
              "'Variable'"
            ]
          },
          "metadata": {
            "tags": []
          },
          "execution_count": 3
        }
      ]
    },
    {
      "cell_type": "code",
      "metadata": {
        "colab": {
          "base_uri": "https://localhost:8080/"
        },
        "id": "AUz7GA3JRBP7",
        "outputId": "a31ffe1c-9121-4e9c-b151-bd70fdba9d87"
      },
      "source": [
        "print(var_x)"
      ],
      "execution_count": 4,
      "outputs": [
        {
          "output_type": "stream",
          "text": [
            "Variable\n"
          ],
          "name": "stdout"
        }
      ]
    },
    {
      "cell_type": "code",
      "metadata": {
        "colab": {
          "base_uri": "https://localhost:8080/"
        },
        "id": "6e1UlA9QT0Dm",
        "outputId": "44e34995-b22c-448a-976b-2711f8ce9cca"
      },
      "source": [
        "var_y = 10\n",
        "var_y"
      ],
      "execution_count": 5,
      "outputs": [
        {
          "output_type": "execute_result",
          "data": {
            "text/plain": [
              "10"
            ]
          },
          "metadata": {
            "tags": []
          },
          "execution_count": 5
        }
      ]
    },
    {
      "cell_type": "code",
      "metadata": {
        "colab": {
          "base_uri": "https://localhost:8080/"
        },
        "id": "gSdMb_rQUGuY",
        "outputId": "1719d13d-cf70-4063-e661-9988dd0fa9a0"
      },
      "source": [
        "var_z = 10.4\n",
        "var_z"
      ],
      "execution_count": 6,
      "outputs": [
        {
          "output_type": "execute_result",
          "data": {
            "text/plain": [
              "10.4"
            ]
          },
          "metadata": {
            "tags": []
          },
          "execution_count": 6
        }
      ]
    },
    {
      "cell_type": "code",
      "metadata": {
        "colab": {
          "base_uri": "https://localhost:8080/"
        },
        "id": "YfkDjbo6UXHm",
        "outputId": "910cb5a4-5ab8-4605-dc8b-7d97073915c3"
      },
      "source": [
        "a = \"Small\"\n",
        "A = 'Big'\n",
        "\n",
        "print(a)\n",
        "print(A)"
      ],
      "execution_count": 8,
      "outputs": [
        {
          "output_type": "stream",
          "text": [
            "Small\n",
            "Big\n"
          ],
          "name": "stdout"
        }
      ]
    },
    {
      "cell_type": "code",
      "metadata": {
        "colab": {
          "base_uri": "https://localhost:8080/"
        },
        "id": "FvndgqRIU6mT",
        "outputId": "d27a8c26-ce1c-402c-bb64-ae3864d8034b"
      },
      "source": [
        "# This is single-line comment\n",
        "print(\"See ?\")"
      ],
      "execution_count": 9,
      "outputs": [
        {
          "output_type": "stream",
          "text": [
            "See ?\n"
          ],
          "name": "stdout"
        }
      ]
    },
    {
      "cell_type": "code",
      "metadata": {
        "colab": {
          "base_uri": "https://localhost:8080/"
        },
        "id": "DHFC53WUVD6m",
        "outputId": "29b4f70a-2c1d-41ec-a9d9-08b1761e6e96"
      },
      "source": [
        "\"\"\"\n",
        "This\n",
        "is\n",
        "multiple\n",
        "line\n",
        "comment\n",
        "\"\"\"\n",
        "print(\"See ?\")"
      ],
      "execution_count": 10,
      "outputs": [
        {
          "output_type": "stream",
          "text": [
            "See ?\n"
          ],
          "name": "stdout"
        }
      ]
    },
    {
      "cell_type": "code",
      "metadata": {
        "colab": {
          "base_uri": "https://localhost:8080/"
        },
        "id": "pWEwUMS9aUiO",
        "outputId": "f15d6f63-dfb1-4b62-c35a-18307d306ee8"
      },
      "source": [
        "a = b = c = \"Alphabetic\"\n",
        "print(a,b,c)"
      ],
      "execution_count": 11,
      "outputs": [
        {
          "output_type": "stream",
          "text": [
            "Alphabetic Alphabetic Alphabetic\n"
          ],
          "name": "stdout"
        }
      ]
    },
    {
      "cell_type": "code",
      "metadata": {
        "colab": {
          "base_uri": "https://localhost:8080/"
        },
        "id": "M7dJt5sidLZw",
        "outputId": "78e311bf-75fb-423b-a6cb-17c0bd2079cf"
      },
      "source": [
        "a, b = \"Alpha\",\"Betic\"\n",
        "print(a)\n",
        "print(b)"
      ],
      "execution_count": 12,
      "outputs": [
        {
          "output_type": "stream",
          "text": [
            "Alpha\n",
            "Betic\n"
          ],
          "name": "stdout"
        }
      ]
    },
    {
      "cell_type": "code",
      "metadata": {
        "colab": {
          "base_uri": "https://localhost:8080/"
        },
        "id": "73Lsp6KYfTQ1",
        "outputId": "b026d2a5-10f1-4c1e-aec5-09f8c7d6da24"
      },
      "source": [
        "print(a+\"Betic\")"
      ],
      "execution_count": 13,
      "outputs": [
        {
          "output_type": "stream",
          "text": [
            "AlphaBetic\n"
          ],
          "name": "stdout"
        }
      ]
    },
    {
      "cell_type": "code",
      "metadata": {
        "colab": {
          "base_uri": "https://localhost:8080/"
        },
        "id": "83xwfpbYfXlN",
        "outputId": "77cb1654-bc5a-4340-c167-9324b14b23f7"
      },
      "source": [
        "print(a,\"Betic\")"
      ],
      "execution_count": 14,
      "outputs": [
        {
          "output_type": "stream",
          "text": [
            "Alpha Betic\n"
          ],
          "name": "stdout"
        }
      ]
    },
    {
      "cell_type": "code",
      "metadata": {
        "colab": {
          "base_uri": "https://localhost:8080/"
        },
        "id": "1dFSVPUafdZv",
        "outputId": "334ddd04-4b0b-4fd7-eb58-c7587fec3c21"
      },
      "source": [
        "n = 10\n",
        "\n",
        "try:\n",
        "  print(n+\"Ten\")\n",
        "except:\n",
        "  print(\"Unsupported operand between int and str\")"
      ],
      "execution_count": 16,
      "outputs": [
        {
          "output_type": "stream",
          "text": [
            "Unsupported operand between int and str\n"
          ],
          "name": "stdout"
        }
      ]
    }
  ]
}