{
  "nbformat": 4,
  "nbformat_minor": 0,
  "metadata": {
    "colab": {
      "name": "Introduction to Python.ipynb",
      "provenance": [],
      "authorship_tag": "ABX9TyMBG5+4tO6csfG8e+VMlWH+",
      "include_colab_link": true
    },
    "kernelspec": {
      "name": "python3",
      "display_name": "Python 3"
    },
    "language_info": {
      "name": "python"
    }
  },
  "cells": [
    {
      "cell_type": "markdown",
      "metadata": {
        "id": "view-in-github",
        "colab_type": "text"
      },
      "source": [
        "<a href=\"https://colab.research.google.com/github/KurapikaZoldyck/KurapikaZoldyck/blob/main/Basic%20Python/Introduction%20to%20Python.ipynb\" target=\"_parent\"><img src=\"https://colab.research.google.com/assets/colab-badge.svg\" alt=\"Open In Colab\"/></a>"
      ]
    },
    {
      "cell_type": "code",
      "metadata": {
        "colab": {
          "base_uri": "https://localhost:8080/"
        },
        "id": "DhZD3Kc0PG6i",
        "outputId": "25643594-df0e-4c31-d10a-54a05cb0b7d5"
      },
      "source": [
        "print(\"Hello World\")"
      ],
      "execution_count": 1,
      "outputs": [
        {
          "output_type": "stream",
          "text": [
            "Hello World\n"
          ],
          "name": "stdout"
        }
      ]
    },
    {
      "cell_type": "code",
      "metadata": {
        "colab": {
          "base_uri": "https://localhost:8080/"
        },
        "id": "lCcMSo9dQazO",
        "outputId": "93bd8a1f-f78c-4614-aa74-09966c5cbee5"
      },
      "source": [
        "print(20)"
      ],
      "execution_count": 2,
      "outputs": [
        {
          "output_type": "stream",
          "text": [
            "20\n"
          ],
          "name": "stdout"
        }
      ]
    },
    {
      "cell_type": "code",
      "metadata": {
        "colab": {
          "base_uri": "https://localhost:8080/",
          "height": 34
        },
        "id": "5YqZwmd8Q9-U",
        "outputId": "d9b4306f-ebc0-46e2-ba0b-3dd850cb017c"
      },
      "source": [
        "var_x = \"Variable\"\n",
        "var_x"
      ],
      "execution_count": 3,
      "outputs": [
        {
          "output_type": "execute_result",
          "data": {
            "application/vnd.google.colaboratory.intrinsic+json": {
              "type": "string"
            },
            "text/plain": [
              "'Variable'"
            ]
          },
          "metadata": {
            "tags": []
          },
          "execution_count": 3
        }
      ]
    },
    {
      "cell_type": "code",
      "metadata": {
        "colab": {
          "base_uri": "https://localhost:8080/"
        },
        "id": "AUz7GA3JRBP7",
        "outputId": "188768aa-07bd-41f0-8cd8-e279885581d3"
      },
      "source": [
        "print(var_x)"
      ],
      "execution_count": 4,
      "outputs": [
        {
          "output_type": "stream",
          "text": [
            "Variable\n"
          ],
          "name": "stdout"
        }
      ]
    },
    {
      "cell_type": "code",
      "metadata": {
        "colab": {
          "base_uri": "https://localhost:8080/"
        },
        "id": "6e1UlA9QT0Dm",
        "outputId": "da6f7bfc-67ce-4ca4-b2a8-8b1d09aed4bd"
      },
      "source": [
        "var_y = 10\n",
        "var_y"
      ],
      "execution_count": 5,
      "outputs": [
        {
          "output_type": "execute_result",
          "data": {
            "text/plain": [
              "10"
            ]
          },
          "metadata": {
            "tags": []
          },
          "execution_count": 5
        }
      ]
    },
    {
      "cell_type": "code",
      "metadata": {
        "colab": {
          "base_uri": "https://localhost:8080/"
        },
        "id": "gSdMb_rQUGuY",
        "outputId": "0813f04e-ab33-4dea-e90b-7651ed3fcd8c"
      },
      "source": [
        "var_z = 10.4\n",
        "var_z"
      ],
      "execution_count": 6,
      "outputs": [
        {
          "output_type": "execute_result",
          "data": {
            "text/plain": [
              "10.4"
            ]
          },
          "metadata": {
            "tags": []
          },
          "execution_count": 6
        }
      ]
    },
    {
      "cell_type": "code",
      "metadata": {
        "colab": {
          "base_uri": "https://localhost:8080/"
        },
        "id": "YfkDjbo6UXHm",
        "outputId": "68818c7d-0194-41f2-e9b0-0ed46963fa31"
      },
      "source": [
        "a = \"Small\"\n",
        "A = 'Big'\n",
        "\n",
        "print(a)\n",
        "print(A)"
      ],
      "execution_count": 7,
      "outputs": [
        {
          "output_type": "stream",
          "text": [
            "Small\n",
            "Big\n"
          ],
          "name": "stdout"
        }
      ]
    },
    {
      "cell_type": "code",
      "metadata": {
        "colab": {
          "base_uri": "https://localhost:8080/"
        },
        "id": "FvndgqRIU6mT",
        "outputId": "ac184f6e-f60a-4628-b3bf-eea84aeda5fb"
      },
      "source": [
        "# This is single-line comment\n",
        "print(\"See ?\")"
      ],
      "execution_count": 8,
      "outputs": [
        {
          "output_type": "stream",
          "text": [
            "See ?\n"
          ],
          "name": "stdout"
        }
      ]
    },
    {
      "cell_type": "code",
      "metadata": {
        "colab": {
          "base_uri": "https://localhost:8080/"
        },
        "id": "DHFC53WUVD6m",
        "outputId": "044cb6f5-7988-47a9-ccc8-96728b25e118"
      },
      "source": [
        "\"\"\"\n",
        "This\n",
        "is\n",
        "multiple\n",
        "line\n",
        "comment\n",
        "\"\"\"\n",
        "print(\"See ?\")"
      ],
      "execution_count": 9,
      "outputs": [
        {
          "output_type": "stream",
          "text": [
            "See ?\n"
          ],
          "name": "stdout"
        }
      ]
    },
    {
      "cell_type": "code",
      "metadata": {
        "colab": {
          "base_uri": "https://localhost:8080/"
        },
        "id": "pWEwUMS9aUiO",
        "outputId": "9e8eaafc-3f14-4850-d446-7d133051ba79"
      },
      "source": [
        "a = b = c = \"Alphabetic\"\n",
        "print(a,b,c)"
      ],
      "execution_count": 10,
      "outputs": [
        {
          "output_type": "stream",
          "text": [
            "Alphabetic Alphabetic Alphabetic\n"
          ],
          "name": "stdout"
        }
      ]
    },
    {
      "cell_type": "code",
      "metadata": {
        "colab": {
          "base_uri": "https://localhost:8080/"
        },
        "id": "M7dJt5sidLZw",
        "outputId": "d84f5e65-b7bd-40ef-c7b1-8d333803f80c"
      },
      "source": [
        "a, b = \"Alpha\",\"Betic\"\n",
        "print(a)\n",
        "print(b)"
      ],
      "execution_count": 11,
      "outputs": [
        {
          "output_type": "stream",
          "text": [
            "Alpha\n",
            "Betic\n"
          ],
          "name": "stdout"
        }
      ]
    },
    {
      "cell_type": "code",
      "metadata": {
        "colab": {
          "base_uri": "https://localhost:8080/"
        },
        "id": "73Lsp6KYfTQ1",
        "outputId": "65202c34-0603-48ef-c164-fa5a4195d440"
      },
      "source": [
        "print(a+\"Betic\")"
      ],
      "execution_count": 12,
      "outputs": [
        {
          "output_type": "stream",
          "text": [
            "AlphaBetic\n"
          ],
          "name": "stdout"
        }
      ]
    },
    {
      "cell_type": "code",
      "metadata": {
        "colab": {
          "base_uri": "https://localhost:8080/"
        },
        "id": "83xwfpbYfXlN",
        "outputId": "c70847d7-2370-4398-8837-2eaa6d0ae6d2"
      },
      "source": [
        "print(a,\"Betic\")"
      ],
      "execution_count": 13,
      "outputs": [
        {
          "output_type": "stream",
          "text": [
            "Alpha Betic\n"
          ],
          "name": "stdout"
        }
      ]
    },
    {
      "cell_type": "code",
      "metadata": {
        "colab": {
          "base_uri": "https://localhost:8080/"
        },
        "id": "1dFSVPUafdZv",
        "outputId": "6601c991-60f4-486a-d1fe-b821f9e83f6a"
      },
      "source": [
        "n = 10\n",
        "\n",
        "try:\n",
        "  print(n+\"Ten\")\n",
        "except:\n",
        "  print(\"Unsupported operand between int and str\")"
      ],
      "execution_count": 14,
      "outputs": [
        {
          "output_type": "stream",
          "text": [
            "Unsupported operand between int and str\n"
          ],
          "name": "stdout"
        }
      ]
    },
    {
      "cell_type": "code",
      "metadata": {
        "id": "Dk6a512OT0c3",
        "outputId": "9683fe29-a987-4bc2-ead5-5307a601c5ff",
        "colab": {
          "base_uri": "https://localhost:8080/"
        }
      },
      "source": [
        "print(n,\"Ten\")"
      ],
      "execution_count": 15,
      "outputs": [
        {
          "output_type": "stream",
          "text": [
            "10 Ten\n"
          ],
          "name": "stdout"
        }
      ]
    },
    {
      "cell_type": "markdown",
      "metadata": {
        "id": "ky9LJ6nDa4sY"
      },
      "source": [
        "# Danger : Variable Scope"
      ]
    },
    {
      "cell_type": "code",
      "metadata": {
        "id": "XCJ7pt-cUT4t",
        "outputId": "d51dd970-643c-4b4b-a20a-afeb1a10012f",
        "colab": {
          "base_uri": "https://localhost:8080/"
        }
      },
      "source": [
        "glo = \"Global Variable\"\n",
        "\n",
        "def Test():\n",
        "  print(glo)\n",
        "\n",
        "Test()"
      ],
      "execution_count": 21,
      "outputs": [
        {
          "output_type": "stream",
          "text": [
            "Global Variable\n"
          ],
          "name": "stdout"
        }
      ]
    },
    {
      "cell_type": "code",
      "metadata": {
        "id": "GKhS6hXvUpwX",
        "outputId": "d7002875-4610-414e-e44b-84c77107b7cc",
        "colab": {
          "base_uri": "https://localhost:8080/"
        }
      },
      "source": [
        "def Tester():\n",
        "  local = \"Local\"\n",
        "  print(local)\n",
        "\n",
        "Tester()\n",
        "try:\n",
        "  print(local)\n",
        "except:\n",
        "  print(\"This variable is a local variable, You can't access it\")"
      ],
      "execution_count": 24,
      "outputs": [
        {
          "output_type": "stream",
          "text": [
            "Local\n",
            "This variable is a local variable, You can't access it\n"
          ],
          "name": "stdout"
        }
      ]
    },
    {
      "cell_type": "code",
      "metadata": {
        "id": "w2yd-oXpVXo7",
        "outputId": "aadada28-d731-4ea3-beb3-76cd756a5f1e",
        "colab": {
          "base_uri": "https://localhost:8080/"
        }
      },
      "source": [
        "glo = \"Global Variable\"\n",
        "\n",
        "def Test():\n",
        "  glo = \"Global Function Variable\"\n",
        "  print(glo)\n",
        "\n",
        "Test()\n",
        "print(glo)"
      ],
      "execution_count": 25,
      "outputs": [
        {
          "output_type": "stream",
          "text": [
            "Global Function Variable\n",
            "Global Variable\n"
          ],
          "name": "stdout"
        }
      ]
    },
    {
      "cell_type": "code",
      "metadata": {
        "id": "OIYEK4VFZGSZ",
        "outputId": "4b3dc30f-b1f8-455b-b552-450be1f2d4cf",
        "colab": {
          "base_uri": "https://localhost:8080/"
        }
      },
      "source": [
        "glo = \"Global Variable\"\n",
        "\n",
        "def Test():\n",
        "  global glo\n",
        "  glo = \"Global Function Variable\"\n",
        "  print(glo)\n",
        "\n",
        "print(\"Before : \"+glo)\n",
        "Test()\n",
        "print(\"After : \"+glo)"
      ],
      "execution_count": 28,
      "outputs": [
        {
          "output_type": "stream",
          "text": [
            "Before : Global Variable\n",
            "Global Function Variable\n",
            "After : Global Function Variable\n"
          ],
          "name": "stdout"
        }
      ]
    },
    {
      "cell_type": "code",
      "metadata": {
        "id": "lbJ6heOEZ0Ur",
        "outputId": "cfde74e1-3370-435c-e9f9-b2b50f910753",
        "colab": {
          "base_uri": "https://localhost:8080/"
        }
      },
      "source": [
        "def Tester():\n",
        "  global local\n",
        "  local = \"Local Variable\"\n",
        "  print(local)\n",
        "\n",
        "Tester()\n",
        "try:\n",
        "  print(\"Outside Tester : \" + local)\n",
        "except:\n",
        "  print(\"This variable is a local variable, You can't access it\")"
      ],
      "execution_count": 30,
      "outputs": [
        {
          "output_type": "stream",
          "text": [
            "Local Variable\n",
            "Outside Tester : Local Variable\n"
          ],
          "name": "stdout"
        }
      ]
    }
  ]
}