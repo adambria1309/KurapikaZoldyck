{
  "nbformat": 4,
  "nbformat_minor": 0,
  "metadata": {
    "kernelspec": {
      "display_name": "Python 3",
      "language": "python",
      "name": "python3"
    },
    "language_info": {
      "codemirror_mode": {
        "name": "ipython",
        "version": 3
      },
      "file_extension": ".py",
      "mimetype": "text/x-python",
      "name": "python",
      "nbconvert_exporter": "python",
      "pygments_lexer": "ipython3",
      "version": "3.8.5"
    },
    "colab": {
      "name": "Introduction to Tensorflow.ipynb",
      "provenance": []
    }
  },
  "cells": [
    {
      "cell_type": "markdown",
      "metadata": {
        "id": "170SVQ_qsnF8"
      },
      "source": [
        "# Opening"
      ]
    },
    {
      "cell_type": "code",
      "metadata": {
        "id": "ufz0wVzPYAmQ"
      },
      "source": [
        "import tensorflow as tf"
      ],
      "execution_count": null,
      "outputs": []
    },
    {
      "cell_type": "code",
      "metadata": {
        "colab": {
          "base_uri": "https://localhost:8080/"
        },
        "id": "xOUYMtXEYNX2",
        "outputId": "9e61ba91-a58b-47d5-c686-097485c12bf4"
      },
      "source": [
        "tf.__version__"
      ],
      "execution_count": null,
      "outputs": [
        {
          "output_type": "execute_result",
          "data": {
            "application/vnd.google.colaboratory.intrinsic+json": {
              "type": "string"
            },
            "text/plain": [
              "'2.5.0'"
            ]
          },
          "metadata": {
            "tags": []
          },
          "execution_count": 2
        }
      ]
    },
    {
      "cell_type": "markdown",
      "metadata": {
        "id": "PsoQ5xvXYSQ3"
      },
      "source": [
        "# Tensorflow Constant"
      ]
    },
    {
      "cell_type": "code",
      "metadata": {
        "colab": {
          "base_uri": "https://localhost:8080/"
        },
        "id": "m0bn0jbiYP3l",
        "outputId": "f71771da-4a47-4866-ac96-675648872feb"
      },
      "source": [
        "c0 = tf.constant(1)\n",
        "c0"
      ],
      "execution_count": null,
      "outputs": [
        {
          "output_type": "execute_result",
          "data": {
            "text/plain": [
              "<tf.Tensor: shape=(), dtype=int32, numpy=1>"
            ]
          },
          "metadata": {
            "tags": []
          },
          "execution_count": 3
        }
      ]
    },
    {
      "cell_type": "code",
      "metadata": {
        "colab": {
          "base_uri": "https://localhost:8080/"
        },
        "id": "r8dAx3pJbIIQ",
        "outputId": "9c8ec70d-d5d9-40b5-8176-4b9e4aacddda"
      },
      "source": [
        "c1 = tf.constant([1,1])\n",
        "c1"
      ],
      "execution_count": null,
      "outputs": [
        {
          "output_type": "execute_result",
          "data": {
            "text/plain": [
              "<tf.Tensor: shape=(2,), dtype=int32, numpy=array([1, 1], dtype=int32)>"
            ]
          },
          "metadata": {
            "tags": []
          },
          "execution_count": 4
        }
      ]
    },
    {
      "cell_type": "code",
      "metadata": {
        "colab": {
          "base_uri": "https://localhost:8080/"
        },
        "id": "I1RehHWFbOUC",
        "outputId": "796221a6-2505-4718-87ed-8a7e57927089"
      },
      "source": [
        "c2 = tf.constant([[1,2],[3,4]])\n",
        "c2"
      ],
      "execution_count": null,
      "outputs": [
        {
          "output_type": "execute_result",
          "data": {
            "text/plain": [
              "<tf.Tensor: shape=(2, 2), dtype=int32, numpy=\n",
              "array([[1, 2],\n",
              "       [3, 4]], dtype=int32)>"
            ]
          },
          "metadata": {
            "tags": []
          },
          "execution_count": 5
        }
      ]
    },
    {
      "cell_type": "code",
      "metadata": {
        "colab": {
          "base_uri": "https://localhost:8080/"
        },
        "id": "x-oGZTM6bWlH",
        "outputId": "9f9a06c8-39d2-4e61-b49f-a49778a59160"
      },
      "source": [
        "c3 = tf.constant([\n",
        "                  [[1,2],[3,4],[5,6]],\n",
        "                  [[6,5],[4,3],[2,1]]\n",
        "                  ])\n",
        "c3"
      ],
      "execution_count": null,
      "outputs": [
        {
          "output_type": "execute_result",
          "data": {
            "text/plain": [
              "<tf.Tensor: shape=(2, 3, 2), dtype=int32, numpy=\n",
              "array([[[1, 2],\n",
              "        [3, 4],\n",
              "        [5, 6]],\n",
              "\n",
              "       [[6, 5],\n",
              "        [4, 3],\n",
              "        [2, 1]]], dtype=int32)>"
            ]
          },
          "metadata": {
            "tags": []
          },
          "execution_count": 6
        }
      ]
    },
    {
      "cell_type": "code",
      "metadata": {
        "colab": {
          "base_uri": "https://localhost:8080/"
        },
        "id": "Y5wt9PrXdOGd",
        "outputId": "5225ea92-97e0-4dc7-eefb-7b257ac192de"
      },
      "source": [
        "c4 = tf.constant(2, shape=())\n",
        "c4"
      ],
      "execution_count": null,
      "outputs": [
        {
          "output_type": "execute_result",
          "data": {
            "text/plain": [
              "<tf.Tensor: shape=(), dtype=int32, numpy=2>"
            ]
          },
          "metadata": {
            "tags": []
          },
          "execution_count": 7
        }
      ]
    },
    {
      "cell_type": "code",
      "metadata": {
        "colab": {
          "base_uri": "https://localhost:8080/"
        },
        "id": "ztvjzzW9dXSI",
        "outputId": "82890053-ea93-4b5c-d6e3-fb6af2d953eb"
      },
      "source": [
        "c5 = tf.constant(2, shape=(2,))\n",
        "c5"
      ],
      "execution_count": null,
      "outputs": [
        {
          "output_type": "execute_result",
          "data": {
            "text/plain": [
              "<tf.Tensor: shape=(2,), dtype=int32, numpy=array([2, 2], dtype=int32)>"
            ]
          },
          "metadata": {
            "tags": []
          },
          "execution_count": 8
        }
      ]
    },
    {
      "cell_type": "code",
      "metadata": {
        "colab": {
          "base_uri": "https://localhost:8080/"
        },
        "id": "bzUTOI9Wdayv",
        "outputId": "37fc8a4d-57c2-44a6-d831-3fa1ee69661a"
      },
      "source": [
        "c6 = tf.constant(2, shape=(2,2))\n",
        "c6"
      ],
      "execution_count": null,
      "outputs": [
        {
          "output_type": "execute_result",
          "data": {
            "text/plain": [
              "<tf.Tensor: shape=(2, 2), dtype=int32, numpy=\n",
              "array([[2, 2],\n",
              "       [2, 2]], dtype=int32)>"
            ]
          },
          "metadata": {
            "tags": []
          },
          "execution_count": 9
        }
      ]
    },
    {
      "cell_type": "code",
      "metadata": {
        "colab": {
          "base_uri": "https://localhost:8080/"
        },
        "id": "yoj88W6qdiZc",
        "outputId": "d1dbc4f7-a455-4eab-a86e-72234cf91c3f"
      },
      "source": [
        "c7 = tf.constant(2, shape=(2,2,2))\n",
        "c7"
      ],
      "execution_count": null,
      "outputs": [
        {
          "output_type": "execute_result",
          "data": {
            "text/plain": [
              "<tf.Tensor: shape=(2, 2, 2), dtype=int32, numpy=\n",
              "array([[[2, 2],\n",
              "        [2, 2]],\n",
              "\n",
              "       [[2, 2],\n",
              "        [2, 2]]], dtype=int32)>"
            ]
          },
          "metadata": {
            "tags": []
          },
          "execution_count": 10
        }
      ]
    },
    {
      "cell_type": "code",
      "metadata": {
        "colab": {
          "base_uri": "https://localhost:8080/"
        },
        "id": "3o2vEgVkd0Zk",
        "outputId": "6ab8a48d-55c3-4ce8-a495-1eee2e41ab15"
      },
      "source": [
        "c8 = tf.constant(2, shape=(2,2,2), dtype=tf.float16)\n",
        "c8"
      ],
      "execution_count": null,
      "outputs": [
        {
          "output_type": "execute_result",
          "data": {
            "text/plain": [
              "<tf.Tensor: shape=(2, 2, 2), dtype=float16, numpy=\n",
              "array([[[2., 2.],\n",
              "        [2., 2.]],\n",
              "\n",
              "       [[2., 2.],\n",
              "        [2., 2.]]], dtype=float16)>"
            ]
          },
          "metadata": {
            "tags": []
          },
          "execution_count": 11
        }
      ]
    },
    {
      "cell_type": "code",
      "metadata": {
        "colab": {
          "base_uri": "https://localhost:8080/"
        },
        "id": "ys1TTQfeeZOk",
        "outputId": "48de75d7-5f5f-4c1c-81ed-75d84b461b05"
      },
      "source": [
        "c3[0]"
      ],
      "execution_count": null,
      "outputs": [
        {
          "output_type": "execute_result",
          "data": {
            "text/plain": [
              "<tf.Tensor: shape=(3, 2), dtype=int32, numpy=\n",
              "array([[1, 2],\n",
              "       [3, 4],\n",
              "       [5, 6]], dtype=int32)>"
            ]
          },
          "metadata": {
            "tags": []
          },
          "execution_count": 12
        }
      ]
    },
    {
      "cell_type": "code",
      "metadata": {
        "colab": {
          "base_uri": "https://localhost:8080/"
        },
        "id": "ltgZlinQenwl",
        "outputId": "f90dd486-a530-49b3-d181-7820e860cce4"
      },
      "source": [
        "c3[0][0]"
      ],
      "execution_count": null,
      "outputs": [
        {
          "output_type": "execute_result",
          "data": {
            "text/plain": [
              "<tf.Tensor: shape=(2,), dtype=int32, numpy=array([1, 2], dtype=int32)>"
            ]
          },
          "metadata": {
            "tags": []
          },
          "execution_count": 13
        }
      ]
    },
    {
      "cell_type": "code",
      "metadata": {
        "colab": {
          "base_uri": "https://localhost:8080/"
        },
        "id": "nYDlLXddeuQv",
        "outputId": "a28d0455-1176-4447-8ae3-c0a6c5acc216"
      },
      "source": [
        "c3[0][0][0]"
      ],
      "execution_count": null,
      "outputs": [
        {
          "output_type": "execute_result",
          "data": {
            "text/plain": [
              "<tf.Tensor: shape=(), dtype=int32, numpy=1>"
            ]
          },
          "metadata": {
            "tags": []
          },
          "execution_count": 14
        }
      ]
    },
    {
      "cell_type": "code",
      "metadata": {
        "colab": {
          "base_uri": "https://localhost:8080/"
        },
        "id": "CETl16Cue4co",
        "outputId": "0c7ca784-7771-43d1-f683-3917f9905c73"
      },
      "source": [
        "c3.shape"
      ],
      "execution_count": null,
      "outputs": [
        {
          "output_type": "execute_result",
          "data": {
            "text/plain": [
              "TensorShape([2, 3, 2])"
            ]
          },
          "metadata": {
            "tags": []
          },
          "execution_count": 15
        }
      ]
    },
    {
      "cell_type": "code",
      "metadata": {
        "colab": {
          "base_uri": "https://localhost:8080/"
        },
        "id": "9HRllqx7e7z3",
        "outputId": "33292b36-c98b-411b-b972-6a4fb06ed873"
      },
      "source": [
        "c3.get_shape()"
      ],
      "execution_count": null,
      "outputs": [
        {
          "output_type": "execute_result",
          "data": {
            "text/plain": [
              "TensorShape([2, 3, 2])"
            ]
          },
          "metadata": {
            "tags": []
          },
          "execution_count": 16
        }
      ]
    },
    {
      "cell_type": "code",
      "metadata": {
        "colab": {
          "base_uri": "https://localhost:8080/"
        },
        "id": "dph3Tkx4e6gU",
        "outputId": "5f49a56e-0dcc-42b4-f7c9-c6ef13f5f273"
      },
      "source": [
        "c3.ndim"
      ],
      "execution_count": null,
      "outputs": [
        {
          "output_type": "execute_result",
          "data": {
            "text/plain": [
              "3"
            ]
          },
          "metadata": {
            "tags": []
          },
          "execution_count": 17
        }
      ]
    },
    {
      "cell_type": "markdown",
      "metadata": {
        "id": "k0eh1hK_YkPm"
      },
      "source": [
        "# Tensorflow Variable"
      ]
    },
    {
      "cell_type": "code",
      "metadata": {
        "colab": {
          "base_uri": "https://localhost:8080/"
        },
        "id": "jRc9LDueZbf1",
        "outputId": "d8abd93f-86ce-4b3d-bf4d-12ea87a73785"
      },
      "source": [
        "v0 = tf.Variable(1)\n",
        "v0"
      ],
      "execution_count": null,
      "outputs": [
        {
          "output_type": "execute_result",
          "data": {
            "text/plain": [
              "<tf.Variable 'Variable:0' shape=() dtype=int32, numpy=1>"
            ]
          },
          "metadata": {
            "tags": []
          },
          "execution_count": 18
        }
      ]
    },
    {
      "cell_type": "code",
      "metadata": {
        "colab": {
          "base_uri": "https://localhost:8080/"
        },
        "id": "KVuXss5TfqX9",
        "outputId": "7be4181b-3a81-44bb-b5e8-35109d5d3a59"
      },
      "source": [
        "v1 = tf.Variable([1,1])\n",
        "v1"
      ],
      "execution_count": null,
      "outputs": [
        {
          "output_type": "execute_result",
          "data": {
            "text/plain": [
              "<tf.Variable 'Variable:0' shape=(2,) dtype=int32, numpy=array([1, 1], dtype=int32)>"
            ]
          },
          "metadata": {
            "tags": []
          },
          "execution_count": 19
        }
      ]
    },
    {
      "cell_type": "code",
      "metadata": {
        "colab": {
          "base_uri": "https://localhost:8080/"
        },
        "id": "7Jktqdykft5I",
        "outputId": "06b311e0-b5e2-4f71-987d-166ee8324d90"
      },
      "source": [
        "v2 = tf.Variable([[1,2],[3,4]])\n",
        "v2"
      ],
      "execution_count": null,
      "outputs": [
        {
          "output_type": "execute_result",
          "data": {
            "text/plain": [
              "<tf.Variable 'Variable:0' shape=(2, 2) dtype=int32, numpy=\n",
              "array([[1, 2],\n",
              "       [3, 4]], dtype=int32)>"
            ]
          },
          "metadata": {
            "tags": []
          },
          "execution_count": 20
        }
      ]
    },
    {
      "cell_type": "code",
      "metadata": {
        "colab": {
          "base_uri": "https://localhost:8080/"
        },
        "id": "591FUlI2fylO",
        "outputId": "097e45c2-3690-46a7-b29a-c929926c7139"
      },
      "source": [
        "v3 = tf.Variable([\n",
        "                  [[1,2],[3,4]],\n",
        "                  [[5,6],[7,8]]\n",
        "                  ])\n",
        "v3"
      ],
      "execution_count": null,
      "outputs": [
        {
          "output_type": "execute_result",
          "data": {
            "text/plain": [
              "<tf.Variable 'Variable:0' shape=(2, 2, 2) dtype=int32, numpy=\n",
              "array([[[1, 2],\n",
              "        [3, 4]],\n",
              "\n",
              "       [[5, 6],\n",
              "        [7, 8]]], dtype=int32)>"
            ]
          },
          "metadata": {
            "tags": []
          },
          "execution_count": 21
        }
      ]
    },
    {
      "cell_type": "code",
      "metadata": {
        "colab": {
          "base_uri": "https://localhost:8080/"
        },
        "id": "-zqpamXwgBM8",
        "outputId": "6e8d14be-18cb-4eea-e521-a80e979a6f44"
      },
      "source": [
        "v3[0]"
      ],
      "execution_count": null,
      "outputs": [
        {
          "output_type": "execute_result",
          "data": {
            "text/plain": [
              "<tf.Tensor: shape=(2, 2), dtype=int32, numpy=\n",
              "array([[1, 2],\n",
              "       [3, 4]], dtype=int32)>"
            ]
          },
          "metadata": {
            "tags": []
          },
          "execution_count": 22
        }
      ]
    },
    {
      "cell_type": "code",
      "metadata": {
        "colab": {
          "base_uri": "https://localhost:8080/"
        },
        "id": "NFr1iutKg1Mv",
        "outputId": "d9d820d5-8879-40e4-88ba-28eaec0fc6a8"
      },
      "source": [
        "v3[0][0]"
      ],
      "execution_count": null,
      "outputs": [
        {
          "output_type": "execute_result",
          "data": {
            "text/plain": [
              "<tf.Tensor: shape=(2,), dtype=int32, numpy=array([1, 2], dtype=int32)>"
            ]
          },
          "metadata": {
            "tags": []
          },
          "execution_count": 23
        }
      ]
    },
    {
      "cell_type": "code",
      "metadata": {
        "colab": {
          "base_uri": "https://localhost:8080/"
        },
        "id": "eyeCsiGpg3S-",
        "outputId": "13f5ad41-2786-4206-a0a3-04ea8305a54b"
      },
      "source": [
        "v3[0][0][0]"
      ],
      "execution_count": null,
      "outputs": [
        {
          "output_type": "execute_result",
          "data": {
            "text/plain": [
              "<tf.Tensor: shape=(), dtype=int32, numpy=1>"
            ]
          },
          "metadata": {
            "tags": []
          },
          "execution_count": 24
        }
      ]
    },
    {
      "cell_type": "code",
      "metadata": {
        "colab": {
          "base_uri": "https://localhost:8080/"
        },
        "id": "GMhDSmqYhhba",
        "outputId": "495f8c07-d52d-4093-96c1-2f1b137a3a2b"
      },
      "source": [
        "v3.shape"
      ],
      "execution_count": null,
      "outputs": [
        {
          "output_type": "execute_result",
          "data": {
            "text/plain": [
              "TensorShape([2, 2, 2])"
            ]
          },
          "metadata": {
            "tags": []
          },
          "execution_count": 25
        }
      ]
    },
    {
      "cell_type": "code",
      "metadata": {
        "colab": {
          "base_uri": "https://localhost:8080/"
        },
        "id": "qd-xhowshkQd",
        "outputId": "57d15c4f-cfb3-4d7f-dcf8-3d8ba4fadabf"
      },
      "source": [
        "v3.get_shape()"
      ],
      "execution_count": null,
      "outputs": [
        {
          "output_type": "execute_result",
          "data": {
            "text/plain": [
              "TensorShape([2, 2, 2])"
            ]
          },
          "metadata": {
            "tags": []
          },
          "execution_count": 26
        }
      ]
    },
    {
      "cell_type": "code",
      "metadata": {
        "colab": {
          "base_uri": "https://localhost:8080/"
        },
        "id": "z6dgTJIThnmR",
        "outputId": "f03c8692-8e00-4e7a-8472-87cf6752c190"
      },
      "source": [
        "v3.dtype"
      ],
      "execution_count": null,
      "outputs": [
        {
          "output_type": "execute_result",
          "data": {
            "text/plain": [
              "tf.int32"
            ]
          },
          "metadata": {
            "tags": []
          },
          "execution_count": 27
        }
      ]
    },
    {
      "cell_type": "code",
      "metadata": {
        "id": "D8AjnCqx-o5Q",
        "colab": {
          "base_uri": "https://localhost:8080/"
        },
        "outputId": "731ac416-9be2-4deb-a44a-e64c9b716930"
      },
      "source": [
        "try:\n",
        "  print(v3.size)\n",
        "except:\n",
        "  print(\"Size is not useful\")"
      ],
      "execution_count": null,
      "outputs": [
        {
          "output_type": "stream",
          "text": [
            "Size is not useful\n"
          ],
          "name": "stdout"
        }
      ]
    },
    {
      "cell_type": "code",
      "metadata": {
        "id": "_bTHAYid-hVq",
        "colab": {
          "base_uri": "https://localhost:8080/"
        },
        "outputId": "25496c41-8bda-438d-df5f-ec660768635d"
      },
      "source": [
        "tf.size(v3)"
      ],
      "execution_count": null,
      "outputs": [
        {
          "output_type": "execute_result",
          "data": {
            "text/plain": [
              "<tf.Tensor: shape=(), dtype=int32, numpy=8>"
            ]
          },
          "metadata": {
            "tags": []
          },
          "execution_count": 29
        }
      ]
    },
    {
      "cell_type": "code",
      "metadata": {
        "id": "J0SrorSJ-lBF",
        "colab": {
          "base_uri": "https://localhost:8080/"
        },
        "outputId": "6b39a8cd-713c-4d64-d96e-c0506f99144b"
      },
      "source": [
        "tf.size(v3).numpy()"
      ],
      "execution_count": null,
      "outputs": [
        {
          "output_type": "execute_result",
          "data": {
            "text/plain": [
              "8"
            ]
          },
          "metadata": {
            "tags": []
          },
          "execution_count": 30
        }
      ]
    },
    {
      "cell_type": "code",
      "metadata": {
        "id": "4ua-13t6_2AN",
        "colab": {
          "base_uri": "https://localhost:8080/"
        },
        "outputId": "d81eeee5-ce08-4164-bf18-45361a94476e"
      },
      "source": [
        "test = np.arange(1,121)\n",
        "\n",
        "cons = tf.constant(test,shape=(2,3,4,5))\n",
        "cons"
      ],
      "execution_count": null,
      "outputs": [
        {
          "output_type": "execute_result",
          "data": {
            "text/plain": [
              "<tf.Tensor: shape=(2, 3, 4, 5), dtype=int64, numpy=\n",
              "array([[[[  1,   2,   3,   4,   5],\n",
              "         [  6,   7,   8,   9,  10],\n",
              "         [ 11,  12,  13,  14,  15],\n",
              "         [ 16,  17,  18,  19,  20]],\n",
              "\n",
              "        [[ 21,  22,  23,  24,  25],\n",
              "         [ 26,  27,  28,  29,  30],\n",
              "         [ 31,  32,  33,  34,  35],\n",
              "         [ 36,  37,  38,  39,  40]],\n",
              "\n",
              "        [[ 41,  42,  43,  44,  45],\n",
              "         [ 46,  47,  48,  49,  50],\n",
              "         [ 51,  52,  53,  54,  55],\n",
              "         [ 56,  57,  58,  59,  60]]],\n",
              "\n",
              "\n",
              "       [[[ 61,  62,  63,  64,  65],\n",
              "         [ 66,  67,  68,  69,  70],\n",
              "         [ 71,  72,  73,  74,  75],\n",
              "         [ 76,  77,  78,  79,  80]],\n",
              "\n",
              "        [[ 81,  82,  83,  84,  85],\n",
              "         [ 86,  87,  88,  89,  90],\n",
              "         [ 91,  92,  93,  94,  95],\n",
              "         [ 96,  97,  98,  99, 100]],\n",
              "\n",
              "        [[101, 102, 103, 104, 105],\n",
              "         [106, 107, 108, 109, 110],\n",
              "         [111, 112, 113, 114, 115],\n",
              "         [116, 117, 118, 119, 120]]]])>"
            ]
          },
          "metadata": {
            "tags": []
          },
          "execution_count": 50
        }
      ]
    },
    {
      "cell_type": "code",
      "metadata": {
        "id": "-cpfcU3AASBm",
        "colab": {
          "base_uri": "https://localhost:8080/"
        },
        "outputId": "67e8e15d-7860-4cab-a1d5-5bad406da648"
      },
      "source": [
        "cons[:1]"
      ],
      "execution_count": null,
      "outputs": [
        {
          "output_type": "execute_result",
          "data": {
            "text/plain": [
              "<tf.Tensor: shape=(1, 3, 4, 5), dtype=int64, numpy=\n",
              "array([[[[ 1,  2,  3,  4,  5],\n",
              "         [ 6,  7,  8,  9, 10],\n",
              "         [11, 12, 13, 14, 15],\n",
              "         [16, 17, 18, 19, 20]],\n",
              "\n",
              "        [[21, 22, 23, 24, 25],\n",
              "         [26, 27, 28, 29, 30],\n",
              "         [31, 32, 33, 34, 35],\n",
              "         [36, 37, 38, 39, 40]],\n",
              "\n",
              "        [[41, 42, 43, 44, 45],\n",
              "         [46, 47, 48, 49, 50],\n",
              "         [51, 52, 53, 54, 55],\n",
              "         [56, 57, 58, 59, 60]]]])>"
            ]
          },
          "metadata": {
            "tags": []
          },
          "execution_count": 55
        }
      ]
    },
    {
      "cell_type": "code",
      "metadata": {
        "id": "wb1kuEgBACtV",
        "colab": {
          "base_uri": "https://localhost:8080/"
        },
        "outputId": "b50e68eb-f483-4337-cfe2-4b33d7ff957a"
      },
      "source": [
        "cons[:2, :2]"
      ],
      "execution_count": null,
      "outputs": [
        {
          "output_type": "execute_result",
          "data": {
            "text/plain": [
              "<tf.Tensor: shape=(2, 2, 4, 5), dtype=int64, numpy=\n",
              "array([[[[  1,   2,   3,   4,   5],\n",
              "         [  6,   7,   8,   9,  10],\n",
              "         [ 11,  12,  13,  14,  15],\n",
              "         [ 16,  17,  18,  19,  20]],\n",
              "\n",
              "        [[ 21,  22,  23,  24,  25],\n",
              "         [ 26,  27,  28,  29,  30],\n",
              "         [ 31,  32,  33,  34,  35],\n",
              "         [ 36,  37,  38,  39,  40]]],\n",
              "\n",
              "\n",
              "       [[[ 61,  62,  63,  64,  65],\n",
              "         [ 66,  67,  68,  69,  70],\n",
              "         [ 71,  72,  73,  74,  75],\n",
              "         [ 76,  77,  78,  79,  80]],\n",
              "\n",
              "        [[ 81,  82,  83,  84,  85],\n",
              "         [ 86,  87,  88,  89,  90],\n",
              "         [ 91,  92,  93,  94,  95],\n",
              "         [ 96,  97,  98,  99, 100]]]])>"
            ]
          },
          "metadata": {
            "tags": []
          },
          "execution_count": 52
        }
      ]
    },
    {
      "cell_type": "code",
      "metadata": {
        "id": "ybAykWEaANB3",
        "colab": {
          "base_uri": "https://localhost:8080/"
        },
        "outputId": "500411c3-3ba1-4f3e-b0c4-ea4e77c9c148"
      },
      "source": [
        "cons[:2, :2, :2]"
      ],
      "execution_count": null,
      "outputs": [
        {
          "output_type": "execute_result",
          "data": {
            "text/plain": [
              "<tf.Tensor: shape=(2, 2, 2, 5), dtype=int64, numpy=\n",
              "array([[[[ 1,  2,  3,  4,  5],\n",
              "         [ 6,  7,  8,  9, 10]],\n",
              "\n",
              "        [[21, 22, 23, 24, 25],\n",
              "         [26, 27, 28, 29, 30]]],\n",
              "\n",
              "\n",
              "       [[[61, 62, 63, 64, 65],\n",
              "         [66, 67, 68, 69, 70]],\n",
              "\n",
              "        [[81, 82, 83, 84, 85],\n",
              "         [86, 87, 88, 89, 90]]]])>"
            ]
          },
          "metadata": {
            "tags": []
          },
          "execution_count": 53
        }
      ]
    },
    {
      "cell_type": "code",
      "metadata": {
        "id": "xvl3VA3dAPUm",
        "colab": {
          "base_uri": "https://localhost:8080/"
        },
        "outputId": "581af212-194d-4ca8-f54b-30bc6e2e5270"
      },
      "source": [
        "cons[:2, :2, :2, :2]"
      ],
      "execution_count": null,
      "outputs": [
        {
          "output_type": "execute_result",
          "data": {
            "text/plain": [
              "<tf.Tensor: shape=(2, 2, 2, 2), dtype=int64, numpy=\n",
              "array([[[[ 1,  2],\n",
              "         [ 6,  7]],\n",
              "\n",
              "        [[21, 22],\n",
              "         [26, 27]]],\n",
              "\n",
              "\n",
              "       [[[61, 62],\n",
              "         [66, 67]],\n",
              "\n",
              "        [[81, 82],\n",
              "         [86, 87]]]])>"
            ]
          },
          "metadata": {
            "tags": []
          },
          "execution_count": 54
        }
      ]
    },
    {
      "cell_type": "markdown",
      "metadata": {
        "id": "O-dBT26-ZK_r"
      },
      "source": [
        "# Tensorflow Constant vs Tensorflow Variable"
      ]
    },
    {
      "cell_type": "code",
      "metadata": {
        "id": "eai3H3koZZUs"
      },
      "source": [
        "t1 = tf.constant(1)\n",
        "t2 = tf.Variable(1)"
      ],
      "execution_count": null,
      "outputs": []
    },
    {
      "cell_type": "code",
      "metadata": {
        "colab": {
          "base_uri": "https://localhost:8080/"
        },
        "id": "j-563UE9iCp2",
        "outputId": "5b17db38-0898-460c-fd51-815c3c29653f"
      },
      "source": [
        "try:\n",
        "  t1.assign(2)\n",
        "  print(t1)\n",
        "except:\n",
        "  print(\"Error\")"
      ],
      "execution_count": null,
      "outputs": [
        {
          "output_type": "stream",
          "text": [
            "Error\n"
          ],
          "name": "stdout"
        }
      ]
    },
    {
      "cell_type": "code",
      "metadata": {
        "colab": {
          "base_uri": "https://localhost:8080/"
        },
        "id": "0M03DRrBiIFj",
        "outputId": "a133c3b8-5e9c-40e0-a3d1-03e6ed469e8d"
      },
      "source": [
        "try:\n",
        "  t2.assign(2)\n",
        "  print(t2)\n",
        "except:\n",
        "  print(\"Error\")"
      ],
      "execution_count": null,
      "outputs": [
        {
          "output_type": "stream",
          "text": [
            "<tf.Variable 'Variable:0' shape=() dtype=int32, numpy=2>\n"
          ],
          "name": "stdout"
        }
      ]
    },
    {
      "cell_type": "markdown",
      "metadata": {
        "id": "XFQ4KYr0ZWGQ"
      },
      "source": [
        "# Random And Shuffle Tensor"
      ]
    },
    {
      "cell_type": "code",
      "metadata": {
        "colab": {
          "base_uri": "https://localhost:8080/"
        },
        "id": "F62f3yebZdlR",
        "outputId": "57c1f0c2-b788-41dc-fcb5-96eab8972159"
      },
      "source": [
        "ran1 = tf.random.Generator.from_seed(42)\n",
        "ran1 = ran1.normal(shape=(2,2))\n",
        "ran1"
      ],
      "execution_count": null,
      "outputs": [
        {
          "output_type": "execute_result",
          "data": {
            "text/plain": [
              "<tf.Tensor: shape=(2, 2), dtype=float32, numpy=\n",
              "array([[-0.7565803 , -0.06854702],\n",
              "       [ 0.07595026, -1.2573844 ]], dtype=float32)>"
            ]
          },
          "metadata": {
            "tags": []
          },
          "execution_count": 34
        }
      ]
    },
    {
      "cell_type": "code",
      "metadata": {
        "colab": {
          "base_uri": "https://localhost:8080/"
        },
        "id": "MTo5u694ZqE1",
        "outputId": "48228d6a-45e5-4120-8c6c-c197d9eb6e57"
      },
      "source": [
        "ran2 = tf.random.Generator.from_seed(42)\n",
        "ran2 = ran2.normal(shape=(2,2))\n",
        "ran2"
      ],
      "execution_count": null,
      "outputs": [
        {
          "output_type": "execute_result",
          "data": {
            "text/plain": [
              "<tf.Tensor: shape=(2, 2), dtype=float32, numpy=\n",
              "array([[-0.7565803 , -0.06854702],\n",
              "       [ 0.07595026, -1.2573844 ]], dtype=float32)>"
            ]
          },
          "metadata": {
            "tags": []
          },
          "execution_count": 35
        }
      ]
    },
    {
      "cell_type": "code",
      "metadata": {
        "colab": {
          "base_uri": "https://localhost:8080/"
        },
        "id": "aLFoOxjrqUzy",
        "outputId": "51018232-a9b1-48ce-acaa-63fd03097030"
      },
      "source": [
        "ran1 == ran2"
      ],
      "execution_count": null,
      "outputs": [
        {
          "output_type": "execute_result",
          "data": {
            "text/plain": [
              "<tf.Tensor: shape=(2, 2), dtype=bool, numpy=\n",
              "array([[ True,  True],\n",
              "       [ True,  True]])>"
            ]
          },
          "metadata": {
            "tags": []
          },
          "execution_count": 36
        }
      ]
    },
    {
      "cell_type": "code",
      "metadata": {
        "colab": {
          "base_uri": "https://localhost:8080/"
        },
        "id": "My3fhzvbqX_z",
        "outputId": "2ef30d31-c03c-4a42-be04-7ac4fc84ecf6"
      },
      "source": [
        "tf.random.normal(shape=(2,2))"
      ],
      "execution_count": null,
      "outputs": [
        {
          "output_type": "execute_result",
          "data": {
            "text/plain": [
              "<tf.Tensor: shape=(2, 2), dtype=float32, numpy=\n",
              "array([[ 0.8003555 , -0.40393865],\n",
              "       [-0.27906767,  1.0251801 ]], dtype=float32)>"
            ]
          },
          "metadata": {
            "tags": []
          },
          "execution_count": 37
        }
      ]
    },
    {
      "cell_type": "code",
      "metadata": {
        "colab": {
          "base_uri": "https://localhost:8080/"
        },
        "id": "4aIAauoZsX5M",
        "outputId": "d525a62d-e0ae-4a8a-e99e-f5e5f00b87dd"
      },
      "source": [
        "co1 = tf.constant([[10,2],[30,4],[33,4],[50,5]])\n",
        "co1"
      ],
      "execution_count": null,
      "outputs": [
        {
          "output_type": "execute_result",
          "data": {
            "text/plain": [
              "<tf.Tensor: shape=(4, 2), dtype=int32, numpy=\n",
              "array([[10,  2],\n",
              "       [30,  4],\n",
              "       [33,  4],\n",
              "       [50,  5]], dtype=int32)>"
            ]
          },
          "metadata": {
            "tags": []
          },
          "execution_count": 38
        }
      ]
    },
    {
      "cell_type": "code",
      "metadata": {
        "colab": {
          "base_uri": "https://localhost:8080/"
        },
        "id": "sm5XQKMksaOa",
        "outputId": "c7e87c79-7d1d-4308-9ac9-b24e8cdfcf49"
      },
      "source": [
        "co2 = tf.random.shuffle(co1)\n",
        "co2"
      ],
      "execution_count": null,
      "outputs": [
        {
          "output_type": "execute_result",
          "data": {
            "text/plain": [
              "<tf.Tensor: shape=(4, 2), dtype=int32, numpy=\n",
              "array([[10,  2],\n",
              "       [50,  5],\n",
              "       [33,  4],\n",
              "       [30,  4]], dtype=int32)>"
            ]
          },
          "metadata": {
            "tags": []
          },
          "execution_count": 39
        }
      ]
    },
    {
      "cell_type": "code",
      "metadata": {
        "colab": {
          "base_uri": "https://localhost:8080/"
        },
        "id": "LipfVDyZsa16",
        "outputId": "2ecd330e-03e6-46bc-d904-bab3d8fcd8c4"
      },
      "source": [
        "co3 = tf.random.shuffle(co1)\n",
        "co3"
      ],
      "execution_count": null,
      "outputs": [
        {
          "output_type": "execute_result",
          "data": {
            "text/plain": [
              "<tf.Tensor: shape=(4, 2), dtype=int32, numpy=\n",
              "array([[30,  4],\n",
              "       [33,  4],\n",
              "       [50,  5],\n",
              "       [10,  2]], dtype=int32)>"
            ]
          },
          "metadata": {
            "tags": []
          },
          "execution_count": 40
        }
      ]
    },
    {
      "cell_type": "code",
      "metadata": {
        "colab": {
          "base_uri": "https://localhost:8080/"
        },
        "id": "cAqDZuSssbBM",
        "outputId": "99b434f1-3a17-4edc-b2ae-7c95b01c44ad"
      },
      "source": [
        "tf.random.set_seed(42)\n",
        "co4 = tf.random.shuffle(co1)\n",
        "co4"
      ],
      "execution_count": null,
      "outputs": [
        {
          "output_type": "execute_result",
          "data": {
            "text/plain": [
              "<tf.Tensor: shape=(4, 2), dtype=int32, numpy=\n",
              "array([[50,  5],\n",
              "       [10,  2],\n",
              "       [30,  4],\n",
              "       [33,  4]], dtype=int32)>"
            ]
          },
          "metadata": {
            "tags": []
          },
          "execution_count": 41
        }
      ]
    },
    {
      "cell_type": "code",
      "metadata": {
        "colab": {
          "base_uri": "https://localhost:8080/"
        },
        "id": "ramL-guZsiJl",
        "outputId": "9440e66e-1f4d-4625-c403-2d35577769c6"
      },
      "source": [
        "tf.random.set_seed(42)\n",
        "co5 = tf.random.shuffle(co1)\n",
        "co5"
      ],
      "execution_count": null,
      "outputs": [
        {
          "output_type": "execute_result",
          "data": {
            "text/plain": [
              "<tf.Tensor: shape=(4, 2), dtype=int32, numpy=\n",
              "array([[50,  5],\n",
              "       [10,  2],\n",
              "       [30,  4],\n",
              "       [33,  4]], dtype=int32)>"
            ]
          },
          "metadata": {
            "tags": []
          },
          "execution_count": 42
        }
      ]
    },
    {
      "cell_type": "markdown",
      "metadata": {
        "id": "PNajhk5H6NHJ"
      },
      "source": [
        "# Others"
      ]
    },
    {
      "cell_type": "code",
      "metadata": {
        "colab": {
          "base_uri": "https://localhost:8080/"
        },
        "id": "6ZetjmQr6PGL",
        "outputId": "afc6f65f-7c9b-4846-c802-b213ad9570eb"
      },
      "source": [
        "tf.ones([2,2])"
      ],
      "execution_count": null,
      "outputs": [
        {
          "output_type": "execute_result",
          "data": {
            "text/plain": [
              "<tf.Tensor: shape=(2, 2), dtype=float32, numpy=\n",
              "array([[1., 1.],\n",
              "       [1., 1.]], dtype=float32)>"
            ]
          },
          "metadata": {
            "tags": []
          },
          "execution_count": 43
        }
      ]
    },
    {
      "cell_type": "code",
      "metadata": {
        "colab": {
          "base_uri": "https://localhost:8080/"
        },
        "id": "qpyXg1By6YtR",
        "outputId": "7b9cc5ba-cb13-4369-a2b2-e2ff51ce863e"
      },
      "source": [
        "tf.zeros([2,2],dtype=tf.int16)"
      ],
      "execution_count": null,
      "outputs": [
        {
          "output_type": "execute_result",
          "data": {
            "text/plain": [
              "<tf.Tensor: shape=(2, 2), dtype=int16, numpy=\n",
              "array([[0, 0],\n",
              "       [0, 0]], dtype=int16)>"
            ]
          },
          "metadata": {
            "tags": []
          },
          "execution_count": 44
        }
      ]
    },
    {
      "cell_type": "code",
      "metadata": {
        "colab": {
          "base_uri": "https://localhost:8080/"
        },
        "id": "kYCo9zN_6yKO",
        "outputId": "c2cb8771-2507-4a4d-883a-1a7a094a3a14"
      },
      "source": [
        "import numpy as np\n",
        "a = np.arange(1,5)\n",
        "a"
      ],
      "execution_count": null,
      "outputs": [
        {
          "output_type": "execute_result",
          "data": {
            "text/plain": [
              "array([1, 2, 3, 4])"
            ]
          },
          "metadata": {
            "tags": []
          },
          "execution_count": 45
        }
      ]
    },
    {
      "cell_type": "code",
      "metadata": {
        "colab": {
          "base_uri": "https://localhost:8080/"
        },
        "id": "c9BuplNR60Bp",
        "outputId": "69bc8280-9698-49ff-a11a-84623cd15771"
      },
      "source": [
        "tf.constant(a)"
      ],
      "execution_count": null,
      "outputs": [
        {
          "output_type": "execute_result",
          "data": {
            "text/plain": [
              "<tf.Tensor: shape=(4,), dtype=int64, numpy=array([1, 2, 3, 4])>"
            ]
          },
          "metadata": {
            "tags": []
          },
          "execution_count": 46
        }
      ]
    },
    {
      "cell_type": "code",
      "metadata": {
        "colab": {
          "base_uri": "https://localhost:8080/"
        },
        "id": "ow2OIDM86-fl",
        "outputId": "23d3dc47-ba9c-447d-a798-af09c6369614"
      },
      "source": [
        "tf.constant(a,shape=(2,2))"
      ],
      "execution_count": null,
      "outputs": [
        {
          "output_type": "execute_result",
          "data": {
            "text/plain": [
              "<tf.Tensor: shape=(2, 2), dtype=int64, numpy=\n",
              "array([[1, 2],\n",
              "       [3, 4]])>"
            ]
          },
          "metadata": {
            "tags": []
          },
          "execution_count": 47
        }
      ]
    },
    {
      "cell_type": "code",
      "metadata": {
        "colab": {
          "base_uri": "https://localhost:8080/"
        },
        "id": "2_h8ClyA7YPO",
        "outputId": "fe720013-4f69-4eda-d174-693c7c53e2ed"
      },
      "source": [
        "b = np.arange(1,9)\n",
        "b"
      ],
      "execution_count": null,
      "outputs": [
        {
          "output_type": "execute_result",
          "data": {
            "text/plain": [
              "array([1, 2, 3, 4, 5, 6, 7, 8])"
            ]
          },
          "metadata": {
            "tags": []
          },
          "execution_count": 48
        }
      ]
    },
    {
      "cell_type": "code",
      "metadata": {
        "colab": {
          "base_uri": "https://localhost:8080/"
        },
        "id": "ayWp__487abq",
        "outputId": "1f2cb646-88cc-4366-87f9-cf5a6b1fb84d"
      },
      "source": [
        "try:\n",
        "  tf.constant(b,shape=(2,2))\n",
        "except:\n",
        "  print(\"Unmatched shape of transformation matrices\")\n",
        "  print(2*2,\"doesn't equal to\",8)"
      ],
      "execution_count": null,
      "outputs": [
        {
          "output_type": "stream",
          "text": [
            "Unmatched shape of transformation matrices\n",
            "4 doesn't equal to 8\n"
          ],
          "name": "stdout"
        }
      ]
    },
    {
      "cell_type": "markdown",
      "metadata": {
        "id": "HP_TkJuSO4Q9"
      },
      "source": [
        "# Tensorflow Arithmethic"
      ]
    },
    {
      "cell_type": "markdown",
      "metadata": {
        "id": "uxNZ3IR93UXd"
      },
      "source": [
        "n1 cols = n2rows"
      ]
    },
    {
      "cell_type": "code",
      "metadata": {
        "id": "BOmslw2RO8sm",
        "colab": {
          "base_uri": "https://localhost:8080/"
        },
        "outputId": "33151b26-f408-4dfc-9530-486a4bf8ec5b"
      },
      "source": [
        "import tensorflow as tf\n",
        "\n",
        "a = tf.constant([[1,2],[3,4]])\n",
        "a + 10"
      ],
      "execution_count": null,
      "outputs": [
        {
          "output_type": "execute_result",
          "data": {
            "text/plain": [
              "<tf.Tensor: shape=(2, 2), dtype=int32, numpy=\n",
              "array([[11, 12],\n",
              "       [13, 14]], dtype=int32)>"
            ]
          },
          "metadata": {
            "tags": []
          },
          "execution_count": 1
        }
      ]
    },
    {
      "cell_type": "code",
      "metadata": {
        "id": "NtcNaMJhT8A8",
        "colab": {
          "base_uri": "https://localhost:8080/"
        },
        "outputId": "939d3842-1641-4dc6-c5c8-bdc166dda8d8"
      },
      "source": [
        "a * 5"
      ],
      "execution_count": null,
      "outputs": [
        {
          "output_type": "execute_result",
          "data": {
            "text/plain": [
              "<tf.Tensor: shape=(2, 2), dtype=int32, numpy=\n",
              "array([[ 5, 10],\n",
              "       [15, 20]], dtype=int32)>"
            ]
          },
          "metadata": {
            "tags": []
          },
          "execution_count": 2
        }
      ]
    },
    {
      "cell_type": "code",
      "metadata": {
        "id": "8V45Xh5LU4_x",
        "colab": {
          "base_uri": "https://localhost:8080/"
        },
        "outputId": "c2afc604-bc0d-4c36-ad28-310eed0a86e4"
      },
      "source": [
        "a - 5"
      ],
      "execution_count": null,
      "outputs": [
        {
          "output_type": "execute_result",
          "data": {
            "text/plain": [
              "<tf.Tensor: shape=(2, 2), dtype=int32, numpy=\n",
              "array([[-4, -3],\n",
              "       [-2, -1]], dtype=int32)>"
            ]
          },
          "metadata": {
            "tags": []
          },
          "execution_count": 3
        }
      ]
    },
    {
      "cell_type": "code",
      "metadata": {
        "id": "H4xli5J2WNEK"
      },
      "source": [
        "b = tf.constant([[1,2],[3,4]])"
      ],
      "execution_count": null,
      "outputs": []
    },
    {
      "cell_type": "code",
      "metadata": {
        "id": "PaU0H2eLWc88",
        "colab": {
          "base_uri": "https://localhost:8080/"
        },
        "outputId": "53328f68-c9c0-45a1-f90b-80305457c0ba"
      },
      "source": [
        "tf.add(a,b)"
      ],
      "execution_count": null,
      "outputs": [
        {
          "output_type": "execute_result",
          "data": {
            "text/plain": [
              "<tf.Tensor: shape=(2, 2), dtype=int32, numpy=\n",
              "array([[2, 4],\n",
              "       [6, 8]], dtype=int32)>"
            ]
          },
          "metadata": {
            "tags": []
          },
          "execution_count": 5
        }
      ]
    },
    {
      "cell_type": "code",
      "metadata": {
        "id": "flOy2G4qY5TM",
        "colab": {
          "base_uri": "https://localhost:8080/"
        },
        "outputId": "d32220b5-fba1-43b1-ac10-d8e9739ebf84"
      },
      "source": [
        "tf.subtract(b,a)"
      ],
      "execution_count": null,
      "outputs": [
        {
          "output_type": "execute_result",
          "data": {
            "text/plain": [
              "<tf.Tensor: shape=(2, 2), dtype=int32, numpy=\n",
              "array([[0, 0],\n",
              "       [0, 0]], dtype=int32)>"
            ]
          },
          "metadata": {
            "tags": []
          },
          "execution_count": 6
        }
      ]
    },
    {
      "cell_type": "code",
      "metadata": {
        "id": "13M1sl2CeDfD",
        "colab": {
          "base_uri": "https://localhost:8080/"
        },
        "outputId": "6edc71e9-fa4e-45d3-a6ec-47373ae96d3f"
      },
      "source": [
        "tf.multiply(a,b)"
      ],
      "execution_count": null,
      "outputs": [
        {
          "output_type": "execute_result",
          "data": {
            "text/plain": [
              "<tf.Tensor: shape=(2, 2), dtype=int32, numpy=\n",
              "array([[ 1,  4],\n",
              "       [ 9, 16]], dtype=int32)>"
            ]
          },
          "metadata": {
            "tags": []
          },
          "execution_count": 7
        }
      ]
    },
    {
      "cell_type": "code",
      "metadata": {
        "id": "Y7obFQw8fRfb",
        "colab": {
          "base_uri": "https://localhost:8080/"
        },
        "outputId": "1959253f-521d-4d90-dd75-d455f7721df4"
      },
      "source": [
        "a * b"
      ],
      "execution_count": null,
      "outputs": [
        {
          "output_type": "execute_result",
          "data": {
            "text/plain": [
              "<tf.Tensor: shape=(2, 2), dtype=int32, numpy=\n",
              "array([[ 1,  4],\n",
              "       [ 9, 16]], dtype=int32)>"
            ]
          },
          "metadata": {
            "tags": []
          },
          "execution_count": 8
        }
      ]
    },
    {
      "cell_type": "code",
      "metadata": {
        "id": "9dQBI0kweIgR",
        "colab": {
          "base_uri": "https://localhost:8080/"
        },
        "outputId": "ed6456cd-2453-4dcc-a297-c0db507c36d0"
      },
      "source": [
        "c = tf.constant([[1],[2]])\n",
        "c"
      ],
      "execution_count": null,
      "outputs": [
        {
          "output_type": "execute_result",
          "data": {
            "text/plain": [
              "<tf.Tensor: shape=(2, 1), dtype=int32, numpy=\n",
              "array([[1],\n",
              "       [2]], dtype=int32)>"
            ]
          },
          "metadata": {
            "tags": []
          },
          "execution_count": 9
        }
      ]
    },
    {
      "cell_type": "code",
      "metadata": {
        "id": "Cnp5Wy5MeV_8",
        "colab": {
          "base_uri": "https://localhost:8080/"
        },
        "outputId": "3064d3b4-2d7d-4adf-ac03-a36bad47792a"
      },
      "source": [
        "tf.matmul(a,c)"
      ],
      "execution_count": null,
      "outputs": [
        {
          "output_type": "execute_result",
          "data": {
            "text/plain": [
              "<tf.Tensor: shape=(2, 1), dtype=int32, numpy=\n",
              "array([[ 5],\n",
              "       [11]], dtype=int32)>"
            ]
          },
          "metadata": {
            "tags": []
          },
          "execution_count": 10
        }
      ]
    },
    {
      "cell_type": "code",
      "metadata": {
        "id": "Wx0u5Rqve0zS",
        "colab": {
          "base_uri": "https://localhost:8080/"
        },
        "outputId": "00e28c41-6bbf-4c26-9ecc-2bd4da88809f"
      },
      "source": [
        "tf.matmul(a,b)"
      ],
      "execution_count": null,
      "outputs": [
        {
          "output_type": "execute_result",
          "data": {
            "text/plain": [
              "<tf.Tensor: shape=(2, 2), dtype=int32, numpy=\n",
              "array([[ 7, 10],\n",
              "       [15, 22]], dtype=int32)>"
            ]
          },
          "metadata": {
            "tags": []
          },
          "execution_count": 11
        }
      ]
    },
    {
      "cell_type": "code",
      "metadata": {
        "id": "6uZAFrxQfS5x",
        "colab": {
          "base_uri": "https://localhost:8080/"
        },
        "outputId": "b59a093a-9bb0-4fec-e7e0-2143b697fca4"
      },
      "source": [
        "a @ b"
      ],
      "execution_count": null,
      "outputs": [
        {
          "output_type": "execute_result",
          "data": {
            "text/plain": [
              "<tf.Tensor: shape=(2, 2), dtype=int32, numpy=\n",
              "array([[ 7, 10],\n",
              "       [15, 22]], dtype=int32)>"
            ]
          },
          "metadata": {
            "tags": []
          },
          "execution_count": 12
        }
      ]
    },
    {
      "cell_type": "code",
      "metadata": {
        "id": "ZsLq7PkY3_on",
        "colab": {
          "base_uri": "https://localhost:8080/"
        },
        "outputId": "fca06fdf-7c8e-4677-9a00-280829f2cda5"
      },
      "source": [
        "a.shape"
      ],
      "execution_count": null,
      "outputs": [
        {
          "output_type": "execute_result",
          "data": {
            "text/plain": [
              "TensorShape([2, 2])"
            ]
          },
          "metadata": {
            "tags": []
          },
          "execution_count": 13
        }
      ]
    },
    {
      "cell_type": "code",
      "metadata": {
        "id": "MbtHLHwJ4Cqm",
        "colab": {
          "base_uri": "https://localhost:8080/"
        },
        "outputId": "86017bd7-bb57-4a52-a87f-52af774f4f76"
      },
      "source": [
        "d = tf.constant([[1],[2]])\n",
        "d.shape"
      ],
      "execution_count": null,
      "outputs": [
        {
          "output_type": "execute_result",
          "data": {
            "text/plain": [
              "TensorShape([2, 1])"
            ]
          },
          "metadata": {
            "tags": []
          },
          "execution_count": 14
        }
      ]
    },
    {
      "cell_type": "code",
      "metadata": {
        "id": "UViL0W9q4S23",
        "colab": {
          "base_uri": "https://localhost:8080/"
        },
        "outputId": "6469ecff-e60f-4bb4-9085-57b5eb8acc4c"
      },
      "source": [
        "a @ d"
      ],
      "execution_count": null,
      "outputs": [
        {
          "output_type": "execute_result",
          "data": {
            "text/plain": [
              "<tf.Tensor: shape=(2, 1), dtype=int32, numpy=\n",
              "array([[ 5],\n",
              "       [11]], dtype=int32)>"
            ]
          },
          "metadata": {
            "tags": []
          },
          "execution_count": 15
        }
      ]
    },
    {
      "cell_type": "code",
      "metadata": {
        "id": "jGaDglpx6cw2",
        "colab": {
          "base_uri": "https://localhost:8080/"
        },
        "outputId": "e3f47118-a1f6-42a2-cd11-adb3daa8bee2"
      },
      "source": [
        "d"
      ],
      "execution_count": null,
      "outputs": [
        {
          "output_type": "execute_result",
          "data": {
            "text/plain": [
              "<tf.Tensor: shape=(2, 1), dtype=int32, numpy=\n",
              "array([[1],\n",
              "       [2]], dtype=int32)>"
            ]
          },
          "metadata": {
            "tags": []
          },
          "execution_count": 17
        }
      ]
    },
    {
      "cell_type": "code",
      "metadata": {
        "id": "QJgV-RM75FIX",
        "colab": {
          "base_uri": "https://localhost:8080/"
        },
        "outputId": "35f83b01-5738-4838-ecd5-a2509bf828e0"
      },
      "source": [
        "tf.transpose(d)"
      ],
      "execution_count": null,
      "outputs": [
        {
          "output_type": "execute_result",
          "data": {
            "text/plain": [
              "<tf.Tensor: shape=(1, 2), dtype=int32, numpy=array([[1, 2]], dtype=int32)>"
            ]
          },
          "metadata": {
            "tags": []
          },
          "execution_count": 16
        }
      ]
    },
    {
      "cell_type": "markdown",
      "metadata": {
        "id": "Iue0a4yegsIO"
      },
      "source": [
        "<h3>Changing Data Type Tensor</h3>"
      ]
    },
    {
      "cell_type": "code",
      "metadata": {
        "id": "L-bguPT5gwWG",
        "outputId": "36f57d48-abfe-472c-9930-8d8dc980da55",
        "colab": {
          "base_uri": "https://localhost:8080/"
        }
      },
      "source": [
        "import tensorflow as tf\n",
        "be = tf.constant([1],dtype=tf.int16)\n",
        "be"
      ],
      "execution_count": 1,
      "outputs": [
        {
          "output_type": "execute_result",
          "data": {
            "text/plain": [
              "<tf.Tensor: shape=(1,), dtype=int16, numpy=array([1], dtype=int16)>"
            ]
          },
          "metadata": {
            "tags": []
          },
          "execution_count": 1
        }
      ]
    },
    {
      "cell_type": "code",
      "metadata": {
        "id": "OZjM7255hgo2",
        "outputId": "b5536195-cda0-4fb6-d1dc-8e082cde5b2b",
        "colab": {
          "base_uri": "https://localhost:8080/"
        }
      },
      "source": [
        "be.dtype"
      ],
      "execution_count": 3,
      "outputs": [
        {
          "output_type": "execute_result",
          "data": {
            "text/plain": [
              "tf.int16"
            ]
          },
          "metadata": {
            "tags": []
          },
          "execution_count": 3
        }
      ]
    },
    {
      "cell_type": "code",
      "metadata": {
        "id": "ZLMyyJWbhXiw",
        "outputId": "4e0b1016-3b4b-4f47-c092-8104c1be7894",
        "colab": {
          "base_uri": "https://localhost:8080/"
        }
      },
      "source": [
        "af = tf.cast(be,dtype=tf.float16)\n",
        "af"
      ],
      "execution_count": 2,
      "outputs": [
        {
          "output_type": "execute_result",
          "data": {
            "text/plain": [
              "<tf.Tensor: shape=(1,), dtype=float16, numpy=array([1.], dtype=float16)>"
            ]
          },
          "metadata": {
            "tags": []
          },
          "execution_count": 2
        }
      ]
    },
    {
      "cell_type": "code",
      "metadata": {
        "id": "IV1ESAb0hiBw",
        "outputId": "1a0169e6-f1f5-41f2-e771-0cfb6fb37760",
        "colab": {
          "base_uri": "https://localhost:8080/"
        }
      },
      "source": [
        "af.dtype"
      ],
      "execution_count": 4,
      "outputs": [
        {
          "output_type": "execute_result",
          "data": {
            "text/plain": [
              "tf.float16"
            ]
          },
          "metadata": {
            "tags": []
          },
          "execution_count": 4
        }
      ]
    },
    {
      "cell_type": "code",
      "metadata": {
        "id": "c4gE5c-fh1i1",
        "outputId": "da10f796-6969-4401-b53c-27d990a4e6d2",
        "colab": {
          "base_uri": "https://localhost:8080/"
        }
      },
      "source": [
        "be2 = tf.constant([[1,2],[3,4]], dtype=tf.float16)\n",
        "be2, be2.dtype"
      ],
      "execution_count": 5,
      "outputs": [
        {
          "output_type": "execute_result",
          "data": {
            "text/plain": [
              "(<tf.Tensor: shape=(2, 2), dtype=float16, numpy=\n",
              " array([[1., 2.],\n",
              "        [3., 4.]], dtype=float16)>, tf.float16)"
            ]
          },
          "metadata": {
            "tags": []
          },
          "execution_count": 5
        }
      ]
    },
    {
      "cell_type": "code",
      "metadata": {
        "id": "kFgWJJdlh8TU",
        "outputId": "664e2381-7692-4dac-9b0d-201eb3764e95",
        "colab": {
          "base_uri": "https://localhost:8080/"
        }
      },
      "source": [
        "af2 = tf.cast(be2, dtype=tf.int16)\n",
        "af2, af2.dtype"
      ],
      "execution_count": 7,
      "outputs": [
        {
          "output_type": "execute_result",
          "data": {
            "text/plain": [
              "(<tf.Tensor: shape=(2, 2), dtype=int16, numpy=\n",
              " array([[1, 2],\n",
              "        [3, 4]], dtype=int16)>, tf.int16)"
            ]
          },
          "metadata": {
            "tags": []
          },
          "execution_count": 7
        }
      ]
    },
    {
      "cell_type": "markdown",
      "metadata": {
        "id": "dbSCgHUFiexI"
      },
      "source": [
        "<h3>Aggregation on Tensor</h3>"
      ]
    },
    {
      "cell_type": "code",
      "metadata": {
        "id": "49lEAlEoih_a",
        "outputId": "ba701e13-8c07-4c87-958a-5d69bde2c9a7",
        "colab": {
          "base_uri": "https://localhost:8080/"
        }
      },
      "source": [
        "d = tf.constant([-19,-8])\n",
        "d"
      ],
      "execution_count": 8,
      "outputs": [
        {
          "output_type": "execute_result",
          "data": {
            "text/plain": [
              "<tf.Tensor: shape=(2,), dtype=int32, numpy=array([-19,  -8], dtype=int32)>"
            ]
          },
          "metadata": {
            "tags": []
          },
          "execution_count": 8
        }
      ]
    },
    {
      "cell_type": "code",
      "metadata": {
        "id": "k5k55v6NjFab",
        "outputId": "937eea14-c849-4a6b-8f3f-19b9cdda979e",
        "colab": {
          "base_uri": "https://localhost:8080/"
        }
      },
      "source": [
        "tf.abs(d)"
      ],
      "execution_count": 9,
      "outputs": [
        {
          "output_type": "execute_result",
          "data": {
            "text/plain": [
              "<tf.Tensor: shape=(2,), dtype=int32, numpy=array([19,  8], dtype=int32)>"
            ]
          },
          "metadata": {
            "tags": []
          },
          "execution_count": 9
        }
      ]
    },
    {
      "cell_type": "code",
      "metadata": {
        "id": "jmsT5E6-jOSE",
        "outputId": "6b4ee47c-7c30-4595-cd41-aad763f6d773",
        "colab": {
          "base_uri": "https://localhost:8080/"
        }
      },
      "source": [
        "import numpy as np\n",
        "ran = tf.constant(np.random.randint(0,100,size=50))\n",
        "ran"
      ],
      "execution_count": 13,
      "outputs": [
        {
          "output_type": "execute_result",
          "data": {
            "text/plain": [
              "<tf.Tensor: shape=(50,), dtype=int64, numpy=\n",
              "array([15, 98,  4, 41,  6, 24, 63, 12, 77, 89, 10, 90, 37,  9, 74, 23, 16,\n",
              "       64, 34, 52, 35,  5, 37, 29, 94, 16, 58, 60, 58, 35,  1, 33, 20, 24,\n",
              "       98, 54, 81, 54, 22, 77, 66, 96, 10, 73, 16, 59, 44, 32, 18, 11])>"
            ]
          },
          "metadata": {
            "tags": []
          },
          "execution_count": 13
        }
      ]
    },
    {
      "cell_type": "code",
      "metadata": {
        "id": "dMzj79vzjXaO",
        "outputId": "acca3c5d-4192-463f-c4d2-18e0a094f470",
        "colab": {
          "base_uri": "https://localhost:8080/"
        }
      },
      "source": [
        "# Minimum Value\n",
        "tf.reduce_min(ran)"
      ],
      "execution_count": 14,
      "outputs": [
        {
          "output_type": "execute_result",
          "data": {
            "text/plain": [
              "<tf.Tensor: shape=(), dtype=int64, numpy=1>"
            ]
          },
          "metadata": {
            "tags": []
          },
          "execution_count": 14
        }
      ]
    },
    {
      "cell_type": "code",
      "metadata": {
        "id": "JnZs3l7yjyqe",
        "outputId": "1fccd1fe-b40c-4ccc-f316-0fa0ecc54ea8",
        "colab": {
          "base_uri": "https://localhost:8080/"
        }
      },
      "source": [
        "# Maximum Value\n",
        "tf.reduce_max(ran)"
      ],
      "execution_count": 15,
      "outputs": [
        {
          "output_type": "execute_result",
          "data": {
            "text/plain": [
              "<tf.Tensor: shape=(), dtype=int64, numpy=98>"
            ]
          },
          "metadata": {
            "tags": []
          },
          "execution_count": 15
        }
      ]
    },
    {
      "cell_type": "code",
      "metadata": {
        "id": "iDrQN7D4j5SA",
        "outputId": "3486698e-ee9a-4c1b-9b73-ef23c1807b67",
        "colab": {
          "base_uri": "https://localhost:8080/"
        }
      },
      "source": [
        "# Mean Value\n",
        "tf.reduce_mean(ran)"
      ],
      "execution_count": 17,
      "outputs": [
        {
          "output_type": "execute_result",
          "data": {
            "text/plain": [
              "<tf.Tensor: shape=(), dtype=int64, numpy=43>"
            ]
          },
          "metadata": {
            "tags": []
          },
          "execution_count": 17
        }
      ]
    },
    {
      "cell_type": "code",
      "metadata": {
        "id": "EZwaOQ9HkDxy",
        "outputId": "5cec4b45-9ab1-4fed-9611-9bff564b1f2d",
        "colab": {
          "base_uri": "https://localhost:8080/"
        }
      },
      "source": [
        "# Total Value\n",
        "tf.reduce_sum(ran)"
      ],
      "execution_count": 18,
      "outputs": [
        {
          "output_type": "execute_result",
          "data": {
            "text/plain": [
              "<tf.Tensor: shape=(), dtype=int64, numpy=2154>"
            ]
          },
          "metadata": {
            "tags": []
          },
          "execution_count": 18
        }
      ]
    },
    {
      "cell_type": "code",
      "metadata": {
        "id": "sxufhnyMkSjt",
        "outputId": "844a1c48-72ba-430b-b2b4-88bfaec3d7ea",
        "colab": {
          "base_uri": "https://localhost:8080/"
        }
      },
      "source": [
        "ran2 = tf.cast(ran,dtype=tf.float64)\n",
        "print(tf.math.reduce_std(ran2))\n",
        "print(round(tf.math.reduce_std(ran2).numpy(),2))"
      ],
      "execution_count": 26,
      "outputs": [
        {
          "output_type": "stream",
          "text": [
            "tf.Tensor(28.94742821046457, shape=(), dtype=float64)\n",
            "28.95\n"
          ],
          "name": "stdout"
        }
      ]
    },
    {
      "cell_type": "code",
      "metadata": {
        "id": "2rNUk8gmlCR2",
        "outputId": "72dc45c3-cc19-4405-8708-a122ce163b7b",
        "colab": {
          "base_uri": "https://localhost:8080/"
        }
      },
      "source": [
        "ran2 = tf.cast(ran,dtype=tf.float64)\n",
        "print(tf.math.reduce_variance(ran2))\n",
        "print(round(tf.math.reduce_variance(ran2).numpy(),2))"
      ],
      "execution_count": 27,
      "outputs": [
        {
          "output_type": "stream",
          "text": [
            "tf.Tensor(837.9536, shape=(), dtype=float64)\n",
            "837.95\n"
          ],
          "name": "stdout"
        }
      ]
    }
  ]
}