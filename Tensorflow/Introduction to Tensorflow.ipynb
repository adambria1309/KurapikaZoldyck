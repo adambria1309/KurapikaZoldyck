{
  "nbformat": 4,
  "nbformat_minor": 0,
  "metadata": {
    "kernelspec": {
      "display_name": "Python 3",
      "language": "python",
      "name": "python3"
    },
    "language_info": {
      "codemirror_mode": {
        "name": "ipython",
        "version": 3
      },
      "file_extension": ".py",
      "mimetype": "text/x-python",
      "name": "python",
      "nbconvert_exporter": "python",
      "pygments_lexer": "ipython3",
      "version": "3.8.5"
    },
    "colab": {
      "name": "Introduction to Tensorflow.ipynb",
      "provenance": []
    }
  },
  "cells": [
    {
      "cell_type": "markdown",
      "metadata": {
        "id": "4otCDOuHCDZG"
      },
      "source": [
        "<ol>\n",
        "    <li>Skalar, 1 Dimensi, [1]</li>\n",
        "    <li>Vektor / Array, 1+ Dimensi, [1,2] -> 2 Dimensi</li>\n",
        "    <li>Vektor / Array, 1+ Dimensi, [1,2,3] -> 3 Dimensi</li>\n",
        "    <li>Matriks, Gabungan Vektor, Terdiri Dari Baris Dan Kolom</li>\n",
        "    <li>Tensor, Gabungan Matriks</li>\n",
        "</ol>"
      ]
    },
    {
      "cell_type": "code",
      "metadata": {
        "id": "O2Zcw4jwCDZR"
      },
      "source": [
        "import tensorflow as tf"
      ],
      "execution_count": 1,
      "outputs": []
    },
    {
      "cell_type": "code",
      "metadata": {
        "colab": {
          "base_uri": "https://localhost:8080/",
          "height": 35
        },
        "id": "Et5V12n7CDZS",
        "outputId": "5bc58e28-0208-4982-83e0-27204ba650d0"
      },
      "source": [
        "tf.__version__"
      ],
      "execution_count": 2,
      "outputs": [
        {
          "output_type": "execute_result",
          "data": {
            "application/vnd.google.colaboratory.intrinsic+json": {
              "type": "string"
            },
            "text/plain": [
              "'2.5.0'"
            ]
          },
          "metadata": {
            "tags": []
          },
          "execution_count": 2
        }
      ]
    },
    {
      "cell_type": "code",
      "metadata": {
        "colab": {
          "base_uri": "https://localhost:8080/"
        },
        "id": "d4vrt6S6FQTg",
        "outputId": "e878f79a-5c9c-42cd-b985-26e60442f531"
      },
      "source": [
        "c0 = tf.constant(1, shape=(1))\n",
        "c0"
      ],
      "execution_count": 3,
      "outputs": [
        {
          "output_type": "execute_result",
          "data": {
            "text/plain": [
              "<tf.Tensor: shape=(1,), dtype=int32, numpy=array([1], dtype=int32)>"
            ]
          },
          "metadata": {
            "tags": []
          },
          "execution_count": 3
        }
      ]
    },
    {
      "cell_type": "code",
      "metadata": {
        "colab": {
          "base_uri": "https://localhost:8080/"
        },
        "id": "A2RRd-CJEc7a",
        "outputId": "b0659481-5ab5-4953-da94-dfe0a7ef9bd4"
      },
      "source": [
        "c1 = tf.constant(1,shape=(1,2))\n",
        "c1"
      ],
      "execution_count": 4,
      "outputs": [
        {
          "output_type": "execute_result",
          "data": {
            "text/plain": [
              "<tf.Tensor: shape=(1, 2), dtype=int32, numpy=array([[1, 1]], dtype=int32)>"
            ]
          },
          "metadata": {
            "tags": []
          },
          "execution_count": 4
        }
      ]
    },
    {
      "cell_type": "code",
      "metadata": {
        "colab": {
          "base_uri": "https://localhost:8080/"
        },
        "id": "WxVEj9wQFgrj",
        "outputId": "cd9f679c-0074-4eec-be22-20625ab99c62"
      },
      "source": [
        "c2 = tf.constant(2, shape=(2,2))\n",
        "c2"
      ],
      "execution_count": 5,
      "outputs": [
        {
          "output_type": "execute_result",
          "data": {
            "text/plain": [
              "<tf.Tensor: shape=(2, 2), dtype=int32, numpy=\n",
              "array([[2, 2],\n",
              "       [2, 2]], dtype=int32)>"
            ]
          },
          "metadata": {
            "tags": []
          },
          "execution_count": 5
        }
      ]
    },
    {
      "cell_type": "code",
      "metadata": {
        "colab": {
          "base_uri": "https://localhost:8080/"
        },
        "id": "YnUPm6RSFlkS",
        "outputId": "34d2cd4f-005e-4f65-b5b9-7f1a9d4f439c"
      },
      "source": [
        "c3 = tf.constant(2, shape=(2,2,2))\n",
        "c3"
      ],
      "execution_count": 6,
      "outputs": [
        {
          "output_type": "execute_result",
          "data": {
            "text/plain": [
              "<tf.Tensor: shape=(2, 2, 2), dtype=int32, numpy=\n",
              "array([[[2, 2],\n",
              "        [2, 2]],\n",
              "\n",
              "       [[2, 2],\n",
              "        [2, 2]]], dtype=int32)>"
            ]
          },
          "metadata": {
            "tags": []
          },
          "execution_count": 6
        }
      ]
    },
    {
      "cell_type": "code",
      "metadata": {
        "colab": {
          "base_uri": "https://localhost:8080/"
        },
        "id": "K8BBsJsZGQMX",
        "outputId": "fdbf4d5b-a9ed-415c-a804-3f68e9f4f5f7"
      },
      "source": [
        "v1 = tf.Variable(1)\n",
        "v1"
      ],
      "execution_count": 7,
      "outputs": [
        {
          "output_type": "execute_result",
          "data": {
            "text/plain": [
              "<tf.Variable 'Variable:0' shape=() dtype=int32, numpy=1>"
            ]
          },
          "metadata": {
            "tags": []
          },
          "execution_count": 7
        }
      ]
    },
    {
      "cell_type": "code",
      "metadata": {
        "colab": {
          "base_uri": "https://localhost:8080/"
        },
        "id": "JMSxrHr3GZ-B",
        "outputId": "dd270137-7683-4620-a885-3db8ba03f447"
      },
      "source": [
        "v2 = tf.Variable([1])\n",
        "v2"
      ],
      "execution_count": 8,
      "outputs": [
        {
          "output_type": "execute_result",
          "data": {
            "text/plain": [
              "<tf.Variable 'Variable:0' shape=(1,) dtype=int32, numpy=array([1], dtype=int32)>"
            ]
          },
          "metadata": {
            "tags": []
          },
          "execution_count": 8
        }
      ]
    },
    {
      "cell_type": "code",
      "metadata": {
        "colab": {
          "base_uri": "https://localhost:8080/"
        },
        "id": "W0kIvyJXGfoj",
        "outputId": "c6c1cdde-9def-401e-aa5a-e84e574e5cb6"
      },
      "source": [
        "v3 = tf.Variable([1,2])\n",
        "v3"
      ],
      "execution_count": 9,
      "outputs": [
        {
          "output_type": "execute_result",
          "data": {
            "text/plain": [
              "<tf.Variable 'Variable:0' shape=(2,) dtype=int32, numpy=array([1, 2], dtype=int32)>"
            ]
          },
          "metadata": {
            "tags": []
          },
          "execution_count": 9
        }
      ]
    },
    {
      "cell_type": "code",
      "metadata": {
        "colab": {
          "base_uri": "https://localhost:8080/"
        },
        "id": "O-9MX1-XHrn6",
        "outputId": "4a6b3b99-125c-4b66-9355-1837d1d7ad0a"
      },
      "source": [
        "v4 = tf.Variable([[1,2],[3,4]])\n",
        "v4"
      ],
      "execution_count": 11,
      "outputs": [
        {
          "output_type": "execute_result",
          "data": {
            "text/plain": [
              "<tf.Variable 'Variable:0' shape=(2, 2) dtype=int32, numpy=\n",
              "array([[1, 2],\n",
              "       [3, 4]], dtype=int32)>"
            ]
          },
          "metadata": {
            "tags": []
          },
          "execution_count": 11
        }
      ]
    },
    {
      "cell_type": "code",
      "metadata": {
        "colab": {
          "base_uri": "https://localhost:8080/"
        },
        "id": "md-60pWzH38K",
        "outputId": "52206fca-cbe5-4ec4-9d48-10998c592268"
      },
      "source": [
        "v5 = tf.Variable([[[1,2],[3,4]],[[5,6],[7,8]]])\n",
        "v5"
      ],
      "execution_count": 12,
      "outputs": [
        {
          "output_type": "execute_result",
          "data": {
            "text/plain": [
              "<tf.Variable 'Variable:0' shape=(2, 2, 2) dtype=int32, numpy=\n",
              "array([[[1, 2],\n",
              "        [3, 4]],\n",
              "\n",
              "       [[5, 6],\n",
              "        [7, 8]]], dtype=int32)>"
            ]
          },
          "metadata": {
            "tags": []
          },
          "execution_count": 12
        }
      ]
    },
    {
      "cell_type": "code",
      "metadata": {
        "id": "mOgPMT5dJSZm",
        "outputId": "439639e0-527d-4db7-a078-ac4413f1cd2c",
        "colab": {
          "base_uri": "https://localhost:8080/"
        }
      },
      "source": [
        "v5.dtype"
      ],
      "execution_count": 13,
      "outputs": [
        {
          "output_type": "execute_result",
          "data": {
            "text/plain": [
              "tf.int32"
            ]
          },
          "metadata": {
            "tags": []
          },
          "execution_count": 13
        }
      ]
    },
    {
      "cell_type": "code",
      "metadata": {
        "id": "WQvsUXqeJUjV",
        "outputId": "a99ca142-4ad5-48f8-9ede-1ec589cbd810",
        "colab": {
          "base_uri": "https://localhost:8080/"
        }
      },
      "source": [
        "v5.shape"
      ],
      "execution_count": 14,
      "outputs": [
        {
          "output_type": "execute_result",
          "data": {
            "text/plain": [
              "TensorShape([2, 2, 2])"
            ]
          },
          "metadata": {
            "tags": []
          },
          "execution_count": 14
        }
      ]
    },
    {
      "cell_type": "markdown",
      "metadata": {
        "id": "Src0XGIMJKqM"
      },
      "source": [
        "<h3>Aritmethic Operator</h3>"
      ]
    },
    {
      "cell_type": "code",
      "metadata": {
        "id": "rqMd5Zt4JPGT",
        "outputId": "18c0bd73-6c17-455c-81ba-75918d511102",
        "colab": {
          "base_uri": "https://localhost:8080/"
        }
      },
      "source": [
        "import tensorflow as tf\n",
        "\n",
        "a = tf.Variable([1])\n",
        "b = tf.Variable([2])\n",
        "\n",
        "add = tf.add(a,b)\n",
        "add"
      ],
      "execution_count": 1,
      "outputs": [
        {
          "output_type": "execute_result",
          "data": {
            "text/plain": [
              "<tf.Tensor: shape=(1,), dtype=int32, numpy=array([3], dtype=int32)>"
            ]
          },
          "metadata": {
            "tags": []
          },
          "execution_count": 1
        }
      ]
    },
    {
      "cell_type": "code",
      "metadata": {
        "id": "zGEVqzC6j7cA",
        "outputId": "18226992-091c-43b7-fc5d-5c0ee705e560",
        "colab": {
          "base_uri": "https://localhost:8080/"
        }
      },
      "source": [
        "sub = tf.math.subtract(b,a)\n",
        "sub"
      ],
      "execution_count": 3,
      "outputs": [
        {
          "output_type": "execute_result",
          "data": {
            "text/plain": [
              "<tf.Tensor: shape=(1,), dtype=int32, numpy=array([1], dtype=int32)>"
            ]
          },
          "metadata": {
            "tags": []
          },
          "execution_count": 3
        }
      ]
    },
    {
      "cell_type": "code",
      "metadata": {
        "id": "0BRoRboWkQGd",
        "outputId": "96411032-70c5-46e7-cc8d-05ba69e103d6",
        "colab": {
          "base_uri": "https://localhost:8080/"
        }
      },
      "source": [
        "c = tf.Variable([[1,2],[3,4]])\n",
        "d = tf.Variable([[5,6],[7,8]])\n",
        "\n",
        "mul = tf.multiply(c,d)\n",
        "mul"
      ],
      "execution_count": 5,
      "outputs": [
        {
          "output_type": "execute_result",
          "data": {
            "text/plain": [
              "<tf.Tensor: shape=(2, 2), dtype=int32, numpy=\n",
              "array([[ 5, 12],\n",
              "       [21, 32]], dtype=int32)>"
            ]
          },
          "metadata": {
            "tags": []
          },
          "execution_count": 5
        }
      ]
    },
    {
      "cell_type": "code",
      "metadata": {
        "id": "BBN6t7wglCEr",
        "outputId": "bbd6af17-789e-4413-9f35-dd9ddce95907",
        "colab": {
          "base_uri": "https://localhost:8080/"
        }
      },
      "source": [
        "matmul = tf.matmul(c,d)\n",
        "matmul"
      ],
      "execution_count": 6,
      "outputs": [
        {
          "output_type": "execute_result",
          "data": {
            "text/plain": [
              "<tf.Tensor: shape=(2, 2), dtype=int32, numpy=\n",
              "array([[19, 22],\n",
              "       [43, 50]], dtype=int32)>"
            ]
          },
          "metadata": {
            "tags": []
          },
          "execution_count": 6
        }
      ]
    }
  ]
}