{
  "nbformat": 4,
  "nbformat_minor": 0,
  "metadata": {
    "kernelspec": {
      "display_name": "Python 3",
      "language": "python",
      "name": "python3"
    },
    "language_info": {
      "codemirror_mode": {
        "name": "ipython",
        "version": 3
      },
      "file_extension": ".py",
      "mimetype": "text/x-python",
      "name": "python",
      "nbconvert_exporter": "python",
      "pygments_lexer": "ipython3",
      "version": "3.8.5"
    },
    "colab": {
      "name": "Introduction to Tensorflow.ipynb",
      "provenance": [],
      "include_colab_link": true
    }
  },
  "cells": [
    {
      "cell_type": "markdown",
      "metadata": {
        "id": "view-in-github",
        "colab_type": "text"
      },
      "source": [
        "<a href=\"https://colab.research.google.com/github/KurapikaZoldyck/KurapikaZoldyck/blob/main/Tensorflow/Introduction%20to%20Tensorflow.ipynb\" target=\"_parent\"><img src=\"https://colab.research.google.com/assets/colab-badge.svg\" alt=\"Open In Colab\"/></a>"
      ]
    },
    {
      "cell_type": "markdown",
      "metadata": {
        "id": "4otCDOuHCDZG"
      },
      "source": [
        "<ol>\n",
        "    <li>Skalar, 1 Dimensi, [1]</li>\n",
        "    <li>Vektor / Array, 1+ Dimensi, [1,2] -> 2 Dimensi</li>\n",
        "    <li>Vektor / Array, 1+ Dimensi, [1,2,3] -> 3 Dimensi</li>\n",
        "    <li>Matriks, Gabungan Vektor, Terdiri Dari Baris Dan Kolom</li>\n",
        "    <li>Tensor, Gabungan Matriks</li>\n",
        "</ol>"
      ]
    },
    {
      "cell_type": "code",
      "metadata": {
        "id": "O2Zcw4jwCDZR"
      },
      "source": [
        "import tensorflow as tf"
      ],
      "execution_count": 1,
      "outputs": []
    },
    {
      "cell_type": "code",
      "metadata": {
        "colab": {
          "base_uri": "https://localhost:8080/",
          "height": 34
        },
        "id": "Et5V12n7CDZS",
        "outputId": "4772b9e9-c949-4082-b3f9-232e664eb8eb"
      },
      "source": [
        "tf.__version__"
      ],
      "execution_count": 2,
      "outputs": [
        {
          "output_type": "execute_result",
          "data": {
            "application/vnd.google.colaboratory.intrinsic+json": {
              "type": "string"
            },
            "text/plain": [
              "'2.5.0'"
            ]
          },
          "metadata": {
            "tags": []
          },
          "execution_count": 2
        }
      ]
    },
    {
      "cell_type": "code",
      "metadata": {
        "colab": {
          "base_uri": "https://localhost:8080/"
        },
        "id": "3e8-j0Egmk85",
        "outputId": "05bae63f-9a1d-4757-fc25-ce14b07bc5ad"
      },
      "source": [
        "cx = tf.constant(7)\n",
        "cx"
      ],
      "execution_count": 3,
      "outputs": [
        {
          "output_type": "execute_result",
          "data": {
            "text/plain": [
              "<tf.Tensor: shape=(), dtype=int32, numpy=7>"
            ]
          },
          "metadata": {
            "tags": []
          },
          "execution_count": 3
        }
      ]
    },
    {
      "cell_type": "code",
      "metadata": {
        "colab": {
          "base_uri": "https://localhost:8080/"
        },
        "id": "d4vrt6S6FQTg",
        "outputId": "3cca8cb7-d713-4427-c3ce-dc3c59dad02d"
      },
      "source": [
        "c0 = tf.constant(1, shape=(1))\n",
        "c0"
      ],
      "execution_count": 4,
      "outputs": [
        {
          "output_type": "execute_result",
          "data": {
            "text/plain": [
              "<tf.Tensor: shape=(1,), dtype=int32, numpy=array([1], dtype=int32)>"
            ]
          },
          "metadata": {
            "tags": []
          },
          "execution_count": 4
        }
      ]
    },
    {
      "cell_type": "code",
      "metadata": {
        "colab": {
          "base_uri": "https://localhost:8080/"
        },
        "id": "-PMOvrajve2v",
        "outputId": "352592c2-0d31-4355-e633-58c8f7fece35"
      },
      "source": [
        "c0[0]"
      ],
      "execution_count": 5,
      "outputs": [
        {
          "output_type": "execute_result",
          "data": {
            "text/plain": [
              "<tf.Tensor: shape=(), dtype=int32, numpy=1>"
            ]
          },
          "metadata": {
            "tags": []
          },
          "execution_count": 5
        }
      ]
    },
    {
      "cell_type": "code",
      "metadata": {
        "colab": {
          "base_uri": "https://localhost:8080/"
        },
        "id": "QiknSU16vn3E",
        "outputId": "1401add1-d08b-4fb8-e37b-01f00e57f3df"
      },
      "source": [
        "try:\n",
        "  c0[0].assign(2)\n",
        "except:\n",
        "  print(\"Can't Change\")"
      ],
      "execution_count": 6,
      "outputs": [
        {
          "output_type": "stream",
          "text": [
            "Can't Change\n"
          ],
          "name": "stdout"
        }
      ]
    },
    {
      "cell_type": "code",
      "metadata": {
        "colab": {
          "base_uri": "https://localhost:8080/"
        },
        "id": "A2RRd-CJEc7a",
        "outputId": "49e483ac-04f7-4e59-952d-9bbcce0a0a24"
      },
      "source": [
        "c1 = tf.constant(1,shape=(1,2))\n",
        "c1"
      ],
      "execution_count": 7,
      "outputs": [
        {
          "output_type": "execute_result",
          "data": {
            "text/plain": [
              "<tf.Tensor: shape=(1, 2), dtype=int32, numpy=array([[1, 1]], dtype=int32)>"
            ]
          },
          "metadata": {
            "tags": []
          },
          "execution_count": 7
        }
      ]
    },
    {
      "cell_type": "code",
      "metadata": {
        "colab": {
          "base_uri": "https://localhost:8080/"
        },
        "id": "WxVEj9wQFgrj",
        "outputId": "c43d40b2-a6e6-40a2-9e87-6ec48c50a3b3"
      },
      "source": [
        "c2 = tf.constant(2, shape=(2,2))\n",
        "c2"
      ],
      "execution_count": 8,
      "outputs": [
        {
          "output_type": "execute_result",
          "data": {
            "text/plain": [
              "<tf.Tensor: shape=(2, 2), dtype=int32, numpy=\n",
              "array([[2, 2],\n",
              "       [2, 2]], dtype=int32)>"
            ]
          },
          "metadata": {
            "tags": []
          },
          "execution_count": 8
        }
      ]
    },
    {
      "cell_type": "code",
      "metadata": {
        "colab": {
          "base_uri": "https://localhost:8080/"
        },
        "id": "YnUPm6RSFlkS",
        "outputId": "f6857a6e-91f1-4617-d1d8-a23fe967fc4d"
      },
      "source": [
        "c3 = tf.constant(2, shape=(2,2,2))\n",
        "c3"
      ],
      "execution_count": 9,
      "outputs": [
        {
          "output_type": "execute_result",
          "data": {
            "text/plain": [
              "<tf.Tensor: shape=(2, 2, 2), dtype=int32, numpy=\n",
              "array([[[2, 2],\n",
              "        [2, 2]],\n",
              "\n",
              "       [[2, 2],\n",
              "        [2, 2]]], dtype=int32)>"
            ]
          },
          "metadata": {
            "tags": []
          },
          "execution_count": 9
        }
      ]
    },
    {
      "cell_type": "code",
      "metadata": {
        "colab": {
          "base_uri": "https://localhost:8080/"
        },
        "id": "5FQd6Jsfonty",
        "outputId": "36fd979f-9413-4e12-b831-7251a82a2e0f"
      },
      "source": [
        "c3b = tf.constant(2, shape=(2,2,2),dtype=tf.float16)\n",
        "c3b"
      ],
      "execution_count": 10,
      "outputs": [
        {
          "output_type": "execute_result",
          "data": {
            "text/plain": [
              "<tf.Tensor: shape=(2, 2, 2), dtype=float16, numpy=\n",
              "array([[[2., 2.],\n",
              "        [2., 2.]],\n",
              "\n",
              "       [[2., 2.],\n",
              "        [2., 2.]]], dtype=float16)>"
            ]
          },
          "metadata": {
            "tags": []
          },
          "execution_count": 10
        }
      ]
    },
    {
      "cell_type": "code",
      "metadata": {
        "colab": {
          "base_uri": "https://localhost:8080/"
        },
        "id": "K8BBsJsZGQMX",
        "outputId": "7c84d66d-4cdc-4a8a-9745-7586858bba9b"
      },
      "source": [
        "v1 = tf.Variable(1)\n",
        "v1"
      ],
      "execution_count": 11,
      "outputs": [
        {
          "output_type": "execute_result",
          "data": {
            "text/plain": [
              "<tf.Variable 'Variable:0' shape=() dtype=int32, numpy=1>"
            ]
          },
          "metadata": {
            "tags": []
          },
          "execution_count": 11
        }
      ]
    },
    {
      "cell_type": "code",
      "metadata": {
        "colab": {
          "base_uri": "https://localhost:8080/"
        },
        "id": "JMSxrHr3GZ-B",
        "outputId": "cf99257b-888e-46ca-9686-ae0a1419e19e"
      },
      "source": [
        "v2 = tf.Variable([1])\n",
        "v2"
      ],
      "execution_count": 12,
      "outputs": [
        {
          "output_type": "execute_result",
          "data": {
            "text/plain": [
              "<tf.Variable 'Variable:0' shape=(1,) dtype=int32, numpy=array([1], dtype=int32)>"
            ]
          },
          "metadata": {
            "tags": []
          },
          "execution_count": 12
        }
      ]
    },
    {
      "cell_type": "code",
      "metadata": {
        "colab": {
          "base_uri": "https://localhost:8080/"
        },
        "id": "oHixTjYkvGLS",
        "outputId": "fb433fae-7ea9-4271-a6f5-e7839dc0a4cd"
      },
      "source": [
        "v2[0]"
      ],
      "execution_count": 13,
      "outputs": [
        {
          "output_type": "execute_result",
          "data": {
            "text/plain": [
              "<tf.Tensor: shape=(), dtype=int32, numpy=1>"
            ]
          },
          "metadata": {
            "tags": []
          },
          "execution_count": 13
        }
      ]
    },
    {
      "cell_type": "code",
      "metadata": {
        "colab": {
          "base_uri": "https://localhost:8080/"
        },
        "id": "9D2MeazjvMRt",
        "outputId": "cae2ad2b-3f91-4b8d-ecf7-a05e611f4305"
      },
      "source": [
        "v2[0].assign(1)"
      ],
      "execution_count": 14,
      "outputs": [
        {
          "output_type": "execute_result",
          "data": {
            "text/plain": [
              "<tf.Variable 'UnreadVariable' shape=(1,) dtype=int32, numpy=array([1], dtype=int32)>"
            ]
          },
          "metadata": {
            "tags": []
          },
          "execution_count": 14
        }
      ]
    },
    {
      "cell_type": "code",
      "metadata": {
        "colab": {
          "base_uri": "https://localhost:8080/"
        },
        "id": "W0kIvyJXGfoj",
        "outputId": "a6cd2557-f432-471a-ee9c-3646cc2a73e7"
      },
      "source": [
        "v3 = tf.Variable([1,2])\n",
        "v3"
      ],
      "execution_count": 15,
      "outputs": [
        {
          "output_type": "execute_result",
          "data": {
            "text/plain": [
              "<tf.Variable 'Variable:0' shape=(2,) dtype=int32, numpy=array([1, 2], dtype=int32)>"
            ]
          },
          "metadata": {
            "tags": []
          },
          "execution_count": 15
        }
      ]
    },
    {
      "cell_type": "code",
      "metadata": {
        "colab": {
          "base_uri": "https://localhost:8080/"
        },
        "id": "O-9MX1-XHrn6",
        "outputId": "91ef5739-75bd-4f18-9bbe-73f4263330e9"
      },
      "source": [
        "v4 = tf.Variable([[1,2],[3,4]])\n",
        "v4"
      ],
      "execution_count": 16,
      "outputs": [
        {
          "output_type": "execute_result",
          "data": {
            "text/plain": [
              "<tf.Variable 'Variable:0' shape=(2, 2) dtype=int32, numpy=\n",
              "array([[1, 2],\n",
              "       [3, 4]], dtype=int32)>"
            ]
          },
          "metadata": {
            "tags": []
          },
          "execution_count": 16
        }
      ]
    },
    {
      "cell_type": "code",
      "metadata": {
        "colab": {
          "base_uri": "https://localhost:8080/"
        },
        "id": "md-60pWzH38K",
        "outputId": "5b433fd8-f148-4668-cc20-77503c2fd21c"
      },
      "source": [
        "v5 = tf.Variable([[[1,2],[3,4]],[[5,6],[7,8]]])\n",
        "v5"
      ],
      "execution_count": 17,
      "outputs": [
        {
          "output_type": "execute_result",
          "data": {
            "text/plain": [
              "<tf.Variable 'Variable:0' shape=(2, 2, 2) dtype=int32, numpy=\n",
              "array([[[1, 2],\n",
              "        [3, 4]],\n",
              "\n",
              "       [[5, 6],\n",
              "        [7, 8]]], dtype=int32)>"
            ]
          },
          "metadata": {
            "tags": []
          },
          "execution_count": 17
        }
      ]
    },
    {
      "cell_type": "code",
      "metadata": {
        "colab": {
          "base_uri": "https://localhost:8080/"
        },
        "id": "fOOXhs5xtX9n",
        "outputId": "16a161ff-a695-45da-fc8a-905ee2284179"
      },
      "source": [
        "v5[0]"
      ],
      "execution_count": 18,
      "outputs": [
        {
          "output_type": "execute_result",
          "data": {
            "text/plain": [
              "<tf.Tensor: shape=(2, 2), dtype=int32, numpy=\n",
              "array([[1, 2],\n",
              "       [3, 4]], dtype=int32)>"
            ]
          },
          "metadata": {
            "tags": []
          },
          "execution_count": 18
        }
      ]
    },
    {
      "cell_type": "code",
      "metadata": {
        "colab": {
          "base_uri": "https://localhost:8080/"
        },
        "id": "XQZqg6xntt7v",
        "outputId": "b6b8eefd-bb76-4906-c6b7-c7d1768bf1e7"
      },
      "source": [
        "v5[0][0]"
      ],
      "execution_count": 19,
      "outputs": [
        {
          "output_type": "execute_result",
          "data": {
            "text/plain": [
              "<tf.Tensor: shape=(2,), dtype=int32, numpy=array([1, 2], dtype=int32)>"
            ]
          },
          "metadata": {
            "tags": []
          },
          "execution_count": 19
        }
      ]
    },
    {
      "cell_type": "code",
      "metadata": {
        "colab": {
          "base_uri": "https://localhost:8080/"
        },
        "id": "SXTuHzVmtyoK",
        "outputId": "854352b1-ce92-40c9-e6da-a11ace7dd091"
      },
      "source": [
        "v5[0][0][0]"
      ],
      "execution_count": 20,
      "outputs": [
        {
          "output_type": "execute_result",
          "data": {
            "text/plain": [
              "<tf.Tensor: shape=(), dtype=int32, numpy=1>"
            ]
          },
          "metadata": {
            "tags": []
          },
          "execution_count": 20
        }
      ]
    },
    {
      "cell_type": "code",
      "metadata": {
        "colab": {
          "base_uri": "https://localhost:8080/"
        },
        "id": "mOgPMT5dJSZm",
        "outputId": "60226643-a7af-4381-989b-c8f534f74467"
      },
      "source": [
        "v5.dtype"
      ],
      "execution_count": 21,
      "outputs": [
        {
          "output_type": "execute_result",
          "data": {
            "text/plain": [
              "tf.int32"
            ]
          },
          "metadata": {
            "tags": []
          },
          "execution_count": 21
        }
      ]
    },
    {
      "cell_type": "code",
      "metadata": {
        "colab": {
          "base_uri": "https://localhost:8080/"
        },
        "id": "WQvsUXqeJUjV",
        "outputId": "53558af4-3e7b-4307-a49c-29e5b101e3b8"
      },
      "source": [
        "v5.shape"
      ],
      "execution_count": 22,
      "outputs": [
        {
          "output_type": "execute_result",
          "data": {
            "text/plain": [
              "TensorShape([2, 2, 2])"
            ]
          },
          "metadata": {
            "tags": []
          },
          "execution_count": 22
        }
      ]
    },
    {
      "cell_type": "code",
      "metadata": {
        "colab": {
          "base_uri": "https://localhost:8080/"
        },
        "id": "073lP8Gf6GR3",
        "outputId": "a478e955-e7b3-476b-f987-dadb2e49cae1"
      },
      "source": [
        "v5.get_shape()"
      ],
      "execution_count": 26,
      "outputs": [
        {
          "output_type": "execute_result",
          "data": {
            "text/plain": [
              "TensorShape([2, 2, 2])"
            ]
          },
          "metadata": {
            "tags": []
          },
          "execution_count": 26
        }
      ]
    },
    {
      "cell_type": "code",
      "metadata": {
        "colab": {
          "base_uri": "https://localhost:8080/"
        },
        "id": "mFBbWlTtnJpF",
        "outputId": "eae53938-a426-45d5-be6c-076a35eb931d"
      },
      "source": [
        "c1.ndim"
      ],
      "execution_count": 24,
      "outputs": [
        {
          "output_type": "execute_result",
          "data": {
            "text/plain": [
              "2"
            ]
          },
          "metadata": {
            "tags": []
          },
          "execution_count": 24
        }
      ]
    },
    {
      "cell_type": "markdown",
      "metadata": {
        "id": "L4Ud95fmZoWm"
      },
      "source": [
        "<h3>Random Tensor</h3>"
      ]
    },
    {
      "cell_type": "code",
      "metadata": {
        "colab": {
          "base_uri": "https://localhost:8080/"
        },
        "id": "fUCVlZbLZwnd",
        "outputId": "17822a35-03fd-45bd-a12f-d9e65e8213b9"
      },
      "source": [
        "import tensorflow as tf\n",
        "\n",
        "ran1 = tf.random.Generator.from_seed(42)\n",
        "ran1 = ran1.normal(shape=(2,2))\n",
        "ran1"
      ],
      "execution_count": 1,
      "outputs": [
        {
          "output_type": "execute_result",
          "data": {
            "text/plain": [
              "<tf.Tensor: shape=(2, 2), dtype=float32, numpy=\n",
              "array([[-0.7565803 , -0.06854702],\n",
              "       [ 0.07595026, -1.2573844 ]], dtype=float32)>"
            ]
          },
          "metadata": {
            "tags": []
          },
          "execution_count": 1
        }
      ]
    },
    {
      "cell_type": "code",
      "metadata": {
        "colab": {
          "base_uri": "https://localhost:8080/"
        },
        "id": "ZjUsbYDwaAfu",
        "outputId": "096d10da-981c-43ea-bcd1-f1277decfda9"
      },
      "source": [
        "ran2 = tf.random.Generator.from_seed(42)\n",
        "ran2 = ran2.normal(shape=(2,2))\n",
        "ran2"
      ],
      "execution_count": 2,
      "outputs": [
        {
          "output_type": "execute_result",
          "data": {
            "text/plain": [
              "<tf.Tensor: shape=(2, 2), dtype=float32, numpy=\n",
              "array([[-0.7565803 , -0.06854702],\n",
              "       [ 0.07595026, -1.2573844 ]], dtype=float32)>"
            ]
          },
          "metadata": {
            "tags": []
          },
          "execution_count": 2
        }
      ]
    },
    {
      "cell_type": "code",
      "metadata": {
        "colab": {
          "base_uri": "https://localhost:8080/"
        },
        "id": "ZdBQtLToaK8C",
        "outputId": "ac93ef40-c4de-4c02-d777-65cea72f573a"
      },
      "source": [
        "ran1 == ran2"
      ],
      "execution_count": 3,
      "outputs": [
        {
          "output_type": "execute_result",
          "data": {
            "text/plain": [
              "<tf.Tensor: shape=(2, 2), dtype=bool, numpy=\n",
              "array([[ True,  True],\n",
              "       [ True,  True]])>"
            ]
          },
          "metadata": {
            "tags": []
          },
          "execution_count": 3
        }
      ]
    },
    {
      "cell_type": "markdown",
      "metadata": {
        "id": "0ZVpYas8bGOO"
      },
      "source": [
        "<h3>Shuffle the order in Tensor</h3>"
      ]
    },
    {
      "cell_type": "code",
      "metadata": {
        "id": "YbqcOW_RbKUi",
        "outputId": "57302422-d258-4e4f-8df0-b6b492707aaa",
        "colab": {
          "base_uri": "https://localhost:8080/"
        }
      },
      "source": [
        "co1 = tf.constant([[10,2],[30,4],[33,4],[50,5]])\n",
        "co1"
      ],
      "execution_count": 14,
      "outputs": [
        {
          "output_type": "execute_result",
          "data": {
            "text/plain": [
              "<tf.Tensor: shape=(4, 2), dtype=int32, numpy=\n",
              "array([[10,  2],\n",
              "       [30,  4],\n",
              "       [33,  4],\n",
              "       [50,  5]], dtype=int32)>"
            ]
          },
          "metadata": {
            "tags": []
          },
          "execution_count": 14
        }
      ]
    },
    {
      "cell_type": "code",
      "metadata": {
        "id": "qCfTHSmIbdn_",
        "outputId": "75a6c124-e62c-46d9-a255-eace6accc056",
        "colab": {
          "base_uri": "https://localhost:8080/"
        }
      },
      "source": [
        "co2 = tf.random.shuffle(co1)\n",
        "co2"
      ],
      "execution_count": 17,
      "outputs": [
        {
          "output_type": "execute_result",
          "data": {
            "text/plain": [
              "<tf.Tensor: shape=(4, 2), dtype=int32, numpy=\n",
              "array([[33,  4],\n",
              "       [50,  5],\n",
              "       [10,  2],\n",
              "       [30,  4]], dtype=int32)>"
            ]
          },
          "metadata": {
            "tags": []
          },
          "execution_count": 17
        }
      ]
    },
    {
      "cell_type": "code",
      "metadata": {
        "id": "8eA8kxpSc2m-",
        "outputId": "897b7982-46a7-453a-ab4f-1d42cc38b807",
        "colab": {
          "base_uri": "https://localhost:8080/"
        }
      },
      "source": [
        "tf.random.set_seed(42)\n",
        "co3 = tf.random.shuffle(co1)\n",
        "co3"
      ],
      "execution_count": 21,
      "outputs": [
        {
          "output_type": "execute_result",
          "data": {
            "text/plain": [
              "<tf.Tensor: shape=(4, 2), dtype=int32, numpy=\n",
              "array([[50,  5],\n",
              "       [10,  2],\n",
              "       [30,  4],\n",
              "       [33,  4]], dtype=int32)>"
            ]
          },
          "metadata": {
            "tags": []
          },
          "execution_count": 21
        }
      ]
    },
    {
      "cell_type": "markdown",
      "metadata": {
        "id": "bvfvDx8Ddyg_"
      },
      "source": [
        "**<i>what is the difference between tf.random.set.seed() and tf.Generator.from_seed()</i>**"
      ]
    },
    {
      "cell_type": "markdown",
      "metadata": {
        "id": "VGcckS88fcih"
      },
      "source": [
        "<h3>Others</h3>"
      ]
    },
    {
      "cell_type": "code",
      "metadata": {
        "id": "lfbW63IPffFp",
        "outputId": "e8030069-ffc3-46bb-c4d5-dadaaf8111a4",
        "colab": {
          "base_uri": "https://localhost:8080/"
        }
      },
      "source": [
        "tf.ones([2,2])"
      ],
      "execution_count": 22,
      "outputs": [
        {
          "output_type": "execute_result",
          "data": {
            "text/plain": [
              "<tf.Tensor: shape=(2, 2), dtype=float32, numpy=\n",
              "array([[1., 1.],\n",
              "       [1., 1.]], dtype=float32)>"
            ]
          },
          "metadata": {
            "tags": []
          },
          "execution_count": 22
        }
      ]
    },
    {
      "cell_type": "code",
      "metadata": {
        "id": "OeboI25ofnhw",
        "outputId": "021478b1-abce-4c90-ad20-6d66d57f5e7c",
        "colab": {
          "base_uri": "https://localhost:8080/"
        }
      },
      "source": [
        "tf.ones([2,2],dtype=tf.int32)"
      ],
      "execution_count": 23,
      "outputs": [
        {
          "output_type": "execute_result",
          "data": {
            "text/plain": [
              "<tf.Tensor: shape=(2, 2), dtype=int32, numpy=\n",
              "array([[1, 1],\n",
              "       [1, 1]], dtype=int32)>"
            ]
          },
          "metadata": {
            "tags": []
          },
          "execution_count": 23
        }
      ]
    },
    {
      "cell_type": "code",
      "metadata": {
        "id": "p6y3ocE3ft0E",
        "outputId": "d120b6d3-bae0-4f44-e637-d52b9659ff15",
        "colab": {
          "base_uri": "https://localhost:8080/"
        }
      },
      "source": [
        "tf.zeros([2,2],dtype=tf.int16)"
      ],
      "execution_count": 25,
      "outputs": [
        {
          "output_type": "execute_result",
          "data": {
            "text/plain": [
              "<tf.Tensor: shape=(2, 2), dtype=int16, numpy=\n",
              "array([[0, 0],\n",
              "       [0, 0]], dtype=int16)>"
            ]
          },
          "metadata": {
            "tags": []
          },
          "execution_count": 25
        }
      ]
    },
    {
      "cell_type": "code",
      "metadata": {
        "id": "i9yLi2DNf181",
        "outputId": "33677f35-5bfd-4c01-fd54-e9b521d888d9",
        "colab": {
          "base_uri": "https://localhost:8080/"
        }
      },
      "source": [
        "import numpy as np\n",
        "a = np.arange(1,5)\n",
        "a"
      ],
      "execution_count": 29,
      "outputs": [
        {
          "output_type": "execute_result",
          "data": {
            "text/plain": [
              "array([1, 2, 3, 4])"
            ]
          },
          "metadata": {
            "tags": []
          },
          "execution_count": 29
        }
      ]
    },
    {
      "cell_type": "code",
      "metadata": {
        "id": "B2RTtnRhiUwE",
        "outputId": "4b1b9fd3-d3a7-4c8d-8d84-0a5a0e919b91",
        "colab": {
          "base_uri": "https://localhost:8080/"
        }
      },
      "source": [
        "tf.constant(a)"
      ],
      "execution_count": 30,
      "outputs": [
        {
          "output_type": "execute_result",
          "data": {
            "text/plain": [
              "<tf.Tensor: shape=(4,), dtype=int64, numpy=array([1, 2, 3, 4])>"
            ]
          },
          "metadata": {
            "tags": []
          },
          "execution_count": 30
        }
      ]
    },
    {
      "cell_type": "code",
      "metadata": {
        "id": "i6elOwqwiXgh",
        "outputId": "7b72467e-1df4-404d-8b30-407adf650439",
        "colab": {
          "base_uri": "https://localhost:8080/"
        }
      },
      "source": [
        "tf.constant(a,shape=(2,2))"
      ],
      "execution_count": 31,
      "outputs": [
        {
          "output_type": "execute_result",
          "data": {
            "text/plain": [
              "<tf.Tensor: shape=(2, 2), dtype=int64, numpy=\n",
              "array([[1, 2],\n",
              "       [3, 4]])>"
            ]
          },
          "metadata": {
            "tags": []
          },
          "execution_count": 31
        }
      ]
    },
    {
      "cell_type": "code",
      "metadata": {
        "id": "XQIFe-m0iz7J",
        "outputId": "3167e026-d950-4aac-bc56-1e82d6cfeec9",
        "colab": {
          "base_uri": "https://localhost:8080/"
        }
      },
      "source": [
        "b = np.arange(1,9)\n",
        "b"
      ],
      "execution_count": 32,
      "outputs": [
        {
          "output_type": "execute_result",
          "data": {
            "text/plain": [
              "array([1, 2, 3, 4, 5, 6, 7, 8])"
            ]
          },
          "metadata": {
            "tags": []
          },
          "execution_count": 32
        }
      ]
    },
    {
      "cell_type": "code",
      "metadata": {
        "id": "B4BZIbnEi28d",
        "outputId": "bdc97921-36ba-4622-c66a-ac57778f9c37",
        "colab": {
          "base_uri": "https://localhost:8080/"
        }
      },
      "source": [
        "try:\n",
        "  tf.constant(b,shape=(2,2))\n",
        "except:\n",
        "  print(\"Unmatched shape of transformation matrices\")\n",
        "  print(2*2,\"doesn't equal to\",8)"
      ],
      "execution_count": 36,
      "outputs": [
        {
          "output_type": "stream",
          "text": [
            "Unmatched shape of transformation matrices\n",
            "4 doesn't equal to 8\n"
          ],
          "name": "stdout"
        }
      ]
    },
    {
      "cell_type": "markdown",
      "metadata": {
        "id": "Src0XGIMJKqM"
      },
      "source": [
        "<h3>Aritmethic Operator</h3>"
      ]
    },
    {
      "cell_type": "code",
      "metadata": {
        "id": "rqMd5Zt4JPGT"
      },
      "source": [
        "import tensorflow as tf\n",
        "\n",
        "a = tf.Variable([1])\n",
        "b = tf.Variable([2])\n",
        "\n",
        "add = tf.add(a,b)\n",
        "add"
      ],
      "execution_count": null,
      "outputs": []
    },
    {
      "cell_type": "code",
      "metadata": {
        "id": "zGEVqzC6j7cA"
      },
      "source": [
        "sub = tf.math.subtract(b,a)\n",
        "sub"
      ],
      "execution_count": null,
      "outputs": []
    },
    {
      "cell_type": "code",
      "metadata": {
        "id": "0BRoRboWkQGd"
      },
      "source": [
        "c = tf.Variable([[1,2],[3,4]])\n",
        "d = tf.Variable([[5,6],[7,8]])\n",
        "\n",
        "mul = tf.multiply(c,d)\n",
        "mul"
      ],
      "execution_count": null,
      "outputs": []
    },
    {
      "cell_type": "code",
      "metadata": {
        "id": "BBN6t7wglCEr"
      },
      "source": [
        "matmul = tf.matmul(c,d)\n",
        "matmul"
      ],
      "execution_count": null,
      "outputs": []
    }
  ]
}