{
  "nbformat": 4,
  "nbformat_minor": 0,
  "metadata": {
    "kernelspec": {
      "display_name": "Python 3",
      "language": "python",
      "name": "python3"
    },
    "language_info": {
      "codemirror_mode": {
        "name": "ipython",
        "version": 3
      },
      "file_extension": ".py",
      "mimetype": "text/x-python",
      "name": "python",
      "nbconvert_exporter": "python",
      "pygments_lexer": "ipython3",
      "version": "3.8.5"
    },
    "colab": {
      "name": "Introduction to Tensorflow.ipynb",
      "provenance": []
    }
  },
  "cells": [
    {
      "cell_type": "markdown",
      "metadata": {
        "id": "4otCDOuHCDZG"
      },
      "source": [
        "<ol>\n",
        "    <li>Skalar, 1 Dimensi, [1]</li>\n",
        "    <li>Vektor / Array, 1+ Dimensi, [1,2] -> 2 Dimensi</li>\n",
        "    <li>Vektor / Array, 1+ Dimensi, [1,2,3] -> 3 Dimensi</li>\n",
        "    <li>Matriks, Gabungan Vektor, Terdiri Dari Baris Dan Kolom</li>\n",
        "    <li>Tensor, Gabungan Matriks</li>\n",
        "</ol>"
      ]
    },
    {
      "cell_type": "code",
      "metadata": {
        "id": "O2Zcw4jwCDZR"
      },
      "source": [
        "import tensorflow as tf"
      ],
      "execution_count": null,
      "outputs": []
    },
    {
      "cell_type": "code",
      "metadata": {
        "id": "Et5V12n7CDZS"
      },
      "source": [
        "tf.__version__"
      ],
      "execution_count": null,
      "outputs": []
    },
    {
      "cell_type": "code",
      "metadata": {
        "id": "3e8-j0Egmk85"
      },
      "source": [
        "cx = tf.constant(7)\n",
        "cx"
      ],
      "execution_count": null,
      "outputs": []
    },
    {
      "cell_type": "code",
      "metadata": {
        "id": "d4vrt6S6FQTg"
      },
      "source": [
        "c0 = tf.constant(1, shape=(1))\n",
        "c0"
      ],
      "execution_count": null,
      "outputs": []
    },
    {
      "cell_type": "code",
      "metadata": {
        "id": "-PMOvrajve2v"
      },
      "source": [
        "c0[0]"
      ],
      "execution_count": null,
      "outputs": []
    },
    {
      "cell_type": "code",
      "metadata": {
        "id": "QiknSU16vn3E"
      },
      "source": [
        "try:\n",
        "  c0[0].assign(2)\n",
        "except:\n",
        "  print(\"Can't Change\")"
      ],
      "execution_count": null,
      "outputs": []
    },
    {
      "cell_type": "code",
      "metadata": {
        "id": "A2RRd-CJEc7a"
      },
      "source": [
        "c1 = tf.constant(1,shape=(1,2))\n",
        "c1"
      ],
      "execution_count": null,
      "outputs": []
    },
    {
      "cell_type": "code",
      "metadata": {
        "id": "WxVEj9wQFgrj"
      },
      "source": [
        "c2 = tf.constant(2, shape=(2,2))\n",
        "c2"
      ],
      "execution_count": null,
      "outputs": []
    },
    {
      "cell_type": "code",
      "metadata": {
        "id": "YnUPm6RSFlkS"
      },
      "source": [
        "c3 = tf.constant(2, shape=(2,2,2))\n",
        "c3"
      ],
      "execution_count": null,
      "outputs": []
    },
    {
      "cell_type": "code",
      "metadata": {
        "id": "5FQd6Jsfonty"
      },
      "source": [
        "c3b = tf.constant(2, shape=(2,2,2),dtype=tf.float16)\n",
        "c3b"
      ],
      "execution_count": null,
      "outputs": []
    },
    {
      "cell_type": "code",
      "metadata": {
        "id": "K8BBsJsZGQMX"
      },
      "source": [
        "v1 = tf.Variable(1)\n",
        "v1"
      ],
      "execution_count": null,
      "outputs": []
    },
    {
      "cell_type": "code",
      "metadata": {
        "id": "JMSxrHr3GZ-B"
      },
      "source": [
        "v2 = tf.Variable([1])\n",
        "v2"
      ],
      "execution_count": null,
      "outputs": []
    },
    {
      "cell_type": "code",
      "metadata": {
        "id": "oHixTjYkvGLS"
      },
      "source": [
        "v2[0]"
      ],
      "execution_count": null,
      "outputs": []
    },
    {
      "cell_type": "code",
      "metadata": {
        "id": "9D2MeazjvMRt"
      },
      "source": [
        "v2[0].assign(1)"
      ],
      "execution_count": null,
      "outputs": []
    },
    {
      "cell_type": "code",
      "metadata": {
        "id": "W0kIvyJXGfoj"
      },
      "source": [
        "v3 = tf.Variable([1,2])\n",
        "v3"
      ],
      "execution_count": null,
      "outputs": []
    },
    {
      "cell_type": "code",
      "metadata": {
        "id": "O-9MX1-XHrn6"
      },
      "source": [
        "v4 = tf.Variable([[1,2],[3,4]])\n",
        "v4"
      ],
      "execution_count": null,
      "outputs": []
    },
    {
      "cell_type": "code",
      "metadata": {
        "id": "md-60pWzH38K"
      },
      "source": [
        "v5 = tf.Variable([[[1,2],[3,4]],[[5,6],[7,8]]])\n",
        "v5"
      ],
      "execution_count": null,
      "outputs": []
    },
    {
      "cell_type": "code",
      "metadata": {
        "id": "fOOXhs5xtX9n"
      },
      "source": [
        "v5[0]"
      ],
      "execution_count": null,
      "outputs": []
    },
    {
      "cell_type": "code",
      "metadata": {
        "id": "XQZqg6xntt7v"
      },
      "source": [
        "v5[0][0]"
      ],
      "execution_count": null,
      "outputs": []
    },
    {
      "cell_type": "code",
      "metadata": {
        "id": "SXTuHzVmtyoK"
      },
      "source": [
        "v5[0][0][0]"
      ],
      "execution_count": null,
      "outputs": []
    },
    {
      "cell_type": "markdown",
      "metadata": {
        "id": "JiVilg3rv9WS"
      },
      "source": [
        "### Getting Tensor Information"
      ]
    },
    {
      "cell_type": "code",
      "metadata": {
        "id": "mOgPMT5dJSZm"
      },
      "source": [
        "v5.dtype"
      ],
      "execution_count": null,
      "outputs": []
    },
    {
      "cell_type": "code",
      "metadata": {
        "id": "WQvsUXqeJUjV"
      },
      "source": [
        "v5.shape"
      ],
      "execution_count": null,
      "outputs": []
    },
    {
      "cell_type": "code",
      "metadata": {
        "id": "073lP8Gf6GR3"
      },
      "source": [
        "v5.get_shape()"
      ],
      "execution_count": null,
      "outputs": []
    },
    {
      "cell_type": "code",
      "metadata": {
        "id": "mFBbWlTtnJpF"
      },
      "source": [
        "c1.ndim"
      ],
      "execution_count": null,
      "outputs": []
    },
    {
      "cell_type": "code",
      "metadata": {
        "id": "CK0fca3pwHzy"
      },
      "source": [
        "try:\n",
        "  print(v5.ndim)\n",
        "except:\n",
        "  print('BTS Meal')"
      ],
      "execution_count": null,
      "outputs": []
    },
    {
      "cell_type": "code",
      "metadata": {
        "id": "sVZwrfKawCq3"
      },
      "source": [
        "v5.size"
      ],
      "execution_count": null,
      "outputs": []
    },
    {
      "cell_type": "markdown",
      "metadata": {
        "id": "L4Ud95fmZoWm"
      },
      "source": [
        "<h3>Random Tensor</h3>"
      ]
    },
    {
      "cell_type": "code",
      "metadata": {
        "id": "fUCVlZbLZwnd"
      },
      "source": [
        "import tensorflow as tf\n",
        "\n",
        "ran1 = tf.random.Generator.from_seed(42)\n",
        "ran1 = ran1.normal(shape=(2,2))\n",
        "ran1"
      ],
      "execution_count": null,
      "outputs": []
    },
    {
      "cell_type": "code",
      "metadata": {
        "id": "ZjUsbYDwaAfu"
      },
      "source": [
        "ran2 = tf.random.Generator.from_seed(42)\n",
        "ran2 = ran2.normal(shape=(2,2))\n",
        "ran2"
      ],
      "execution_count": null,
      "outputs": []
    },
    {
      "cell_type": "code",
      "metadata": {
        "id": "ZdBQtLToaK8C"
      },
      "source": [
        "ran1 == ran2"
      ],
      "execution_count": null,
      "outputs": []
    },
    {
      "cell_type": "markdown",
      "metadata": {
        "id": "0ZVpYas8bGOO"
      },
      "source": [
        "<h3>Shuffle the order in Tensor</h3>"
      ]
    },
    {
      "cell_type": "code",
      "metadata": {
        "id": "YbqcOW_RbKUi"
      },
      "source": [
        "co1 = tf.constant([[10,2],[30,4],[33,4],[50,5]])\n",
        "co1"
      ],
      "execution_count": null,
      "outputs": []
    },
    {
      "cell_type": "code",
      "metadata": {
        "id": "qCfTHSmIbdn_"
      },
      "source": [
        "co2 = tf.random.shuffle(co1)\n",
        "co2"
      ],
      "execution_count": null,
      "outputs": []
    },
    {
      "cell_type": "code",
      "metadata": {
        "id": "8eA8kxpSc2m-"
      },
      "source": [
        "tf.random.set_seed(42)\n",
        "co3 = tf.random.shuffle(co1)\n",
        "co3"
      ],
      "execution_count": null,
      "outputs": []
    },
    {
      "cell_type": "markdown",
      "metadata": {
        "id": "bvfvDx8Ddyg_"
      },
      "source": [
        "**<i>what is the difference between tf.random.set.seed() and tf.Generator.from_seed()</i>**"
      ]
    },
    {
      "cell_type": "markdown",
      "metadata": {
        "id": "VGcckS88fcih"
      },
      "source": [
        "<h3>Others</h3>"
      ]
    },
    {
      "cell_type": "code",
      "metadata": {
        "id": "lfbW63IPffFp"
      },
      "source": [
        "tf.ones([2,2])"
      ],
      "execution_count": null,
      "outputs": []
    },
    {
      "cell_type": "code",
      "metadata": {
        "id": "OeboI25ofnhw"
      },
      "source": [
        "tf.ones([2,2],dtype=tf.int32)"
      ],
      "execution_count": null,
      "outputs": []
    },
    {
      "cell_type": "code",
      "metadata": {
        "id": "p6y3ocE3ft0E"
      },
      "source": [
        "tf.zeros([2,2],dtype=tf.int16)"
      ],
      "execution_count": null,
      "outputs": []
    },
    {
      "cell_type": "code",
      "metadata": {
        "id": "i9yLi2DNf181"
      },
      "source": [
        "import numpy as np\n",
        "a = np.arange(1,5)\n",
        "a"
      ],
      "execution_count": null,
      "outputs": []
    },
    {
      "cell_type": "code",
      "metadata": {
        "id": "B2RTtnRhiUwE"
      },
      "source": [
        "tf.constant(a)"
      ],
      "execution_count": null,
      "outputs": []
    },
    {
      "cell_type": "code",
      "metadata": {
        "id": "i6elOwqwiXgh"
      },
      "source": [
        "tf.constant(a,shape=(2,2))"
      ],
      "execution_count": null,
      "outputs": []
    },
    {
      "cell_type": "code",
      "metadata": {
        "id": "XQIFe-m0iz7J"
      },
      "source": [
        "b = np.arange(1,9)\n",
        "b"
      ],
      "execution_count": null,
      "outputs": []
    },
    {
      "cell_type": "code",
      "metadata": {
        "id": "B4BZIbnEi28d"
      },
      "source": [
        "try:\n",
        "  tf.constant(b,shape=(2,2))\n",
        "except:\n",
        "  print(\"Unmatched shape of transformation matrices\")\n",
        "  print(2*2,\"doesn't equal to\",8)"
      ],
      "execution_count": null,
      "outputs": []
    },
    {
      "cell_type": "markdown",
      "metadata": {
        "id": "Src0XGIMJKqM"
      },
      "source": [
        "<h3>Aritmethic Operator</h3>"
      ]
    },
    {
      "cell_type": "code",
      "metadata": {
        "id": "rqMd5Zt4JPGT"
      },
      "source": [
        "import tensorflow as tf\n",
        "\n",
        "a = tf.Variable([1])\n",
        "b = tf.Variable([2])\n",
        "\n",
        "add = tf.add(a,b)\n",
        "add"
      ],
      "execution_count": null,
      "outputs": []
    },
    {
      "cell_type": "code",
      "metadata": {
        "id": "zGEVqzC6j7cA"
      },
      "source": [
        "sub = tf.math.subtract(b,a)\n",
        "sub"
      ],
      "execution_count": null,
      "outputs": []
    },
    {
      "cell_type": "code",
      "metadata": {
        "id": "0BRoRboWkQGd"
      },
      "source": [
        "c = tf.Variable([[1,2],[3,4]])\n",
        "d = tf.Variable([[5,6],[7,8]])\n",
        "\n",
        "mul = tf.multiply(c,d)\n",
        "mul"
      ],
      "execution_count": null,
      "outputs": []
    },
    {
      "cell_type": "code",
      "metadata": {
        "id": "BBN6t7wglCEr"
      },
      "source": [
        "matmul = tf.matmul(c,d)\n",
        "matmul"
      ],
      "execution_count": null,
      "outputs": []
    }
  ]
}