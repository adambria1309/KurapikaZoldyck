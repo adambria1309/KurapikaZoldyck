{
  "nbformat": 4,
  "nbformat_minor": 0,
  "metadata": {
    "kernelspec": {
      "display_name": "Python 3",
      "language": "python",
      "name": "python3"
    },
    "language_info": {
      "codemirror_mode": {
        "name": "ipython",
        "version": 3
      },
      "file_extension": ".py",
      "mimetype": "text/x-python",
      "name": "python",
      "nbconvert_exporter": "python",
      "pygments_lexer": "ipython3",
      "version": "3.8.5"
    },
    "colab": {
      "name": "Introduction to Tensorflow.ipynb",
      "provenance": [],
      "include_colab_link": true
    }
  },
  "cells": [
    {
      "cell_type": "markdown",
      "metadata": {
        "id": "view-in-github",
        "colab_type": "text"
      },
      "source": [
        "<a href=\"https://colab.research.google.com/github/KurapikaZoldyck/KurapikaZoldyck/blob/main/Tensorflow/Introduction%20to%20Tensorflow.ipynb\" target=\"_parent\"><img src=\"https://colab.research.google.com/assets/colab-badge.svg\" alt=\"Open In Colab\"/></a>"
      ]
    },
    {
      "cell_type": "markdown",
      "metadata": {
        "id": "170SVQ_qsnF8"
      },
      "source": [
        "# Opening"
      ]
    },
    {
      "cell_type": "code",
      "metadata": {
        "id": "ufz0wVzPYAmQ"
      },
      "source": [
        "import tensorflow as tf"
      ],
      "execution_count": 1,
      "outputs": []
    },
    {
      "cell_type": "code",
      "metadata": {
        "id": "xOUYMtXEYNX2",
        "outputId": "2721888c-26d3-4b11-d757-0f79486033e8",
        "colab": {
          "base_uri": "https://localhost:8080/",
          "height": 0
        }
      },
      "source": [
        "tf.__version__"
      ],
      "execution_count": 2,
      "outputs": [
        {
          "output_type": "execute_result",
          "data": {
            "application/vnd.google.colaboratory.intrinsic+json": {
              "type": "string"
            },
            "text/plain": [
              "'2.5.0'"
            ]
          },
          "metadata": {
            "tags": []
          },
          "execution_count": 2
        }
      ]
    },
    {
      "cell_type": "markdown",
      "metadata": {
        "id": "PsoQ5xvXYSQ3"
      },
      "source": [
        "# Tensorflow Constant"
      ]
    },
    {
      "cell_type": "code",
      "metadata": {
        "id": "m0bn0jbiYP3l",
        "outputId": "8062a06d-cc34-4123-b73c-2b7a0d677b78",
        "colab": {
          "base_uri": "https://localhost:8080/"
        }
      },
      "source": [
        "c0 = tf.constant(1)\n",
        "c0"
      ],
      "execution_count": 3,
      "outputs": [
        {
          "output_type": "execute_result",
          "data": {
            "text/plain": [
              "<tf.Tensor: shape=(), dtype=int32, numpy=1>"
            ]
          },
          "metadata": {
            "tags": []
          },
          "execution_count": 3
        }
      ]
    },
    {
      "cell_type": "code",
      "metadata": {
        "id": "r8dAx3pJbIIQ",
        "outputId": "53025b60-14a3-499c-9917-61dde34af51e",
        "colab": {
          "base_uri": "https://localhost:8080/"
        }
      },
      "source": [
        "c1 = tf.constant([1,1])\n",
        "c1"
      ],
      "execution_count": 4,
      "outputs": [
        {
          "output_type": "execute_result",
          "data": {
            "text/plain": [
              "<tf.Tensor: shape=(2,), dtype=int32, numpy=array([1, 1], dtype=int32)>"
            ]
          },
          "metadata": {
            "tags": []
          },
          "execution_count": 4
        }
      ]
    },
    {
      "cell_type": "code",
      "metadata": {
        "id": "I1RehHWFbOUC",
        "outputId": "5aeadab3-683d-4955-efa2-1a042a0bd6a2",
        "colab": {
          "base_uri": "https://localhost:8080/"
        }
      },
      "source": [
        "c2 = tf.constant([[1,2],[3,4]])\n",
        "c2"
      ],
      "execution_count": 5,
      "outputs": [
        {
          "output_type": "execute_result",
          "data": {
            "text/plain": [
              "<tf.Tensor: shape=(2, 2), dtype=int32, numpy=\n",
              "array([[1, 2],\n",
              "       [3, 4]], dtype=int32)>"
            ]
          },
          "metadata": {
            "tags": []
          },
          "execution_count": 5
        }
      ]
    },
    {
      "cell_type": "code",
      "metadata": {
        "id": "x-oGZTM6bWlH",
        "outputId": "ac50cc66-2340-43fa-f990-b7eed0028241",
        "colab": {
          "base_uri": "https://localhost:8080/"
        }
      },
      "source": [
        "c3 = tf.constant([\n",
        "                  [[1,2],[3,4],[5,6]],\n",
        "                  [[6,5],[4,3],[2,1]]\n",
        "                  ])\n",
        "c3"
      ],
      "execution_count": 6,
      "outputs": [
        {
          "output_type": "execute_result",
          "data": {
            "text/plain": [
              "<tf.Tensor: shape=(2, 3, 2), dtype=int32, numpy=\n",
              "array([[[1, 2],\n",
              "        [3, 4],\n",
              "        [5, 6]],\n",
              "\n",
              "       [[6, 5],\n",
              "        [4, 3],\n",
              "        [2, 1]]], dtype=int32)>"
            ]
          },
          "metadata": {
            "tags": []
          },
          "execution_count": 6
        }
      ]
    },
    {
      "cell_type": "code",
      "metadata": {
        "id": "Y5wt9PrXdOGd",
        "outputId": "73646cb6-3b89-4459-db7b-142cff1e05fc",
        "colab": {
          "base_uri": "https://localhost:8080/"
        }
      },
      "source": [
        "c4 = tf.constant(2, shape=())\n",
        "c4"
      ],
      "execution_count": 7,
      "outputs": [
        {
          "output_type": "execute_result",
          "data": {
            "text/plain": [
              "<tf.Tensor: shape=(), dtype=int32, numpy=2>"
            ]
          },
          "metadata": {
            "tags": []
          },
          "execution_count": 7
        }
      ]
    },
    {
      "cell_type": "code",
      "metadata": {
        "id": "ztvjzzW9dXSI",
        "outputId": "ad222428-bfa2-44dc-d26a-55d2fe87f478",
        "colab": {
          "base_uri": "https://localhost:8080/"
        }
      },
      "source": [
        "c5 = tf.constant(2, shape=(2,))\n",
        "c5"
      ],
      "execution_count": 8,
      "outputs": [
        {
          "output_type": "execute_result",
          "data": {
            "text/plain": [
              "<tf.Tensor: shape=(2,), dtype=int32, numpy=array([2, 2], dtype=int32)>"
            ]
          },
          "metadata": {
            "tags": []
          },
          "execution_count": 8
        }
      ]
    },
    {
      "cell_type": "code",
      "metadata": {
        "id": "bzUTOI9Wdayv",
        "outputId": "45d7c6fa-3659-40da-d231-07502dc36004",
        "colab": {
          "base_uri": "https://localhost:8080/"
        }
      },
      "source": [
        "c6 = tf.constant(2, shape=(2,2))\n",
        "c6"
      ],
      "execution_count": 9,
      "outputs": [
        {
          "output_type": "execute_result",
          "data": {
            "text/plain": [
              "<tf.Tensor: shape=(2, 2), dtype=int32, numpy=\n",
              "array([[2, 2],\n",
              "       [2, 2]], dtype=int32)>"
            ]
          },
          "metadata": {
            "tags": []
          },
          "execution_count": 9
        }
      ]
    },
    {
      "cell_type": "code",
      "metadata": {
        "id": "yoj88W6qdiZc",
        "outputId": "2d98c598-609c-4ab3-c6b9-a3d239f97e2f",
        "colab": {
          "base_uri": "https://localhost:8080/"
        }
      },
      "source": [
        "c7 = tf.constant(2, shape=(2,2,2))\n",
        "c7"
      ],
      "execution_count": 10,
      "outputs": [
        {
          "output_type": "execute_result",
          "data": {
            "text/plain": [
              "<tf.Tensor: shape=(2, 2, 2), dtype=int32, numpy=\n",
              "array([[[2, 2],\n",
              "        [2, 2]],\n",
              "\n",
              "       [[2, 2],\n",
              "        [2, 2]]], dtype=int32)>"
            ]
          },
          "metadata": {
            "tags": []
          },
          "execution_count": 10
        }
      ]
    },
    {
      "cell_type": "code",
      "metadata": {
        "id": "3o2vEgVkd0Zk",
        "outputId": "60034def-9d66-4189-85c6-f4f8da08f46a",
        "colab": {
          "base_uri": "https://localhost:8080/"
        }
      },
      "source": [
        "c8 = tf.constant(2, shape=(2,2,2), dtype=tf.float16)\n",
        "c8"
      ],
      "execution_count": 11,
      "outputs": [
        {
          "output_type": "execute_result",
          "data": {
            "text/plain": [
              "<tf.Tensor: shape=(2, 2, 2), dtype=float16, numpy=\n",
              "array([[[2., 2.],\n",
              "        [2., 2.]],\n",
              "\n",
              "       [[2., 2.],\n",
              "        [2., 2.]]], dtype=float16)>"
            ]
          },
          "metadata": {
            "tags": []
          },
          "execution_count": 11
        }
      ]
    },
    {
      "cell_type": "code",
      "metadata": {
        "id": "ys1TTQfeeZOk",
        "outputId": "8620c56d-072b-4e0c-f678-70fe702b4fa9",
        "colab": {
          "base_uri": "https://localhost:8080/"
        }
      },
      "source": [
        "c3[0]"
      ],
      "execution_count": 12,
      "outputs": [
        {
          "output_type": "execute_result",
          "data": {
            "text/plain": [
              "<tf.Tensor: shape=(3, 2), dtype=int32, numpy=\n",
              "array([[1, 2],\n",
              "       [3, 4],\n",
              "       [5, 6]], dtype=int32)>"
            ]
          },
          "metadata": {
            "tags": []
          },
          "execution_count": 12
        }
      ]
    },
    {
      "cell_type": "code",
      "metadata": {
        "id": "ltgZlinQenwl",
        "outputId": "94755695-fe9d-445d-d7cc-8ca59376c1f5",
        "colab": {
          "base_uri": "https://localhost:8080/"
        }
      },
      "source": [
        "c3[0][0]"
      ],
      "execution_count": 13,
      "outputs": [
        {
          "output_type": "execute_result",
          "data": {
            "text/plain": [
              "<tf.Tensor: shape=(2,), dtype=int32, numpy=array([1, 2], dtype=int32)>"
            ]
          },
          "metadata": {
            "tags": []
          },
          "execution_count": 13
        }
      ]
    },
    {
      "cell_type": "code",
      "metadata": {
        "id": "nYDlLXddeuQv",
        "outputId": "bfd6fdb0-2c04-4304-9a7e-474004779f7b",
        "colab": {
          "base_uri": "https://localhost:8080/"
        }
      },
      "source": [
        "c3[0][0][0]"
      ],
      "execution_count": 14,
      "outputs": [
        {
          "output_type": "execute_result",
          "data": {
            "text/plain": [
              "<tf.Tensor: shape=(), dtype=int32, numpy=1>"
            ]
          },
          "metadata": {
            "tags": []
          },
          "execution_count": 14
        }
      ]
    },
    {
      "cell_type": "code",
      "metadata": {
        "id": "CETl16Cue4co",
        "outputId": "1bbf5b62-5ef6-4ced-a0cf-7489b917c7fd",
        "colab": {
          "base_uri": "https://localhost:8080/"
        }
      },
      "source": [
        "c3.shape"
      ],
      "execution_count": 15,
      "outputs": [
        {
          "output_type": "execute_result",
          "data": {
            "text/plain": [
              "TensorShape([2, 3, 2])"
            ]
          },
          "metadata": {
            "tags": []
          },
          "execution_count": 15
        }
      ]
    },
    {
      "cell_type": "code",
      "metadata": {
        "id": "9HRllqx7e7z3",
        "outputId": "93131cdc-f85a-464f-c8ae-4e3da3c93dc3",
        "colab": {
          "base_uri": "https://localhost:8080/"
        }
      },
      "source": [
        "c3.get_shape()"
      ],
      "execution_count": 16,
      "outputs": [
        {
          "output_type": "execute_result",
          "data": {
            "text/plain": [
              "TensorShape([2, 3, 2])"
            ]
          },
          "metadata": {
            "tags": []
          },
          "execution_count": 16
        }
      ]
    },
    {
      "cell_type": "code",
      "metadata": {
        "id": "dph3Tkx4e6gU",
        "outputId": "3d6b6821-5f6f-4fa7-ed84-b67749b7728b",
        "colab": {
          "base_uri": "https://localhost:8080/"
        }
      },
      "source": [
        "c3.ndim"
      ],
      "execution_count": 17,
      "outputs": [
        {
          "output_type": "execute_result",
          "data": {
            "text/plain": [
              "3"
            ]
          },
          "metadata": {
            "tags": []
          },
          "execution_count": 17
        }
      ]
    },
    {
      "cell_type": "markdown",
      "metadata": {
        "id": "k0eh1hK_YkPm"
      },
      "source": [
        "# Tensorflow Variable"
      ]
    },
    {
      "cell_type": "code",
      "metadata": {
        "id": "jRc9LDueZbf1",
        "outputId": "66ad7de9-6017-40b8-c310-19dd485a83de",
        "colab": {
          "base_uri": "https://localhost:8080/"
        }
      },
      "source": [
        "v0 = tf.Variable(1)\n",
        "v0"
      ],
      "execution_count": 18,
      "outputs": [
        {
          "output_type": "execute_result",
          "data": {
            "text/plain": [
              "<tf.Variable 'Variable:0' shape=() dtype=int32, numpy=1>"
            ]
          },
          "metadata": {
            "tags": []
          },
          "execution_count": 18
        }
      ]
    },
    {
      "cell_type": "code",
      "metadata": {
        "id": "KVuXss5TfqX9",
        "outputId": "d8be4353-43f0-4574-c8a7-261ab11b3cd8",
        "colab": {
          "base_uri": "https://localhost:8080/"
        }
      },
      "source": [
        "v1 = tf.Variable([1,1])\n",
        "v1"
      ],
      "execution_count": 19,
      "outputs": [
        {
          "output_type": "execute_result",
          "data": {
            "text/plain": [
              "<tf.Variable 'Variable:0' shape=(2,) dtype=int32, numpy=array([1, 1], dtype=int32)>"
            ]
          },
          "metadata": {
            "tags": []
          },
          "execution_count": 19
        }
      ]
    },
    {
      "cell_type": "code",
      "metadata": {
        "id": "7Jktqdykft5I",
        "outputId": "0d7ee57b-981c-40cc-983f-59e8e3f44246",
        "colab": {
          "base_uri": "https://localhost:8080/"
        }
      },
      "source": [
        "v2 = tf.Variable([[1,2],[3,4]])\n",
        "v2"
      ],
      "execution_count": 20,
      "outputs": [
        {
          "output_type": "execute_result",
          "data": {
            "text/plain": [
              "<tf.Variable 'Variable:0' shape=(2, 2) dtype=int32, numpy=\n",
              "array([[1, 2],\n",
              "       [3, 4]], dtype=int32)>"
            ]
          },
          "metadata": {
            "tags": []
          },
          "execution_count": 20
        }
      ]
    },
    {
      "cell_type": "code",
      "metadata": {
        "id": "591FUlI2fylO",
        "outputId": "e23fc33a-b559-4cac-b264-7db1b62fa42c",
        "colab": {
          "base_uri": "https://localhost:8080/"
        }
      },
      "source": [
        "v3 = tf.Variable([\n",
        "                  [[1,2],[3,4]],\n",
        "                  [[5,6],[7,8]]\n",
        "                  ])\n",
        "v3"
      ],
      "execution_count": 21,
      "outputs": [
        {
          "output_type": "execute_result",
          "data": {
            "text/plain": [
              "<tf.Variable 'Variable:0' shape=(2, 2, 2) dtype=int32, numpy=\n",
              "array([[[1, 2],\n",
              "        [3, 4]],\n",
              "\n",
              "       [[5, 6],\n",
              "        [7, 8]]], dtype=int32)>"
            ]
          },
          "metadata": {
            "tags": []
          },
          "execution_count": 21
        }
      ]
    },
    {
      "cell_type": "code",
      "metadata": {
        "id": "-zqpamXwgBM8",
        "outputId": "6c45b924-fd88-4a44-aca4-66cf0fa02724",
        "colab": {
          "base_uri": "https://localhost:8080/"
        }
      },
      "source": [
        "v3[0]"
      ],
      "execution_count": 22,
      "outputs": [
        {
          "output_type": "execute_result",
          "data": {
            "text/plain": [
              "<tf.Tensor: shape=(2, 2), dtype=int32, numpy=\n",
              "array([[1, 2],\n",
              "       [3, 4]], dtype=int32)>"
            ]
          },
          "metadata": {
            "tags": []
          },
          "execution_count": 22
        }
      ]
    },
    {
      "cell_type": "code",
      "metadata": {
        "id": "NFr1iutKg1Mv",
        "outputId": "a5bffd82-2f8e-4f02-8957-7f234319f897",
        "colab": {
          "base_uri": "https://localhost:8080/"
        }
      },
      "source": [
        "v3[0][0]"
      ],
      "execution_count": 23,
      "outputs": [
        {
          "output_type": "execute_result",
          "data": {
            "text/plain": [
              "<tf.Tensor: shape=(2,), dtype=int32, numpy=array([1, 2], dtype=int32)>"
            ]
          },
          "metadata": {
            "tags": []
          },
          "execution_count": 23
        }
      ]
    },
    {
      "cell_type": "code",
      "metadata": {
        "id": "eyeCsiGpg3S-",
        "outputId": "4d1c788b-ae00-4512-f64e-a40ce9d6f917",
        "colab": {
          "base_uri": "https://localhost:8080/"
        }
      },
      "source": [
        "v3[0][0][0]"
      ],
      "execution_count": 24,
      "outputs": [
        {
          "output_type": "execute_result",
          "data": {
            "text/plain": [
              "<tf.Tensor: shape=(), dtype=int32, numpy=1>"
            ]
          },
          "metadata": {
            "tags": []
          },
          "execution_count": 24
        }
      ]
    },
    {
      "cell_type": "code",
      "metadata": {
        "id": "GMhDSmqYhhba",
        "outputId": "3d233402-2322-44c6-aa49-09adb8a6bf5a",
        "colab": {
          "base_uri": "https://localhost:8080/"
        }
      },
      "source": [
        "v3.shape"
      ],
      "execution_count": 25,
      "outputs": [
        {
          "output_type": "execute_result",
          "data": {
            "text/plain": [
              "TensorShape([2, 2, 2])"
            ]
          },
          "metadata": {
            "tags": []
          },
          "execution_count": 25
        }
      ]
    },
    {
      "cell_type": "code",
      "metadata": {
        "id": "qd-xhowshkQd",
        "outputId": "c85fd84a-130b-4813-81f7-6158ea9fbc3b",
        "colab": {
          "base_uri": "https://localhost:8080/"
        }
      },
      "source": [
        "v3.get_shape()"
      ],
      "execution_count": 26,
      "outputs": [
        {
          "output_type": "execute_result",
          "data": {
            "text/plain": [
              "TensorShape([2, 2, 2])"
            ]
          },
          "metadata": {
            "tags": []
          },
          "execution_count": 26
        }
      ]
    },
    {
      "cell_type": "code",
      "metadata": {
        "id": "z6dgTJIThnmR",
        "outputId": "adedee03-64fb-4240-8eaa-061f7eb58748",
        "colab": {
          "base_uri": "https://localhost:8080/"
        }
      },
      "source": [
        "v3.dtype"
      ],
      "execution_count": 27,
      "outputs": [
        {
          "output_type": "execute_result",
          "data": {
            "text/plain": [
              "tf.int32"
            ]
          },
          "metadata": {
            "tags": []
          },
          "execution_count": 27
        }
      ]
    },
    {
      "cell_type": "markdown",
      "metadata": {
        "id": "O-dBT26-ZK_r"
      },
      "source": [
        "# Tensorflow Constant vs Tensorflow Variable"
      ]
    },
    {
      "cell_type": "code",
      "metadata": {
        "id": "eai3H3koZZUs"
      },
      "source": [
        "t1 = tf.constant(1)\n",
        "t2 = tf.Variable(1)"
      ],
      "execution_count": 28,
      "outputs": []
    },
    {
      "cell_type": "code",
      "metadata": {
        "id": "j-563UE9iCp2",
        "outputId": "f3b3dd3f-5d36-4cbd-925d-45b8e7a1f8c1",
        "colab": {
          "base_uri": "https://localhost:8080/"
        }
      },
      "source": [
        "try:\n",
        "  t1.assign(2)\n",
        "  print(t1)\n",
        "except:\n",
        "  print(\"Error\")"
      ],
      "execution_count": 29,
      "outputs": [
        {
          "output_type": "stream",
          "text": [
            "Error\n"
          ],
          "name": "stdout"
        }
      ]
    },
    {
      "cell_type": "code",
      "metadata": {
        "id": "0M03DRrBiIFj",
        "outputId": "01f696e6-441a-485a-e3f3-de027d098611",
        "colab": {
          "base_uri": "https://localhost:8080/"
        }
      },
      "source": [
        "try:\n",
        "  t2.assign(2)\n",
        "  print(t2)\n",
        "except:\n",
        "  print(\"Error\")"
      ],
      "execution_count": 30,
      "outputs": [
        {
          "output_type": "stream",
          "text": [
            "<tf.Variable 'Variable:0' shape=() dtype=int32, numpy=2>\n"
          ],
          "name": "stdout"
        }
      ]
    },
    {
      "cell_type": "markdown",
      "metadata": {
        "id": "XFQ4KYr0ZWGQ"
      },
      "source": [
        "# Random And Shuffle Tensor"
      ]
    },
    {
      "cell_type": "code",
      "metadata": {
        "id": "F62f3yebZdlR",
        "outputId": "d6fc25ea-f449-4a9a-846d-66a665a8550c",
        "colab": {
          "base_uri": "https://localhost:8080/"
        }
      },
      "source": [
        "ran1 = tf.random.Generator.from_seed(42)\n",
        "ran1 = ran1.normal(shape=(2,2))\n",
        "ran1"
      ],
      "execution_count": 31,
      "outputs": [
        {
          "output_type": "execute_result",
          "data": {
            "text/plain": [
              "<tf.Tensor: shape=(2, 2), dtype=float32, numpy=\n",
              "array([[-0.7565803 , -0.06854702],\n",
              "       [ 0.07595026, -1.2573844 ]], dtype=float32)>"
            ]
          },
          "metadata": {
            "tags": []
          },
          "execution_count": 31
        }
      ]
    },
    {
      "cell_type": "code",
      "metadata": {
        "id": "MTo5u694ZqE1",
        "outputId": "5741f38c-e1a7-410d-c199-2d6f64bf7759",
        "colab": {
          "base_uri": "https://localhost:8080/"
        }
      },
      "source": [
        "ran2 = tf.random.Generator.from_seed(42)\n",
        "ran2 = ran2.normal(shape=(2,2))\n",
        "ran2"
      ],
      "execution_count": 32,
      "outputs": [
        {
          "output_type": "execute_result",
          "data": {
            "text/plain": [
              "<tf.Tensor: shape=(2, 2), dtype=float32, numpy=\n",
              "array([[-0.7565803 , -0.06854702],\n",
              "       [ 0.07595026, -1.2573844 ]], dtype=float32)>"
            ]
          },
          "metadata": {
            "tags": []
          },
          "execution_count": 32
        }
      ]
    },
    {
      "cell_type": "code",
      "metadata": {
        "id": "aLFoOxjrqUzy",
        "outputId": "05b3bb06-c0f6-4796-e5f5-179a36a1d81b",
        "colab": {
          "base_uri": "https://localhost:8080/"
        }
      },
      "source": [
        "ran1 == ran2"
      ],
      "execution_count": 33,
      "outputs": [
        {
          "output_type": "execute_result",
          "data": {
            "text/plain": [
              "<tf.Tensor: shape=(2, 2), dtype=bool, numpy=\n",
              "array([[ True,  True],\n",
              "       [ True,  True]])>"
            ]
          },
          "metadata": {
            "tags": []
          },
          "execution_count": 33
        }
      ]
    },
    {
      "cell_type": "code",
      "metadata": {
        "id": "My3fhzvbqX_z",
        "outputId": "a6af34cf-cbd6-4685-951a-08357c6cea8c",
        "colab": {
          "base_uri": "https://localhost:8080/"
        }
      },
      "source": [
        "tf.random.normal(shape=(2,2))"
      ],
      "execution_count": 34,
      "outputs": [
        {
          "output_type": "execute_result",
          "data": {
            "text/plain": [
              "<tf.Tensor: shape=(2, 2), dtype=float32, numpy=\n",
              "array([[ 1.4698825 , -0.45395887],\n",
              "       [-0.7412708 , -0.09202912]], dtype=float32)>"
            ]
          },
          "metadata": {
            "tags": []
          },
          "execution_count": 34
        }
      ]
    },
    {
      "cell_type": "code",
      "metadata": {
        "id": "4aIAauoZsX5M",
        "outputId": "1861ab6b-0727-429b-af9c-f3209fd37411",
        "colab": {
          "base_uri": "https://localhost:8080/"
        }
      },
      "source": [
        "co1 = tf.constant([[10,2],[30,4],[33,4],[50,5]])\n",
        "co1"
      ],
      "execution_count": 35,
      "outputs": [
        {
          "output_type": "execute_result",
          "data": {
            "text/plain": [
              "<tf.Tensor: shape=(4, 2), dtype=int32, numpy=\n",
              "array([[10,  2],\n",
              "       [30,  4],\n",
              "       [33,  4],\n",
              "       [50,  5]], dtype=int32)>"
            ]
          },
          "metadata": {
            "tags": []
          },
          "execution_count": 35
        }
      ]
    },
    {
      "cell_type": "code",
      "metadata": {
        "id": "sm5XQKMksaOa",
        "outputId": "938d46b1-cbf6-43fa-ac85-d328031d7e4a",
        "colab": {
          "base_uri": "https://localhost:8080/"
        }
      },
      "source": [
        "co2 = tf.random.shuffle(co1)\n",
        "co2"
      ],
      "execution_count": 36,
      "outputs": [
        {
          "output_type": "execute_result",
          "data": {
            "text/plain": [
              "<tf.Tensor: shape=(4, 2), dtype=int32, numpy=\n",
              "array([[50,  5],\n",
              "       [10,  2],\n",
              "       [30,  4],\n",
              "       [33,  4]], dtype=int32)>"
            ]
          },
          "metadata": {
            "tags": []
          },
          "execution_count": 36
        }
      ]
    },
    {
      "cell_type": "code",
      "metadata": {
        "id": "LipfVDyZsa16",
        "outputId": "f184ee1b-6d86-4d0e-ff09-2b6284ab6a10",
        "colab": {
          "base_uri": "https://localhost:8080/"
        }
      },
      "source": [
        "co3 = tf.random.shuffle(co1)\n",
        "co3"
      ],
      "execution_count": 37,
      "outputs": [
        {
          "output_type": "execute_result",
          "data": {
            "text/plain": [
              "<tf.Tensor: shape=(4, 2), dtype=int32, numpy=\n",
              "array([[33,  4],\n",
              "       [10,  2],\n",
              "       [50,  5],\n",
              "       [30,  4]], dtype=int32)>"
            ]
          },
          "metadata": {
            "tags": []
          },
          "execution_count": 37
        }
      ]
    },
    {
      "cell_type": "code",
      "metadata": {
        "id": "cAqDZuSssbBM",
        "outputId": "0e1e8e65-158c-43b5-9a14-191e47377a73",
        "colab": {
          "base_uri": "https://localhost:8080/"
        }
      },
      "source": [
        "tf.random.set_seed(42)\n",
        "co4 = tf.random.shuffle(co1)\n",
        "co4"
      ],
      "execution_count": 38,
      "outputs": [
        {
          "output_type": "execute_result",
          "data": {
            "text/plain": [
              "<tf.Tensor: shape=(4, 2), dtype=int32, numpy=\n",
              "array([[50,  5],\n",
              "       [10,  2],\n",
              "       [30,  4],\n",
              "       [33,  4]], dtype=int32)>"
            ]
          },
          "metadata": {
            "tags": []
          },
          "execution_count": 38
        }
      ]
    },
    {
      "cell_type": "code",
      "metadata": {
        "id": "ramL-guZsiJl",
        "outputId": "1097657a-300a-4f7e-dac5-26c3b668473c",
        "colab": {
          "base_uri": "https://localhost:8080/"
        }
      },
      "source": [
        "tf.random.set_seed(42)\n",
        "co5 = tf.random.shuffle(co1)\n",
        "co5"
      ],
      "execution_count": 39,
      "outputs": [
        {
          "output_type": "execute_result",
          "data": {
            "text/plain": [
              "<tf.Tensor: shape=(4, 2), dtype=int32, numpy=\n",
              "array([[50,  5],\n",
              "       [10,  2],\n",
              "       [30,  4],\n",
              "       [33,  4]], dtype=int32)>"
            ]
          },
          "metadata": {
            "tags": []
          },
          "execution_count": 39
        }
      ]
    },
    {
      "cell_type": "markdown",
      "metadata": {
        "id": "PNajhk5H6NHJ"
      },
      "source": [
        "# Others"
      ]
    },
    {
      "cell_type": "code",
      "metadata": {
        "id": "6ZetjmQr6PGL",
        "outputId": "6abed003-1b35-4185-a724-bcd6aa6eea54",
        "colab": {
          "base_uri": "https://localhost:8080/"
        }
      },
      "source": [
        "tf.ones([2,2])"
      ],
      "execution_count": 40,
      "outputs": [
        {
          "output_type": "execute_result",
          "data": {
            "text/plain": [
              "<tf.Tensor: shape=(2, 2), dtype=float32, numpy=\n",
              "array([[1., 1.],\n",
              "       [1., 1.]], dtype=float32)>"
            ]
          },
          "metadata": {
            "tags": []
          },
          "execution_count": 40
        }
      ]
    },
    {
      "cell_type": "code",
      "metadata": {
        "id": "qpyXg1By6YtR",
        "outputId": "1debf02a-951b-4c27-8636-2711e0e88c47",
        "colab": {
          "base_uri": "https://localhost:8080/"
        }
      },
      "source": [
        "tf.zeros([2,2],dtype=tf.int16)"
      ],
      "execution_count": 41,
      "outputs": [
        {
          "output_type": "execute_result",
          "data": {
            "text/plain": [
              "<tf.Tensor: shape=(2, 2), dtype=int16, numpy=\n",
              "array([[0, 0],\n",
              "       [0, 0]], dtype=int16)>"
            ]
          },
          "metadata": {
            "tags": []
          },
          "execution_count": 41
        }
      ]
    },
    {
      "cell_type": "code",
      "metadata": {
        "id": "kYCo9zN_6yKO",
        "outputId": "ed4d70dd-494e-4b9d-e8fb-ffb05179c551",
        "colab": {
          "base_uri": "https://localhost:8080/"
        }
      },
      "source": [
        "import numpy as np\n",
        "a = np.arange(1,5)\n",
        "a"
      ],
      "execution_count": 42,
      "outputs": [
        {
          "output_type": "execute_result",
          "data": {
            "text/plain": [
              "array([1, 2, 3, 4])"
            ]
          },
          "metadata": {
            "tags": []
          },
          "execution_count": 42
        }
      ]
    },
    {
      "cell_type": "code",
      "metadata": {
        "id": "c9BuplNR60Bp",
        "outputId": "356a2331-9779-4cf1-d8e2-9f791347bbc4",
        "colab": {
          "base_uri": "https://localhost:8080/"
        }
      },
      "source": [
        "tf.constant(a)"
      ],
      "execution_count": 43,
      "outputs": [
        {
          "output_type": "execute_result",
          "data": {
            "text/plain": [
              "<tf.Tensor: shape=(4,), dtype=int64, numpy=array([1, 2, 3, 4])>"
            ]
          },
          "metadata": {
            "tags": []
          },
          "execution_count": 43
        }
      ]
    },
    {
      "cell_type": "code",
      "metadata": {
        "id": "ow2OIDM86-fl",
        "outputId": "c554dbb6-5890-4c28-bcad-10ebc9fb489b",
        "colab": {
          "base_uri": "https://localhost:8080/"
        }
      },
      "source": [
        "tf.constant(a,shape=(2,2))"
      ],
      "execution_count": 44,
      "outputs": [
        {
          "output_type": "execute_result",
          "data": {
            "text/plain": [
              "<tf.Tensor: shape=(2, 2), dtype=int64, numpy=\n",
              "array([[1, 2],\n",
              "       [3, 4]])>"
            ]
          },
          "metadata": {
            "tags": []
          },
          "execution_count": 44
        }
      ]
    },
    {
      "cell_type": "code",
      "metadata": {
        "id": "2_h8ClyA7YPO",
        "outputId": "93448b26-8ea9-4f8c-ef53-9cc200e8254e",
        "colab": {
          "base_uri": "https://localhost:8080/"
        }
      },
      "source": [
        "b = np.arange(1,9)\n",
        "b"
      ],
      "execution_count": 45,
      "outputs": [
        {
          "output_type": "execute_result",
          "data": {
            "text/plain": [
              "array([1, 2, 3, 4, 5, 6, 7, 8])"
            ]
          },
          "metadata": {
            "tags": []
          },
          "execution_count": 45
        }
      ]
    },
    {
      "cell_type": "code",
      "metadata": {
        "id": "ayWp__487abq",
        "outputId": "7275df71-430d-4d54-a3f0-38a103c2bb08",
        "colab": {
          "base_uri": "https://localhost:8080/"
        }
      },
      "source": [
        "try:\n",
        "  tf.constant(b,shape=(2,2))\n",
        "except:\n",
        "  print(\"Unmatched shape of transformation matrices\")\n",
        "  print(2*2,\"doesn't equal to\",8)"
      ],
      "execution_count": 46,
      "outputs": [
        {
          "output_type": "stream",
          "text": [
            "Unmatched shape of transformation matrices\n",
            "4 doesn't equal to 8\n"
          ],
          "name": "stdout"
        }
      ]
    }
  ]
}