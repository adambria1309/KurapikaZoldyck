{
 "cells": [
  {
   "cell_type": "markdown",
   "metadata": {},
   "source": [
    "<ol>\n",
    "    <li>Skalar, 1 Dimensi, [1]</li>\n",
    "    <li>Vektor / Array, 1+ Dimensi, [1,2] -> 2 Dimensi</li>\n",
    "    <li>Vektor / Array, 1+ Dimensi, [1,2,3] -> 3 Dimensi</li>\n",
    "    <li>Matriks, Gabungan Vektor, Terdiri Dari Baris Dan Kolom</li>\n",
    "    <li>Tensor, Gabungan Matriks</li>\n",
    "</ol>"
   ]
  },
  {
   "cell_type": "code",
   "execution_count": null,
   "metadata": {},
   "outputs": [],
   "source": [
    "import tensorflow as tf"
   ]
  },
  {
   "cell_type": "code",
   "execution_count": null,
   "metadata": {},
   "outputs": [],
   "source": [
    "tf.__version__"
   ]
  }
 ],
 "metadata": {
  "kernelspec": {
   "display_name": "Python 3",
   "language": "python",
   "name": "python3"
  },
  "language_info": {
   "codemirror_mode": {
    "name": "ipython",
    "version": 3
   },
   "file_extension": ".py",
   "mimetype": "text/x-python",
   "name": "python",
   "nbconvert_exporter": "python",
   "pygments_lexer": "ipython3",
   "version": "3.8.5"
  }
 },
 "nbformat": 4,
 "nbformat_minor": 4
}
