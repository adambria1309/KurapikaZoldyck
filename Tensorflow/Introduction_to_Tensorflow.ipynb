{
  "nbformat": 4,
  "nbformat_minor": 0,
  "metadata": {
    "colab": {
      "name": "Introduction to Tensorflow.ipynb",
      "provenance": [],
      "authorship_tag": "ABX9TyO2vYV1qXItaGa+7UfaO19p",
      "include_colab_link": true
    },
    "kernelspec": {
      "name": "python3",
      "display_name": "Python 3"
    },
    "language_info": {
      "name": "python"
    }
  },
  "cells": [
    {
      "cell_type": "markdown",
      "metadata": {
        "id": "view-in-github",
        "colab_type": "text"
      },
      "source": [
        "<a href=\"https://colab.research.google.com/github/KurapikaZoldyck/KurapikaZoldyck/blob/main/Introduction_to_Tensorflow.ipynb\" target=\"_parent\"><img src=\"https://colab.research.google.com/assets/colab-badge.svg\" alt=\"Open In Colab\"/></a>"
      ]
    },
    {
      "cell_type": "code",
      "metadata": {
        "id": "at0MVzmT8Gdb"
      },
      "source": [
        "import tensorflow as tf"
      ],
      "execution_count": null,
      "outputs": []
    },
    {
      "cell_type": "code",
      "metadata": {
        "id": "HhM3_Jlv8JKB"
      },
      "source": [
        "tf.__version__"
      ],
      "execution_count": null,
      "outputs": []
    },
    {
      "cell_type": "markdown",
      "metadata": {
        "id": "IIXhBhGf8dFW"
      },
      "source": [
        "Skalar adalah bilangan berdimensi 1, contoh = [2]<br>\n",
        "Array atau Vektor, adalah bilangan lebih dari satu dimensi, contoh [1,2], ini disebut 2 dimensi<br>contoh lainnya, [1,2,3] ini disebut 3 dimensi<br>\n",
        "Matriks adalah bilangan multi dimensi yang memiliki baris dan kolom, contoh [[1,2],[3,4]]<br>Sementera Tensor adalah kumpulan dari matriks\n"
      ]
    },
    {
      "cell_type": "code",
      "metadata": {
        "id": "MTGbuoU49t2y"
      },
      "source": [
        ""
      ],
      "execution_count": null,
      "outputs": []
    }
  ]
}