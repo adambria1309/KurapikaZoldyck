{
  "nbformat": 4,
  "nbformat_minor": 0,
  "metadata": {
    "kernelspec": {
      "display_name": "Python 3",
      "language": "python",
      "name": "python3"
    },
    "language_info": {
      "codemirror_mode": {
        "name": "ipython",
        "version": 3
      },
      "file_extension": ".py",
      "mimetype": "text/x-python",
      "name": "python",
      "nbconvert_exporter": "python",
      "pygments_lexer": "ipython3",
      "version": "3.8.5"
    },
    "colab": {
      "name": "Introduction to Matplotlib.ipynb",
      "provenance": []
    }
  },
  "cells": [
    {
      "cell_type": "code",
      "metadata": {
        "id": "-uTfhmFbCnrn"
      },
      "source": [
        "from google.colab import files\n",
        "files.upload()"
      ],
      "execution_count": null,
      "outputs": []
    },
    {
      "cell_type": "code",
      "metadata": {
        "id": "sl7jeTBKB1v4"
      },
      "source": [
        "import matplotlib.pyplot as plt\n",
        "import pandas as pd"
      ],
      "execution_count": 1,
      "outputs": []
    },
    {
      "cell_type": "code",
      "metadata": {
        "id": "TuNGmWPfDpXx",
        "outputId": "d3c9698c-9492-4983-9f9c-175ee0536fbc",
        "colab": {
          "base_uri": "https://localhost:8080/",
          "height": 269
        }
      },
      "source": [
        "fig,ax = plt.subplots()\n",
        "plt.show()"
      ],
      "execution_count": 2,
      "outputs": [
        {
          "output_type": "display_data",
          "data": {
            "image/png": "[encoded data removed]",
            "text/plain": [
              "<Figure size 432x288 with 1 Axes>"
            ]
          },
          "metadata": {
            "tags": [],
            "needs_background": "light"
          }
        }
      ]
    },
    {
      "cell_type": "code",
      "metadata": {
        "id": "Nzh-FslIDuKq",
        "outputId": "d3cbec00-2fbf-4ce9-85d5-3ab42059c7cf",
        "colab": {
          "base_uri": "https://localhost:8080/",
          "height": 452
        }
      },
      "source": [
        "seattle = pd.read_csv('/content/seattle.csv')\n",
        "seattle.head()"
      ],
      "execution_count": 3,
      "outputs": [
        {
          "output_type": "execute_result",
          "data": {
            "text/html": [
              "<div>\n",
              "<style scoped>\n",
              "    .dataframe tbody tr th:only-of-type {\n",
              "        vertical-align: middle;\n",
              "    }\n",
              "\n",
              "    .dataframe tbody tr th {\n",
              "        vertical-align: top;\n",
              "    }\n",
              "\n",
              "    .dataframe thead th {\n",
              "        text-align: right;\n",
              "    }\n",
              "</style>\n",
              "<table border=\"1\" class=\"dataframe\">\n",
              "  <thead>\n",
              "    <tr style=\"text-align: right;\">\n",
              "      <th></th>\n",
              "      <th>STATION</th>\n",
              "      <th>NAME</th>\n",
              "      <th>DATE</th>\n",
              "      <th>MLY-CLDD-BASE45</th>\n",
              "      <th>MLY-CLDD-BASE50</th>\n",
              "      <th>MLY-CLDD-BASE55</th>\n",
              "      <th>MLY-CLDD-BASE57</th>\n",
              "      <th>MLY-CLDD-BASE60</th>\n",
              "      <th>MLY-CLDD-BASE70</th>\n",
              "      <th>MLY-CLDD-BASE72</th>\n",
              "      <th>MLY-CLDD-NORMAL</th>\n",
              "      <th>MLY-DUTR-NORMAL</th>\n",
              "      <th>MLY-DUTR-STDDEV</th>\n",
              "      <th>MLY-GRDD-BASE40</th>\n",
              "      <th>MLY-GRDD-BASE45</th>\n",
              "      <th>MLY-GRDD-BASE50</th>\n",
              "      <th>MLY-GRDD-BASE55</th>\n",
              "      <th>MLY-GRDD-BASE57</th>\n",
              "      <th>MLY-GRDD-BASE60</th>\n",
              "      <th>MLY-GRDD-BASE65</th>\n",
              "      <th>MLY-GRDD-BASE70</th>\n",
              "      <th>MLY-GRDD-BASE72</th>\n",
              "      <th>MLY-GRDD-TB4886</th>\n",
              "      <th>MLY-GRDD-TB5086</th>\n",
              "      <th>MLY-HTDD-BASE40</th>\n",
              "      <th>MLY-HTDD-BASE45</th>\n",
              "      <th>MLY-HTDD-BASE50</th>\n",
              "      <th>MLY-HTDD-BASE55</th>\n",
              "      <th>MLY-HTDD-BASE57</th>\n",
              "      <th>MLY-HTDD-BASE60</th>\n",
              "      <th>MLY-HTDD-NORMAL</th>\n",
              "      <th>MLY-PRCP-25PCTL</th>\n",
              "      <th>MLY-PRCP-50PCTL</th>\n",
              "      <th>MLY-PRCP-75PCTL</th>\n",
              "      <th>MLY-PRCP-AVGNDS-GE001HI</th>\n",
              "      <th>MLY-PRCP-AVGNDS-GE010HI</th>\n",
              "      <th>MLY-PRCP-AVGNDS-GE050HI</th>\n",
              "      <th>MLY-PRCP-AVGNDS-GE100HI</th>\n",
              "      <th>MLY-PRCP-NORMAL</th>\n",
              "      <th>MLY-SNOW-25PCTL</th>\n",
              "      <th>MLY-SNOW-50PCTL</th>\n",
              "      <th>MLY-SNOW-75PCTL</th>\n",
              "      <th>MLY-SNOW-AVGNDS-GE001TI</th>\n",
              "      <th>MLY-SNOW-AVGNDS-GE010TI</th>\n",
              "      <th>MLY-SNOW-AVGNDS-GE030TI</th>\n",
              "      <th>MLY-SNOW-AVGNDS-GE050TI</th>\n",
              "      <th>MLY-SNOW-AVGNDS-GE100TI</th>\n",
              "      <th>MLY-SNOW-NORMAL</th>\n",
              "      <th>MLY-SNWD-AVGNDS-GE001WI</th>\n",
              "      <th>MLY-SNWD-AVGNDS-GE003WI</th>\n",
              "      <th>MLY-SNWD-AVGNDS-GE005WI</th>\n",
              "      <th>MLY-SNWD-AVGNDS-GE010WI</th>\n",
              "      <th>MLY-TAVG-NORMAL</th>\n",
              "      <th>MLY-TAVG-STDDEV</th>\n",
              "      <th>MLY-TMAX-AVGNDS-GRTH040</th>\n",
              "      <th>MLY-TMAX-AVGNDS-GRTH050</th>\n",
              "      <th>MLY-TMAX-AVGNDS-GRTH060</th>\n",
              "      <th>MLY-TMAX-AVGNDS-GRTH070</th>\n",
              "      <th>MLY-TMAX-AVGNDS-GRTH080</th>\n",
              "      <th>MLY-TMAX-AVGNDS-GRTH090</th>\n",
              "      <th>MLY-TMAX-AVGNDS-GRTH100</th>\n",
              "      <th>MLY-TMAX-AVGNDS-LSTH032</th>\n",
              "      <th>MLY-TMAX-NORMAL</th>\n",
              "      <th>MLY-TMAX-STDDEV</th>\n",
              "      <th>MLY-TMIN-AVGNDS-LSTH000</th>\n",
              "      <th>MLY-TMIN-AVGNDS-LSTH010</th>\n",
              "      <th>MLY-TMIN-AVGNDS-LSTH020</th>\n",
              "      <th>MLY-TMIN-AVGNDS-LSTH032</th>\n",
              "      <th>MLY-TMIN-AVGNDS-LSTH040</th>\n",
              "      <th>MLY-TMIN-AVGNDS-LSTH050</th>\n",
              "      <th>MLY-TMIN-AVGNDS-LSTH060</th>\n",
              "      <th>MLY-TMIN-AVGNDS-LSTH070</th>\n",
              "      <th>MLY-TMIN-NORMAL</th>\n",
              "      <th>MLY-TMIN-PRBOCC-LSTH016</th>\n",
              "      <th>MLY-TMIN-PRBOCC-LSTH020</th>\n",
              "      <th>MLY-TMIN-PRBOCC-LSTH024</th>\n",
              "      <th>MLY-TMIN-PRBOCC-LSTH028</th>\n",
              "      <th>MLY-TMIN-PRBOCC-LSTH032</th>\n",
              "      <th>MLY-TMIN-PRBOCC-LSTH036</th>\n",
              "      <th>MLY-TMIN-STDDEV</th>\n",
              "    </tr>\n",
              "  </thead>\n",
              "  <tbody>\n",
              "    <tr>\n",
              "      <th>0</th>\n",
              "      <td>USC00456295</td>\n",
              "      <td>PALMER 3 ESE, WA US</td>\n",
              "      <td>1</td>\n",
              "      <td>13.0</td>\n",
              "      <td>1.0</td>\n",
              "      <td>-7777.0</td>\n",
              "      <td>0.0</td>\n",
              "      <td>0.0</td>\n",
              "      <td>0.0</td>\n",
              "      <td>0.0</td>\n",
              "      <td>0.0</td>\n",
              "      <td>10.6</td>\n",
              "      <td>1.4</td>\n",
              "      <td>61.0</td>\n",
              "      <td>13.0</td>\n",
              "      <td>1.0</td>\n",
              "      <td>-7777.0</td>\n",
              "      <td>0.0</td>\n",
              "      <td>0.0</td>\n",
              "      <td>0.0</td>\n",
              "      <td>0.0</td>\n",
              "      <td>0.0</td>\n",
              "      <td>20.0</td>\n",
              "      <td>12.0</td>\n",
              "      <td>83.0</td>\n",
              "      <td>190.0</td>\n",
              "      <td>333.0</td>\n",
              "      <td>487.0</td>\n",
              "      <td>549.0</td>\n",
              "      <td>642.0</td>\n",
              "      <td>797.0</td>\n",
              "      <td>8.06</td>\n",
              "      <td>11.59</td>\n",
              "      <td>13.39</td>\n",
              "      <td>19.9</td>\n",
              "      <td>16.5</td>\n",
              "      <td>8.0</td>\n",
              "      <td>3.1</td>\n",
              "      <td>11.03</td>\n",
              "      <td>0.0</td>\n",
              "      <td>2.0</td>\n",
              "      <td>4.5</td>\n",
              "      <td>2.1</td>\n",
              "      <td>1.9</td>\n",
              "      <td>0.9</td>\n",
              "      <td>0.2</td>\n",
              "      <td>-7777.0</td>\n",
              "      <td>5.3</td>\n",
              "      <td>4.3</td>\n",
              "      <td>2.5</td>\n",
              "      <td>1.4</td>\n",
              "      <td>0.6</td>\n",
              "      <td>39.3</td>\n",
              "      <td>2.7</td>\n",
              "      <td>236.0</td>\n",
              "      <td>6.4</td>\n",
              "      <td>2.0</td>\n",
              "      <td>0.0</td>\n",
              "      <td>0.0</td>\n",
              "      <td>0.0</td>\n",
              "      <td>0.0</td>\n",
              "      <td>1.0</td>\n",
              "      <td>44.6</td>\n",
              "      <td>2.9</td>\n",
              "      <td>0.0</td>\n",
              "      <td>1.0</td>\n",
              "      <td>7.0</td>\n",
              "      <td>10.4</td>\n",
              "      <td>265.0</td>\n",
              "      <td>310.0</td>\n",
              "      <td>310.0</td>\n",
              "      <td>310.0</td>\n",
              "      <td>34.0</td>\n",
              "      <td>168.0</td>\n",
              "      <td>327.0</td>\n",
              "      <td>615.0</td>\n",
              "      <td>877.0</td>\n",
              "      <td>987.0</td>\n",
              "      <td>1000.0</td>\n",
              "      <td>2.8</td>\n",
              "    </tr>\n",
              "    <tr>\n",
              "      <th>1</th>\n",
              "      <td>USC00456295</td>\n",
              "      <td>PALMER 3 ESE, WA US</td>\n",
              "      <td>2</td>\n",
              "      <td>23.0</td>\n",
              "      <td>3.0</td>\n",
              "      <td>-7777.0</td>\n",
              "      <td>-7777.0</td>\n",
              "      <td>0.0</td>\n",
              "      <td>0.0</td>\n",
              "      <td>0.0</td>\n",
              "      <td>0.0</td>\n",
              "      <td>13.7</td>\n",
              "      <td>1.7</td>\n",
              "      <td>78.0</td>\n",
              "      <td>23.0</td>\n",
              "      <td>3.0</td>\n",
              "      <td>-7777.0</td>\n",
              "      <td>-7777.0</td>\n",
              "      <td>0.0</td>\n",
              "      <td>0.0</td>\n",
              "      <td>0.0</td>\n",
              "      <td>0.0</td>\n",
              "      <td>35.0</td>\n",
              "      <td>24.0</td>\n",
              "      <td>57.0</td>\n",
              "      <td>142.0</td>\n",
              "      <td>262.0</td>\n",
              "      <td>399.0</td>\n",
              "      <td>455.0</td>\n",
              "      <td>539.0</td>\n",
              "      <td>679.0</td>\n",
              "      <td>5.41</td>\n",
              "      <td>7.01</td>\n",
              "      <td>10.00</td>\n",
              "      <td>17.1</td>\n",
              "      <td>12.5</td>\n",
              "      <td>5.5</td>\n",
              "      <td>1.8</td>\n",
              "      <td>7.74</td>\n",
              "      <td>0.0</td>\n",
              "      <td>0.3</td>\n",
              "      <td>5.5</td>\n",
              "      <td>1.6</td>\n",
              "      <td>1.4</td>\n",
              "      <td>0.5</td>\n",
              "      <td>0.1</td>\n",
              "      <td>-7777.0</td>\n",
              "      <td>3.4</td>\n",
              "      <td>2.9</td>\n",
              "      <td>1.6</td>\n",
              "      <td>1.0</td>\n",
              "      <td>0.5</td>\n",
              "      <td>40.7</td>\n",
              "      <td>3.1</td>\n",
              "      <td>245.0</td>\n",
              "      <td>10.0</td>\n",
              "      <td>12.0</td>\n",
              "      <td>0.0</td>\n",
              "      <td>0.0</td>\n",
              "      <td>0.0</td>\n",
              "      <td>0.0</td>\n",
              "      <td>0.3</td>\n",
              "      <td>47.6</td>\n",
              "      <td>3.4</td>\n",
              "      <td>-7777.0</td>\n",
              "      <td>1.0</td>\n",
              "      <td>9.0</td>\n",
              "      <td>10.0</td>\n",
              "      <td>232.0</td>\n",
              "      <td>279.0</td>\n",
              "      <td>280.0</td>\n",
              "      <td>280.0</td>\n",
              "      <td>33.9</td>\n",
              "      <td>132.0</td>\n",
              "      <td>275.0</td>\n",
              "      <td>515.0</td>\n",
              "      <td>800.0</td>\n",
              "      <td>963.0</td>\n",
              "      <td>1000.0</td>\n",
              "      <td>3.1</td>\n",
              "    </tr>\n",
              "    <tr>\n",
              "      <th>2</th>\n",
              "      <td>USC00456295</td>\n",
              "      <td>PALMER 3 ESE, WA US</td>\n",
              "      <td>3</td>\n",
              "      <td>50.0</td>\n",
              "      <td>11.0</td>\n",
              "      <td>1.0</td>\n",
              "      <td>-7777.0</td>\n",
              "      <td>-7777.0</td>\n",
              "      <td>0.0</td>\n",
              "      <td>0.0</td>\n",
              "      <td>0.0</td>\n",
              "      <td>15.8</td>\n",
              "      <td>1.7</td>\n",
              "      <td>138.0</td>\n",
              "      <td>50.0</td>\n",
              "      <td>11.0</td>\n",
              "      <td>1.0</td>\n",
              "      <td>-7777.0</td>\n",
              "      <td>-7777.0</td>\n",
              "      <td>0.0</td>\n",
              "      <td>0.0</td>\n",
              "      <td>0.0</td>\n",
              "      <td>78.0</td>\n",
              "      <td>60.0</td>\n",
              "      <td>21.0</td>\n",
              "      <td>87.0</td>\n",
              "      <td>203.0</td>\n",
              "      <td>349.0</td>\n",
              "      <td>410.0</td>\n",
              "      <td>502.0</td>\n",
              "      <td>657.0</td>\n",
              "      <td>7.76</td>\n",
              "      <td>8.66</td>\n",
              "      <td>10.66</td>\n",
              "      <td>21.5</td>\n",
              "      <td>16.5</td>\n",
              "      <td>6.8</td>\n",
              "      <td>2.2</td>\n",
              "      <td>9.08</td>\n",
              "      <td>0.0</td>\n",
              "      <td>0.0</td>\n",
              "      <td>3.2</td>\n",
              "      <td>0.9</td>\n",
              "      <td>0.6</td>\n",
              "      <td>0.2</td>\n",
              "      <td>0.1</td>\n",
              "      <td>-7777.0</td>\n",
              "      <td>2.0</td>\n",
              "      <td>0.8</td>\n",
              "      <td>0.3</td>\n",
              "      <td>0.1</td>\n",
              "      <td>0.0</td>\n",
              "      <td>43.8</td>\n",
              "      <td>2.5</td>\n",
              "      <td>299.0</td>\n",
              "      <td>16.9</td>\n",
              "      <td>46.0</td>\n",
              "      <td>2.0</td>\n",
              "      <td>0.0</td>\n",
              "      <td>0.0</td>\n",
              "      <td>0.0</td>\n",
              "      <td>-7777.0</td>\n",
              "      <td>51.7</td>\n",
              "      <td>3.0</td>\n",
              "      <td>0.0</td>\n",
              "      <td>0.0</td>\n",
              "      <td>1.0</td>\n",
              "      <td>5.3</td>\n",
              "      <td>253.0</td>\n",
              "      <td>310.0</td>\n",
              "      <td>310.0</td>\n",
              "      <td>310.0</td>\n",
              "      <td>35.9</td>\n",
              "      <td>5.0</td>\n",
              "      <td>47.0</td>\n",
              "      <td>111.0</td>\n",
              "      <td>393.0</td>\n",
              "      <td>848.0</td>\n",
              "      <td>1000.0</td>\n",
              "      <td>2.1</td>\n",
              "    </tr>\n",
              "    <tr>\n",
              "      <th>3</th>\n",
              "      <td>USC00456295</td>\n",
              "      <td>PALMER 3 ESE, WA US</td>\n",
              "      <td>4</td>\n",
              "      <td>108.0</td>\n",
              "      <td>40.0</td>\n",
              "      <td>12.0</td>\n",
              "      <td>7.0</td>\n",
              "      <td>3.0</td>\n",
              "      <td>-7777.0</td>\n",
              "      <td>0.0</td>\n",
              "      <td>-7777.0</td>\n",
              "      <td>18.3</td>\n",
              "      <td>2.0</td>\n",
              "      <td>227.0</td>\n",
              "      <td>108.0</td>\n",
              "      <td>40.0</td>\n",
              "      <td>12.0</td>\n",
              "      <td>7.0</td>\n",
              "      <td>3.0</td>\n",
              "      <td>-7777.0</td>\n",
              "      <td>-7777.0</td>\n",
              "      <td>0.0</td>\n",
              "      <td>136.0</td>\n",
              "      <td>111.0</td>\n",
              "      <td>4.0</td>\n",
              "      <td>34.0</td>\n",
              "      <td>117.0</td>\n",
              "      <td>239.0</td>\n",
              "      <td>293.0</td>\n",
              "      <td>379.0</td>\n",
              "      <td>527.0</td>\n",
              "      <td>5.85</td>\n",
              "      <td>7.61</td>\n",
              "      <td>8.67</td>\n",
              "      <td>19.6</td>\n",
              "      <td>14.8</td>\n",
              "      <td>5.5</td>\n",
              "      <td>1.4</td>\n",
              "      <td>7.37</td>\n",
              "      <td>0.0</td>\n",
              "      <td>0.0</td>\n",
              "      <td>0.5</td>\n",
              "      <td>0.4</td>\n",
              "      <td>0.3</td>\n",
              "      <td>0.0</td>\n",
              "      <td>0.0</td>\n",
              "      <td>0.0</td>\n",
              "      <td>0.4</td>\n",
              "      <td>0.2</td>\n",
              "      <td>0.0</td>\n",
              "      <td>0.0</td>\n",
              "      <td>0.0</td>\n",
              "      <td>47.4</td>\n",
              "      <td>2.1</td>\n",
              "      <td>299.0</td>\n",
              "      <td>23.3</td>\n",
              "      <td>89.0</td>\n",
              "      <td>26.0</td>\n",
              "      <td>3.0</td>\n",
              "      <td>0.0</td>\n",
              "      <td>0.0</td>\n",
              "      <td>0.0</td>\n",
              "      <td>56.6</td>\n",
              "      <td>2.6</td>\n",
              "      <td>0.0</td>\n",
              "      <td>0.0</td>\n",
              "      <td>0.0</td>\n",
              "      <td>1.2</td>\n",
              "      <td>203.0</td>\n",
              "      <td>297.0</td>\n",
              "      <td>300.0</td>\n",
              "      <td>300.0</td>\n",
              "      <td>38.3</td>\n",
              "      <td>0.0</td>\n",
              "      <td>0.0</td>\n",
              "      <td>5.0</td>\n",
              "      <td>123.0</td>\n",
              "      <td>571.0</td>\n",
              "      <td>978.0</td>\n",
              "      <td>2.0</td>\n",
              "    </tr>\n",
              "    <tr>\n",
              "      <th>4</th>\n",
              "      <td>USC00456295</td>\n",
              "      <td>PALMER 3 ESE, WA US</td>\n",
              "      <td>5</td>\n",
              "      <td>255.0</td>\n",
              "      <td>130.0</td>\n",
              "      <td>56.0</td>\n",
              "      <td>38.0</td>\n",
              "      <td>19.0</td>\n",
              "      <td>1.0</td>\n",
              "      <td>-7777.0</td>\n",
              "      <td>5.0</td>\n",
              "      <td>19.3</td>\n",
              "      <td>2.6</td>\n",
              "      <td>406.0</td>\n",
              "      <td>255.0</td>\n",
              "      <td>130.0</td>\n",
              "      <td>56.0</td>\n",
              "      <td>38.0</td>\n",
              "      <td>19.0</td>\n",
              "      <td>5.0</td>\n",
              "      <td>1.0</td>\n",
              "      <td>-7777.0</td>\n",
              "      <td>235.0</td>\n",
              "      <td>201.0</td>\n",
              "      <td>-7777.0</td>\n",
              "      <td>4.0</td>\n",
              "      <td>34.0</td>\n",
              "      <td>115.0</td>\n",
              "      <td>159.0</td>\n",
              "      <td>233.0</td>\n",
              "      <td>374.0</td>\n",
              "      <td>4.95</td>\n",
              "      <td>6.43</td>\n",
              "      <td>8.00</td>\n",
              "      <td>17.9</td>\n",
              "      <td>12.8</td>\n",
              "      <td>4.5</td>\n",
              "      <td>1.5</td>\n",
              "      <td>6.39</td>\n",
              "      <td>0.0</td>\n",
              "      <td>0.0</td>\n",
              "      <td>0.0</td>\n",
              "      <td>0.0</td>\n",
              "      <td>0.0</td>\n",
              "      <td>0.0</td>\n",
              "      <td>0.0</td>\n",
              "      <td>0.0</td>\n",
              "      <td>0.0</td>\n",
              "      <td>0.0</td>\n",
              "      <td>0.0</td>\n",
              "      <td>0.0</td>\n",
              "      <td>0.0</td>\n",
              "      <td>53.1</td>\n",
              "      <td>2.2</td>\n",
              "      <td>310.0</td>\n",
              "      <td>29.7</td>\n",
              "      <td>165.0</td>\n",
              "      <td>69.0</td>\n",
              "      <td>15.0</td>\n",
              "      <td>0.1</td>\n",
              "      <td>0.0</td>\n",
              "      <td>0.0</td>\n",
              "      <td>62.7</td>\n",
              "      <td>3.1</td>\n",
              "      <td>0.0</td>\n",
              "      <td>0.0</td>\n",
              "      <td>0.0</td>\n",
              "      <td>-7777.0</td>\n",
              "      <td>76.0</td>\n",
              "      <td>282.0</td>\n",
              "      <td>310.0</td>\n",
              "      <td>310.0</td>\n",
              "      <td>43.5</td>\n",
              "      <td>0.0</td>\n",
              "      <td>0.0</td>\n",
              "      <td>0.0</td>\n",
              "      <td>0.0</td>\n",
              "      <td>83.0</td>\n",
              "      <td>610.0</td>\n",
              "      <td>2.0</td>\n",
              "    </tr>\n",
              "  </tbody>\n",
              "</table>\n",
              "</div>"
            ],
            "text/plain": [
              "       STATION                 NAME  ...  MLY-TMIN-PRBOCC-LSTH036  MLY-TMIN-STDDEV\n",
              "0  USC00456295  PALMER 3 ESE, WA US  ...                   1000.0              2.8\n",
              "1  USC00456295  PALMER 3 ESE, WA US  ...                   1000.0              3.1\n",
              "2  USC00456295  PALMER 3 ESE, WA US  ...                   1000.0              2.1\n",
              "3  USC00456295  PALMER 3 ESE, WA US  ...                    978.0              2.0\n",
              "4  USC00456295  PALMER 3 ESE, WA US  ...                    610.0              2.0\n",
              "\n",
              "[5 rows x 80 columns]"
            ]
          },
          "metadata": {
            "tags": []
          },
          "execution_count": 3
        }
      ]
    },
    {
      "cell_type": "code",
      "metadata": {
        "id": "9mWhvVJzEk2e"
      },
      "source": [
        "date = seattle['DATE'].iloc[:12]\n",
        "mly = seattle['MLY-PRCP-NORMAL'].iloc[:12]\n",
        "tmin = seattle['MLY-TMIN-NORMAL'].iloc[:12]"
      ],
      "execution_count": 4,
      "outputs": []
    },
    {
      "cell_type": "markdown",
      "metadata": {
        "id": "yA5bthlc5zgR"
      },
      "source": [
        "# [Line Plot](https://matplotlib.org/stable/api/_as_gen/matplotlib.axes.Axes.plot.html)"
      ]
    },
    {
      "cell_type": "code",
      "metadata": {
        "id": "6gwwx9D3bdnG",
        "outputId": "0e92d226-4403-46bb-81f6-667402544387",
        "colab": {
          "base_uri": "https://localhost:8080/",
          "height": 265
        }
      },
      "source": [
        "fig, ax = plt.subplots()\n",
        "ax.plot(date,mly)\n",
        "plt.show()"
      ],
      "execution_count": 5,
      "outputs": [
        {
          "output_type": "display_data",
          "data": {
            "image/png": "[encoded data removed]",
            "text/plain": [
              "<Figure size 432x288 with 1 Axes>"
            ]
          },
          "metadata": {
            "tags": [],
            "needs_background": "light"
          }
        }
      ]
    },
    {
      "cell_type": "markdown",
      "metadata": {
        "id": "WrYxRd66egVW"
      },
      "source": [
        "[Matplotlib Color](https://matplotlib.org/stable/gallery/color/named_colors.html)"
      ]
    },
    {
      "cell_type": "code",
      "metadata": {
        "id": "zVxnoExXbr_p",
        "outputId": "c0c2a91f-5eca-4e66-aae4-268dc5e3749e",
        "colab": {
          "base_uri": "https://localhost:8080/",
          "height": 265
        }
      },
      "source": [
        "fig, ax = plt.subplots()\n",
        "ax.plot(date,mly,c='red')\n",
        "plt.show()"
      ],
      "execution_count": 6,
      "outputs": [
        {
          "output_type": "display_data",
          "data": {
            "image/png": "[encoded data removed]",
            "text/plain": [
              "<Figure size 432x288 with 1 Axes>"
            ]
          },
          "metadata": {
            "tags": [],
            "needs_background": "light"
          }
        }
      ]
    },
    {
      "cell_type": "code",
      "metadata": {
        "id": "vUCGdx5jbvNk",
        "outputId": "a65d3b1f-6e91-478d-c88a-6a196fd34f6e",
        "colab": {
          "base_uri": "https://localhost:8080/",
          "height": 265
        }
      },
      "source": [
        "fig, ax = plt.subplots()\n",
        "ax.plot(date,mly,color='red')\n",
        "plt.show()"
      ],
      "execution_count": 7,
      "outputs": [
        {
          "output_type": "display_data",
          "data": {
            "image/png": "[encoded data removed]",
            "text/plain": [
              "<Figure size 432x288 with 1 Axes>"
            ]
          },
          "metadata": {
            "tags": [],
            "needs_background": "light"
          }
        }
      ]
    },
    {
      "cell_type": "markdown",
      "metadata": {
        "id": "KWjUX4hDd_xp"
      },
      "source": [
        "[Matplotlib Markers](https://matplotlib.org/stable/api/markers_api.html)"
      ]
    },
    {
      "cell_type": "code",
      "metadata": {
        "id": "OmpwVTp_djNn",
        "outputId": "1030284f-d9ab-44e4-c425-7ba857f572b0",
        "colab": {
          "base_uri": "https://localhost:8080/",
          "height": 265
        }
      },
      "source": [
        "fig, ax = plt.subplots()\n",
        "ax.plot(date,mly,color='red',marker='d')\n",
        "plt.show()"
      ],
      "execution_count": 8,
      "outputs": [
        {
          "output_type": "display_data",
          "data": {
            "image/png": "[encoded data removed]",
            "text/plain": [
              "<Figure size 432x288 with 1 Axes>"
            ]
          },
          "metadata": {
            "tags": [],
            "needs_background": "light"
          }
        }
      ]
    },
    {
      "cell_type": "code",
      "metadata": {
        "id": "MWDRpZcX3wMt",
        "outputId": "501d04ff-0a13-476c-99ce-62b7ac69ce3b",
        "colab": {
          "base_uri": "https://localhost:8080/",
          "height": 265
        }
      },
      "source": [
        "fig, ax = plt.subplots()\n",
        "ax.plot(date,mly,color='red',marker='d',linestyle='--')\n",
        "plt.show()"
      ],
      "execution_count": 9,
      "outputs": [
        {
          "output_type": "display_data",
          "data": {
            "image/png": "[encoded data removed]",
            "text/plain": [
              "<Figure size 432x288 with 1 Axes>"
            ]
          },
          "metadata": {
            "tags": [],
            "needs_background": "light"
          }
        }
      ]
    },
    {
      "cell_type": "code",
      "metadata": {
        "id": "fhsh1_Ec4nze",
        "outputId": "9a1caa07-61fd-45ec-a7f7-4aeff29ca69c",
        "colab": {
          "base_uri": "https://localhost:8080/",
          "height": 265
        }
      },
      "source": [
        "fig, ax = plt.subplots()\n",
        "ax.plot(date,mly,color='red',marker='d',linestyle='--',linewidth=2)\n",
        "plt.show()"
      ],
      "execution_count": 10,
      "outputs": [
        {
          "output_type": "display_data",
          "data": {
            "image/png": "[encoded data removed]",
            "text/plain": [
              "<Figure size 432x288 with 1 Axes>"
            ]
          },
          "metadata": {
            "tags": [],
            "needs_background": "light"
          }
        }
      ]
    },
    {
      "cell_type": "code",
      "metadata": {
        "id": "Ybf9DXAx5So1",
        "outputId": "fee75143-3f1a-4ddc-c668-24347ddb4330",
        "colab": {
          "base_uri": "https://localhost:8080/",
          "height": 265
        }
      },
      "source": [
        "fig, ax = plt.subplots()\n",
        "ax.plot(date,mly,color='red',marker='d',linestyle='--',linewidth=2,mfc='black')\n",
        "plt.show()"
      ],
      "execution_count": 11,
      "outputs": [
        {
          "output_type": "display_data",
          "data": {
            "image/png": "[encoded data removed]",
            "text/plain": [
              "<Figure size 432x288 with 1 Axes>"
            ]
          },
          "metadata": {
            "tags": [],
            "needs_background": "light"
          }
        }
      ]
    },
    {
      "cell_type": "markdown",
      "metadata": {
        "id": "7Lqwz-hN56I9"
      },
      "source": [
        "# [Scatter Plot](https://matplotlib.org/stable/api/_as_gen/matplotlib.pyplot.scatter.html)"
      ]
    },
    {
      "cell_type": "code",
      "metadata": {
        "id": "67dvLlYr6OQJ",
        "outputId": "8c7583f7-d12a-4d31-8fd5-0b6fae5699b1",
        "colab": {
          "base_uri": "https://localhost:8080/",
          "height": 265
        }
      },
      "source": [
        "fig,ax = plt.subplots()\n",
        "ax.scatter(date,tmin)\n",
        "plt.show()"
      ],
      "execution_count": 12,
      "outputs": [
        {
          "output_type": "display_data",
          "data": {
            "image/png": "[encoded data removed]",
            "text/plain": [
              "<Figure size 432x288 with 1 Axes>"
            ]
          },
          "metadata": {
            "tags": [],
            "needs_background": "light"
          }
        }
      ]
    },
    {
      "cell_type": "code",
      "metadata": {
        "id": "IPx7Jqke6Zli",
        "outputId": "cd2c2a11-63be-4007-8ab9-9670f23eaca2",
        "colab": {
          "base_uri": "https://localhost:8080/",
          "height": 265
        }
      },
      "source": [
        "fig,ax = plt.subplots()\n",
        "ax.scatter(date,tmin,c='red')\n",
        "plt.show()"
      ],
      "execution_count": 13,
      "outputs": [
        {
          "output_type": "display_data",
          "data": {
            "image/png": "[encoded data removed]",
            "text/plain": [
              "<Figure size 432x288 with 1 Axes>"
            ]
          },
          "metadata": {
            "tags": [],
            "needs_background": "light"
          }
        }
      ]
    },
    {
      "cell_type": "code",
      "metadata": {
        "id": "t2ISA2F16gRF",
        "outputId": "cf5427cc-6ece-45fb-b40c-d4ded873c8e9",
        "colab": {
          "base_uri": "https://localhost:8080/",
          "height": 265
        }
      },
      "source": [
        "fig,ax = plt.subplots()\n",
        "ax.scatter(date,tmin,c='red',s=25)\n",
        "plt.show()"
      ],
      "execution_count": 16,
      "outputs": [
        {
          "output_type": "display_data",
          "data": {
            "image/png": "[encoded data removed]",
            "text/plain": [
              "<Figure size 432x288 with 1 Axes>"
            ]
          },
          "metadata": {
            "tags": [],
            "needs_background": "light"
          }
        }
      ]
    },
    {
      "cell_type": "code",
      "metadata": {
        "id": "_kVG-pH-6r6h",
        "outputId": "071282a4-e4ee-45bd-e5f7-3253d6f4b002",
        "colab": {
          "base_uri": "https://localhost:8080/",
          "height": 269
        }
      },
      "source": [
        "fig,ax = plt.subplots()\n",
        "ax.scatter(date,tmin,c='red',s=25)\n",
        "ax.set_ylim(25,55)\n",
        "plt.show()"
      ],
      "execution_count": 23,
      "outputs": [
        {
          "output_type": "display_data",
          "data": {
            "image/png": "[encoded data removed]",
            "text/plain": [
              "<Figure size 432x288 with 1 Axes>"
            ]
          },
          "metadata": {
            "tags": [],
            "needs_background": "light"
          }
        }
      ]
    },
    {
      "cell_type": "code",
      "metadata": {
        "id": "oTKqCnR87oRA",
        "outputId": "531a968f-439b-46bb-b648-01836f648413",
        "colab": {
          "base_uri": "https://localhost:8080/",
          "height": 269
        }
      },
      "source": [
        "fig,ax = plt.subplots()\n",
        "ax.scatter(date,tmin,c='red',s=25,alpha=0.9)\n",
        "ax.set_ylim(25,55)\n",
        "plt.show()"
      ],
      "execution_count": 25,
      "outputs": [
        {
          "output_type": "display_data",
          "data": {
            "image/png": "[encoded data removed]",
            "text/plain": [
              "<Figure size 432x288 with 1 Axes>"
            ]
          },
          "metadata": {
            "tags": [],
            "needs_background": "light"
          }
        }
      ]
    },
    {
      "cell_type": "code",
      "metadata": {
        "id": "C__9l1iD8jjW",
        "outputId": "fa35f467-3281-4da3-e74b-e13b136d8fcd",
        "colab": {
          "base_uri": "https://localhost:8080/",
          "height": 269
        }
      },
      "source": [
        "fig,ax = plt.subplots()\n",
        "ax.scatter(date,tmin,c='red',s=25,alpha=0.9,marker='d')\n",
        "ax.set_ylim(25,55)\n",
        "plt.show()"
      ],
      "execution_count": 26,
      "outputs": [
        {
          "output_type": "display_data",
          "data": {
            "image/png": "[encoded data removed]",
            "text/plain": [
              "<Figure size 432x288 with 1 Axes>"
            ]
          },
          "metadata": {
            "tags": [],
            "needs_background": "light"
          }
        }
      ]
    },
    {
      "cell_type": "markdown",
      "metadata": {
        "id": "bgmXFxMh9T1N"
      },
      "source": [
        "# [Bar Chart](https://)"
      ]
    },
    {
      "cell_type": "code",
      "metadata": {
        "id": "4zXlLynK9S-l"
      },
      "source": [
        ""
      ],
      "execution_count": null,
      "outputs": []
    }
  ]
}