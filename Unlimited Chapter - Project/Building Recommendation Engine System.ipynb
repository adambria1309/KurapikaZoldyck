{
  "nbformat": 4,
  "nbformat_minor": 0,
  "metadata": {
    "kernelspec": {
      "display_name": "Python 3",
      "language": "python",
      "name": "python3"
    },
    "language_info": {
      "codemirror_mode": {
        "name": "ipython",
        "version": 3
      },
      "file_extension": ".py",
      "mimetype": "text/x-python",
      "name": "python",
      "nbconvert_exporter": "python",
      "pygments_lexer": "ipython3",
      "version": "3.8.5"
    },
    "colab": {
      "name": "Building Recommendation Engine System.ipynb",
      "provenance": []
    }
  },
  "cells": [
    {
      "cell_type": "code",
      "metadata": {
        "colab": {
          "base_uri": "https://localhost:8080/",
          "height": 206
        },
        "id": "Vvskwacg3Eer",
        "outputId": "e319ea8b-ca49-49f7-d4f8-226d07cf957f"
      },
      "source": [
        "import pandas as pd\n",
        "data = pd.read_csv('https://raw.githubusercontent.com/KurapikaZoldyck/KurapikaZoldyck/main/%23%20-%20Data/user_ratings.csv')\n",
        "data.head()"
      ],
      "execution_count": 1,
      "outputs": [
        {
          "output_type": "execute_result",
          "data": {
            "text/html": [
              "<div>\n",
              "<style scoped>\n",
              "    .dataframe tbody tr th:only-of-type {\n",
              "        vertical-align: middle;\n",
              "    }\n",
              "\n",
              "    .dataframe tbody tr th {\n",
              "        vertical-align: top;\n",
              "    }\n",
              "\n",
              "    .dataframe thead th {\n",
              "        text-align: right;\n",
              "    }\n",
              "</style>\n",
              "<table border=\"1\" class=\"dataframe\">\n",
              "  <thead>\n",
              "    <tr style=\"text-align: right;\">\n",
              "      <th></th>\n",
              "      <th>userId</th>\n",
              "      <th>movieId</th>\n",
              "      <th>rating</th>\n",
              "      <th>timestamp</th>\n",
              "      <th>title</th>\n",
              "      <th>genres</th>\n",
              "    </tr>\n",
              "  </thead>\n",
              "  <tbody>\n",
              "    <tr>\n",
              "      <th>0</th>\n",
              "      <td>1</td>\n",
              "      <td>1</td>\n",
              "      <td>4.0</td>\n",
              "      <td>964982703</td>\n",
              "      <td>Toy Story (1995)</td>\n",
              "      <td>Adventure|Animation|Children|Comedy|Fantasy</td>\n",
              "    </tr>\n",
              "    <tr>\n",
              "      <th>1</th>\n",
              "      <td>5</td>\n",
              "      <td>1</td>\n",
              "      <td>4.0</td>\n",
              "      <td>847434962</td>\n",
              "      <td>Toy Story (1995)</td>\n",
              "      <td>Adventure|Animation|Children|Comedy|Fantasy</td>\n",
              "    </tr>\n",
              "    <tr>\n",
              "      <th>2</th>\n",
              "      <td>7</td>\n",
              "      <td>1</td>\n",
              "      <td>4.5</td>\n",
              "      <td>1106635946</td>\n",
              "      <td>Toy Story (1995)</td>\n",
              "      <td>Adventure|Animation|Children|Comedy|Fantasy</td>\n",
              "    </tr>\n",
              "    <tr>\n",
              "      <th>3</th>\n",
              "      <td>15</td>\n",
              "      <td>1</td>\n",
              "      <td>2.5</td>\n",
              "      <td>1510577970</td>\n",
              "      <td>Toy Story (1995)</td>\n",
              "      <td>Adventure|Animation|Children|Comedy|Fantasy</td>\n",
              "    </tr>\n",
              "    <tr>\n",
              "      <th>4</th>\n",
              "      <td>17</td>\n",
              "      <td>1</td>\n",
              "      <td>4.5</td>\n",
              "      <td>1305696483</td>\n",
              "      <td>Toy Story (1995)</td>\n",
              "      <td>Adventure|Animation|Children|Comedy|Fantasy</td>\n",
              "    </tr>\n",
              "  </tbody>\n",
              "</table>\n",
              "</div>"
            ],
            "text/plain": [
              "   userId  ...                                       genres\n",
              "0       1  ...  Adventure|Animation|Children|Comedy|Fantasy\n",
              "1       5  ...  Adventure|Animation|Children|Comedy|Fantasy\n",
              "2       7  ...  Adventure|Animation|Children|Comedy|Fantasy\n",
              "3      15  ...  Adventure|Animation|Children|Comedy|Fantasy\n",
              "4      17  ...  Adventure|Animation|Children|Comedy|Fantasy\n",
              "\n",
              "[5 rows x 6 columns]"
            ]
          },
          "metadata": {
            "tags": []
          },
          "execution_count": 1
        }
      ]
    },
    {
      "cell_type": "code",
      "metadata": {
        "colab": {
          "base_uri": "https://localhost:8080/"
        },
        "id": "aMbnblkt3Ee3",
        "outputId": "9257c915-2bc0-48a3-a68f-01570317a1d2"
      },
      "source": [
        "data.info()"
      ],
      "execution_count": 2,
      "outputs": [
        {
          "output_type": "stream",
          "text": [
            "<class 'pandas.core.frame.DataFrame'>\n",
            "RangeIndex: 100836 entries, 0 to 100835\n",
            "Data columns (total 6 columns):\n",
            " #   Column     Non-Null Count   Dtype  \n",
            "---  ------     --------------   -----  \n",
            " 0   userId     100836 non-null  int64  \n",
            " 1   movieId    100836 non-null  int64  \n",
            " 2   rating     100836 non-null  float64\n",
            " 3   timestamp  100836 non-null  int64  \n",
            " 4   title      100836 non-null  object \n",
            " 5   genres     100836 non-null  object \n",
            "dtypes: float64(1), int64(3), object(2)\n",
            "memory usage: 4.6+ MB\n"
          ],
          "name": "stdout"
        }
      ]
    },
    {
      "cell_type": "code",
      "metadata": {
        "colab": {
          "base_uri": "https://localhost:8080/"
        },
        "id": "zcWbD5KV3Ee5",
        "outputId": "92d90e69-22db-4a1e-d547-c5b0611f1c6d"
      },
      "source": [
        "data.shape"
      ],
      "execution_count": 3,
      "outputs": [
        {
          "output_type": "execute_result",
          "data": {
            "text/plain": [
              "(100836, 6)"
            ]
          },
          "metadata": {
            "tags": []
          },
          "execution_count": 3
        }
      ]
    },
    {
      "cell_type": "code",
      "metadata": {
        "colab": {
          "base_uri": "https://localhost:8080/"
        },
        "id": "WdT8xTk23Ee6",
        "outputId": "d6c3affe-3871-467c-e755-4d9b50f1c19d"
      },
      "source": [
        "data['title'].nunique()"
      ],
      "execution_count": 4,
      "outputs": [
        {
          "output_type": "execute_result",
          "data": {
            "text/plain": [
              "9719"
            ]
          },
          "metadata": {
            "tags": []
          },
          "execution_count": 4
        }
      ]
    },
    {
      "cell_type": "code",
      "metadata": {
        "colab": {
          "base_uri": "https://localhost:8080/",
          "height": 282
        },
        "id": "eawg5TNC3Ee7",
        "outputId": "3b29f460-f461-4892-ec73-1c3b724e4f8b"
      },
      "source": [
        "data['rating'].hist()"
      ],
      "execution_count": 5,
      "outputs": [
        {
          "output_type": "execute_result",
          "data": {
            "text/plain": [
              "<matplotlib.axes._subplots.AxesSubplot at 0x7f60f716add0>"
            ]
          },
          "metadata": {
            "tags": []
          },
          "execution_count": 5
        },
        {
          "output_type": "display_data",
          "data": {
            "image/png": "[encoded data removed]",
            "text/plain": [
              "<Figure size 432x288 with 1 Axes>"
            ]
          },
          "metadata": {
            "tags": [],
            "needs_background": "light"
          }
        }
      ]
    },
    {
      "cell_type": "code",
      "metadata": {
        "colab": {
          "base_uri": "https://localhost:8080/"
        },
        "id": "yuHwRKeT3Ee8",
        "outputId": "51aba06f-eb68-43f5-e993-bd14b3659286"
      },
      "source": [
        "count = data['title'].value_counts()\n",
        "_ = list(count[count > 200].index)\n",
        "_"
      ],
      "execution_count": 6,
      "outputs": [
        {
          "output_type": "execute_result",
          "data": {
            "text/plain": [
              "['Forrest Gump (1994)',\n",
              " 'Shawshank Redemption, The (1994)',\n",
              " 'Pulp Fiction (1994)',\n",
              " 'Silence of the Lambs, The (1991)',\n",
              " 'Matrix, The (1999)',\n",
              " 'Star Wars: Episode IV - A New Hope (1977)',\n",
              " 'Jurassic Park (1993)',\n",
              " 'Braveheart (1995)',\n",
              " 'Terminator 2: Judgment Day (1991)',\n",
              " \"Schindler's List (1993)\",\n",
              " 'Fight Club (1999)',\n",
              " 'Toy Story (1995)',\n",
              " 'Star Wars: Episode V - The Empire Strikes Back (1980)',\n",
              " 'Usual Suspects, The (1995)',\n",
              " 'American Beauty (1999)',\n",
              " 'Seven (a.k.a. Se7en) (1995)',\n",
              " 'Independence Day (a.k.a. ID4) (1996)',\n",
              " 'Apollo 13 (1995)']"
            ]
          },
          "metadata": {
            "tags": []
          },
          "execution_count": 6
        }
      ]
    },
    {
      "cell_type": "code",
      "metadata": {
        "colab": {
          "base_uri": "https://localhost:8080/",
          "height": 424
        },
        "id": "E52pHz2Y3Ee9",
        "outputId": "164f169b-c145-4504-f9fa-9029b7add374"
      },
      "source": [
        "_2 = data[data['title'].isin(_)]\n",
        "_2"
      ],
      "execution_count": 7,
      "outputs": [
        {
          "output_type": "execute_result",
          "data": {
            "text/html": [
              "<div>\n",
              "<style scoped>\n",
              "    .dataframe tbody tr th:only-of-type {\n",
              "        vertical-align: middle;\n",
              "    }\n",
              "\n",
              "    .dataframe tbody tr th {\n",
              "        vertical-align: top;\n",
              "    }\n",
              "\n",
              "    .dataframe thead th {\n",
              "        text-align: right;\n",
              "    }\n",
              "</style>\n",
              "<table border=\"1\" class=\"dataframe\">\n",
              "  <thead>\n",
              "    <tr style=\"text-align: right;\">\n",
              "      <th></th>\n",
              "      <th>userId</th>\n",
              "      <th>movieId</th>\n",
              "      <th>rating</th>\n",
              "      <th>timestamp</th>\n",
              "      <th>title</th>\n",
              "      <th>genres</th>\n",
              "    </tr>\n",
              "  </thead>\n",
              "  <tbody>\n",
              "    <tr>\n",
              "      <th>0</th>\n",
              "      <td>1</td>\n",
              "      <td>1</td>\n",
              "      <td>4.0</td>\n",
              "      <td>964982703</td>\n",
              "      <td>Toy Story (1995)</td>\n",
              "      <td>Adventure|Animation|Children|Comedy|Fantasy</td>\n",
              "    </tr>\n",
              "    <tr>\n",
              "      <th>1</th>\n",
              "      <td>5</td>\n",
              "      <td>1</td>\n",
              "      <td>4.0</td>\n",
              "      <td>847434962</td>\n",
              "      <td>Toy Story (1995)</td>\n",
              "      <td>Adventure|Animation|Children|Comedy|Fantasy</td>\n",
              "    </tr>\n",
              "    <tr>\n",
              "      <th>2</th>\n",
              "      <td>7</td>\n",
              "      <td>1</td>\n",
              "      <td>4.5</td>\n",
              "      <td>1106635946</td>\n",
              "      <td>Toy Story (1995)</td>\n",
              "      <td>Adventure|Animation|Children|Comedy|Fantasy</td>\n",
              "    </tr>\n",
              "    <tr>\n",
              "      <th>3</th>\n",
              "      <td>15</td>\n",
              "      <td>1</td>\n",
              "      <td>2.5</td>\n",
              "      <td>1510577970</td>\n",
              "      <td>Toy Story (1995)</td>\n",
              "      <td>Adventure|Animation|Children|Comedy|Fantasy</td>\n",
              "    </tr>\n",
              "    <tr>\n",
              "      <th>4</th>\n",
              "      <td>17</td>\n",
              "      <td>1</td>\n",
              "      <td>4.5</td>\n",
              "      <td>1305696483</td>\n",
              "      <td>Toy Story (1995)</td>\n",
              "      <td>Adventure|Animation|Children|Comedy|Fantasy</td>\n",
              "    </tr>\n",
              "    <tr>\n",
              "      <th>...</th>\n",
              "      <td>...</td>\n",
              "      <td>...</td>\n",
              "      <td>...</td>\n",
              "      <td>...</td>\n",
              "      <td>...</td>\n",
              "      <td>...</td>\n",
              "    </tr>\n",
              "    <tr>\n",
              "      <th>26933</th>\n",
              "      <td>606</td>\n",
              "      <td>589</td>\n",
              "      <td>3.5</td>\n",
              "      <td>1171325855</td>\n",
              "      <td>Terminator 2: Judgment Day (1991)</td>\n",
              "      <td>Action|Sci-Fi</td>\n",
              "    </tr>\n",
              "    <tr>\n",
              "      <th>26934</th>\n",
              "      <td>607</td>\n",
              "      <td>589</td>\n",
              "      <td>4.0</td>\n",
              "      <td>963078960</td>\n",
              "      <td>Terminator 2: Judgment Day (1991)</td>\n",
              "      <td>Action|Sci-Fi</td>\n",
              "    </tr>\n",
              "    <tr>\n",
              "      <th>26935</th>\n",
              "      <td>608</td>\n",
              "      <td>589</td>\n",
              "      <td>3.0</td>\n",
              "      <td>1117415154</td>\n",
              "      <td>Terminator 2: Judgment Day (1991)</td>\n",
              "      <td>Action|Sci-Fi</td>\n",
              "    </tr>\n",
              "    <tr>\n",
              "      <th>26936</th>\n",
              "      <td>609</td>\n",
              "      <td>589</td>\n",
              "      <td>3.0</td>\n",
              "      <td>847220990</td>\n",
              "      <td>Terminator 2: Judgment Day (1991)</td>\n",
              "      <td>Action|Sci-Fi</td>\n",
              "    </tr>\n",
              "    <tr>\n",
              "      <th>26937</th>\n",
              "      <td>610</td>\n",
              "      <td>589</td>\n",
              "      <td>5.0</td>\n",
              "      <td>1479542983</td>\n",
              "      <td>Terminator 2: Judgment Day (1991)</td>\n",
              "      <td>Action|Sci-Fi</td>\n",
              "    </tr>\n",
              "  </tbody>\n",
              "</table>\n",
              "<p>4338 rows × 6 columns</p>\n",
              "</div>"
            ],
            "text/plain": [
              "       userId  ...                                       genres\n",
              "0           1  ...  Adventure|Animation|Children|Comedy|Fantasy\n",
              "1           5  ...  Adventure|Animation|Children|Comedy|Fantasy\n",
              "2           7  ...  Adventure|Animation|Children|Comedy|Fantasy\n",
              "3          15  ...  Adventure|Animation|Children|Comedy|Fantasy\n",
              "4          17  ...  Adventure|Animation|Children|Comedy|Fantasy\n",
              "...       ...  ...                                          ...\n",
              "26933     606  ...                                Action|Sci-Fi\n",
              "26934     607  ...                                Action|Sci-Fi\n",
              "26935     608  ...                                Action|Sci-Fi\n",
              "26936     609  ...                                Action|Sci-Fi\n",
              "26937     610  ...                                Action|Sci-Fi\n",
              "\n",
              "[4338 rows x 6 columns]"
            ]
          },
          "metadata": {
            "tags": []
          },
          "execution_count": 7
        }
      ]
    },
    {
      "cell_type": "code",
      "metadata": {
        "colab": {
          "base_uri": "https://localhost:8080/",
          "height": 645
        },
        "id": "_B4bSQGc3Ee-",
        "outputId": "f67ac529-18b7-476d-9fbc-4872030f2f08"
      },
      "source": [
        "_3 = round(_2[['title','rating']].groupby('title').mean(),2)\n",
        "_3.sort_values('rating',ascending=False,inplace=True)\n",
        "_3"
      ],
      "execution_count": 8,
      "outputs": [
        {
          "output_type": "execute_result",
          "data": {
            "text/html": [
              "<div>\n",
              "<style scoped>\n",
              "    .dataframe tbody tr th:only-of-type {\n",
              "        vertical-align: middle;\n",
              "    }\n",
              "\n",
              "    .dataframe tbody tr th {\n",
              "        vertical-align: top;\n",
              "    }\n",
              "\n",
              "    .dataframe thead th {\n",
              "        text-align: right;\n",
              "    }\n",
              "</style>\n",
              "<table border=\"1\" class=\"dataframe\">\n",
              "  <thead>\n",
              "    <tr style=\"text-align: right;\">\n",
              "      <th></th>\n",
              "      <th>rating</th>\n",
              "    </tr>\n",
              "    <tr>\n",
              "      <th>title</th>\n",
              "      <th></th>\n",
              "    </tr>\n",
              "  </thead>\n",
              "  <tbody>\n",
              "    <tr>\n",
              "      <th>Shawshank Redemption, The (1994)</th>\n",
              "      <td>4.43</td>\n",
              "    </tr>\n",
              "    <tr>\n",
              "      <th>Fight Club (1999)</th>\n",
              "      <td>4.27</td>\n",
              "    </tr>\n",
              "    <tr>\n",
              "      <th>Usual Suspects, The (1995)</th>\n",
              "      <td>4.24</td>\n",
              "    </tr>\n",
              "    <tr>\n",
              "      <th>Star Wars: Episode IV - A New Hope (1977)</th>\n",
              "      <td>4.23</td>\n",
              "    </tr>\n",
              "    <tr>\n",
              "      <th>Star Wars: Episode V - The Empire Strikes Back (1980)</th>\n",
              "      <td>4.22</td>\n",
              "    </tr>\n",
              "    <tr>\n",
              "      <th>Schindler's List (1993)</th>\n",
              "      <td>4.22</td>\n",
              "    </tr>\n",
              "    <tr>\n",
              "      <th>Pulp Fiction (1994)</th>\n",
              "      <td>4.20</td>\n",
              "    </tr>\n",
              "    <tr>\n",
              "      <th>Matrix, The (1999)</th>\n",
              "      <td>4.19</td>\n",
              "    </tr>\n",
              "    <tr>\n",
              "      <th>Silence of the Lambs, The (1991)</th>\n",
              "      <td>4.16</td>\n",
              "    </tr>\n",
              "    <tr>\n",
              "      <th>Forrest Gump (1994)</th>\n",
              "      <td>4.16</td>\n",
              "    </tr>\n",
              "    <tr>\n",
              "      <th>American Beauty (1999)</th>\n",
              "      <td>4.06</td>\n",
              "    </tr>\n",
              "    <tr>\n",
              "      <th>Braveheart (1995)</th>\n",
              "      <td>4.03</td>\n",
              "    </tr>\n",
              "    <tr>\n",
              "      <th>Seven (a.k.a. Se7en) (1995)</th>\n",
              "      <td>3.98</td>\n",
              "    </tr>\n",
              "    <tr>\n",
              "      <th>Terminator 2: Judgment Day (1991)</th>\n",
              "      <td>3.97</td>\n",
              "    </tr>\n",
              "    <tr>\n",
              "      <th>Toy Story (1995)</th>\n",
              "      <td>3.92</td>\n",
              "    </tr>\n",
              "    <tr>\n",
              "      <th>Apollo 13 (1995)</th>\n",
              "      <td>3.85</td>\n",
              "    </tr>\n",
              "    <tr>\n",
              "      <th>Jurassic Park (1993)</th>\n",
              "      <td>3.75</td>\n",
              "    </tr>\n",
              "    <tr>\n",
              "      <th>Independence Day (a.k.a. ID4) (1996)</th>\n",
              "      <td>3.45</td>\n",
              "    </tr>\n",
              "  </tbody>\n",
              "</table>\n",
              "</div>"
            ],
            "text/plain": [
              "                                                    rating\n",
              "title                                                     \n",
              "Shawshank Redemption, The (1994)                      4.43\n",
              "Fight Club (1999)                                     4.27\n",
              "Usual Suspects, The (1995)                            4.24\n",
              "Star Wars: Episode IV - A New Hope (1977)             4.23\n",
              "Star Wars: Episode V - The Empire Strikes Back ...    4.22\n",
              "Schindler's List (1993)                               4.22\n",
              "Pulp Fiction (1994)                                   4.20\n",
              "Matrix, The (1999)                                    4.19\n",
              "Silence of the Lambs, The (1991)                      4.16\n",
              "Forrest Gump (1994)                                   4.16\n",
              "American Beauty (1999)                                4.06\n",
              "Braveheart (1995)                                     4.03\n",
              "Seven (a.k.a. Se7en) (1995)                           3.98\n",
              "Terminator 2: Judgment Day (1991)                     3.97\n",
              "Toy Story (1995)                                      3.92\n",
              "Apollo 13 (1995)                                      3.85\n",
              "Jurassic Park (1993)                                  3.75\n",
              "Independence Day (a.k.a. ID4) (1996)                  3.45"
            ]
          },
          "metadata": {
            "tags": []
          },
          "execution_count": 8
        }
      ]
    },
    {
      "cell_type": "code",
      "metadata": {
        "colab": {
          "base_uri": "https://localhost:8080/"
        },
        "id": "Lp-CVY0I3EfA",
        "outputId": "6d64472d-6108-401c-8c4b-67c5245403e2"
      },
      "source": [
        "data['userId'].nunique()"
      ],
      "execution_count": 9,
      "outputs": [
        {
          "output_type": "execute_result",
          "data": {
            "text/plain": [
              "610"
            ]
          },
          "metadata": {
            "tags": []
          },
          "execution_count": 9
        }
      ]
    },
    {
      "cell_type": "code",
      "metadata": {
        "scrolled": false,
        "colab": {
          "base_uri": "https://localhost:8080/",
          "height": 424
        },
        "id": "N8EaJoLG3EfB",
        "outputId": "be1ab025-8cc9-41ad-f9fb-546829f7ad5b"
      },
      "source": [
        "data[data['userId']==1]"
      ],
      "execution_count": 10,
      "outputs": [
        {
          "output_type": "execute_result",
          "data": {
            "text/html": [
              "<div>\n",
              "<style scoped>\n",
              "    .dataframe tbody tr th:only-of-type {\n",
              "        vertical-align: middle;\n",
              "    }\n",
              "\n",
              "    .dataframe tbody tr th {\n",
              "        vertical-align: top;\n",
              "    }\n",
              "\n",
              "    .dataframe thead th {\n",
              "        text-align: right;\n",
              "    }\n",
              "</style>\n",
              "<table border=\"1\" class=\"dataframe\">\n",
              "  <thead>\n",
              "    <tr style=\"text-align: right;\">\n",
              "      <th></th>\n",
              "      <th>userId</th>\n",
              "      <th>movieId</th>\n",
              "      <th>rating</th>\n",
              "      <th>timestamp</th>\n",
              "      <th>title</th>\n",
              "      <th>genres</th>\n",
              "    </tr>\n",
              "  </thead>\n",
              "  <tbody>\n",
              "    <tr>\n",
              "      <th>0</th>\n",
              "      <td>1</td>\n",
              "      <td>1</td>\n",
              "      <td>4.0</td>\n",
              "      <td>964982703</td>\n",
              "      <td>Toy Story (1995)</td>\n",
              "      <td>Adventure|Animation|Children|Comedy|Fantasy</td>\n",
              "    </tr>\n",
              "    <tr>\n",
              "      <th>215</th>\n",
              "      <td>1</td>\n",
              "      <td>3</td>\n",
              "      <td>4.0</td>\n",
              "      <td>964981247</td>\n",
              "      <td>Grumpier Old Men (1995)</td>\n",
              "      <td>Comedy|Romance</td>\n",
              "    </tr>\n",
              "    <tr>\n",
              "      <th>267</th>\n",
              "      <td>1</td>\n",
              "      <td>6</td>\n",
              "      <td>4.0</td>\n",
              "      <td>964982224</td>\n",
              "      <td>Heat (1995)</td>\n",
              "      <td>Action|Crime|Thriller</td>\n",
              "    </tr>\n",
              "    <tr>\n",
              "      <th>369</th>\n",
              "      <td>1</td>\n",
              "      <td>47</td>\n",
              "      <td>5.0</td>\n",
              "      <td>964983815</td>\n",
              "      <td>Seven (a.k.a. Se7en) (1995)</td>\n",
              "      <td>Mystery|Thriller</td>\n",
              "    </tr>\n",
              "    <tr>\n",
              "      <th>572</th>\n",
              "      <td>1</td>\n",
              "      <td>50</td>\n",
              "      <td>5.0</td>\n",
              "      <td>964982931</td>\n",
              "      <td>Usual Suspects, The (1995)</td>\n",
              "      <td>Crime|Mystery|Thriller</td>\n",
              "    </tr>\n",
              "    <tr>\n",
              "      <th>...</th>\n",
              "      <td>...</td>\n",
              "      <td>...</td>\n",
              "      <td>...</td>\n",
              "      <td>...</td>\n",
              "      <td>...</td>\n",
              "      <td>...</td>\n",
              "    </tr>\n",
              "    <tr>\n",
              "      <th>16056</th>\n",
              "      <td>1</td>\n",
              "      <td>3744</td>\n",
              "      <td>4.0</td>\n",
              "      <td>964980694</td>\n",
              "      <td>Shaft (2000)</td>\n",
              "      <td>Action|Crime|Thriller</td>\n",
              "    </tr>\n",
              "    <tr>\n",
              "      <th>16075</th>\n",
              "      <td>1</td>\n",
              "      <td>3793</td>\n",
              "      <td>5.0</td>\n",
              "      <td>964981855</td>\n",
              "      <td>X-Men (2000)</td>\n",
              "      <td>Action|Adventure|Sci-Fi</td>\n",
              "    </tr>\n",
              "    <tr>\n",
              "      <th>16208</th>\n",
              "      <td>1</td>\n",
              "      <td>3809</td>\n",
              "      <td>4.0</td>\n",
              "      <td>964981220</td>\n",
              "      <td>What About Bob? (1991)</td>\n",
              "      <td>Comedy</td>\n",
              "    </tr>\n",
              "    <tr>\n",
              "      <th>16243</th>\n",
              "      <td>1</td>\n",
              "      <td>4006</td>\n",
              "      <td>4.0</td>\n",
              "      <td>964982903</td>\n",
              "      <td>Transformers: The Movie (1986)</td>\n",
              "      <td>Adventure|Animation|Children|Sci-Fi</td>\n",
              "    </tr>\n",
              "    <tr>\n",
              "      <th>16250</th>\n",
              "      <td>1</td>\n",
              "      <td>5060</td>\n",
              "      <td>5.0</td>\n",
              "      <td>964984002</td>\n",
              "      <td>M*A*S*H (a.k.a. MASH) (1970)</td>\n",
              "      <td>Comedy|Drama|War</td>\n",
              "    </tr>\n",
              "  </tbody>\n",
              "</table>\n",
              "<p>232 rows × 6 columns</p>\n",
              "</div>"
            ],
            "text/plain": [
              "       userId  ...                                       genres\n",
              "0           1  ...  Adventure|Animation|Children|Comedy|Fantasy\n",
              "215         1  ...                               Comedy|Romance\n",
              "267         1  ...                        Action|Crime|Thriller\n",
              "369         1  ...                             Mystery|Thriller\n",
              "572         1  ...                       Crime|Mystery|Thriller\n",
              "...       ...  ...                                          ...\n",
              "16056       1  ...                        Action|Crime|Thriller\n",
              "16075       1  ...                      Action|Adventure|Sci-Fi\n",
              "16208       1  ...                                       Comedy\n",
              "16243       1  ...          Adventure|Animation|Children|Sci-Fi\n",
              "16250       1  ...                             Comedy|Drama|War\n",
              "\n",
              "[232 rows x 6 columns]"
            ]
          },
          "metadata": {
            "tags": []
          },
          "execution_count": 10
        }
      ]
    },
    {
      "cell_type": "code",
      "metadata": {
        "id": "ws2w8BMH3EfC"
      },
      "source": [
        "from itertools import permutations"
      ],
      "execution_count": 11,
      "outputs": []
    },
    {
      "cell_type": "code",
      "metadata": {
        "colab": {
          "base_uri": "https://localhost:8080/"
        },
        "id": "VQwQNjKK3EfD",
        "outputId": "5d1cb8a0-31a7-4534-c0bb-064353b7e42a"
      },
      "source": [
        "help(permutations)"
      ],
      "execution_count": 12,
      "outputs": [
        {
          "output_type": "stream",
          "text": [
            "Help on class permutations in module itertools:\n",
            "\n",
            "class permutations(builtins.object)\n",
            " |  permutations(iterable[, r]) --> permutations object\n",
            " |  \n",
            " |  Return successive r-length permutations of elements in the iterable.\n",
            " |  \n",
            " |  permutations(range(3), 2) --> (0,1), (0,2), (1,0), (1,2), (2,0), (2,1)\n",
            " |  \n",
            " |  Methods defined here:\n",
            " |  \n",
            " |  __getattribute__(self, name, /)\n",
            " |      Return getattr(self, name).\n",
            " |  \n",
            " |  __iter__(self, /)\n",
            " |      Implement iter(self).\n",
            " |  \n",
            " |  __next__(self, /)\n",
            " |      Implement next(self).\n",
            " |  \n",
            " |  __reduce__(...)\n",
            " |      Return state information for pickling.\n",
            " |  \n",
            " |  __setstate__(...)\n",
            " |      Set state information for unpickling.\n",
            " |  \n",
            " |  __sizeof__(...)\n",
            " |      Returns size in memory, in bytes.\n",
            " |  \n",
            " |  ----------------------------------------------------------------------\n",
            " |  Static methods defined here:\n",
            " |  \n",
            " |  __new__(*args, **kwargs) from builtins.type\n",
            " |      Create and return a new object.  See help(type) for accurate signature.\n",
            "\n"
          ],
          "name": "stdout"
        }
      ]
    },
    {
      "cell_type": "code",
      "metadata": {
        "id": "E4SF79EF3EfD"
      },
      "source": [
        "def MoviePairs(x):\n",
        "    pairs = pd.DataFrame(list(permutations(x.values,2)),\n",
        "                        columns=['movie_a','movie_b'])\n",
        "    return pairs"
      ],
      "execution_count": 13,
      "outputs": []
    },
    {
      "cell_type": "code",
      "metadata": {
        "id": "Z2QiEQao3EfE"
      },
      "source": [
        "movie_combinations = data.groupby('userId')['title'].apply(MoviePairs)"
      ],
      "execution_count": 14,
      "outputs": []
    },
    {
      "cell_type": "code",
      "metadata": {
        "colab": {
          "base_uri": "https://localhost:8080/",
          "height": 454
        },
        "id": "fJpT9tDx3EfF",
        "outputId": "9b001783-ac34-4642-f23a-b5d9e009cf39"
      },
      "source": [
        "movie_combinations"
      ],
      "execution_count": 15,
      "outputs": [
        {
          "output_type": "execute_result",
          "data": {
            "text/html": [
              "<div>\n",
              "<style scoped>\n",
              "    .dataframe tbody tr th:only-of-type {\n",
              "        vertical-align: middle;\n",
              "    }\n",
              "\n",
              "    .dataframe tbody tr th {\n",
              "        vertical-align: top;\n",
              "    }\n",
              "\n",
              "    .dataframe thead th {\n",
              "        text-align: right;\n",
              "    }\n",
              "</style>\n",
              "<table border=\"1\" class=\"dataframe\">\n",
              "  <thead>\n",
              "    <tr style=\"text-align: right;\">\n",
              "      <th></th>\n",
              "      <th></th>\n",
              "      <th>movie_a</th>\n",
              "      <th>movie_b</th>\n",
              "    </tr>\n",
              "    <tr>\n",
              "      <th>userId</th>\n",
              "      <th></th>\n",
              "      <th></th>\n",
              "      <th></th>\n",
              "    </tr>\n",
              "  </thead>\n",
              "  <tbody>\n",
              "    <tr>\n",
              "      <th rowspan=\"5\" valign=\"top\">1</th>\n",
              "      <th>0</th>\n",
              "      <td>Toy Story (1995)</td>\n",
              "      <td>Grumpier Old Men (1995)</td>\n",
              "    </tr>\n",
              "    <tr>\n",
              "      <th>1</th>\n",
              "      <td>Toy Story (1995)</td>\n",
              "      <td>Heat (1995)</td>\n",
              "    </tr>\n",
              "    <tr>\n",
              "      <th>2</th>\n",
              "      <td>Toy Story (1995)</td>\n",
              "      <td>Seven (a.k.a. Se7en) (1995)</td>\n",
              "    </tr>\n",
              "    <tr>\n",
              "      <th>3</th>\n",
              "      <td>Toy Story (1995)</td>\n",
              "      <td>Usual Suspects, The (1995)</td>\n",
              "    </tr>\n",
              "    <tr>\n",
              "      <th>4</th>\n",
              "      <td>Toy Story (1995)</td>\n",
              "      <td>From Dusk Till Dawn (1996)</td>\n",
              "    </tr>\n",
              "    <tr>\n",
              "      <th>...</th>\n",
              "      <th>...</th>\n",
              "      <td>...</td>\n",
              "      <td>...</td>\n",
              "    </tr>\n",
              "    <tr>\n",
              "      <th rowspan=\"5\" valign=\"top\">610</th>\n",
              "      <th>1693897</th>\n",
              "      <td>31 (2016)</td>\n",
              "      <td>Gen-X Cops (1999)</td>\n",
              "    </tr>\n",
              "    <tr>\n",
              "      <th>1693898</th>\n",
              "      <td>31 (2016)</td>\n",
              "      <td>Bloodmoon (1997)</td>\n",
              "    </tr>\n",
              "    <tr>\n",
              "      <th>1693899</th>\n",
              "      <td>31 (2016)</td>\n",
              "      <td>Sympathy for the Underdog (1971)</td>\n",
              "    </tr>\n",
              "    <tr>\n",
              "      <th>1693900</th>\n",
              "      <td>31 (2016)</td>\n",
              "      <td>Hazard (2005)</td>\n",
              "    </tr>\n",
              "    <tr>\n",
              "      <th>1693901</th>\n",
              "      <td>31 (2016)</td>\n",
              "      <td>Blair Witch (2016)</td>\n",
              "    </tr>\n",
              "  </tbody>\n",
              "</table>\n",
              "<p>60793300 rows × 2 columns</p>\n",
              "</div>"
            ],
            "text/plain": [
              "                         movie_a                           movie_b\n",
              "userId                                                            \n",
              "1      0        Toy Story (1995)           Grumpier Old Men (1995)\n",
              "       1        Toy Story (1995)                       Heat (1995)\n",
              "       2        Toy Story (1995)       Seven (a.k.a. Se7en) (1995)\n",
              "       3        Toy Story (1995)        Usual Suspects, The (1995)\n",
              "       4        Toy Story (1995)        From Dusk Till Dawn (1996)\n",
              "...                          ...                               ...\n",
              "610    1693897         31 (2016)                 Gen-X Cops (1999)\n",
              "       1693898         31 (2016)                  Bloodmoon (1997)\n",
              "       1693899         31 (2016)  Sympathy for the Underdog (1971)\n",
              "       1693900         31 (2016)                     Hazard (2005)\n",
              "       1693901         31 (2016)                Blair Witch (2016)\n",
              "\n",
              "[60793300 rows x 2 columns]"
            ]
          },
          "metadata": {
            "tags": []
          },
          "execution_count": 15
        }
      ]
    },
    {
      "cell_type": "code",
      "metadata": {
        "colab": {
          "base_uri": "https://localhost:8080/",
          "height": 206
        },
        "id": "nz6ghnqE3qgB",
        "outputId": "fe00c7d2-3d1b-4430-858e-66cfd1e7604d"
      },
      "source": [
        "pair = movie_combinations.groupby(['movie_a','movie_b']).size().to_frame(name='size').reset_index()\n",
        "pair.sort_values(by='size',ascending=False,inplace=True)\n",
        "pair.head()"
      ],
      "execution_count": 16,
      "outputs": [
        {
          "output_type": "execute_result",
          "data": {
            "text/html": [
              "<div>\n",
              "<style scoped>\n",
              "    .dataframe tbody tr th:only-of-type {\n",
              "        vertical-align: middle;\n",
              "    }\n",
              "\n",
              "    .dataframe tbody tr th {\n",
              "        vertical-align: top;\n",
              "    }\n",
              "\n",
              "    .dataframe thead th {\n",
              "        text-align: right;\n",
              "    }\n",
              "</style>\n",
              "<table border=\"1\" class=\"dataframe\">\n",
              "  <thead>\n",
              "    <tr style=\"text-align: right;\">\n",
              "      <th></th>\n",
              "      <th>movie_a</th>\n",
              "      <th>movie_b</th>\n",
              "      <th>size</th>\n",
              "    </tr>\n",
              "  </thead>\n",
              "  <tbody>\n",
              "    <tr>\n",
              "      <th>20672049</th>\n",
              "      <td>Shawshank Redemption, The (1994)</td>\n",
              "      <td>Forrest Gump (1994)</td>\n",
              "      <td>231</td>\n",
              "    </tr>\n",
              "    <tr>\n",
              "      <th>8538313</th>\n",
              "      <td>Forrest Gump (1994)</td>\n",
              "      <td>Shawshank Redemption, The (1994)</td>\n",
              "      <td>231</td>\n",
              "    </tr>\n",
              "    <tr>\n",
              "      <th>8537603</th>\n",
              "      <td>Forrest Gump (1994)</td>\n",
              "      <td>Pulp Fiction (1994)</td>\n",
              "      <td>230</td>\n",
              "    </tr>\n",
              "    <tr>\n",
              "      <th>18567035</th>\n",
              "      <td>Pulp Fiction (1994)</td>\n",
              "      <td>Forrest Gump (1994)</td>\n",
              "      <td>230</td>\n",
              "    </tr>\n",
              "    <tr>\n",
              "      <th>20675275</th>\n",
              "      <td>Shawshank Redemption, The (1994)</td>\n",
              "      <td>Pulp Fiction (1994)</td>\n",
              "      <td>222</td>\n",
              "    </tr>\n",
              "  </tbody>\n",
              "</table>\n",
              "</div>"
            ],
            "text/plain": [
              "                                   movie_a  ... size\n",
              "20672049  Shawshank Redemption, The (1994)  ...  231\n",
              "8538313                Forrest Gump (1994)  ...  231\n",
              "8537603                Forrest Gump (1994)  ...  230\n",
              "18567035               Pulp Fiction (1994)  ...  230\n",
              "20675275  Shawshank Redemption, The (1994)  ...  222\n",
              "\n",
              "[5 rows x 3 columns]"
            ]
          },
          "metadata": {
            "tags": []
          },
          "execution_count": 16
        }
      ]
    },
    {
      "cell_type": "code",
      "metadata": {
        "colab": {
          "base_uri": "https://localhost:8080/",
          "height": 424
        },
        "id": "g24Zw-4V5eFl",
        "outputId": "3553239b-fdcd-49e7-d861-605bb24c6628"
      },
      "source": [
        "pair[pair['movie_a']=='Forrest Gump (1994)']"
      ],
      "execution_count": 17,
      "outputs": [
        {
          "output_type": "execute_result",
          "data": {
            "text/html": [
              "<div>\n",
              "<style scoped>\n",
              "    .dataframe tbody tr th:only-of-type {\n",
              "        vertical-align: middle;\n",
              "    }\n",
              "\n",
              "    .dataframe tbody tr th {\n",
              "        vertical-align: top;\n",
              "    }\n",
              "\n",
              "    .dataframe thead th {\n",
              "        text-align: right;\n",
              "    }\n",
              "</style>\n",
              "<table border=\"1\" class=\"dataframe\">\n",
              "  <thead>\n",
              "    <tr style=\"text-align: right;\">\n",
              "      <th></th>\n",
              "      <th>movie_a</th>\n",
              "      <th>movie_b</th>\n",
              "      <th>size</th>\n",
              "    </tr>\n",
              "  </thead>\n",
              "  <tbody>\n",
              "    <tr>\n",
              "      <th>8538313</th>\n",
              "      <td>Forrest Gump (1994)</td>\n",
              "      <td>Shawshank Redemption, The (1994)</td>\n",
              "      <td>231</td>\n",
              "    </tr>\n",
              "    <tr>\n",
              "      <th>8537603</th>\n",
              "      <td>Forrest Gump (1994)</td>\n",
              "      <td>Pulp Fiction (1994)</td>\n",
              "      <td>230</td>\n",
              "    </tr>\n",
              "    <tr>\n",
              "      <th>8538399</th>\n",
              "      <td>Forrest Gump (1994)</td>\n",
              "      <td>Silence of the Lambs, The (1991)</td>\n",
              "      <td>199</td>\n",
              "    </tr>\n",
              "    <tr>\n",
              "      <th>8535484</th>\n",
              "      <td>Forrest Gump (1994)</td>\n",
              "      <td>Jurassic Park (1993)</td>\n",
              "      <td>198</td>\n",
              "    </tr>\n",
              "    <tr>\n",
              "      <th>8536292</th>\n",
              "      <td>Forrest Gump (1994)</td>\n",
              "      <td>Matrix, The (1999)</td>\n",
              "      <td>194</td>\n",
              "    </tr>\n",
              "    <tr>\n",
              "      <th>...</th>\n",
              "      <td>...</td>\n",
              "      <td>...</td>\n",
              "      <td>...</td>\n",
              "    </tr>\n",
              "    <tr>\n",
              "      <th>8533615</th>\n",
              "      <td>Forrest Gump (1994)</td>\n",
              "      <td>Embassy (2013)</td>\n",
              "      <td>1</td>\n",
              "    </tr>\n",
              "    <tr>\n",
              "      <th>8533614</th>\n",
              "      <td>Forrest Gump (1994)</td>\n",
              "      <td>Embalmer, The (Imbalsamatore, L') (2002)</td>\n",
              "      <td>1</td>\n",
              "    </tr>\n",
              "    <tr>\n",
              "      <th>8533612</th>\n",
              "      <td>Forrest Gump (1994)</td>\n",
              "      <td>Elsa &amp; Fred (2014)</td>\n",
              "      <td>1</td>\n",
              "    </tr>\n",
              "    <tr>\n",
              "      <th>8533611</th>\n",
              "      <td>Forrest Gump (1994)</td>\n",
              "      <td>Elsa &amp; Fred (2005)</td>\n",
              "      <td>1</td>\n",
              "    </tr>\n",
              "    <tr>\n",
              "      <th>8533610</th>\n",
              "      <td>Forrest Gump (1994)</td>\n",
              "      <td>Elmer Gantry (1960)</td>\n",
              "      <td>1</td>\n",
              "    </tr>\n",
              "  </tbody>\n",
              "</table>\n",
              "<p>9318 rows × 3 columns</p>\n",
              "</div>"
            ],
            "text/plain": [
              "                     movie_a                                   movie_b  size\n",
              "8538313  Forrest Gump (1994)          Shawshank Redemption, The (1994)   231\n",
              "8537603  Forrest Gump (1994)                       Pulp Fiction (1994)   230\n",
              "8538399  Forrest Gump (1994)          Silence of the Lambs, The (1991)   199\n",
              "8535484  Forrest Gump (1994)                      Jurassic Park (1993)   198\n",
              "8536292  Forrest Gump (1994)                        Matrix, The (1999)   194\n",
              "...                      ...                                       ...   ...\n",
              "8533615  Forrest Gump (1994)                            Embassy (2013)     1\n",
              "8533614  Forrest Gump (1994)  Embalmer, The (Imbalsamatore, L') (2002)     1\n",
              "8533612  Forrest Gump (1994)                        Elsa & Fred (2014)     1\n",
              "8533611  Forrest Gump (1994)                        Elsa & Fred (2005)     1\n",
              "8533610  Forrest Gump (1994)                       Elmer Gantry (1960)     1\n",
              "\n",
              "[9318 rows x 3 columns]"
            ]
          },
          "metadata": {
            "tags": []
          },
          "execution_count": 17
        }
      ]
    },
    {
      "cell_type": "code",
      "metadata": {
        "colab": {
          "base_uri": "https://localhost:8080/",
          "height": 112
        },
        "id": "ARe2tfYN58u4",
        "outputId": "563346ff-1adf-4162-f2bd-20ab38888d8f"
      },
      "source": [
        "# pair[pair['movie_a']=='Forrest Gump (1994)']\n",
        "mv = pair['movie_a']=='Forrest Gump (1994)'\n",
        "sz = pair['size']>=200\n",
        "pair[mv&sz]"
      ],
      "execution_count": 18,
      "outputs": [
        {
          "output_type": "execute_result",
          "data": {
            "text/html": [
              "<div>\n",
              "<style scoped>\n",
              "    .dataframe tbody tr th:only-of-type {\n",
              "        vertical-align: middle;\n",
              "    }\n",
              "\n",
              "    .dataframe tbody tr th {\n",
              "        vertical-align: top;\n",
              "    }\n",
              "\n",
              "    .dataframe thead th {\n",
              "        text-align: right;\n",
              "    }\n",
              "</style>\n",
              "<table border=\"1\" class=\"dataframe\">\n",
              "  <thead>\n",
              "    <tr style=\"text-align: right;\">\n",
              "      <th></th>\n",
              "      <th>movie_a</th>\n",
              "      <th>movie_b</th>\n",
              "      <th>size</th>\n",
              "    </tr>\n",
              "  </thead>\n",
              "  <tbody>\n",
              "    <tr>\n",
              "      <th>8538313</th>\n",
              "      <td>Forrest Gump (1994)</td>\n",
              "      <td>Shawshank Redemption, The (1994)</td>\n",
              "      <td>231</td>\n",
              "    </tr>\n",
              "    <tr>\n",
              "      <th>8537603</th>\n",
              "      <td>Forrest Gump (1994)</td>\n",
              "      <td>Pulp Fiction (1994)</td>\n",
              "      <td>230</td>\n",
              "    </tr>\n",
              "  </tbody>\n",
              "</table>\n",
              "</div>"
            ],
            "text/plain": [
              "                     movie_a                           movie_b  size\n",
              "8538313  Forrest Gump (1994)  Shawshank Redemption, The (1994)   231\n",
              "8537603  Forrest Gump (1994)               Pulp Fiction (1994)   230"
            ]
          },
          "metadata": {
            "tags": []
          },
          "execution_count": 18
        }
      ]
    },
    {
      "cell_type": "code",
      "metadata": {
        "colab": {
          "base_uri": "https://localhost:8080/",
          "height": 488
        },
        "id": "z2t0hcoS6zQ9",
        "outputId": "528146bd-ebf8-433c-8290-eaad9923ccb0"
      },
      "source": [
        "mv = pair['movie_a']=='Forrest Gump (1994)'\n",
        "sz = pair['size']>=150\n",
        "__ = pair[mv&sz]\n",
        "__"
      ],
      "execution_count": 22,
      "outputs": [
        {
          "output_type": "execute_result",
          "data": {
            "text/html": [
              "<div>\n",
              "<style scoped>\n",
              "    .dataframe tbody tr th:only-of-type {\n",
              "        vertical-align: middle;\n",
              "    }\n",
              "\n",
              "    .dataframe tbody tr th {\n",
              "        vertical-align: top;\n",
              "    }\n",
              "\n",
              "    .dataframe thead th {\n",
              "        text-align: right;\n",
              "    }\n",
              "</style>\n",
              "<table border=\"1\" class=\"dataframe\">\n",
              "  <thead>\n",
              "    <tr style=\"text-align: right;\">\n",
              "      <th></th>\n",
              "      <th>movie_a</th>\n",
              "      <th>movie_b</th>\n",
              "      <th>size</th>\n",
              "    </tr>\n",
              "  </thead>\n",
              "  <tbody>\n",
              "    <tr>\n",
              "      <th>8538313</th>\n",
              "      <td>Forrest Gump (1994)</td>\n",
              "      <td>Shawshank Redemption, The (1994)</td>\n",
              "      <td>231</td>\n",
              "    </tr>\n",
              "    <tr>\n",
              "      <th>8537603</th>\n",
              "      <td>Forrest Gump (1994)</td>\n",
              "      <td>Pulp Fiction (1994)</td>\n",
              "      <td>230</td>\n",
              "    </tr>\n",
              "    <tr>\n",
              "      <th>8538399</th>\n",
              "      <td>Forrest Gump (1994)</td>\n",
              "      <td>Silence of the Lambs, The (1991)</td>\n",
              "      <td>199</td>\n",
              "    </tr>\n",
              "    <tr>\n",
              "      <th>8535484</th>\n",
              "      <td>Forrest Gump (1994)</td>\n",
              "      <td>Jurassic Park (1993)</td>\n",
              "      <td>198</td>\n",
              "    </tr>\n",
              "    <tr>\n",
              "      <th>8536292</th>\n",
              "      <td>Forrest Gump (1994)</td>\n",
              "      <td>Matrix, The (1999)</td>\n",
              "      <td>194</td>\n",
              "    </tr>\n",
              "    <tr>\n",
              "      <th>8532295</th>\n",
              "      <td>Forrest Gump (1994)</td>\n",
              "      <td>Braveheart (1995)</td>\n",
              "      <td>183</td>\n",
              "    </tr>\n",
              "    <tr>\n",
              "      <th>8539052</th>\n",
              "      <td>Forrest Gump (1994)</td>\n",
              "      <td>Terminator 2: Judgment Day (1991)</td>\n",
              "      <td>170</td>\n",
              "    </tr>\n",
              "    <tr>\n",
              "      <th>8531562</th>\n",
              "      <td>Forrest Gump (1994)</td>\n",
              "      <td>Apollo 13 (1995)</td>\n",
              "      <td>165</td>\n",
              "    </tr>\n",
              "    <tr>\n",
              "      <th>8538703</th>\n",
              "      <td>Forrest Gump (1994)</td>\n",
              "      <td>Star Wars: Episode IV - A New Hope (1977)</td>\n",
              "      <td>164</td>\n",
              "    </tr>\n",
              "    <tr>\n",
              "      <th>8538143</th>\n",
              "      <td>Forrest Gump (1994)</td>\n",
              "      <td>Schindler's List (1993)</td>\n",
              "      <td>164</td>\n",
              "    </tr>\n",
              "    <tr>\n",
              "      <th>8538244</th>\n",
              "      <td>Forrest Gump (1994)</td>\n",
              "      <td>Seven (a.k.a. Se7en) (1995)</td>\n",
              "      <td>160</td>\n",
              "    </tr>\n",
              "    <tr>\n",
              "      <th>8533899</th>\n",
              "      <td>Forrest Gump (1994)</td>\n",
              "      <td>Fight Club (1999)</td>\n",
              "      <td>160</td>\n",
              "    </tr>\n",
              "    <tr>\n",
              "      <th>8539532</th>\n",
              "      <td>Forrest Gump (1994)</td>\n",
              "      <td>Toy Story (1995)</td>\n",
              "      <td>154</td>\n",
              "    </tr>\n",
              "    <tr>\n",
              "      <th>8539776</th>\n",
              "      <td>Forrest Gump (1994)</td>\n",
              "      <td>Usual Suspects, The (1995)</td>\n",
              "      <td>152</td>\n",
              "    </tr>\n",
              "  </tbody>\n",
              "</table>\n",
              "</div>"
            ],
            "text/plain": [
              "                     movie_a                                    movie_b  size\n",
              "8538313  Forrest Gump (1994)           Shawshank Redemption, The (1994)   231\n",
              "8537603  Forrest Gump (1994)                        Pulp Fiction (1994)   230\n",
              "8538399  Forrest Gump (1994)           Silence of the Lambs, The (1991)   199\n",
              "8535484  Forrest Gump (1994)                       Jurassic Park (1993)   198\n",
              "8536292  Forrest Gump (1994)                         Matrix, The (1999)   194\n",
              "8532295  Forrest Gump (1994)                          Braveheart (1995)   183\n",
              "8539052  Forrest Gump (1994)          Terminator 2: Judgment Day (1991)   170\n",
              "8531562  Forrest Gump (1994)                           Apollo 13 (1995)   165\n",
              "8538703  Forrest Gump (1994)  Star Wars: Episode IV - A New Hope (1977)   164\n",
              "8538143  Forrest Gump (1994)                    Schindler's List (1993)   164\n",
              "8538244  Forrest Gump (1994)                Seven (a.k.a. Se7en) (1995)   160\n",
              "8533899  Forrest Gump (1994)                          Fight Club (1999)   160\n",
              "8539532  Forrest Gump (1994)                           Toy Story (1995)   154\n",
              "8539776  Forrest Gump (1994)                 Usual Suspects, The (1995)   152"
            ]
          },
          "metadata": {
            "tags": []
          },
          "execution_count": 22
        }
      ]
    },
    {
      "cell_type": "code",
      "metadata": {
        "colab": {
          "base_uri": "https://localhost:8080/",
          "height": 717
        },
        "id": "wFQ-y_1L7i1F",
        "outputId": "1778ed87-74dc-4c65-a7d9-6339a8bbd556"
      },
      "source": [
        "import matplotlib.pyplot as plt\n",
        "__.plot.bar(x='movie_b', \n",
        "            title='Movie Recommended After Watching Forrest Gump',\n",
        "            figsize=(8,8))\n",
        "plt.show()"
      ],
      "execution_count": 27,
      "outputs": [
        {
          "output_type": "display_data",
          "data": {
            "image/png": "[encoded data removed]",
            "text/plain": [
              "<Figure size 576x576 with 1 Axes>"
            ]
          },
          "metadata": {
            "tags": [],
            "needs_background": "light"
          }
        }
      ]
    }
  ]
}