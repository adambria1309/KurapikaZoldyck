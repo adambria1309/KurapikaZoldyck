{
  "nbformat": 4,
  "nbformat_minor": 0,
  "metadata": {
    "kernelspec": {
      "display_name": "Python 3",
      "language": "python",
      "name": "python3"
    },
    "language_info": {
      "codemirror_mode": {
        "name": "ipython",
        "version": 3
      },
      "file_extension": ".py",
      "mimetype": "text/x-python",
      "name": "python",
      "nbconvert_exporter": "python",
      "pygments_lexer": "ipython3",
      "version": "3.8.5"
    },
    "colab": {
      "name": "Introduction to Pandas.ipynb",
      "provenance": []
    }
  },
  "cells": [
    {
      "cell_type": "code",
      "metadata": {
        "id": "LDwJB5GLH3Ag"
      },
      "source": [
        "from google.colab import files\n",
        "files.upload()"
      ],
      "execution_count": null,
      "outputs": []
    },
    {
      "cell_type": "code",
      "metadata": {
        "id": "O8EpFDtVHvLl"
      },
      "source": [
        "import pandas as pd"
      ],
      "execution_count": 2,
      "outputs": []
    },
    {
      "cell_type": "code",
      "metadata": {
        "colab": {
          "base_uri": "https://localhost:8080/",
          "height": 206
        },
        "id": "hs_ITEBiHybc",
        "outputId": "9cd43326-af2d-4c92-a509-42ec30d09661"
      },
      "source": [
        "data = pd.read_csv('/content/homelessness.csv')\n",
        "data.head()"
      ],
      "execution_count": 3,
      "outputs": [
        {
          "output_type": "execute_result",
          "data": {
            "text/html": [
              "<div>\n",
              "<style scoped>\n",
              "    .dataframe tbody tr th:only-of-type {\n",
              "        vertical-align: middle;\n",
              "    }\n",
              "\n",
              "    .dataframe tbody tr th {\n",
              "        vertical-align: top;\n",
              "    }\n",
              "\n",
              "    .dataframe thead th {\n",
              "        text-align: right;\n",
              "    }\n",
              "</style>\n",
              "<table border=\"1\" class=\"dataframe\">\n",
              "  <thead>\n",
              "    <tr style=\"text-align: right;\">\n",
              "      <th></th>\n",
              "      <th>Unnamed: 0</th>\n",
              "      <th>region</th>\n",
              "      <th>state</th>\n",
              "      <th>individuals</th>\n",
              "      <th>family_members</th>\n",
              "      <th>state_pop</th>\n",
              "    </tr>\n",
              "  </thead>\n",
              "  <tbody>\n",
              "    <tr>\n",
              "      <th>0</th>\n",
              "      <td>0</td>\n",
              "      <td>East South Central</td>\n",
              "      <td>Alabama</td>\n",
              "      <td>2570.0</td>\n",
              "      <td>864.0</td>\n",
              "      <td>4887681</td>\n",
              "    </tr>\n",
              "    <tr>\n",
              "      <th>1</th>\n",
              "      <td>1</td>\n",
              "      <td>Pacific</td>\n",
              "      <td>Alaska</td>\n",
              "      <td>1434.0</td>\n",
              "      <td>582.0</td>\n",
              "      <td>735139</td>\n",
              "    </tr>\n",
              "    <tr>\n",
              "      <th>2</th>\n",
              "      <td>2</td>\n",
              "      <td>Mountain</td>\n",
              "      <td>Arizona</td>\n",
              "      <td>7259.0</td>\n",
              "      <td>2606.0</td>\n",
              "      <td>7158024</td>\n",
              "    </tr>\n",
              "    <tr>\n",
              "      <th>3</th>\n",
              "      <td>3</td>\n",
              "      <td>West South Central</td>\n",
              "      <td>Arkansas</td>\n",
              "      <td>2280.0</td>\n",
              "      <td>432.0</td>\n",
              "      <td>3009733</td>\n",
              "    </tr>\n",
              "    <tr>\n",
              "      <th>4</th>\n",
              "      <td>4</td>\n",
              "      <td>Pacific</td>\n",
              "      <td>California</td>\n",
              "      <td>109008.0</td>\n",
              "      <td>20964.0</td>\n",
              "      <td>39461588</td>\n",
              "    </tr>\n",
              "  </tbody>\n",
              "</table>\n",
              "</div>"
            ],
            "text/plain": [
              "   Unnamed: 0              region  ... family_members  state_pop\n",
              "0           0  East South Central  ...          864.0    4887681\n",
              "1           1             Pacific  ...          582.0     735139\n",
              "2           2            Mountain  ...         2606.0    7158024\n",
              "3           3  West South Central  ...          432.0    3009733\n",
              "4           4             Pacific  ...        20964.0   39461588\n",
              "\n",
              "[5 rows x 6 columns]"
            ]
          },
          "metadata": {
            "tags": []
          },
          "execution_count": 3
        }
      ]
    },
    {
      "cell_type": "code",
      "metadata": {
        "colab": {
          "base_uri": "https://localhost:8080/",
          "height": 206
        },
        "id": "nYZMltWTIeOa",
        "outputId": "b3133b50-53f2-4477-d678-d674a80dc3fb"
      },
      "source": [
        "data.tail()"
      ],
      "execution_count": 7,
      "outputs": [
        {
          "output_type": "execute_result",
          "data": {
            "text/html": [
              "<div>\n",
              "<style scoped>\n",
              "    .dataframe tbody tr th:only-of-type {\n",
              "        vertical-align: middle;\n",
              "    }\n",
              "\n",
              "    .dataframe tbody tr th {\n",
              "        vertical-align: top;\n",
              "    }\n",
              "\n",
              "    .dataframe thead th {\n",
              "        text-align: right;\n",
              "    }\n",
              "</style>\n",
              "<table border=\"1\" class=\"dataframe\">\n",
              "  <thead>\n",
              "    <tr style=\"text-align: right;\">\n",
              "      <th></th>\n",
              "      <th>region</th>\n",
              "      <th>state</th>\n",
              "      <th>individuals</th>\n",
              "      <th>family_members</th>\n",
              "      <th>state_pop</th>\n",
              "    </tr>\n",
              "  </thead>\n",
              "  <tbody>\n",
              "    <tr>\n",
              "      <th>46</th>\n",
              "      <td>South Atlantic</td>\n",
              "      <td>Virginia</td>\n",
              "      <td>3928.0</td>\n",
              "      <td>2047.0</td>\n",
              "      <td>8501286</td>\n",
              "    </tr>\n",
              "    <tr>\n",
              "      <th>47</th>\n",
              "      <td>Pacific</td>\n",
              "      <td>Washington</td>\n",
              "      <td>16424.0</td>\n",
              "      <td>5880.0</td>\n",
              "      <td>7523869</td>\n",
              "    </tr>\n",
              "    <tr>\n",
              "      <th>48</th>\n",
              "      <td>South Atlantic</td>\n",
              "      <td>West Virginia</td>\n",
              "      <td>1021.0</td>\n",
              "      <td>222.0</td>\n",
              "      <td>1804291</td>\n",
              "    </tr>\n",
              "    <tr>\n",
              "      <th>49</th>\n",
              "      <td>East North Central</td>\n",
              "      <td>Wisconsin</td>\n",
              "      <td>2740.0</td>\n",
              "      <td>2167.0</td>\n",
              "      <td>5807406</td>\n",
              "    </tr>\n",
              "    <tr>\n",
              "      <th>50</th>\n",
              "      <td>Mountain</td>\n",
              "      <td>Wyoming</td>\n",
              "      <td>434.0</td>\n",
              "      <td>205.0</td>\n",
              "      <td>577601</td>\n",
              "    </tr>\n",
              "  </tbody>\n",
              "</table>\n",
              "</div>"
            ],
            "text/plain": [
              "                region          state  individuals  family_members  state_pop\n",
              "46      South Atlantic       Virginia       3928.0          2047.0    8501286\n",
              "47             Pacific     Washington      16424.0          5880.0    7523869\n",
              "48      South Atlantic  West Virginia       1021.0           222.0    1804291\n",
              "49  East North Central      Wisconsin       2740.0          2167.0    5807406\n",
              "50            Mountain        Wyoming        434.0           205.0     577601"
            ]
          },
          "metadata": {
            "tags": []
          },
          "execution_count": 7
        }
      ]
    },
    {
      "cell_type": "code",
      "metadata": {
        "colab": {
          "base_uri": "https://localhost:8080/",
          "height": 112
        },
        "id": "tATde8IgIf58",
        "outputId": "e17dd668-66a5-4146-f488-bd51b357c741"
      },
      "source": [
        "data.head(2)"
      ],
      "execution_count": 8,
      "outputs": [
        {
          "output_type": "execute_result",
          "data": {
            "text/html": [
              "<div>\n",
              "<style scoped>\n",
              "    .dataframe tbody tr th:only-of-type {\n",
              "        vertical-align: middle;\n",
              "    }\n",
              "\n",
              "    .dataframe tbody tr th {\n",
              "        vertical-align: top;\n",
              "    }\n",
              "\n",
              "    .dataframe thead th {\n",
              "        text-align: right;\n",
              "    }\n",
              "</style>\n",
              "<table border=\"1\" class=\"dataframe\">\n",
              "  <thead>\n",
              "    <tr style=\"text-align: right;\">\n",
              "      <th></th>\n",
              "      <th>region</th>\n",
              "      <th>state</th>\n",
              "      <th>individuals</th>\n",
              "      <th>family_members</th>\n",
              "      <th>state_pop</th>\n",
              "    </tr>\n",
              "  </thead>\n",
              "  <tbody>\n",
              "    <tr>\n",
              "      <th>0</th>\n",
              "      <td>East South Central</td>\n",
              "      <td>Alabama</td>\n",
              "      <td>2570.0</td>\n",
              "      <td>864.0</td>\n",
              "      <td>4887681</td>\n",
              "    </tr>\n",
              "    <tr>\n",
              "      <th>1</th>\n",
              "      <td>Pacific</td>\n",
              "      <td>Alaska</td>\n",
              "      <td>1434.0</td>\n",
              "      <td>582.0</td>\n",
              "      <td>735139</td>\n",
              "    </tr>\n",
              "  </tbody>\n",
              "</table>\n",
              "</div>"
            ],
            "text/plain": [
              "               region    state  individuals  family_members  state_pop\n",
              "0  East South Central  Alabama       2570.0           864.0    4887681\n",
              "1             Pacific   Alaska       1434.0           582.0     735139"
            ]
          },
          "metadata": {
            "tags": []
          },
          "execution_count": 8
        }
      ]
    },
    {
      "cell_type": "code",
      "metadata": {
        "colab": {
          "base_uri": "https://localhost:8080/",
          "height": 112
        },
        "id": "Oq-i8Fa2IhTP",
        "outputId": "7755d313-2dd0-4010-cab0-6ef973465ed7"
      },
      "source": [
        "data.tail(2)"
      ],
      "execution_count": 9,
      "outputs": [
        {
          "output_type": "execute_result",
          "data": {
            "text/html": [
              "<div>\n",
              "<style scoped>\n",
              "    .dataframe tbody tr th:only-of-type {\n",
              "        vertical-align: middle;\n",
              "    }\n",
              "\n",
              "    .dataframe tbody tr th {\n",
              "        vertical-align: top;\n",
              "    }\n",
              "\n",
              "    .dataframe thead th {\n",
              "        text-align: right;\n",
              "    }\n",
              "</style>\n",
              "<table border=\"1\" class=\"dataframe\">\n",
              "  <thead>\n",
              "    <tr style=\"text-align: right;\">\n",
              "      <th></th>\n",
              "      <th>region</th>\n",
              "      <th>state</th>\n",
              "      <th>individuals</th>\n",
              "      <th>family_members</th>\n",
              "      <th>state_pop</th>\n",
              "    </tr>\n",
              "  </thead>\n",
              "  <tbody>\n",
              "    <tr>\n",
              "      <th>49</th>\n",
              "      <td>East North Central</td>\n",
              "      <td>Wisconsin</td>\n",
              "      <td>2740.0</td>\n",
              "      <td>2167.0</td>\n",
              "      <td>5807406</td>\n",
              "    </tr>\n",
              "    <tr>\n",
              "      <th>50</th>\n",
              "      <td>Mountain</td>\n",
              "      <td>Wyoming</td>\n",
              "      <td>434.0</td>\n",
              "      <td>205.0</td>\n",
              "      <td>577601</td>\n",
              "    </tr>\n",
              "  </tbody>\n",
              "</table>\n",
              "</div>"
            ],
            "text/plain": [
              "                region      state  individuals  family_members  state_pop\n",
              "49  East North Central  Wisconsin       2740.0          2167.0    5807406\n",
              "50            Mountain    Wyoming        434.0           205.0     577601"
            ]
          },
          "metadata": {
            "tags": []
          },
          "execution_count": 9
        }
      ]
    },
    {
      "cell_type": "code",
      "metadata": {
        "colab": {
          "base_uri": "https://localhost:8080/"
        },
        "id": "FDz8CdLnIM0a",
        "outputId": "a119199a-0b8f-46ad-9880-792cdd8afb37"
      },
      "source": [
        "data.shape"
      ],
      "execution_count": 4,
      "outputs": [
        {
          "output_type": "execute_result",
          "data": {
            "text/plain": [
              "(51, 6)"
            ]
          },
          "metadata": {
            "tags": []
          },
          "execution_count": 4
        }
      ]
    },
    {
      "cell_type": "code",
      "metadata": {
        "colab": {
          "base_uri": "https://localhost:8080/"
        },
        "id": "4k13Ym9fITyv",
        "outputId": "056c79f8-8a1b-485d-a9bd-1511105648da"
      },
      "source": [
        "data.info()"
      ],
      "execution_count": 5,
      "outputs": [
        {
          "output_type": "stream",
          "text": [
            "<class 'pandas.core.frame.DataFrame'>\n",
            "RangeIndex: 51 entries, 0 to 50\n",
            "Data columns (total 6 columns):\n",
            " #   Column          Non-Null Count  Dtype  \n",
            "---  ------          --------------  -----  \n",
            " 0   Unnamed: 0      51 non-null     int64  \n",
            " 1   region          51 non-null     object \n",
            " 2   state           51 non-null     object \n",
            " 3   individuals     51 non-null     float64\n",
            " 4   family_members  51 non-null     float64\n",
            " 5   state_pop       51 non-null     int64  \n",
            "dtypes: float64(2), int64(2), object(2)\n",
            "memory usage: 2.5+ KB\n"
          ],
          "name": "stdout"
        }
      ]
    },
    {
      "cell_type": "code",
      "metadata": {
        "id": "ek-YtCNCIWBC"
      },
      "source": [
        "data.drop('Unnamed: 0',1,inplace=True)"
      ],
      "execution_count": 6,
      "outputs": []
    },
    {
      "cell_type": "code",
      "metadata": {
        "colab": {
          "base_uri": "https://localhost:8080/",
          "height": 300
        },
        "id": "AkkoXbSiIkKS",
        "outputId": "b9fd725b-1b03-4a56-ff97-4aa76d938263"
      },
      "source": [
        "data.describe()"
      ],
      "execution_count": 10,
      "outputs": [
        {
          "output_type": "execute_result",
          "data": {
            "text/html": [
              "<div>\n",
              "<style scoped>\n",
              "    .dataframe tbody tr th:only-of-type {\n",
              "        vertical-align: middle;\n",
              "    }\n",
              "\n",
              "    .dataframe tbody tr th {\n",
              "        vertical-align: top;\n",
              "    }\n",
              "\n",
              "    .dataframe thead th {\n",
              "        text-align: right;\n",
              "    }\n",
              "</style>\n",
              "<table border=\"1\" class=\"dataframe\">\n",
              "  <thead>\n",
              "    <tr style=\"text-align: right;\">\n",
              "      <th></th>\n",
              "      <th>individuals</th>\n",
              "      <th>family_members</th>\n",
              "      <th>state_pop</th>\n",
              "    </tr>\n",
              "  </thead>\n",
              "  <tbody>\n",
              "    <tr>\n",
              "      <th>count</th>\n",
              "      <td>51.000000</td>\n",
              "      <td>51.000000</td>\n",
              "      <td>5.100000e+01</td>\n",
              "    </tr>\n",
              "    <tr>\n",
              "      <th>mean</th>\n",
              "      <td>7225.784314</td>\n",
              "      <td>3504.882353</td>\n",
              "      <td>6.405637e+06</td>\n",
              "    </tr>\n",
              "    <tr>\n",
              "      <th>std</th>\n",
              "      <td>15991.025083</td>\n",
              "      <td>7805.411811</td>\n",
              "      <td>7.327258e+06</td>\n",
              "    </tr>\n",
              "    <tr>\n",
              "      <th>min</th>\n",
              "      <td>434.000000</td>\n",
              "      <td>75.000000</td>\n",
              "      <td>5.776010e+05</td>\n",
              "    </tr>\n",
              "    <tr>\n",
              "      <th>25%</th>\n",
              "      <td>1446.500000</td>\n",
              "      <td>592.000000</td>\n",
              "      <td>1.777414e+06</td>\n",
              "    </tr>\n",
              "    <tr>\n",
              "      <th>50%</th>\n",
              "      <td>3082.000000</td>\n",
              "      <td>1482.000000</td>\n",
              "      <td>4.461153e+06</td>\n",
              "    </tr>\n",
              "    <tr>\n",
              "      <th>75%</th>\n",
              "      <td>6781.500000</td>\n",
              "      <td>3196.000000</td>\n",
              "      <td>7.340946e+06</td>\n",
              "    </tr>\n",
              "    <tr>\n",
              "      <th>max</th>\n",
              "      <td>109008.000000</td>\n",
              "      <td>52070.000000</td>\n",
              "      <td>3.946159e+07</td>\n",
              "    </tr>\n",
              "  </tbody>\n",
              "</table>\n",
              "</div>"
            ],
            "text/plain": [
              "         individuals  family_members     state_pop\n",
              "count      51.000000       51.000000  5.100000e+01\n",
              "mean     7225.784314     3504.882353  6.405637e+06\n",
              "std     15991.025083     7805.411811  7.327258e+06\n",
              "min       434.000000       75.000000  5.776010e+05\n",
              "25%      1446.500000      592.000000  1.777414e+06\n",
              "50%      3082.000000     1482.000000  4.461153e+06\n",
              "75%      6781.500000     3196.000000  7.340946e+06\n",
              "max    109008.000000    52070.000000  3.946159e+07"
            ]
          },
          "metadata": {
            "tags": []
          },
          "execution_count": 10
        }
      ]
    },
    {
      "cell_type": "code",
      "metadata": {
        "colab": {
          "base_uri": "https://localhost:8080/",
          "height": 394
        },
        "id": "EDTRVFK4InWV",
        "outputId": "d09d0d6a-d664-4dc2-de93-69768afa50f0"
      },
      "source": [
        "data.describe(include='all')"
      ],
      "execution_count": 11,
      "outputs": [
        {
          "output_type": "execute_result",
          "data": {
            "text/html": [
              "<div>\n",
              "<style scoped>\n",
              "    .dataframe tbody tr th:only-of-type {\n",
              "        vertical-align: middle;\n",
              "    }\n",
              "\n",
              "    .dataframe tbody tr th {\n",
              "        vertical-align: top;\n",
              "    }\n",
              "\n",
              "    .dataframe thead th {\n",
              "        text-align: right;\n",
              "    }\n",
              "</style>\n",
              "<table border=\"1\" class=\"dataframe\">\n",
              "  <thead>\n",
              "    <tr style=\"text-align: right;\">\n",
              "      <th></th>\n",
              "      <th>region</th>\n",
              "      <th>state</th>\n",
              "      <th>individuals</th>\n",
              "      <th>family_members</th>\n",
              "      <th>state_pop</th>\n",
              "    </tr>\n",
              "  </thead>\n",
              "  <tbody>\n",
              "    <tr>\n",
              "      <th>count</th>\n",
              "      <td>51</td>\n",
              "      <td>51</td>\n",
              "      <td>51.000000</td>\n",
              "      <td>51.000000</td>\n",
              "      <td>5.100000e+01</td>\n",
              "    </tr>\n",
              "    <tr>\n",
              "      <th>unique</th>\n",
              "      <td>9</td>\n",
              "      <td>51</td>\n",
              "      <td>NaN</td>\n",
              "      <td>NaN</td>\n",
              "      <td>NaN</td>\n",
              "    </tr>\n",
              "    <tr>\n",
              "      <th>top</th>\n",
              "      <td>South Atlantic</td>\n",
              "      <td>Wyoming</td>\n",
              "      <td>NaN</td>\n",
              "      <td>NaN</td>\n",
              "      <td>NaN</td>\n",
              "    </tr>\n",
              "    <tr>\n",
              "      <th>freq</th>\n",
              "      <td>9</td>\n",
              "      <td>1</td>\n",
              "      <td>NaN</td>\n",
              "      <td>NaN</td>\n",
              "      <td>NaN</td>\n",
              "    </tr>\n",
              "    <tr>\n",
              "      <th>mean</th>\n",
              "      <td>NaN</td>\n",
              "      <td>NaN</td>\n",
              "      <td>7225.784314</td>\n",
              "      <td>3504.882353</td>\n",
              "      <td>6.405637e+06</td>\n",
              "    </tr>\n",
              "    <tr>\n",
              "      <th>std</th>\n",
              "      <td>NaN</td>\n",
              "      <td>NaN</td>\n",
              "      <td>15991.025083</td>\n",
              "      <td>7805.411811</td>\n",
              "      <td>7.327258e+06</td>\n",
              "    </tr>\n",
              "    <tr>\n",
              "      <th>min</th>\n",
              "      <td>NaN</td>\n",
              "      <td>NaN</td>\n",
              "      <td>434.000000</td>\n",
              "      <td>75.000000</td>\n",
              "      <td>5.776010e+05</td>\n",
              "    </tr>\n",
              "    <tr>\n",
              "      <th>25%</th>\n",
              "      <td>NaN</td>\n",
              "      <td>NaN</td>\n",
              "      <td>1446.500000</td>\n",
              "      <td>592.000000</td>\n",
              "      <td>1.777414e+06</td>\n",
              "    </tr>\n",
              "    <tr>\n",
              "      <th>50%</th>\n",
              "      <td>NaN</td>\n",
              "      <td>NaN</td>\n",
              "      <td>3082.000000</td>\n",
              "      <td>1482.000000</td>\n",
              "      <td>4.461153e+06</td>\n",
              "    </tr>\n",
              "    <tr>\n",
              "      <th>75%</th>\n",
              "      <td>NaN</td>\n",
              "      <td>NaN</td>\n",
              "      <td>6781.500000</td>\n",
              "      <td>3196.000000</td>\n",
              "      <td>7.340946e+06</td>\n",
              "    </tr>\n",
              "    <tr>\n",
              "      <th>max</th>\n",
              "      <td>NaN</td>\n",
              "      <td>NaN</td>\n",
              "      <td>109008.000000</td>\n",
              "      <td>52070.000000</td>\n",
              "      <td>3.946159e+07</td>\n",
              "    </tr>\n",
              "  </tbody>\n",
              "</table>\n",
              "</div>"
            ],
            "text/plain": [
              "                region    state    individuals  family_members     state_pop\n",
              "count               51       51      51.000000       51.000000  5.100000e+01\n",
              "unique               9       51            NaN             NaN           NaN\n",
              "top     South Atlantic  Wyoming            NaN             NaN           NaN\n",
              "freq                 9        1            NaN             NaN           NaN\n",
              "mean               NaN      NaN    7225.784314     3504.882353  6.405637e+06\n",
              "std                NaN      NaN   15991.025083     7805.411811  7.327258e+06\n",
              "min                NaN      NaN     434.000000       75.000000  5.776010e+05\n",
              "25%                NaN      NaN    1446.500000      592.000000  1.777414e+06\n",
              "50%                NaN      NaN    3082.000000     1482.000000  4.461153e+06\n",
              "75%                NaN      NaN    6781.500000     3196.000000  7.340946e+06\n",
              "max                NaN      NaN  109008.000000    52070.000000  3.946159e+07"
            ]
          },
          "metadata": {
            "tags": []
          },
          "execution_count": 11
        }
      ]
    },
    {
      "cell_type": "code",
      "metadata": {
        "colab": {
          "base_uri": "https://localhost:8080/"
        },
        "id": "57Jm0uOOI-66",
        "outputId": "dfabd150-bda3-42a3-b806-d047943592a6"
      },
      "source": [
        "data.dtypes"
      ],
      "execution_count": 12,
      "outputs": [
        {
          "output_type": "execute_result",
          "data": {
            "text/plain": [
              "region             object\n",
              "state              object\n",
              "individuals       float64\n",
              "family_members    float64\n",
              "state_pop           int64\n",
              "dtype: object"
            ]
          },
          "metadata": {
            "tags": []
          },
          "execution_count": 12
        }
      ]
    },
    {
      "cell_type": "code",
      "metadata": {
        "colab": {
          "base_uri": "https://localhost:8080/"
        },
        "id": "0U8Gf89YJBmL",
        "outputId": "b05a00a0-f29c-4d39-d46f-67f19a46dae3"
      },
      "source": [
        "data.select_dtypes('int').columns"
      ],
      "execution_count": 14,
      "outputs": [
        {
          "output_type": "execute_result",
          "data": {
            "text/plain": [
              "Index(['state_pop'], dtype='object')"
            ]
          },
          "metadata": {
            "tags": []
          },
          "execution_count": 14
        }
      ]
    },
    {
      "cell_type": "code",
      "metadata": {
        "colab": {
          "base_uri": "https://localhost:8080/"
        },
        "id": "u-I1vOWlJFWE",
        "outputId": "5e119426-2e39-4771-8207-c00771fd43be"
      },
      "source": [
        "data.index"
      ],
      "execution_count": 15,
      "outputs": [
        {
          "output_type": "execute_result",
          "data": {
            "text/plain": [
              "RangeIndex(start=0, stop=51, step=1)"
            ]
          },
          "metadata": {
            "tags": []
          },
          "execution_count": 15
        }
      ]
    },
    {
      "cell_type": "code",
      "metadata": {
        "colab": {
          "base_uri": "https://localhost:8080/"
        },
        "id": "cO1xx-YhJGwO",
        "outputId": "0cfcca78-bb9f-47f7-9f12-646b8b9b272c"
      },
      "source": [
        "data.columns"
      ],
      "execution_count": 16,
      "outputs": [
        {
          "output_type": "execute_result",
          "data": {
            "text/plain": [
              "Index(['region', 'state', 'individuals', 'family_members', 'state_pop'], dtype='object')"
            ]
          },
          "metadata": {
            "tags": []
          },
          "execution_count": 16
        }
      ]
    },
    {
      "cell_type": "code",
      "metadata": {
        "id": "S2kBVXk0TXVa",
        "outputId": "cde0fb4d-a9ad-43b4-92d5-fb9fa2c31965",
        "colab": {
          "base_uri": "https://localhost:8080/"
        }
      },
      "source": [
        "data.size"
      ],
      "execution_count": 52,
      "outputs": [
        {
          "output_type": "execute_result",
          "data": {
            "text/plain": [
              "306"
            ]
          },
          "metadata": {
            "tags": []
          },
          "execution_count": 52
        }
      ]
    },
    {
      "cell_type": "code",
      "metadata": {
        "colab": {
          "base_uri": "https://localhost:8080/"
        },
        "id": "uwv7yrY3JIXN",
        "outputId": "e5b73661-e4f6-466e-d793-5d0f06e8d166"
      },
      "source": [
        "data.values[:5]"
      ],
      "execution_count": 17,
      "outputs": [
        {
          "output_type": "execute_result",
          "data": {
            "text/plain": [
              "array([['East South Central', 'Alabama', 2570.0, 864.0, 4887681],\n",
              "       ['Pacific', 'Alaska', 1434.0, 582.0, 735139],\n",
              "       ['Mountain', 'Arizona', 7259.0, 2606.0, 7158024],\n",
              "       ['West South Central', 'Arkansas', 2280.0, 432.0, 3009733],\n",
              "       ['Pacific', 'California', 109008.0, 20964.0, 39461588]],\n",
              "      dtype=object)"
            ]
          },
          "metadata": {
            "tags": []
          },
          "execution_count": 17
        }
      ]
    },
    {
      "cell_type": "code",
      "metadata": {
        "colab": {
          "base_uri": "https://localhost:8080/"
        },
        "id": "kDNR4ULYJSXO",
        "outputId": "a6f83d58-46ac-4aab-fc5f-c9576a65d8ce"
      },
      "source": [
        "data['state'].head()"
      ],
      "execution_count": 18,
      "outputs": [
        {
          "output_type": "execute_result",
          "data": {
            "text/plain": [
              "0       Alabama\n",
              "1        Alaska\n",
              "2       Arizona\n",
              "3      Arkansas\n",
              "4    California\n",
              "Name: state, dtype: object"
            ]
          },
          "metadata": {
            "tags": []
          },
          "execution_count": 18
        }
      ]
    },
    {
      "cell_type": "code",
      "metadata": {
        "colab": {
          "base_uri": "https://localhost:8080/",
          "height": 206
        },
        "id": "tEtasUKlJgFq",
        "outputId": "602b2ce9-416c-4a18-9c5a-ca4546753e5e"
      },
      "source": [
        "data[['state','region']].head()"
      ],
      "execution_count": 19,
      "outputs": [
        {
          "output_type": "execute_result",
          "data": {
            "text/html": [
              "<div>\n",
              "<style scoped>\n",
              "    .dataframe tbody tr th:only-of-type {\n",
              "        vertical-align: middle;\n",
              "    }\n",
              "\n",
              "    .dataframe tbody tr th {\n",
              "        vertical-align: top;\n",
              "    }\n",
              "\n",
              "    .dataframe thead th {\n",
              "        text-align: right;\n",
              "    }\n",
              "</style>\n",
              "<table border=\"1\" class=\"dataframe\">\n",
              "  <thead>\n",
              "    <tr style=\"text-align: right;\">\n",
              "      <th></th>\n",
              "      <th>state</th>\n",
              "      <th>region</th>\n",
              "    </tr>\n",
              "  </thead>\n",
              "  <tbody>\n",
              "    <tr>\n",
              "      <th>0</th>\n",
              "      <td>Alabama</td>\n",
              "      <td>East South Central</td>\n",
              "    </tr>\n",
              "    <tr>\n",
              "      <th>1</th>\n",
              "      <td>Alaska</td>\n",
              "      <td>Pacific</td>\n",
              "    </tr>\n",
              "    <tr>\n",
              "      <th>2</th>\n",
              "      <td>Arizona</td>\n",
              "      <td>Mountain</td>\n",
              "    </tr>\n",
              "    <tr>\n",
              "      <th>3</th>\n",
              "      <td>Arkansas</td>\n",
              "      <td>West South Central</td>\n",
              "    </tr>\n",
              "    <tr>\n",
              "      <th>4</th>\n",
              "      <td>California</td>\n",
              "      <td>Pacific</td>\n",
              "    </tr>\n",
              "  </tbody>\n",
              "</table>\n",
              "</div>"
            ],
            "text/plain": [
              "        state              region\n",
              "0     Alabama  East South Central\n",
              "1      Alaska             Pacific\n",
              "2     Arizona            Mountain\n",
              "3    Arkansas  West South Central\n",
              "4  California             Pacific"
            ]
          },
          "metadata": {
            "tags": []
          },
          "execution_count": 19
        }
      ]
    },
    {
      "cell_type": "code",
      "metadata": {
        "id": "4XhONYz6OWia",
        "outputId": "0dc5874f-6232-4ca8-dd70-20e067cc4aee",
        "colab": {
          "base_uri": "https://localhost:8080/",
          "height": 206
        }
      },
      "source": [
        "data['proportion'] = round(data['state_pop'] / data['individuals'],2)\n",
        "data.head()"
      ],
      "execution_count": 42,
      "outputs": [
        {
          "output_type": "execute_result",
          "data": {
            "text/html": [
              "<div>\n",
              "<style scoped>\n",
              "    .dataframe tbody tr th:only-of-type {\n",
              "        vertical-align: middle;\n",
              "    }\n",
              "\n",
              "    .dataframe tbody tr th {\n",
              "        vertical-align: top;\n",
              "    }\n",
              "\n",
              "    .dataframe thead th {\n",
              "        text-align: right;\n",
              "    }\n",
              "</style>\n",
              "<table border=\"1\" class=\"dataframe\">\n",
              "  <thead>\n",
              "    <tr style=\"text-align: right;\">\n",
              "      <th></th>\n",
              "      <th>region</th>\n",
              "      <th>state</th>\n",
              "      <th>individuals</th>\n",
              "      <th>family_members</th>\n",
              "      <th>state_pop</th>\n",
              "      <th>proportion</th>\n",
              "    </tr>\n",
              "  </thead>\n",
              "  <tbody>\n",
              "    <tr>\n",
              "      <th>0</th>\n",
              "      <td>East South Central</td>\n",
              "      <td>Alabama</td>\n",
              "      <td>2570.0</td>\n",
              "      <td>864.0</td>\n",
              "      <td>4887681</td>\n",
              "      <td>1901.82</td>\n",
              "    </tr>\n",
              "    <tr>\n",
              "      <th>1</th>\n",
              "      <td>Pacific</td>\n",
              "      <td>Alaska</td>\n",
              "      <td>1434.0</td>\n",
              "      <td>582.0</td>\n",
              "      <td>735139</td>\n",
              "      <td>512.65</td>\n",
              "    </tr>\n",
              "    <tr>\n",
              "      <th>2</th>\n",
              "      <td>Mountain</td>\n",
              "      <td>Arizona</td>\n",
              "      <td>7259.0</td>\n",
              "      <td>2606.0</td>\n",
              "      <td>7158024</td>\n",
              "      <td>986.09</td>\n",
              "    </tr>\n",
              "    <tr>\n",
              "      <th>3</th>\n",
              "      <td>West South Central</td>\n",
              "      <td>Arkansas</td>\n",
              "      <td>2280.0</td>\n",
              "      <td>432.0</td>\n",
              "      <td>3009733</td>\n",
              "      <td>1320.06</td>\n",
              "    </tr>\n",
              "    <tr>\n",
              "      <th>4</th>\n",
              "      <td>Pacific</td>\n",
              "      <td>California</td>\n",
              "      <td>109008.0</td>\n",
              "      <td>20964.0</td>\n",
              "      <td>39461588</td>\n",
              "      <td>362.01</td>\n",
              "    </tr>\n",
              "  </tbody>\n",
              "</table>\n",
              "</div>"
            ],
            "text/plain": [
              "               region       state  ...  state_pop  proportion\n",
              "0  East South Central     Alabama  ...    4887681     1901.82\n",
              "1             Pacific      Alaska  ...     735139      512.65\n",
              "2            Mountain     Arizona  ...    7158024      986.09\n",
              "3  West South Central    Arkansas  ...    3009733     1320.06\n",
              "4             Pacific  California  ...   39461588      362.01\n",
              "\n",
              "[5 rows x 6 columns]"
            ]
          },
          "metadata": {
            "tags": []
          },
          "execution_count": 42
        }
      ]
    },
    {
      "cell_type": "code",
      "metadata": {
        "colab": {
          "base_uri": "https://localhost:8080/",
          "height": 81
        },
        "id": "6xFBnKuTJkRJ",
        "outputId": "02f615c1-7051-4c39-eff2-dc3a80ad453a"
      },
      "source": [
        "data[data['state']=='Alabama']"
      ],
      "execution_count": 20,
      "outputs": [
        {
          "output_type": "execute_result",
          "data": {
            "text/html": [
              "<div>\n",
              "<style scoped>\n",
              "    .dataframe tbody tr th:only-of-type {\n",
              "        vertical-align: middle;\n",
              "    }\n",
              "\n",
              "    .dataframe tbody tr th {\n",
              "        vertical-align: top;\n",
              "    }\n",
              "\n",
              "    .dataframe thead th {\n",
              "        text-align: right;\n",
              "    }\n",
              "</style>\n",
              "<table border=\"1\" class=\"dataframe\">\n",
              "  <thead>\n",
              "    <tr style=\"text-align: right;\">\n",
              "      <th></th>\n",
              "      <th>region</th>\n",
              "      <th>state</th>\n",
              "      <th>individuals</th>\n",
              "      <th>family_members</th>\n",
              "      <th>state_pop</th>\n",
              "    </tr>\n",
              "  </thead>\n",
              "  <tbody>\n",
              "    <tr>\n",
              "      <th>0</th>\n",
              "      <td>East South Central</td>\n",
              "      <td>Alabama</td>\n",
              "      <td>2570.0</td>\n",
              "      <td>864.0</td>\n",
              "      <td>4887681</td>\n",
              "    </tr>\n",
              "  </tbody>\n",
              "</table>\n",
              "</div>"
            ],
            "text/plain": [
              "               region    state  individuals  family_members  state_pop\n",
              "0  East South Central  Alabama       2570.0           864.0    4887681"
            ]
          },
          "metadata": {
            "tags": []
          },
          "execution_count": 20
        }
      ]
    },
    {
      "cell_type": "code",
      "metadata": {
        "colab": {
          "base_uri": "https://localhost:8080/",
          "height": 237
        },
        "id": "e02Xtqp5JoC6",
        "outputId": "173ebbd4-9313-490c-9c99-6c5b4ae6f826"
      },
      "source": [
        "data[data['individuals'] > 10000]"
      ],
      "execution_count": 21,
      "outputs": [
        {
          "output_type": "execute_result",
          "data": {
            "text/html": [
              "<div>\n",
              "<style scoped>\n",
              "    .dataframe tbody tr th:only-of-type {\n",
              "        vertical-align: middle;\n",
              "    }\n",
              "\n",
              "    .dataframe tbody tr th {\n",
              "        vertical-align: top;\n",
              "    }\n",
              "\n",
              "    .dataframe thead th {\n",
              "        text-align: right;\n",
              "    }\n",
              "</style>\n",
              "<table border=\"1\" class=\"dataframe\">\n",
              "  <thead>\n",
              "    <tr style=\"text-align: right;\">\n",
              "      <th></th>\n",
              "      <th>region</th>\n",
              "      <th>state</th>\n",
              "      <th>individuals</th>\n",
              "      <th>family_members</th>\n",
              "      <th>state_pop</th>\n",
              "    </tr>\n",
              "  </thead>\n",
              "  <tbody>\n",
              "    <tr>\n",
              "      <th>4</th>\n",
              "      <td>Pacific</td>\n",
              "      <td>California</td>\n",
              "      <td>109008.0</td>\n",
              "      <td>20964.0</td>\n",
              "      <td>39461588</td>\n",
              "    </tr>\n",
              "    <tr>\n",
              "      <th>9</th>\n",
              "      <td>South Atlantic</td>\n",
              "      <td>Florida</td>\n",
              "      <td>21443.0</td>\n",
              "      <td>9587.0</td>\n",
              "      <td>21244317</td>\n",
              "    </tr>\n",
              "    <tr>\n",
              "      <th>32</th>\n",
              "      <td>Mid-Atlantic</td>\n",
              "      <td>New York</td>\n",
              "      <td>39827.0</td>\n",
              "      <td>52070.0</td>\n",
              "      <td>19530351</td>\n",
              "    </tr>\n",
              "    <tr>\n",
              "      <th>37</th>\n",
              "      <td>Pacific</td>\n",
              "      <td>Oregon</td>\n",
              "      <td>11139.0</td>\n",
              "      <td>3337.0</td>\n",
              "      <td>4181886</td>\n",
              "    </tr>\n",
              "    <tr>\n",
              "      <th>43</th>\n",
              "      <td>West South Central</td>\n",
              "      <td>Texas</td>\n",
              "      <td>19199.0</td>\n",
              "      <td>6111.0</td>\n",
              "      <td>28628666</td>\n",
              "    </tr>\n",
              "    <tr>\n",
              "      <th>47</th>\n",
              "      <td>Pacific</td>\n",
              "      <td>Washington</td>\n",
              "      <td>16424.0</td>\n",
              "      <td>5880.0</td>\n",
              "      <td>7523869</td>\n",
              "    </tr>\n",
              "  </tbody>\n",
              "</table>\n",
              "</div>"
            ],
            "text/plain": [
              "                region       state  individuals  family_members  state_pop\n",
              "4              Pacific  California     109008.0         20964.0   39461588\n",
              "9       South Atlantic     Florida      21443.0          9587.0   21244317\n",
              "32        Mid-Atlantic    New York      39827.0         52070.0   19530351\n",
              "37             Pacific      Oregon      11139.0          3337.0    4181886\n",
              "43  West South Central       Texas      19199.0          6111.0   28628666\n",
              "47             Pacific  Washington      16424.0          5880.0    7523869"
            ]
          },
          "metadata": {
            "tags": []
          },
          "execution_count": 21
        }
      ]
    },
    {
      "cell_type": "code",
      "metadata": {
        "colab": {
          "base_uri": "https://localhost:8080/",
          "height": 112
        },
        "id": "TEisTuE-Jr9B",
        "outputId": "6f80284f-fa81-4baa-c979-b1084ab7fffb"
      },
      "source": [
        "data[(data['individuals']>10000)&(data['family_members']>10000)]"
      ],
      "execution_count": 22,
      "outputs": [
        {
          "output_type": "execute_result",
          "data": {
            "text/html": [
              "<div>\n",
              "<style scoped>\n",
              "    .dataframe tbody tr th:only-of-type {\n",
              "        vertical-align: middle;\n",
              "    }\n",
              "\n",
              "    .dataframe tbody tr th {\n",
              "        vertical-align: top;\n",
              "    }\n",
              "\n",
              "    .dataframe thead th {\n",
              "        text-align: right;\n",
              "    }\n",
              "</style>\n",
              "<table border=\"1\" class=\"dataframe\">\n",
              "  <thead>\n",
              "    <tr style=\"text-align: right;\">\n",
              "      <th></th>\n",
              "      <th>region</th>\n",
              "      <th>state</th>\n",
              "      <th>individuals</th>\n",
              "      <th>family_members</th>\n",
              "      <th>state_pop</th>\n",
              "    </tr>\n",
              "  </thead>\n",
              "  <tbody>\n",
              "    <tr>\n",
              "      <th>4</th>\n",
              "      <td>Pacific</td>\n",
              "      <td>California</td>\n",
              "      <td>109008.0</td>\n",
              "      <td>20964.0</td>\n",
              "      <td>39461588</td>\n",
              "    </tr>\n",
              "    <tr>\n",
              "      <th>32</th>\n",
              "      <td>Mid-Atlantic</td>\n",
              "      <td>New York</td>\n",
              "      <td>39827.0</td>\n",
              "      <td>52070.0</td>\n",
              "      <td>19530351</td>\n",
              "    </tr>\n",
              "  </tbody>\n",
              "</table>\n",
              "</div>"
            ],
            "text/plain": [
              "          region       state  individuals  family_members  state_pop\n",
              "4        Pacific  California     109008.0         20964.0   39461588\n",
              "32  Mid-Atlantic    New York      39827.0         52070.0   19530351"
            ]
          },
          "metadata": {
            "tags": []
          },
          "execution_count": 22
        }
      ]
    },
    {
      "cell_type": "code",
      "metadata": {
        "colab": {
          "base_uri": "https://localhost:8080/",
          "height": 112
        },
        "id": "5NPGAcjsJ55d",
        "outputId": "574a3e8a-1558-4882-ff74-e5b47797ad94"
      },
      "source": [
        "ind = data['individuals'] > 10000\n",
        "fam = data['family_members'] > 10000\n",
        "\n",
        "data[(ind)&(fam)]"
      ],
      "execution_count": 23,
      "outputs": [
        {
          "output_type": "execute_result",
          "data": {
            "text/html": [
              "<div>\n",
              "<style scoped>\n",
              "    .dataframe tbody tr th:only-of-type {\n",
              "        vertical-align: middle;\n",
              "    }\n",
              "\n",
              "    .dataframe tbody tr th {\n",
              "        vertical-align: top;\n",
              "    }\n",
              "\n",
              "    .dataframe thead th {\n",
              "        text-align: right;\n",
              "    }\n",
              "</style>\n",
              "<table border=\"1\" class=\"dataframe\">\n",
              "  <thead>\n",
              "    <tr style=\"text-align: right;\">\n",
              "      <th></th>\n",
              "      <th>region</th>\n",
              "      <th>state</th>\n",
              "      <th>individuals</th>\n",
              "      <th>family_members</th>\n",
              "      <th>state_pop</th>\n",
              "    </tr>\n",
              "  </thead>\n",
              "  <tbody>\n",
              "    <tr>\n",
              "      <th>4</th>\n",
              "      <td>Pacific</td>\n",
              "      <td>California</td>\n",
              "      <td>109008.0</td>\n",
              "      <td>20964.0</td>\n",
              "      <td>39461588</td>\n",
              "    </tr>\n",
              "    <tr>\n",
              "      <th>32</th>\n",
              "      <td>Mid-Atlantic</td>\n",
              "      <td>New York</td>\n",
              "      <td>39827.0</td>\n",
              "      <td>52070.0</td>\n",
              "      <td>19530351</td>\n",
              "    </tr>\n",
              "  </tbody>\n",
              "</table>\n",
              "</div>"
            ],
            "text/plain": [
              "          region       state  individuals  family_members  state_pop\n",
              "4        Pacific  California     109008.0         20964.0   39461588\n",
              "32  Mid-Atlantic    New York      39827.0         52070.0   19530351"
            ]
          },
          "metadata": {
            "tags": []
          },
          "execution_count": 23
        }
      ]
    },
    {
      "cell_type": "code",
      "metadata": {
        "id": "TZP_8w0dLMlC",
        "outputId": "212e7bb3-d3e2-481d-bead-d10b0ca9bd39",
        "colab": {
          "base_uri": "https://localhost:8080/"
        }
      },
      "source": [
        "data.iloc[2]"
      ],
      "execution_count": 26,
      "outputs": [
        {
          "output_type": "execute_result",
          "data": {
            "text/plain": [
              "region            Mountain\n",
              "state              Arizona\n",
              "individuals           7259\n",
              "family_members        2606\n",
              "state_pop          7158024\n",
              "Name: 2, dtype: object"
            ]
          },
          "metadata": {
            "tags": []
          },
          "execution_count": 26
        }
      ]
    },
    {
      "cell_type": "code",
      "metadata": {
        "id": "5rIZ-V9RLhN_",
        "outputId": "11f5b2de-eb9d-4def-f6ae-4aea239ec572",
        "colab": {
          "base_uri": "https://localhost:8080/",
          "height": 144
        }
      },
      "source": [
        "data.iloc[2:5]"
      ],
      "execution_count": 27,
      "outputs": [
        {
          "output_type": "execute_result",
          "data": {
            "text/html": [
              "<div>\n",
              "<style scoped>\n",
              "    .dataframe tbody tr th:only-of-type {\n",
              "        vertical-align: middle;\n",
              "    }\n",
              "\n",
              "    .dataframe tbody tr th {\n",
              "        vertical-align: top;\n",
              "    }\n",
              "\n",
              "    .dataframe thead th {\n",
              "        text-align: right;\n",
              "    }\n",
              "</style>\n",
              "<table border=\"1\" class=\"dataframe\">\n",
              "  <thead>\n",
              "    <tr style=\"text-align: right;\">\n",
              "      <th></th>\n",
              "      <th>region</th>\n",
              "      <th>state</th>\n",
              "      <th>individuals</th>\n",
              "      <th>family_members</th>\n",
              "      <th>state_pop</th>\n",
              "    </tr>\n",
              "  </thead>\n",
              "  <tbody>\n",
              "    <tr>\n",
              "      <th>2</th>\n",
              "      <td>Mountain</td>\n",
              "      <td>Arizona</td>\n",
              "      <td>7259.0</td>\n",
              "      <td>2606.0</td>\n",
              "      <td>7158024</td>\n",
              "    </tr>\n",
              "    <tr>\n",
              "      <th>3</th>\n",
              "      <td>West South Central</td>\n",
              "      <td>Arkansas</td>\n",
              "      <td>2280.0</td>\n",
              "      <td>432.0</td>\n",
              "      <td>3009733</td>\n",
              "    </tr>\n",
              "    <tr>\n",
              "      <th>4</th>\n",
              "      <td>Pacific</td>\n",
              "      <td>California</td>\n",
              "      <td>109008.0</td>\n",
              "      <td>20964.0</td>\n",
              "      <td>39461588</td>\n",
              "    </tr>\n",
              "  </tbody>\n",
              "</table>\n",
              "</div>"
            ],
            "text/plain": [
              "               region       state  individuals  family_members  state_pop\n",
              "2            Mountain     Arizona       7259.0          2606.0    7158024\n",
              "3  West South Central    Arkansas       2280.0           432.0    3009733\n",
              "4             Pacific  California     109008.0         20964.0   39461588"
            ]
          },
          "metadata": {
            "tags": []
          },
          "execution_count": 27
        }
      ]
    },
    {
      "cell_type": "code",
      "metadata": {
        "id": "TgOeer8HLmWt",
        "outputId": "c71c9a4c-a9da-4282-c62e-2b83ce893ed5",
        "colab": {
          "base_uri": "https://localhost:8080/"
        }
      },
      "source": [
        "# individuals\n",
        "data.iloc[:,2].head()"
      ],
      "execution_count": 29,
      "outputs": [
        {
          "output_type": "execute_result",
          "data": {
            "text/plain": [
              "0      2570.0\n",
              "1      1434.0\n",
              "2      7259.0\n",
              "3      2280.0\n",
              "4    109008.0\n",
              "Name: individuals, dtype: float64"
            ]
          },
          "metadata": {
            "tags": []
          },
          "execution_count": 29
        }
      ]
    },
    {
      "cell_type": "code",
      "metadata": {
        "id": "ksQbDYCELvDf",
        "outputId": "9174fc1c-f7db-421b-f054-31055b464e80",
        "colab": {
          "base_uri": "https://localhost:8080/",
          "height": 206
        }
      },
      "source": [
        "#individuals, family_members, state_pop\n",
        "data.iloc[:,2:5].head()"
      ],
      "execution_count": 33,
      "outputs": [
        {
          "output_type": "execute_result",
          "data": {
            "text/html": [
              "<div>\n",
              "<style scoped>\n",
              "    .dataframe tbody tr th:only-of-type {\n",
              "        vertical-align: middle;\n",
              "    }\n",
              "\n",
              "    .dataframe tbody tr th {\n",
              "        vertical-align: top;\n",
              "    }\n",
              "\n",
              "    .dataframe thead th {\n",
              "        text-align: right;\n",
              "    }\n",
              "</style>\n",
              "<table border=\"1\" class=\"dataframe\">\n",
              "  <thead>\n",
              "    <tr style=\"text-align: right;\">\n",
              "      <th></th>\n",
              "      <th>individuals</th>\n",
              "      <th>family_members</th>\n",
              "      <th>state_pop</th>\n",
              "    </tr>\n",
              "  </thead>\n",
              "  <tbody>\n",
              "    <tr>\n",
              "      <th>0</th>\n",
              "      <td>2570.0</td>\n",
              "      <td>864.0</td>\n",
              "      <td>4887681</td>\n",
              "    </tr>\n",
              "    <tr>\n",
              "      <th>1</th>\n",
              "      <td>1434.0</td>\n",
              "      <td>582.0</td>\n",
              "      <td>735139</td>\n",
              "    </tr>\n",
              "    <tr>\n",
              "      <th>2</th>\n",
              "      <td>7259.0</td>\n",
              "      <td>2606.0</td>\n",
              "      <td>7158024</td>\n",
              "    </tr>\n",
              "    <tr>\n",
              "      <th>3</th>\n",
              "      <td>2280.0</td>\n",
              "      <td>432.0</td>\n",
              "      <td>3009733</td>\n",
              "    </tr>\n",
              "    <tr>\n",
              "      <th>4</th>\n",
              "      <td>109008.0</td>\n",
              "      <td>20964.0</td>\n",
              "      <td>39461588</td>\n",
              "    </tr>\n",
              "  </tbody>\n",
              "</table>\n",
              "</div>"
            ],
            "text/plain": [
              "   individuals  family_members  state_pop\n",
              "0       2570.0           864.0    4887681\n",
              "1       1434.0           582.0     735139\n",
              "2       7259.0          2606.0    7158024\n",
              "3       2280.0           432.0    3009733\n",
              "4     109008.0         20964.0   39461588"
            ]
          },
          "metadata": {
            "tags": []
          },
          "execution_count": 33
        }
      ]
    },
    {
      "cell_type": "code",
      "metadata": {
        "id": "x67j62GiMBPU",
        "outputId": "ff7ac40f-7f49-4e10-efb9-b152ae098c77",
        "colab": {
          "base_uri": "https://localhost:8080/"
        }
      },
      "source": [
        "data.loc[0]"
      ],
      "execution_count": 35,
      "outputs": [
        {
          "output_type": "execute_result",
          "data": {
            "text/plain": [
              "region            East South Central\n",
              "state                        Alabama\n",
              "individuals                     2570\n",
              "family_members                   864\n",
              "state_pop                    4887681\n",
              "Name: 0, dtype: object"
            ]
          },
          "metadata": {
            "tags": []
          },
          "execution_count": 35
        }
      ]
    },
    {
      "cell_type": "code",
      "metadata": {
        "id": "idWeNoJLMRVA",
        "outputId": "20c03de8-c230-40d7-94ef-b1df049799f3",
        "colab": {
          "base_uri": "https://localhost:8080/",
          "height": 237
        }
      },
      "source": [
        "data.loc[0:5]"
      ],
      "execution_count": 36,
      "outputs": [
        {
          "output_type": "execute_result",
          "data": {
            "text/html": [
              "<div>\n",
              "<style scoped>\n",
              "    .dataframe tbody tr th:only-of-type {\n",
              "        vertical-align: middle;\n",
              "    }\n",
              "\n",
              "    .dataframe tbody tr th {\n",
              "        vertical-align: top;\n",
              "    }\n",
              "\n",
              "    .dataframe thead th {\n",
              "        text-align: right;\n",
              "    }\n",
              "</style>\n",
              "<table border=\"1\" class=\"dataframe\">\n",
              "  <thead>\n",
              "    <tr style=\"text-align: right;\">\n",
              "      <th></th>\n",
              "      <th>region</th>\n",
              "      <th>state</th>\n",
              "      <th>individuals</th>\n",
              "      <th>family_members</th>\n",
              "      <th>state_pop</th>\n",
              "    </tr>\n",
              "  </thead>\n",
              "  <tbody>\n",
              "    <tr>\n",
              "      <th>0</th>\n",
              "      <td>East South Central</td>\n",
              "      <td>Alabama</td>\n",
              "      <td>2570.0</td>\n",
              "      <td>864.0</td>\n",
              "      <td>4887681</td>\n",
              "    </tr>\n",
              "    <tr>\n",
              "      <th>1</th>\n",
              "      <td>Pacific</td>\n",
              "      <td>Alaska</td>\n",
              "      <td>1434.0</td>\n",
              "      <td>582.0</td>\n",
              "      <td>735139</td>\n",
              "    </tr>\n",
              "    <tr>\n",
              "      <th>2</th>\n",
              "      <td>Mountain</td>\n",
              "      <td>Arizona</td>\n",
              "      <td>7259.0</td>\n",
              "      <td>2606.0</td>\n",
              "      <td>7158024</td>\n",
              "    </tr>\n",
              "    <tr>\n",
              "      <th>3</th>\n",
              "      <td>West South Central</td>\n",
              "      <td>Arkansas</td>\n",
              "      <td>2280.0</td>\n",
              "      <td>432.0</td>\n",
              "      <td>3009733</td>\n",
              "    </tr>\n",
              "    <tr>\n",
              "      <th>4</th>\n",
              "      <td>Pacific</td>\n",
              "      <td>California</td>\n",
              "      <td>109008.0</td>\n",
              "      <td>20964.0</td>\n",
              "      <td>39461588</td>\n",
              "    </tr>\n",
              "    <tr>\n",
              "      <th>5</th>\n",
              "      <td>Mountain</td>\n",
              "      <td>Colorado</td>\n",
              "      <td>7607.0</td>\n",
              "      <td>3250.0</td>\n",
              "      <td>5691287</td>\n",
              "    </tr>\n",
              "  </tbody>\n",
              "</table>\n",
              "</div>"
            ],
            "text/plain": [
              "               region       state  individuals  family_members  state_pop\n",
              "0  East South Central     Alabama       2570.0           864.0    4887681\n",
              "1             Pacific      Alaska       1434.0           582.0     735139\n",
              "2            Mountain     Arizona       7259.0          2606.0    7158024\n",
              "3  West South Central    Arkansas       2280.0           432.0    3009733\n",
              "4             Pacific  California     109008.0         20964.0   39461588\n",
              "5            Mountain    Colorado       7607.0          3250.0    5691287"
            ]
          },
          "metadata": {
            "tags": []
          },
          "execution_count": 36
        }
      ]
    },
    {
      "cell_type": "code",
      "metadata": {
        "id": "QoOs_MN3MbPG",
        "outputId": "66bd60d7-8be7-4f19-d8f6-00430ed60f35",
        "colab": {
          "base_uri": "https://localhost:8080/"
        }
      },
      "source": [
        "data.loc[0:5,'region']"
      ],
      "execution_count": 37,
      "outputs": [
        {
          "output_type": "execute_result",
          "data": {
            "text/plain": [
              "0    East South Central\n",
              "1               Pacific\n",
              "2              Mountain\n",
              "3    West South Central\n",
              "4               Pacific\n",
              "5              Mountain\n",
              "Name: region, dtype: object"
            ]
          },
          "metadata": {
            "tags": []
          },
          "execution_count": 37
        }
      ]
    },
    {
      "cell_type": "code",
      "metadata": {
        "id": "cyxV1tWVMyxd",
        "outputId": "72ac1a73-c6d4-400a-ca05-083ea7da62d0",
        "colab": {
          "base_uri": "https://localhost:8080/"
        }
      },
      "source": [
        "try:\n",
        "  data.loc[0:5,2]\n",
        "except:\n",
        "  print(\"loc can't use for integer based columns, but you can use it on string based column name\")"
      ],
      "execution_count": 45,
      "outputs": [
        {
          "output_type": "stream",
          "text": [
            "loc can't use for integer based columns, but you can use it on string based column name\n"
          ],
          "name": "stdout"
        }
      ]
    },
    {
      "cell_type": "code",
      "metadata": {
        "id": "zcY_26e8SZPo",
        "outputId": "4a3f7909-63e1-4683-a1f1-95fe44a72dd5",
        "colab": {
          "base_uri": "https://localhost:8080/"
        }
      },
      "source": [
        "data['region'].value_counts()"
      ],
      "execution_count": 49,
      "outputs": [
        {
          "output_type": "execute_result",
          "data": {
            "text/plain": [
              "South Atlantic        9\n",
              "Mountain              8\n",
              "West North Central    7\n",
              "New England           6\n",
              "Pacific               5\n",
              "East North Central    5\n",
              "East South Central    4\n",
              "West South Central    4\n",
              "Mid-Atlantic          3\n",
              "Name: region, dtype: int64"
            ]
          },
          "metadata": {
            "tags": []
          },
          "execution_count": 49
        }
      ]
    },
    {
      "cell_type": "code",
      "metadata": {
        "id": "frEu919FS0Mv",
        "outputId": "a3ec9e90-6c4a-4eb0-cc24-a3311771b3b5",
        "colab": {
          "base_uri": "https://localhost:8080/"
        }
      },
      "source": [
        "data['region'].value_counts(normalize=True)"
      ],
      "execution_count": 50,
      "outputs": [
        {
          "output_type": "execute_result",
          "data": {
            "text/plain": [
              "South Atlantic        0.176471\n",
              "Mountain              0.156863\n",
              "West North Central    0.137255\n",
              "New England           0.117647\n",
              "Pacific               0.098039\n",
              "East North Central    0.098039\n",
              "East South Central    0.078431\n",
              "West South Central    0.078431\n",
              "Mid-Atlantic          0.058824\n",
              "Name: region, dtype: float64"
            ]
          },
          "metadata": {
            "tags": []
          },
          "execution_count": 50
        }
      ]
    },
    {
      "cell_type": "code",
      "metadata": {
        "id": "RZJWynC7S_9V",
        "outputId": "51ac1e69-a547-47ef-82ef-03261789311a",
        "colab": {
          "base_uri": "https://localhost:8080/",
          "height": 206
        }
      },
      "source": [
        "data.head().isnull()"
      ],
      "execution_count": 53,
      "outputs": [
        {
          "output_type": "execute_result",
          "data": {
            "text/html": [
              "<div>\n",
              "<style scoped>\n",
              "    .dataframe tbody tr th:only-of-type {\n",
              "        vertical-align: middle;\n",
              "    }\n",
              "\n",
              "    .dataframe tbody tr th {\n",
              "        vertical-align: top;\n",
              "    }\n",
              "\n",
              "    .dataframe thead th {\n",
              "        text-align: right;\n",
              "    }\n",
              "</style>\n",
              "<table border=\"1\" class=\"dataframe\">\n",
              "  <thead>\n",
              "    <tr style=\"text-align: right;\">\n",
              "      <th></th>\n",
              "      <th>region</th>\n",
              "      <th>state</th>\n",
              "      <th>individuals</th>\n",
              "      <th>family_members</th>\n",
              "      <th>state_pop</th>\n",
              "      <th>proportion</th>\n",
              "    </tr>\n",
              "  </thead>\n",
              "  <tbody>\n",
              "    <tr>\n",
              "      <th>0</th>\n",
              "      <td>False</td>\n",
              "      <td>False</td>\n",
              "      <td>False</td>\n",
              "      <td>False</td>\n",
              "      <td>False</td>\n",
              "      <td>False</td>\n",
              "    </tr>\n",
              "    <tr>\n",
              "      <th>1</th>\n",
              "      <td>False</td>\n",
              "      <td>False</td>\n",
              "      <td>False</td>\n",
              "      <td>False</td>\n",
              "      <td>False</td>\n",
              "      <td>False</td>\n",
              "    </tr>\n",
              "    <tr>\n",
              "      <th>2</th>\n",
              "      <td>False</td>\n",
              "      <td>False</td>\n",
              "      <td>False</td>\n",
              "      <td>False</td>\n",
              "      <td>False</td>\n",
              "      <td>False</td>\n",
              "    </tr>\n",
              "    <tr>\n",
              "      <th>3</th>\n",
              "      <td>False</td>\n",
              "      <td>False</td>\n",
              "      <td>False</td>\n",
              "      <td>False</td>\n",
              "      <td>False</td>\n",
              "      <td>False</td>\n",
              "    </tr>\n",
              "    <tr>\n",
              "      <th>4</th>\n",
              "      <td>False</td>\n",
              "      <td>False</td>\n",
              "      <td>False</td>\n",
              "      <td>False</td>\n",
              "      <td>False</td>\n",
              "      <td>False</td>\n",
              "    </tr>\n",
              "  </tbody>\n",
              "</table>\n",
              "</div>"
            ],
            "text/plain": [
              "   region  state  individuals  family_members  state_pop  proportion\n",
              "0   False  False        False           False      False       False\n",
              "1   False  False        False           False      False       False\n",
              "2   False  False        False           False      False       False\n",
              "3   False  False        False           False      False       False\n",
              "4   False  False        False           False      False       False"
            ]
          },
          "metadata": {
            "tags": []
          },
          "execution_count": 53
        }
      ]
    },
    {
      "cell_type": "code",
      "metadata": {
        "id": "G53R4emRUR-i",
        "outputId": "32fde84a-9f6a-48e9-8bf9-86e8e652326a",
        "colab": {
          "base_uri": "https://localhost:8080/"
        }
      },
      "source": [
        "data.isnull().sum()"
      ],
      "execution_count": 54,
      "outputs": [
        {
          "output_type": "execute_result",
          "data": {
            "text/plain": [
              "region            0\n",
              "state             0\n",
              "individuals       0\n",
              "family_members    0\n",
              "state_pop         0\n",
              "proportion        0\n",
              "dtype: int64"
            ]
          },
          "metadata": {
            "tags": []
          },
          "execution_count": 54
        }
      ]
    },
    {
      "cell_type": "code",
      "metadata": {
        "id": "C4pvmZGvUrUl",
        "outputId": "3fe43a88-a089-42cb-f158-e881cc53216a",
        "colab": {
          "base_uri": "https://localhost:8080/"
        }
      },
      "source": [
        "data.isnull().sum().sum()"
      ],
      "execution_count": 55,
      "outputs": [
        {
          "output_type": "execute_result",
          "data": {
            "text/plain": [
              "0"
            ]
          },
          "metadata": {
            "tags": []
          },
          "execution_count": 55
        }
      ]
    },
    {
      "cell_type": "code",
      "metadata": {
        "id": "hxy36hx6WFDg",
        "outputId": "168aeaa5-6695-4d86-d266-cc073b37b86b",
        "colab": {
          "base_uri": "https://localhost:8080/"
        }
      },
      "source": [
        "data['family_members'].describe()"
      ],
      "execution_count": 65,
      "outputs": [
        {
          "output_type": "execute_result",
          "data": {
            "text/plain": [
              "count       51.000000\n",
              "mean      3504.882353\n",
              "std       7805.411811\n",
              "min         75.000000\n",
              "25%        592.000000\n",
              "50%       1482.000000\n",
              "75%       3196.000000\n",
              "max      52070.000000\n",
              "Name: family_members, dtype: float64"
            ]
          },
          "metadata": {
            "tags": []
          },
          "execution_count": 65
        }
      ]
    },
    {
      "cell_type": "code",
      "metadata": {
        "id": "PPsxfvlcU1ju",
        "outputId": "71dd6925-eb98-4302-ef22-0595c6768034",
        "colab": {
          "base_uri": "https://localhost:8080/"
        }
      },
      "source": [
        "data['family_members'].mean()"
      ],
      "execution_count": 56,
      "outputs": [
        {
          "output_type": "execute_result",
          "data": {
            "text/plain": [
              "3504.8823529411766"
            ]
          },
          "metadata": {
            "tags": []
          },
          "execution_count": 56
        }
      ]
    },
    {
      "cell_type": "code",
      "metadata": {
        "id": "cXpl44G0U4d_",
        "outputId": "0f424f98-a5ff-4e87-c5b8-a2f49fb7cea0",
        "colab": {
          "base_uri": "https://localhost:8080/"
        }
      },
      "source": [
        "data['family_members'].median()"
      ],
      "execution_count": 57,
      "outputs": [
        {
          "output_type": "execute_result",
          "data": {
            "text/plain": [
              "1482.0"
            ]
          },
          "metadata": {
            "tags": []
          },
          "execution_count": 57
        }
      ]
    },
    {
      "cell_type": "code",
      "metadata": {
        "id": "KBu-RmbLU50y",
        "outputId": "5c2a4fed-dec7-4c62-9c6b-ae4ec226d1cd",
        "colab": {
          "base_uri": "https://localhost:8080/"
        }
      },
      "source": [
        "data['family_members'].std()"
      ],
      "execution_count": 58,
      "outputs": [
        {
          "output_type": "execute_result",
          "data": {
            "text/plain": [
              "7805.411811421762"
            ]
          },
          "metadata": {
            "tags": []
          },
          "execution_count": 58
        }
      ]
    },
    {
      "cell_type": "code",
      "metadata": {
        "id": "RJX7H1EhU7ND",
        "outputId": "0eadd6e1-79f5-4128-d306-8ac003fdc457",
        "colab": {
          "base_uri": "https://localhost:8080/"
        }
      },
      "source": [
        "data['family_members'].max()"
      ],
      "execution_count": 59,
      "outputs": [
        {
          "output_type": "execute_result",
          "data": {
            "text/plain": [
              "52070.0"
            ]
          },
          "metadata": {
            "tags": []
          },
          "execution_count": 59
        }
      ]
    },
    {
      "cell_type": "code",
      "metadata": {
        "id": "PjBWk1--VFs-",
        "outputId": "7c90edde-1f98-4927-c3b2-623e00b89deb",
        "colab": {
          "base_uri": "https://localhost:8080/"
        }
      },
      "source": [
        "data['family_members'].min()"
      ],
      "execution_count": 60,
      "outputs": [
        {
          "output_type": "execute_result",
          "data": {
            "text/plain": [
              "75.0"
            ]
          },
          "metadata": {
            "tags": []
          },
          "execution_count": 60
        }
      ]
    },
    {
      "cell_type": "code",
      "metadata": {
        "id": "c57ZZfwFWZIw",
        "outputId": "5a50493b-f411-47b2-a154-b569bb5b185d",
        "colab": {
          "base_uri": "https://localhost:8080/"
        }
      },
      "source": [
        "data['family_members'].quantile(q=0)"
      ],
      "execution_count": 67,
      "outputs": [
        {
          "output_type": "execute_result",
          "data": {
            "text/plain": [
              "75.0"
            ]
          },
          "metadata": {
            "tags": []
          },
          "execution_count": 67
        }
      ]
    },
    {
      "cell_type": "code",
      "metadata": {
        "id": "iSoM8_JyWRru",
        "outputId": "ef13f775-4416-4d4b-be22-0e79a88cd8a7",
        "colab": {
          "base_uri": "https://localhost:8080/"
        }
      },
      "source": [
        "data['family_members'].quantile(q=0.25)"
      ],
      "execution_count": 66,
      "outputs": [
        {
          "output_type": "execute_result",
          "data": {
            "text/plain": [
              "592.0"
            ]
          },
          "metadata": {
            "tags": []
          },
          "execution_count": 66
        }
      ]
    },
    {
      "cell_type": "code",
      "metadata": {
        "id": "nZWpaZyJV2-0",
        "outputId": "b76f231f-091f-4381-8ca5-1a4e39a1e8b7",
        "colab": {
          "base_uri": "https://localhost:8080/"
        }
      },
      "source": [
        "data['family_members'].quantile() #q = 0.5"
      ],
      "execution_count": 63,
      "outputs": [
        {
          "output_type": "execute_result",
          "data": {
            "text/plain": [
              "1482.0"
            ]
          },
          "metadata": {
            "tags": []
          },
          "execution_count": 63
        }
      ]
    },
    {
      "cell_type": "code",
      "metadata": {
        "id": "cLGRRBnGWfXo",
        "outputId": "46ca9e9e-0cde-4b9e-d4f3-ad230935e585",
        "colab": {
          "base_uri": "https://localhost:8080/"
        }
      },
      "source": [
        "data['family_members'].quantile(q=0.75)"
      ],
      "execution_count": 68,
      "outputs": [
        {
          "output_type": "execute_result",
          "data": {
            "text/plain": [
              "3196.0"
            ]
          },
          "metadata": {
            "tags": []
          },
          "execution_count": 68
        }
      ]
    },
    {
      "cell_type": "code",
      "metadata": {
        "id": "xMuDX0QTWCCy",
        "outputId": "f78b68ec-083f-4ad0-c776-7adcc5d02edf",
        "colab": {
          "base_uri": "https://localhost:8080/"
        }
      },
      "source": [
        "data['family_members'].quantile(q=1)"
      ],
      "execution_count": 64,
      "outputs": [
        {
          "output_type": "execute_result",
          "data": {
            "text/plain": [
              "52070.0"
            ]
          },
          "metadata": {
            "tags": []
          },
          "execution_count": 64
        }
      ]
    }
  ]
}