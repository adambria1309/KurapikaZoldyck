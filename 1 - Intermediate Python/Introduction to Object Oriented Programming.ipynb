{
  "nbformat": 4,
  "nbformat_minor": 0,
  "metadata": {
    "colab": {
      "name": "Introduction to Object Oriented Programming.ipynb",
      "provenance": [],
      "collapsed_sections": [],
      "authorship_tag": "ABX9TyPgmY4Fu3A9bb2eQzbG4JkZ",
      "include_colab_link": true
    },
    "kernelspec": {
      "name": "python3",
      "display_name": "Python 3"
    },
    "language_info": {
      "name": "python"
    }
  },
  "cells": [
    {
      "cell_type": "markdown",
      "metadata": {
        "id": "view-in-github",
        "colab_type": "text"
      },
      "source": [
        "<a href=\"https://colab.research.google.com/github/KurapikaZoldyck/KurapikaZoldyck/blob/main/Intermediate%20Python/Introduction%20to%20Object%20Oriented%20Programming.ipynb\" target=\"_parent\"><img src=\"https://colab.research.google.com/assets/colab-badge.svg\" alt=\"Open In Colab\"/></a>"
      ]
    },
    {
      "cell_type": "markdown",
      "metadata": {
        "id": "_gtDH3PeBCmG"
      },
      "source": [
        "<h3>Class Introduction</h3>"
      ]
    },
    {
      "cell_type": "code",
      "metadata": {
        "id": "5HLaHDBu8ntr"
      },
      "source": [
        "class Employee:\n",
        "  pass"
      ],
      "execution_count": 1,
      "outputs": []
    },
    {
      "cell_type": "code",
      "metadata": {
        "colab": {
          "base_uri": "https://localhost:8080/"
        },
        "id": "C3garsgg80a2",
        "outputId": "591603db-e5f4-4181-ba0d-cb873064c424"
      },
      "source": [
        "class Employee:\n",
        "  print('Hii')"
      ],
      "execution_count": 2,
      "outputs": [
        {
          "output_type": "stream",
          "text": [
            "Hii\n"
          ],
          "name": "stdout"
        }
      ]
    },
    {
      "cell_type": "markdown",
      "metadata": {
        "id": "LN7LrBCgBM8F"
      },
      "source": [
        "<h3>Class Attribute / Variable</h3>"
      ]
    },
    {
      "cell_type": "code",
      "metadata": {
        "id": "_W3FBFZQ85sP"
      },
      "source": [
        "class Employee:\n",
        "  name = 'David'"
      ],
      "execution_count": 3,
      "outputs": []
    },
    {
      "cell_type": "markdown",
      "metadata": {
        "id": "As1Gz0J7BSN-"
      },
      "source": [
        "<h3>How to use class</h3>"
      ]
    },
    {
      "cell_type": "code",
      "metadata": {
        "colab": {
          "base_uri": "https://localhost:8080/"
        },
        "id": "t2oRFnZN8-DB",
        "outputId": "845d631f-0c64-49bd-e7d2-a6767da920ba"
      },
      "source": [
        "Employee"
      ],
      "execution_count": 4,
      "outputs": [
        {
          "output_type": "execute_result",
          "data": {
            "text/plain": [
              "__main__.Employee"
            ]
          },
          "metadata": {
            "tags": []
          },
          "execution_count": 4
        }
      ]
    },
    {
      "cell_type": "code",
      "metadata": {
        "colab": {
          "base_uri": "https://localhost:8080/"
        },
        "id": "qJux_pvB9Bjb",
        "outputId": "617a98f2-d048-49f5-99ba-63e725c3a98a"
      },
      "source": [
        "Employee()"
      ],
      "execution_count": 5,
      "outputs": [
        {
          "output_type": "execute_result",
          "data": {
            "text/plain": [
              "<__main__.Employee at 0x7f93cc6641d0>"
            ]
          },
          "metadata": {
            "tags": []
          },
          "execution_count": 5
        }
      ]
    },
    {
      "cell_type": "code",
      "metadata": {
        "colab": {
          "base_uri": "https://localhost:8080/",
          "height": 34
        },
        "id": "m6onU0E_9DcO",
        "outputId": "7a39a5c3-1bd4-4b2e-8e91-02170ee1f6a3"
      },
      "source": [
        "Employee.name"
      ],
      "execution_count": 6,
      "outputs": [
        {
          "output_type": "execute_result",
          "data": {
            "application/vnd.google.colaboratory.intrinsic+json": {
              "type": "string"
            },
            "text/plain": [
              "'David'"
            ]
          },
          "metadata": {
            "tags": []
          },
          "execution_count": 6
        }
      ]
    },
    {
      "cell_type": "code",
      "metadata": {
        "colab": {
          "base_uri": "https://localhost:8080/",
          "height": 34
        },
        "id": "UIDbHuJc9FQZ",
        "outputId": "5344834f-7e75-44f4-8401-2cab21d01196"
      },
      "source": [
        "e = Employee\n",
        "e.name"
      ],
      "execution_count": 7,
      "outputs": [
        {
          "output_type": "execute_result",
          "data": {
            "application/vnd.google.colaboratory.intrinsic+json": {
              "type": "string"
            },
            "text/plain": [
              "'David'"
            ]
          },
          "metadata": {
            "tags": []
          },
          "execution_count": 7
        }
      ]
    },
    {
      "cell_type": "markdown",
      "metadata": {
        "id": "FmfJ_KVkBVi7"
      },
      "source": [
        "<h3>Class Method / Function</h3>"
      ]
    },
    {
      "cell_type": "code",
      "metadata": {
        "colab": {
          "base_uri": "https://localhost:8080/"
        },
        "id": "ZrCAx9-H9I-V",
        "outputId": "4ddba0d4-858f-4415-b7bd-8cc0cc6ac1c0"
      },
      "source": [
        "class Employee:\n",
        "  \n",
        "  def Function():\n",
        "    print('Alec Benjamin')\n",
        "\n",
        "e = Employee\n",
        "e.Function()"
      ],
      "execution_count": 8,
      "outputs": [
        {
          "output_type": "stream",
          "text": [
            "Alec Benjamin\n"
          ],
          "name": "stdout"
        }
      ]
    },
    {
      "cell_type": "code",
      "metadata": {
        "colab": {
          "base_uri": "https://localhost:8080/"
        },
        "id": "_gr9Cbo59nIX",
        "outputId": "c366266c-ee52-4536-f19d-cbccccb246fb"
      },
      "source": [
        "class Employee:\n",
        "\n",
        "  def Name(name):\n",
        "    print(name)\n",
        "\n",
        "e = Employee\n",
        "e.Name('Alessia Cara')"
      ],
      "execution_count": 9,
      "outputs": [
        {
          "output_type": "stream",
          "text": [
            "Alessia Cara\n"
          ],
          "name": "stdout"
        }
      ]
    },
    {
      "cell_type": "markdown",
      "metadata": {
        "id": "Q9N8qFSSBqIs"
      },
      "source": [
        "<h3>init constructor</h3>"
      ]
    },
    {
      "cell_type": "code",
      "metadata": {
        "colab": {
          "base_uri": "https://localhost:8080/"
        },
        "id": "gyoaApnE9xVo",
        "outputId": "4e7f1b58-63e7-424d-e23b-2e3fac6880f4"
      },
      "source": [
        "class Employee:\n",
        "\n",
        "  def __init__(self,Name,Salary):\n",
        "    self.name = Name\n",
        "    self.salary = Salary\n",
        "  \n",
        "e = Employee('David',5000)\n",
        "e.name,e.salary"
      ],
      "execution_count": 10,
      "outputs": [
        {
          "output_type": "execute_result",
          "data": {
            "text/plain": [
              "('David', 5000)"
            ]
          },
          "metadata": {
            "tags": []
          },
          "execution_count": 10
        }
      ]
    },
    {
      "cell_type": "code",
      "metadata": {
        "colab": {
          "base_uri": "https://localhost:8080/"
        },
        "id": "WoDeet5Y-CP2",
        "outputId": "1bfc07dd-e152-48e9-9b55-f82a897f8396"
      },
      "source": [
        "class Employee:\n",
        "\n",
        "  def __init__(self,Name,Salary):\n",
        "    self.name = Name\n",
        "    self.salary = Salary\n",
        "\n",
        "  def Output(self):\n",
        "    print(self.name,self.salary)\n",
        "\n",
        "e = Employee('David',5000)\n",
        "e1 = Employee('Martin',50000)\n",
        "\n",
        "e.Output()\n",
        "e1.Output()"
      ],
      "execution_count": 11,
      "outputs": [
        {
          "output_type": "stream",
          "text": [
            "David 5000\n",
            "Martin 50000\n"
          ],
          "name": "stdout"
        }
      ]
    },
    {
      "cell_type": "code",
      "metadata": {
        "colab": {
          "base_uri": "https://localhost:8080/"
        },
        "id": "oyvnA0BV-oDx",
        "outputId": "481d8a2d-ebf0-4c1d-d2b6-7a5fb4c72392"
      },
      "source": [
        "class Employee:\n",
        "\n",
        "  def __init__(mark,Phone,Home):\n",
        "    mark.phone = Phone\n",
        "    mark.home = Home\n",
        "\n",
        "  def SetHome(mark,home):\n",
        "    mark.home = home\n",
        "    return mark.home\n",
        "\n",
        "  def SetPhone(mark,phone):\n",
        "    mark.phone = phone\n",
        "    return mark.phone\n",
        "\n",
        "emp = Employee('12345','Pantai Indah Kapuk')\n",
        "print(emp.phone)\n",
        "print(emp.home)"
      ],
      "execution_count": 17,
      "outputs": [
        {
          "output_type": "stream",
          "text": [
            "12345\n",
            "Pantai Indah Kapuk\n"
          ],
          "name": "stdout"
        }
      ]
    },
    {
      "cell_type": "code",
      "metadata": {
        "colab": {
          "base_uri": "https://localhost:8080/",
          "height": 34
        },
        "id": "U0eHJsTG_YDK",
        "outputId": "87514278-42da-4ab2-9e73-c781342af75a"
      },
      "source": [
        "emp.SetHome('France')"
      ],
      "execution_count": 18,
      "outputs": [
        {
          "output_type": "execute_result",
          "data": {
            "application/vnd.google.colaboratory.intrinsic+json": {
              "type": "string"
            },
            "text/plain": [
              "'France'"
            ]
          },
          "metadata": {
            "tags": []
          },
          "execution_count": 18
        }
      ]
    },
    {
      "cell_type": "code",
      "metadata": {
        "colab": {
          "base_uri": "https://localhost:8080/",
          "height": 34
        },
        "id": "rV7y0uxI_cX3",
        "outputId": "f71c4ff8-af56-4357-b682-a92c5b09f094"
      },
      "source": [
        "emp.SetPhone('0000')"
      ],
      "execution_count": 19,
      "outputs": [
        {
          "output_type": "execute_result",
          "data": {
            "application/vnd.google.colaboratory.intrinsic+json": {
              "type": "string"
            },
            "text/plain": [
              "'0000'"
            ]
          },
          "metadata": {
            "tags": []
          },
          "execution_count": 19
        }
      ]
    },
    {
      "cell_type": "markdown",
      "metadata": {
        "id": "ePc-i_ZXByRU"
      },
      "source": [
        "<h3>Class and Instance Attribute</h3>"
      ]
    },
    {
      "cell_type": "code",
      "metadata": {
        "colab": {
          "base_uri": "https://localhost:8080/"
        },
        "id": "IrVPGdNyAUTP",
        "outputId": "443f0703-2c35-4074-bba1-065437a16557"
      },
      "source": [
        "class Employee:\n",
        "  Min_Salary = 5000\n",
        "\n",
        "  def __init__(self,name,salary):\n",
        "    self.name = name\n",
        "    if salary < Employee.Min_Salary:\n",
        "      self.salary = Employee.Min_Salary\n",
        "    else:\n",
        "      self.salary = salary\n",
        "\n",
        "emp = Employee('David',20)\n",
        "print(emp.salary)"
      ],
      "execution_count": 21,
      "outputs": [
        {
          "output_type": "stream",
          "text": [
            "5000\n"
          ],
          "name": "stdout"
        }
      ]
    }
  ]
}