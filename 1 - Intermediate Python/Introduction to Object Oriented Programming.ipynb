{
  "nbformat": 4,
  "nbformat_minor": 0,
  "metadata": {
    "colab": {
      "name": "Introduction to Object Oriented Programming.ipynb",
      "provenance": [],
      "collapsed_sections": [],
      "authorship_tag": "ABX9TyNTRhsUJ9Zi7xduC0ldCq3c",
      "include_colab_link": true
    },
    "kernelspec": {
      "name": "python3",
      "display_name": "Python 3"
    },
    "language_info": {
      "name": "python"
    }
  },
  "cells": [
    {
      "cell_type": "markdown",
      "metadata": {
        "id": "view-in-github",
        "colab_type": "text"
      },
      "source": [
        "<a href=\"https://colab.research.google.com/github/KurapikaZoldyck/KurapikaZoldyck/blob/main/1%20-%20Intermediate%20Python/Introduction%20to%20Object%20Oriented%20Programming.ipynb\" target=\"_parent\"><img src=\"https://colab.research.google.com/assets/colab-badge.svg\" alt=\"Open In Colab\"/></a>"
      ]
    },
    {
      "cell_type": "markdown",
      "metadata": {
        "id": "_gtDH3PeBCmG"
      },
      "source": [
        "<h3>Class Introduction</h3>"
      ]
    },
    {
      "cell_type": "code",
      "metadata": {
        "id": "5HLaHDBu8ntr"
      },
      "source": [
        "class Employee:\n",
        "  pass"
      ],
      "execution_count": null,
      "outputs": []
    },
    {
      "cell_type": "code",
      "metadata": {
        "colab": {
          "base_uri": "https://localhost:8080/"
        },
        "id": "C3garsgg80a2",
        "outputId": "591603db-e5f4-4181-ba0d-cb873064c424"
      },
      "source": [
        "class Employee:\n",
        "  print('Hii')"
      ],
      "execution_count": null,
      "outputs": [
        {
          "output_type": "stream",
          "text": [
            "Hii\n"
          ],
          "name": "stdout"
        }
      ]
    },
    {
      "cell_type": "markdown",
      "metadata": {
        "id": "LN7LrBCgBM8F"
      },
      "source": [
        "<h3>Class Attribute / Variable</h3>"
      ]
    },
    {
      "cell_type": "code",
      "metadata": {
        "id": "_W3FBFZQ85sP"
      },
      "source": [
        "class Employee:\n",
        "  name = 'David'"
      ],
      "execution_count": null,
      "outputs": []
    },
    {
      "cell_type": "markdown",
      "metadata": {
        "id": "As1Gz0J7BSN-"
      },
      "source": [
        "<h3>How to use class</h3>"
      ]
    },
    {
      "cell_type": "code",
      "metadata": {
        "colab": {
          "base_uri": "https://localhost:8080/"
        },
        "id": "t2oRFnZN8-DB",
        "outputId": "845d631f-0c64-49bd-e7d2-a6767da920ba"
      },
      "source": [
        "Employee"
      ],
      "execution_count": null,
      "outputs": [
        {
          "output_type": "execute_result",
          "data": {
            "text/plain": [
              "__main__.Employee"
            ]
          },
          "metadata": {
            "tags": []
          },
          "execution_count": 4
        }
      ]
    },
    {
      "cell_type": "code",
      "metadata": {
        "colab": {
          "base_uri": "https://localhost:8080/"
        },
        "id": "qJux_pvB9Bjb",
        "outputId": "617a98f2-d048-49f5-99ba-63e725c3a98a"
      },
      "source": [
        "Employee()"
      ],
      "execution_count": null,
      "outputs": [
        {
          "output_type": "execute_result",
          "data": {
            "text/plain": [
              "<__main__.Employee at 0x7f93cc6641d0>"
            ]
          },
          "metadata": {
            "tags": []
          },
          "execution_count": 5
        }
      ]
    },
    {
      "cell_type": "code",
      "metadata": {
        "colab": {
          "base_uri": "https://localhost:8080/",
          "height": 34
        },
        "id": "m6onU0E_9DcO",
        "outputId": "7a39a5c3-1bd4-4b2e-8e91-02170ee1f6a3"
      },
      "source": [
        "Employee.name"
      ],
      "execution_count": null,
      "outputs": [
        {
          "output_type": "execute_result",
          "data": {
            "application/vnd.google.colaboratory.intrinsic+json": {
              "type": "string"
            },
            "text/plain": [
              "'David'"
            ]
          },
          "metadata": {
            "tags": []
          },
          "execution_count": 6
        }
      ]
    },
    {
      "cell_type": "code",
      "metadata": {
        "colab": {
          "base_uri": "https://localhost:8080/",
          "height": 34
        },
        "id": "UIDbHuJc9FQZ",
        "outputId": "5344834f-7e75-44f4-8401-2cab21d01196"
      },
      "source": [
        "e = Employee\n",
        "e.name"
      ],
      "execution_count": null,
      "outputs": [
        {
          "output_type": "execute_result",
          "data": {
            "application/vnd.google.colaboratory.intrinsic+json": {
              "type": "string"
            },
            "text/plain": [
              "'David'"
            ]
          },
          "metadata": {
            "tags": []
          },
          "execution_count": 7
        }
      ]
    },
    {
      "cell_type": "markdown",
      "metadata": {
        "id": "FmfJ_KVkBVi7"
      },
      "source": [
        "<h3>Class Method / Function</h3>"
      ]
    },
    {
      "cell_type": "code",
      "metadata": {
        "colab": {
          "base_uri": "https://localhost:8080/"
        },
        "id": "ZrCAx9-H9I-V",
        "outputId": "4ddba0d4-858f-4415-b7bd-8cc0cc6ac1c0"
      },
      "source": [
        "class Employee:\n",
        "  \n",
        "  def Function():\n",
        "    print('Alec Benjamin')\n",
        "\n",
        "e = Employee\n",
        "e.Function()"
      ],
      "execution_count": null,
      "outputs": [
        {
          "output_type": "stream",
          "text": [
            "Alec Benjamin\n"
          ],
          "name": "stdout"
        }
      ]
    },
    {
      "cell_type": "code",
      "metadata": {
        "colab": {
          "base_uri": "https://localhost:8080/"
        },
        "id": "_gr9Cbo59nIX",
        "outputId": "c366266c-ee52-4536-f19d-cbccccb246fb"
      },
      "source": [
        "class Employee:\n",
        "\n",
        "  def Name(name):\n",
        "    print(name)\n",
        "\n",
        "e = Employee\n",
        "e.Name('Alessia Cara')"
      ],
      "execution_count": null,
      "outputs": [
        {
          "output_type": "stream",
          "text": [
            "Alessia Cara\n"
          ],
          "name": "stdout"
        }
      ]
    },
    {
      "cell_type": "markdown",
      "metadata": {
        "id": "Q9N8qFSSBqIs"
      },
      "source": [
        "<h3>init constructor</h3>"
      ]
    },
    {
      "cell_type": "code",
      "metadata": {
        "colab": {
          "base_uri": "https://localhost:8080/"
        },
        "id": "gyoaApnE9xVo",
        "outputId": "4e7f1b58-63e7-424d-e23b-2e3fac6880f4"
      },
      "source": [
        "class Employee:\n",
        "\n",
        "  def __init__(self,Name,Salary):\n",
        "    self.name = Name\n",
        "    self.salary = Salary\n",
        "  \n",
        "e = Employee('David',5000)\n",
        "e.name,e.salary"
      ],
      "execution_count": null,
      "outputs": [
        {
          "output_type": "execute_result",
          "data": {
            "text/plain": [
              "('David', 5000)"
            ]
          },
          "metadata": {
            "tags": []
          },
          "execution_count": 10
        }
      ]
    },
    {
      "cell_type": "code",
      "metadata": {
        "colab": {
          "base_uri": "https://localhost:8080/"
        },
        "id": "WoDeet5Y-CP2",
        "outputId": "1bfc07dd-e152-48e9-9b55-f82a897f8396"
      },
      "source": [
        "class Employee:\n",
        "\n",
        "  def __init__(self,Name,Salary):\n",
        "    self.name = Name\n",
        "    self.salary = Salary\n",
        "\n",
        "  def Output(self):\n",
        "    print(self.name,self.salary)\n",
        "\n",
        "e = Employee('David',5000)\n",
        "e1 = Employee('Martin',50000)\n",
        "\n",
        "e.Output()\n",
        "e1.Output()"
      ],
      "execution_count": null,
      "outputs": [
        {
          "output_type": "stream",
          "text": [
            "David 5000\n",
            "Martin 50000\n"
          ],
          "name": "stdout"
        }
      ]
    },
    {
      "cell_type": "code",
      "metadata": {
        "colab": {
          "base_uri": "https://localhost:8080/"
        },
        "id": "oyvnA0BV-oDx",
        "outputId": "481d8a2d-ebf0-4c1d-d2b6-7a5fb4c72392"
      },
      "source": [
        "class Employee:\n",
        "\n",
        "  def __init__(mark,Phone,Home):\n",
        "    mark.phone = Phone\n",
        "    mark.home = Home\n",
        "\n",
        "  def SetHome(mark,home):\n",
        "    mark.home = home\n",
        "    return mark.home\n",
        "\n",
        "  def SetPhone(mark,phone):\n",
        "    mark.phone = phone\n",
        "    return mark.phone\n",
        "\n",
        "emp = Employee('12345','Pantai Indah Kapuk')\n",
        "print(emp.phone)\n",
        "print(emp.home)"
      ],
      "execution_count": null,
      "outputs": [
        {
          "output_type": "stream",
          "text": [
            "12345\n",
            "Pantai Indah Kapuk\n"
          ],
          "name": "stdout"
        }
      ]
    },
    {
      "cell_type": "code",
      "metadata": {
        "colab": {
          "base_uri": "https://localhost:8080/",
          "height": 34
        },
        "id": "U0eHJsTG_YDK",
        "outputId": "87514278-42da-4ab2-9e73-c781342af75a"
      },
      "source": [
        "emp.SetHome('France')"
      ],
      "execution_count": null,
      "outputs": [
        {
          "output_type": "execute_result",
          "data": {
            "application/vnd.google.colaboratory.intrinsic+json": {
              "type": "string"
            },
            "text/plain": [
              "'France'"
            ]
          },
          "metadata": {
            "tags": []
          },
          "execution_count": 18
        }
      ]
    },
    {
      "cell_type": "code",
      "metadata": {
        "colab": {
          "base_uri": "https://localhost:8080/",
          "height": 34
        },
        "id": "rV7y0uxI_cX3",
        "outputId": "f71c4ff8-af56-4357-b682-a92c5b09f094"
      },
      "source": [
        "emp.SetPhone('0000')"
      ],
      "execution_count": null,
      "outputs": [
        {
          "output_type": "execute_result",
          "data": {
            "application/vnd.google.colaboratory.intrinsic+json": {
              "type": "string"
            },
            "text/plain": [
              "'0000'"
            ]
          },
          "metadata": {
            "tags": []
          },
          "execution_count": 19
        }
      ]
    },
    {
      "cell_type": "markdown",
      "metadata": {
        "id": "ePc-i_ZXByRU"
      },
      "source": [
        "<h3>Class and Instance Attribute</h3>"
      ]
    },
    {
      "cell_type": "code",
      "metadata": {
        "colab": {
          "base_uri": "https://localhost:8080/"
        },
        "id": "IrVPGdNyAUTP",
        "outputId": "443f0703-2c35-4074-bba1-065437a16557"
      },
      "source": [
        "class Employee:\n",
        "  Min_Salary = 5000\n",
        "\n",
        "  def __init__(self,name,salary):\n",
        "    self.name = name\n",
        "    if salary < Employee.Min_Salary:\n",
        "      self.salary = Employee.Min_Salary\n",
        "    else:\n",
        "      self.salary = salary\n",
        "\n",
        "emp = Employee('David',20)\n",
        "print(emp.salary)"
      ],
      "execution_count": null,
      "outputs": [
        {
          "output_type": "stream",
          "text": [
            "5000\n"
          ],
          "name": "stdout"
        }
      ]
    },
    {
      "cell_type": "markdown",
      "metadata": {
        "id": "TC3fq9X8SX_g"
      },
      "source": [
        "<h3>Class and Static Method</h3>"
      ]
    },
    {
      "cell_type": "code",
      "metadata": {
        "colab": {
          "base_uri": "https://localhost:8080/"
        },
        "id": "teJp_TEIVZqC",
        "outputId": "8807a2fe-a9af-4a12-bf11-ab060f6273b9"
      },
      "source": [
        "class Main:\n",
        "\n",
        "  def __init__(self,name):\n",
        "    self.name = name\n",
        "\n",
        "  def GetName(self):\n",
        "    return self.name\n",
        "\n",
        "m = Main('Nick')\n",
        "print(m.GetName())"
      ],
      "execution_count": 1,
      "outputs": [
        {
          "output_type": "stream",
          "text": [
            "Nick\n"
          ],
          "name": "stdout"
        }
      ]
    },
    {
      "cell_type": "code",
      "metadata": {
        "colab": {
          "base_uri": "https://localhost:8080/"
        },
        "id": "AtGNGR6uVrWH",
        "outputId": "ac0a52b9-6656-4639-dd4b-1ce3586a09dc"
      },
      "source": [
        "class Main:\n",
        "\n",
        "  def __init__(self,name):\n",
        "    self.name = name\n",
        "\n",
        "  def GetName(self):\n",
        "    return self.name\n",
        "\n",
        "try:\n",
        "  print(Main.GetName())\n",
        "except:\n",
        "  print(\"GetName() missing 1 required positional argument: 'self'\")"
      ],
      "execution_count": 3,
      "outputs": [
        {
          "output_type": "stream",
          "text": [
            "GetName() missing 1 required positional argument: 'self'\n"
          ],
          "name": "stdout"
        }
      ]
    },
    {
      "cell_type": "code",
      "metadata": {
        "colab": {
          "base_uri": "https://localhost:8080/"
        },
        "id": "pGMMfFdDWpjY",
        "outputId": "a5644afa-32e7-498a-feda-630b69fe4471"
      },
      "source": [
        "class Main:\n",
        "\n",
        "  def __init__(self,name):\n",
        "    self.name = name\n",
        "\n",
        "  def GetName(self):\n",
        "    return self.name\n",
        "\n",
        "  def Age(born):\n",
        "    return 2021 - born\n",
        "\n",
        "m = Main('Ronaldo')\n",
        "\n",
        "try:\n",
        "  m.Age(2000)\n",
        "except:\n",
        "  print(\"Age() takes 1 positional argument but 2 were given\")"
      ],
      "execution_count": 20,
      "outputs": [
        {
          "output_type": "stream",
          "text": [
            "Age() takes 1 positional argument but 2 were given\n"
          ],
          "name": "stdout"
        }
      ]
    },
    {
      "cell_type": "code",
      "metadata": {
        "colab": {
          "base_uri": "https://localhost:8080/"
        },
        "id": "WCAaujS0XkBQ",
        "outputId": "a1a8a679-e4f1-4ce8-b3e9-a273363c09ef"
      },
      "source": [
        "class Main:\n",
        "\n",
        "  def __init__(self,name):\n",
        "    self.name = name\n",
        "\n",
        "  def GetName(self):\n",
        "    return self.name\n",
        "\n",
        "  def Age(self,born):\n",
        "    return 2021 - born\n",
        "\n",
        "m = Main('Ronaldo')\n",
        "m.Age(2000)"
      ],
      "execution_count": 9,
      "outputs": [
        {
          "output_type": "execute_result",
          "data": {
            "text/plain": [
              "21"
            ]
          },
          "metadata": {
            "tags": []
          },
          "execution_count": 9
        }
      ]
    },
    {
      "cell_type": "code",
      "metadata": {
        "colab": {
          "base_uri": "https://localhost:8080/"
        },
        "id": "7gv8K_w9Yvi2",
        "outputId": "68d97048-c121-4ec2-f008-5079f43fc0ce"
      },
      "source": [
        "class Main:\n",
        "\n",
        "  def __init__(self,name):\n",
        "    self.name = name\n",
        "\n",
        "  def GetName(self):\n",
        "    return self.name\n",
        "\n",
        "  @staticmethod\n",
        "  def Age(born):\n",
        "    return 2021 - born\n",
        "\n",
        "Main.Age(2000)"
      ],
      "execution_count": 11,
      "outputs": [
        {
          "output_type": "execute_result",
          "data": {
            "text/plain": [
              "21"
            ]
          },
          "metadata": {
            "tags": []
          },
          "execution_count": 11
        }
      ]
    },
    {
      "cell_type": "code",
      "metadata": {
        "colab": {
          "base_uri": "https://localhost:8080/"
        },
        "id": "wmM_eg34Yzmd",
        "outputId": "fb4aa24e-a674-48f1-9bb2-d646f87ee505"
      },
      "source": [
        "class Main:\n",
        "\n",
        "  import datetime\n",
        "  year = datetime.datetime.now().year\n",
        "\n",
        "  def __init__(self,name):\n",
        "    self.name = name\n",
        "\n",
        "  @classmethod\n",
        "  def Age(cls,born):\n",
        "    return cls.year - born\n",
        "\n",
        "Main.Age(2000)"
      ],
      "execution_count": 14,
      "outputs": [
        {
          "output_type": "execute_result",
          "data": {
            "text/plain": [
              "21"
            ]
          },
          "metadata": {
            "tags": []
          },
          "execution_count": 14
        }
      ]
    },
    {
      "cell_type": "code",
      "metadata": {
        "colab": {
          "base_uri": "https://localhost:8080/"
        },
        "id": "0VOzoGuSZYvt",
        "outputId": "e6ba5561-9912-4e84-901a-c022e3721317"
      },
      "source": [
        "class Main:\n",
        "\n",
        "  import datetime\n",
        "  year = datetime.datetime.now().year\n",
        "\n",
        "  def __init__(self,name):\n",
        "    self.name = name\n",
        "\n",
        "  @staticmethod\n",
        "  def AgeSta(born):\n",
        "    return born\n",
        "\n",
        "  @classmethod\n",
        "  def Age(cls):\n",
        "    return cls.year\n",
        "\n",
        "Main.Age()"
      ],
      "execution_count": 16,
      "outputs": [
        {
          "output_type": "execute_result",
          "data": {
            "text/plain": [
              "2021"
            ]
          },
          "metadata": {
            "tags": []
          },
          "execution_count": 16
        }
      ]
    },
    {
      "cell_type": "code",
      "metadata": {
        "colab": {
          "base_uri": "https://localhost:8080/"
        },
        "id": "luiFm2BJZsk4",
        "outputId": "64a56c19-20a4-4406-cabb-d9635c6e87a1"
      },
      "source": [
        "print(Main.Age()-Main.AgeSta(2000))"
      ],
      "execution_count": 17,
      "outputs": [
        {
          "output_type": "stream",
          "text": [
            "21\n"
          ],
          "name": "stdout"
        }
      ]
    },
    {
      "cell_type": "code",
      "metadata": {
        "colab": {
          "base_uri": "https://localhost:8080/"
        },
        "id": "DAYemjytZ5Q3",
        "outputId": "8d607b03-3ef1-4f00-a59c-a638ea75a166"
      },
      "source": [
        "class Main:\n",
        "\n",
        "  import datetime\n",
        "  year = datetime.datetime.now().year\n",
        "\n",
        "  def __init__(self,name):\n",
        "    self.name = name\n",
        "\n",
        "  def GetName(self):\n",
        "    return self.name\n",
        "\n",
        "  @staticmethod\n",
        "  def AgeSta(born):\n",
        "    return born\n",
        "\n",
        "  @classmethod\n",
        "  def Age(cls):\n",
        "    return cls.year\n",
        "\n",
        "try:\n",
        "  print(Main.GetName())\n",
        "except:\n",
        "  print(\"Undefined Self Instance Attribute\")"
      ],
      "execution_count": 18,
      "outputs": [
        {
          "output_type": "stream",
          "text": [
            "Undefined Self Instance Attribute\n"
          ],
          "name": "stdout"
        }
      ]
    }
  ]
}