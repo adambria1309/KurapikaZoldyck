{
  "nbformat": 4,
  "nbformat_minor": 0,
  "metadata": {
    "colab": {
      "name": "0 - Introduction to Deep Learning.ipynb",
      "provenance": [],
      "collapsed_sections": [],
      "authorship_tag": "ABX9TyNr+M1pSaHM4QoHp/DcpydL"
    },
    "kernelspec": {
      "name": "python3",
      "display_name": "Python 3"
    },
    "language_info": {
      "name": "python"
    }
  },
  "cells": [
    {
      "cell_type": "markdown",
      "metadata": {
        "id": "S-xRYMN8ZiAQ"
      },
      "source": [
        "<h1>Forward Propagation</h1>"
      ]
    },
    {
      "cell_type": "code",
      "metadata": {
        "colab": {
          "base_uri": "https://localhost:8080/"
        },
        "id": "JRu2acMAjHU4",
        "outputId": "0bf09079-b5f4-4fd7-e432-f15e3f1aa799"
      },
      "source": [
        "import numpy as np\n",
        "\n",
        "input = np.array([1])\n",
        "weight = np.array([2])\n",
        "output = (input * weight).sum()\n",
        "output"
      ],
      "execution_count": null,
      "outputs": [
        {
          "output_type": "execute_result",
          "data": {
            "text/plain": [
              "2"
            ]
          },
          "metadata": {
            "tags": []
          },
          "execution_count": 4
        }
      ]
    },
    {
      "cell_type": "markdown",
      "metadata": {
        "id": "6_Jw9weK0pi-"
      },
      "source": [
        "<p>2 - 1 - 1</p>"
      ]
    },
    {
      "cell_type": "code",
      "metadata": {
        "id": "p2C4K4xrfj3t",
        "colab": {
          "base_uri": "https://localhost:8080/"
        },
        "outputId": "96958e0c-18f8-4eb0-c2c7-d05205f7d718"
      },
      "source": [
        "# Importing numpy\n",
        "\n",
        "import numpy as np\n",
        "\n",
        "# Define input data with value 3 and 2\n",
        "\n",
        "input_data = np.array([3,2])\n",
        "\n",
        "# Define node weights\n",
        "\n",
        "weight = {\n",
        "    'node1':np.array([1,2]),\n",
        "    'output':np.array([1,3])\n",
        "}\n",
        "\n",
        "# First Node\n",
        "\n",
        "node1 = (input_data * weight['node1']).sum()\n",
        "\n",
        "# Convert\n",
        "\n",
        "hidden_layer_1 = np.array([node1])\n",
        "\n",
        "# Output\n",
        "\n",
        "output = (hidden_layer_1 * weight['output']).sum()\n",
        "\n",
        "output"
      ],
      "execution_count": null,
      "outputs": [
        {
          "output_type": "execute_result",
          "data": {
            "text/plain": [
              "28"
            ]
          },
          "metadata": {
            "tags": []
          },
          "execution_count": 1
        }
      ]
    },
    {
      "cell_type": "markdown",
      "metadata": {
        "id": "8ezxksGt02mA"
      },
      "source": [
        "<p>2 - 2 - 1</p>"
      ]
    },
    {
      "cell_type": "code",
      "metadata": {
        "colab": {
          "base_uri": "https://localhost:8080/"
        },
        "id": "GNzQD3dYZJu7",
        "outputId": "10f432e9-13f9-4513-9978-3f7f28eb9278"
      },
      "source": [
        "import numpy as np\n",
        "\n",
        "input_data = np.array([3,2])\n",
        "\n",
        "weight = {\n",
        "    'node1':np.array([1,2]),\n",
        "    'node2':np.array([2,3]),\n",
        "    'output':np.array([1,3])\n",
        "}\n",
        "\n",
        "# First Node\n",
        "node1 = (input_data * weight['node1']).sum()\n",
        "\n",
        "# Second Node\n",
        "node2 = (input_data * weight['node2']).sum()\n",
        "\n",
        "# Convert\n",
        "hidden_layer_1 = np.array([node1,node2])\n",
        "\n",
        "# Output\n",
        "output = (hidden_layer_1 * weight['output']).sum()\n",
        "\n",
        "output"
      ],
      "execution_count": null,
      "outputs": [
        {
          "output_type": "execute_result",
          "data": {
            "text/plain": [
              "43"
            ]
          },
          "metadata": {
            "tags": []
          },
          "execution_count": 2
        }
      ]
    },
    {
      "cell_type": "code",
      "metadata": {
        "colab": {
          "base_uri": "https://localhost:8080/"
        },
        "id": "efvoocwnVyK7",
        "outputId": "6a9bcc34-0a29-4348-fa59-d96fa7d3d5a2"
      },
      "source": [
        "import numpy as np\n",
        "\n",
        "input_data = np.array([3,2])\n",
        "\n",
        "weight = {\n",
        "    'node1':np.array([1,-2]),\n",
        "    'node2':np.array([-2,3]),\n",
        "    'output':np.array([1,3])\n",
        "}\n",
        "\n",
        "# First node\n",
        "node1 = (input_data * weight['node1']).sum()\n",
        "\n",
        "# Second node\n",
        "node2 = (input_data * weight['node2']).sum()\n",
        "\n",
        "# Convert\n",
        "hidden_layer_1 = np.array([node1,node2])\n",
        "\n",
        "# Output\n",
        "output = (hidden_layer_1 * weight['output']).sum()\n",
        "\n",
        "output"
      ],
      "execution_count": null,
      "outputs": [
        {
          "output_type": "execute_result",
          "data": {
            "text/plain": [
              "-1"
            ]
          },
          "metadata": {
            "tags": []
          },
          "execution_count": 3
        }
      ]
    },
    {
      "cell_type": "code",
      "metadata": {
        "colab": {
          "base_uri": "https://localhost:8080/"
        },
        "id": "QSz7L1dsV41e",
        "outputId": "fca633a0-2a06-43c7-c06b-cc6ef8831c7e"
      },
      "source": [
        "import numpy as np\n",
        "\n",
        "def relu(inp):\n",
        "  return max(0, inp)\n",
        "\n",
        "input_data = np.array([3,2])\n",
        "\n",
        "weight = {\n",
        "    'node1':np.array([1,-2]),\n",
        "    'node2':np.array([-2,3]),\n",
        "    'output':np.array([1,3])\n",
        "}\n",
        "\n",
        "# First node\n",
        "node1 = (input_data * weight['node1']).sum()\n",
        "node1 = relu(node1)\n",
        "\n",
        "# Second node\n",
        "node2 = (input_data * weight['node2']).sum()\n",
        "node2 = relu(node2)\n",
        "\n",
        "# Convert\n",
        "hidden_layer_1 = np.array([node1,node2])\n",
        "\n",
        "# Output\n",
        "output = (hidden_layer_1 * weight['output']).sum()\n",
        "\n",
        "output"
      ],
      "execution_count": null,
      "outputs": [
        {
          "output_type": "execute_result",
          "data": {
            "text/plain": [
              "0"
            ]
          },
          "metadata": {
            "tags": []
          },
          "execution_count": 4
        }
      ]
    },
    {
      "cell_type": "markdown",
      "metadata": {
        "id": "-DgPI43mZaEu"
      },
      "source": [
        "<h1>Backward Propagation</h1>"
      ]
    },
    {
      "cell_type": "code",
      "metadata": {
        "colab": {
          "base_uri": "https://localhost:8080/"
        },
        "id": "KMFS0CV-XPyE",
        "outputId": "2f0fb64a-2366-4699-eeb3-297408f3ca40"
      },
      "source": [
        "target = 25\n",
        "\n",
        "input_data = np.array([1,2])\n",
        "\n",
        "weight = {\n",
        "    'node1':np.array([1,2]),\n",
        "    'node2':np.array([2,3]),\n",
        "    'output':np.array([-1,3])\n",
        "}\n",
        "\n",
        "def relu(inp):\n",
        "  return max(0,inp)\n",
        "\n",
        "node1 = relu((input_data * weight['node1']).sum())\n",
        "node2 = relu((input_data * weight['node2']).sum())\n",
        "\n",
        "hidlay = np.array([node1,node2])\n",
        "\n",
        "output = (hidlay * weight['output']).sum()\n",
        "output"
      ],
      "execution_count": null,
      "outputs": [
        {
          "output_type": "execute_result",
          "data": {
            "text/plain": [
              "19"
            ]
          },
          "metadata": {
            "tags": []
          },
          "execution_count": 13
        }
      ]
    },
    {
      "cell_type": "code",
      "metadata": {
        "colab": {
          "base_uri": "https://localhost:8080/"
        },
        "id": "565_3eD1YGEG",
        "outputId": "52b95289-f120-43fa-950a-e066ed7eefa5"
      },
      "source": [
        "error = target - output\n",
        "error"
      ],
      "execution_count": null,
      "outputs": [
        {
          "output_type": "execute_result",
          "data": {
            "text/plain": [
              "6"
            ]
          },
          "metadata": {
            "tags": []
          },
          "execution_count": 14
        }
      ]
    },
    {
      "cell_type": "code",
      "metadata": {
        "colab": {
          "base_uri": "https://localhost:8080/"
        },
        "id": "kJNBJit7YLAl",
        "outputId": "24450a7f-fef6-4358-dce3-dbffad2527a4"
      },
      "source": [
        "target = 25\n",
        "\n",
        "input_data = np.array([1,2])\n",
        "\n",
        "weight = {\n",
        "    'node1':np.array([1,2]),\n",
        "    'node2':np.array([4,3]),\n",
        "    'output':np.array([-1,3])\n",
        "}\n",
        "\n",
        "def relu(inp):\n",
        "  return max(0,inp)\n",
        "\n",
        "node1 = relu((input_data * weight['node1']).sum())\n",
        "node2 = relu((input_data * weight['node2']).sum())\n",
        "\n",
        "hidlay = np.array([node1,node2])\n",
        "\n",
        "output = (hidlay * weight['output']).sum()\n",
        "\n",
        "print('Target : ',target)\n",
        "print('Output : ',output)\n",
        "print('Error : ',target-output)"
      ],
      "execution_count": null,
      "outputs": [
        {
          "output_type": "stream",
          "text": [
            "Target :  25\n",
            "Output :  25\n",
            "Error :  0\n"
          ],
          "name": "stdout"
        }
      ]
    },
    {
      "cell_type": "code",
      "metadata": {
        "colab": {
          "base_uri": "https://localhost:8080/"
        },
        "id": "o6mmWfLTPgfz",
        "outputId": "3c00dd35-360c-40fd-86e9-2fe7e79c3762"
      },
      "source": [
        "# Gradient Descent\n",
        "import numpy as np\n",
        "\n",
        "weight = np.array([0,2,1])\n",
        "input_data = np.array([1,2,3])\n",
        "target = 0\n",
        "\n",
        "preds = (weight*input_data).sum()\n",
        "\n",
        "error = preds-target\n",
        "\n",
        "slope = 2 * input_data * error\n",
        "\n",
        "print(slope)"
      ],
      "execution_count": null,
      "outputs": [
        {
          "output_type": "stream",
          "text": [
            "[14 28 42]\n"
          ],
          "name": "stdout"
        }
      ]
    }
  ]
}